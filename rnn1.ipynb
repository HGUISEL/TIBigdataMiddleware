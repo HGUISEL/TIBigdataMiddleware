{
  "nbformat": 4,
  "nbformat_minor": 0,
  "metadata": {
    "colab": {
      "name": "rnn1.ipynb",
      "provenance": [],
      "collapsed_sections": [
        "2HSgNog4YdCh",
        "DMku6qSC6vvY",
        "NrBjRDZ66x5Z",
        "XLO9sFMCZB7b",
        "uQ7bGPXy2q3a",
        "6I380Yae0SJZ",
        "5eMBM4h8GSd3",
        "pr0bZyAxl7Nz",
        "CUe7bzQ4vIWK",
        "i1eRGLRoxTMP",
        "1kjyWrhC3AD2",
        "4ASHBu8U3HS5",
        "B1I1XFc4B20w",
        "SAJ76sYuw273"
      ],
      "machine_shape": "hm",
      "authorship_tag": "ABX9TyORa6b24aViofk0r0GoiRBJ",
      "include_colab_link": true
    },
    "kernelspec": {
      "name": "python3",
      "display_name": "Python 3"
    },
    "accelerator": "GPU"
  },
  "cells": [
    {
      "cell_type": "markdown",
      "metadata": {
        "id": "view-in-github",
        "colab_type": "text"
      },
      "source": [
        "<a href=\"https://colab.research.google.com/github/BaekTree/TIBigdataMiddleware/blob/master/rnn1.ipynb\" target=\"_parent\"><img src=\"https://colab.research.google.com/assets/colab-badge.svg\" alt=\"Open In Colab\"/></a>"
      ]
    },
    {
      "cell_type": "markdown",
      "metadata": {
        "id": "BydMR8-IXmlf",
        "colab_type": "text"
      },
      "source": [
        "version : 다운 받은 데이터 버전"
      ]
    },
    {
      "cell_type": "code",
      "metadata": {
        "id": "97EJZNlIMbxX",
        "colab_type": "code",
        "colab": {}
      },
      "source": [
        "version = \"intgStrct-01intgStrct-02intgStrct-05intgStrctstrct\"\n",
        "# intgStrct-01intgStrct-02intgStrct-05intgStrctstrct"
      ],
      "execution_count": 0,
      "outputs": []
    },
    {
      "cell_type": "code",
      "metadata": {
        "id": "zSFbzOWZGeud",
        "colab_type": "code",
        "outputId": "18b56d93-7dd7-4a69-8fee-85fee33724df",
        "colab": {
          "base_uri": "https://localhost:8080/",
          "height": 35
        }
      },
      "source": [
        "import pandas as pd\n",
        "pd.set_option('display.max_rows', 500)\n",
        "\n",
        "import matplotlib.pyplot as plt\n",
        "\n",
        "from google.colab import drive\n",
        "drive.mount('/content/drive')\n",
        "\n",
        "\n"
      ],
      "execution_count": 22,
      "outputs": [
        {
          "output_type": "stream",
          "text": [
            "Drive already mounted at /content/drive; to attempt to forcibly remount, call drive.mount(\"/content/drive\", force_remount=True).\n"
          ],
          "name": "stdout"
        }
      ]
    },
    {
      "cell_type": "code",
      "metadata": {
        "id": "vttKsHeTHcat",
        "colab_type": "code",
        "colab": {}
      },
      "source": [
        "data = pd.read_csv('drive/My Drive/Colab Notebooks/Machine Learning/RNN/dataPrs'+version+'.csv')\n",
        "data.columns.to_list()\n",
        "data = data.drop_duplicates()"
      ],
      "execution_count": 0,
      "outputs": []
    },
    {
      "cell_type": "markdown",
      "metadata": {
        "id": "DUKalVLDYEic",
        "colab_type": "text"
      },
      "source": [
        "## 업로드한 데이터에서 불필요한 column들을 지운다."
      ]
    },
    {
      "cell_type": "code",
      "metadata": {
        "id": "k9aLcLhz91mn",
        "colab_type": "code",
        "outputId": "e15c61c3-ff8c-487e-b380-1a47a66afb17",
        "colab": {
          "base_uri": "https://localhost:8080/",
          "height": 90
        }
      },
      "source": [
        "for i in data.columns.to_list():\n",
        "  if bool(i != \"제목\") ^ bool(i != \"키워드\") ^ bool(i != \"주제\"):\n",
        "    print(i)\n",
        "    data = data.drop([i], axis = 1)"
      ],
      "execution_count": 24,
      "outputs": [
        {
          "output_type": "stream",
          "text": [
            "Unnamed: 0\n",
            "level_0\n",
            "Unnamed: 0.1\n",
            "index\n"
          ],
          "name": "stdout"
        }
      ]
    },
    {
      "cell_type": "markdown",
      "metadata": {
        "id": "2HSgNog4YdCh",
        "colab_type": "text"
      },
      "source": [
        "## 데이터 정보 확인... 크기 혹은 주제..."
      ]
    },
    {
      "cell_type": "markdown",
      "metadata": {
        "id": "DMku6qSC6vvY",
        "colab_type": "text"
      },
      "source": [
        "## graph 그려서 보기"
      ]
    },
    {
      "cell_type": "code",
      "metadata": {
        "id": "TFBX0kBAQFx7",
        "colab_type": "code",
        "outputId": "be002a92-c2e1-4aaa-a59d-71efbc5e08ea",
        "colab": {
          "base_uri": "https://localhost:8080/",
          "height": 0
        }
      },
      "source": [
        "topicList = list(set(data.sort_values(by=[\"주제\"])[\"주제\"].to_list()))\n",
        "data = data.astype(str)\n",
        "\n",
        "keys = data[\"키워드\"]\n",
        "keys = keys.astype(str)\n",
        "\n",
        "lst = keys.to_list()\n",
        "\n",
        "print(\"max length article : \", max([len(i) for i in lst]))\n",
        "print(\"ave article length : \" , sum(map(len,lst))/len(lst) )\n",
        "\n",
        "plt.hist([len(i) for i in lst], bins = 50)\n",
        "plt.show()\n",
        "\n",
        "y = []\n",
        "\n",
        "import matplotlib.font_manager as fm\n",
        "# plt.rcParams['font.family'] = 'NanumGothic'\n",
        "\n",
        "\n",
        "font_path = 'C:/Windows/Fonts/NanumGothic.ttf'\n",
        "fontprop = fm.FontProperties(fname=font_path, size=18)\n",
        "\n",
        "\n",
        "for topic in topicList:\n",
        "  sumVal = (data[\"주제\"]==topic).sum()\n",
        "  y.append(sumVal)\n",
        "  print(topic ,\"count : \", sumVal)\n",
        "\n",
        "plt.xlabel(\"\",fontproperties=fontprop)\n",
        "plt.plot(topicList, y,)\n",
        "plt.show()\n"
      ],
      "execution_count": 25,
      "outputs": [
        {
          "output_type": "stream",
          "text": [
            "max length article :  10444\n",
            "ave article length :  553.9822752194625\n"
          ],
          "name": "stdout"
        },
        {
          "output_type": "display_data",
          "data": {
            "image/png": "[encoded data removed]",
            "text/plain": [
              "<Figure size 432x288 with 1 Axes>"
            ]
          },
          "metadata": {
            "tags": []
          }
        },
        {
          "output_type": "stream",
          "text": [
            "soc count :  7660\n",
            "innt count :  9576\n",
            "eco count :  40542\n",
            "spo count :  11947\n",
            "pol count :  40746\n",
            "it count :  16971\n",
            "cul count :  39443\n"
          ],
          "name": "stdout"
        },
        {
          "output_type": "display_data",
          "data": {
            "image/png": "[encoded data removed]",
            "text/plain": [
              "<Figure size 432x288 with 1 Axes>"
            ]
          },
          "metadata": {
            "tags": []
          }
        }
      ]
    },
    {
      "cell_type": "markdown",
      "metadata": {
        "id": "NrBjRDZ66x5Z",
        "colab_type": "text"
      },
      "source": [
        "## 개별 주제 확인해보기"
      ]
    },
    {
      "cell_type": "code",
      "metadata": {
        "id": "mEkFxtTI6z3Y",
        "colab_type": "code",
        "outputId": "96aab64c-b7b9-4ef0-e723-2f13b9e3bdee",
        "colab": {
          "base_uri": "https://localhost:8080/",
          "height": 0
        }
      },
      "source": [
        "data[data[\"주제\"]==\"it\"].head(30)"
      ],
      "execution_count": 26,
      "outputs": [
        {
          "output_type": "execute_result",
          "data": {
            "text/html": [
              "<div>\n",
              "<style scoped>\n",
              "    .dataframe tbody tr th:only-of-type {\n",
              "        vertical-align: middle;\n",
              "    }\n",
              "\n",
              "    .dataframe tbody tr th {\n",
              "        vertical-align: top;\n",
              "    }\n",
              "\n",
              "    .dataframe thead th {\n",
              "        text-align: right;\n",
              "    }\n",
              "</style>\n",
              "<table border=\"1\" class=\"dataframe\">\n",
              "  <thead>\n",
              "    <tr style=\"text-align: right;\">\n",
              "      <th></th>\n",
              "      <th>제목</th>\n",
              "      <th>키워드</th>\n",
              "      <th>주제</th>\n",
              "    </tr>\n",
              "  </thead>\n",
              "  <tbody>\n",
              "    <tr>\n",
              "      <th>31740</th>\n",
              "      <td>군포시 마을버스 활용해 미세먼지 측정</td>\n",
              "      <td>활용 군포시 마을버스 미세 먼지 측정 앵커 미세먼지 마음 지자체들 대책 마련 고심 ...</td>\n",
              "      <td>it</td>\n",
              "    </tr>\n",
              "    <tr>\n",
              "      <th>31741</th>\n",
              "      <td>동신대, 사이버 전문가 양성 도우미 ‘톡톡’</td>\n",
              "      <td>동신대 사이버 전문가 양성 도우미 동신대학교 에너지 융합 대학 융합 정보 보안전공 ...</td>\n",
              "      <td>it</td>\n",
              "    </tr>\n",
              "    <tr>\n",
              "      <th>31742</th>\n",
              "      <td>KBS교향악단 5G 클래식 VR 콘텐츠 제작 LG유플러스 앱으로 관람</td>\n",
              "      <td>KBS 교향악단 5G 클래식 VR 콘텐츠 제작 LG유플러스 관람 KBS교향악단 LG...</td>\n",
              "      <td>it</td>\n",
              "    </tr>\n",
              "    <tr>\n",
              "      <th>31743</th>\n",
              "      <td>`서든어택` 넥슨지티 영업손실 287억원 \"내년 신작게임 출시\"</td>\n",
              "      <td>서든어택 287억 넥슨지티 영업 손실 내년 신작 게임 출시 총싸움 게임 어택 유명 ...</td>\n",
              "      <td>it</td>\n",
              "    </tr>\n",
              "    <tr>\n",
              "      <th>31744</th>\n",
              "      <td>전주시 신종코로나 바이러스 정보 실시간 제공</td>\n",
              "      <td>전주시 신종코 바이러스 정보 실시간 제공 전주시 신종코로 바이러스 감염증 시민들 불...</td>\n",
              "      <td>it</td>\n",
              "    </tr>\n",
              "    <tr>\n",
              "      <th>31745</th>\n",
              "      <td>'2TV 생생정보' 닭불고기 '수궁' 위치는?</td>\n",
              "      <td>2TV 생생 정보 닭불고기 수궁 위치 2TV 생생 정보 등장 닭불고기 화제 방송 생...</td>\n",
              "      <td>it</td>\n",
              "    </tr>\n",
              "    <tr>\n",
              "      <th>31746</th>\n",
              "      <td>전남 수산의 미래, 스마트양식에서 해법 모색</td>\n",
              "      <td>전남 수산 미래 스마트양식 해법 모색 스마트양식 4차 산업 혁명 접목 자동화 지능화...</td>\n",
              "      <td>it</td>\n",
              "    </tr>\n",
              "    <tr>\n",
              "      <th>31747</th>\n",
              "      <td>'2TV 생생정보' 돌판 짜장면 '남쪽마을돌짜장' 위치는?</td>\n",
              "      <td>2TV 생생 정보 남쪽마을돌짜장 돌판 짜장면 남쪽 마을돌 짜장 위치 2TV 생생 정...</td>\n",
              "      <td>it</td>\n",
              "    </tr>\n",
              "    <tr>\n",
              "      <th>31748</th>\n",
              "      <td>'2TV 생생정보' 5500원 국산 수제 햄버그스테이크 '고관함박' 위치는?</td>\n",
              "      <td>2TV 생생 정보 고관함박 국산 수제 햄버그스테이크 위치 2TV 생생 정보 등장 햄...</td>\n",
              "      <td>it</td>\n",
              "    </tr>\n",
              "    <tr>\n",
              "      <th>31749</th>\n",
              "      <td>삼성SDS-PwC컨설팅, 인공지능 혁신사업 동맹</td>\n",
              "      <td>삼성SDS PwC컨설팅 동맹 인공 지능 혁신 사업 삼성SDS PwC 컨설팅 인공지능...</td>\n",
              "      <td>it</td>\n",
              "    </tr>\n",
              "    <tr>\n",
              "      <th>31750</th>\n",
              "      <td>울산시, 강소기업 육성 참여社 모집</td>\n",
              "      <td>울산시 참여 강소 기업 육성 모집 울산시 2일 글로벌 강소 기업 육성 사업 참여 기...</td>\n",
              "      <td>it</td>\n",
              "    </tr>\n",
              "    <tr>\n",
              "      <th>31751</th>\n",
              "      <td>KDB생명, 온라인 플랫폼 전면 리뉴얼 모바일・인터넷 창구 일원화</td>\n",
              "      <td>KDB생명 온라인 플랫폼 전면 리뉴얼 모바일・인터넷 창구 일원 KDB생명 온라인 플...</td>\n",
              "      <td>it</td>\n",
              "    </tr>\n",
              "    <tr>\n",
              "      <th>31752</th>\n",
              "      <td>삼성전자, ISE 2020서 상업용 디스플레이 신제품 대거 공개</td>\n",
              "      <td>삼성전자 신제품 ISE 상업 디스플레이 신제품 공개 진행 암스테르담 ISE 삼성전자...</td>\n",
              "      <td>it</td>\n",
              "    </tr>\n",
              "    <tr>\n",
              "      <th>31753</th>\n",
              "      <td>[전문] 이재웅 '타다, 무죄 확신' 재판부에 \"법 제도 기술 기반 살펴봐달라\"</td>\n",
              "      <td>이재웅 무죄 확신 재판부 제도 렌터카 모빌리티 서비스 혐의 불법 영업 기소 법정 결...</td>\n",
              "      <td>it</td>\n",
              "    </tr>\n",
              "    <tr>\n",
              "      <th>31754</th>\n",
              "      <td>LG전자, 디지털 캠페인 ‘스타일러 잘 쓰는 법’ 영상 공개</td>\n",
              "      <td>LG전자 스타 디지털 캠페인 영상 공개 LG전자 캠페인 영상 생활 스타 LG 트롬 ...</td>\n",
              "      <td>it</td>\n",
              "    </tr>\n",
              "    <tr>\n",
              "      <th>31755</th>\n",
              "      <td>[김과장 &amp; 이대리] \"삶의 질 좌우하는 건 근무시간 아닌 출퇴근시간\"</td>\n",
              "      <td>좌우 근무시간 출퇴근시간 좌우 근무시간 출퇴근시간 네이버 아이디 xenn 지난달 일...</td>\n",
              "      <td>it</td>\n",
              "    </tr>\n",
              "    <tr>\n",
              "      <th>31756</th>\n",
              "      <td>LG전자, ‘스타일러 잘 쓰는 법’ 공유 이벤트 실시 캠페인 영상 공개</td>\n",
              "      <td>LG전자 스타 공유 이벤트 공개 캠페인 영상 LG전자 7일 7일 원조 의류 관리 스...</td>\n",
              "      <td>it</td>\n",
              "    </tr>\n",
              "    <tr>\n",
              "      <th>31757</th>\n",
              "      <td>페이코 끌고 게임 밀고 NHN 영업익 27% 급증</td>\n",
              "      <td>페이코 게임 NHN 영업익 27% 급증 NHN 연간 매출액 영업이익 사상 최고 달성...</td>\n",
              "      <td>it</td>\n",
              "    </tr>\n",
              "    <tr>\n",
              "      <th>31758</th>\n",
              "      <td>[전문] 이재웅 박재욱 \"법정에 선 현실 안타까워 모빌리티 혁신 꾀해야\"</td>\n",
              "      <td>이재웅 박재욱 법정 혁신 현실 모빌리티 여객 자동차 운수 사업 위반 혐의 기소 대표...</td>\n",
              "      <td>it</td>\n",
              "    </tr>\n",
              "    <tr>\n",
              "      <th>31759</th>\n",
              "      <td>삼성SDS, PwC컨설팅과 AI 업무혁신 돕는다</td>\n",
              "      <td>삼성SDS PwC컨설팅 AI 업무 혁신 삼성SDS PwC 컨설팅 인공지능 AI 로봇...</td>\n",
              "      <td>it</td>\n",
              "    </tr>\n",
              "    <tr>\n",
              "      <th>31760</th>\n",
              "      <td>마늘 많이 먹으면 신종 코로나 예방? 가짜뉴스 조심</td>\n",
              "      <td>마늘 신종 코로 예방 가짜 조심 SNS 인터넷 검색어 10일 하루 관심사 반응 클릭...</td>\n",
              "      <td>it</td>\n",
              "    </tr>\n",
              "    <tr>\n",
              "      <th>31761</th>\n",
              "      <td>외출 보다 방콕, 외식 대신 배달 집 나서기 꺼리며 번지는 '언택트 소비' 문화</td>\n",
              "      <td>외출 방콕 외식 배달 언택트 소비 문화 외식업계 시름 신종 코로나바이러스 사태 확산...</td>\n",
              "      <td>it</td>\n",
              "    </tr>\n",
              "    <tr>\n",
              "      <th>31762</th>\n",
              "      <td>근로복지공단, AI로 산재 노동자 재활・복귀서비스 지원</td>\n",
              "      <td>근로복지공단 AI 산재 노동자 재활 복귀 서비스 지원 근로복지공단 이사장 심경우 산...</td>\n",
              "      <td>it</td>\n",
              "    </tr>\n",
              "    <tr>\n",
              "      <th>31763</th>\n",
              "      <td>AR VR 힘 주는 하현회 유럽에도 5G 콘텐츠 수출</td>\n",
              "      <td>AR 하현회 유럽 수출 5G 콘텐츠 LG유플러스 유럽 통신사 5세대 5G 이동 통신...</td>\n",
              "      <td>it</td>\n",
              "    </tr>\n",
              "    <tr>\n",
              "      <th>31764</th>\n",
              "      <td>세종사이버대 박성배 교수, 미스터트롯 김인석 '오메가쓰리' 작곡</td>\n",
              "      <td>교수 세종사이버대 박성배 오메가쓰리 미스터트롯 김인석 작곡 시청 27% 종편 사상 ...</td>\n",
              "      <td>it</td>\n",
              "    </tr>\n",
              "    <tr>\n",
              "      <th>31765</th>\n",
              "      <td>창원시 '주민자치 소통맵' 서비스</td>\n",
              "      <td>소통맵 창원시 주민 자치 서비스 창원시 창원시 주민 자치 소통맵 서비스 10일 공공...</td>\n",
              "      <td>it</td>\n",
              "    </tr>\n",
              "    <tr>\n",
              "      <th>31766</th>\n",
              "      <td>예능도...드라마도...짧아야 통한다</td>\n",
              "      <td>예능 드라마 의도 요즘 프로그램 생각 방송환경 급속도 TV 나영석 PD 첫선 지난달...</td>\n",
              "      <td>it</td>\n",
              "    </tr>\n",
              "    <tr>\n",
              "      <th>31767</th>\n",
              "      <td>삼성SDS AI기술 글로벌 컨설팅에 적용</td>\n",
              "      <td>삼성 SDS AI 글로벌 컨설팅 적용 삼성SDS 인공지능 AI 글로벌컨설팅업계 적용...</td>\n",
              "      <td>it</td>\n",
              "    </tr>\n",
              "    <tr>\n",
              "      <th>31768</th>\n",
              "      <td>충북테크노파크, 발암 추정물질 NDMA 분석 서비스 본격 개시</td>\n",
              "      <td>충북테크노파크 NDMA 서비스 개시 발암 추정 물질 NDMA 서비스 충북테크노파크 ...</td>\n",
              "      <td>it</td>\n",
              "    </tr>\n",
              "    <tr>\n",
              "      <th>31769</th>\n",
              "      <td>\"택시와 다른 점?\" 재판부 질문에 '타다' 이재웅이 내놓은 답</td>\n",
              "      <td>택시 재판부 질문 이재웅 택시 결심공판 최후 진술서 차별점 부각 사업 호소 토대 호...</td>\n",
              "      <td>it</td>\n",
              "    </tr>\n",
              "  </tbody>\n",
              "</table>\n",
              "</div>"
            ],
            "text/plain": [
              "                                                 제목  ...  주제\n",
              "31740                          군포시 마을버스 활용해 미세먼지 측정  ...  it\n",
              "31741                      동신대, 사이버 전문가 양성 도우미 ‘톡톡’  ...  it\n",
              "31742        KBS교향악단 5G 클래식 VR 콘텐츠 제작 LG유플러스 앱으로 관람  ...  it\n",
              "31743           `서든어택` 넥슨지티 영업손실 287억원 \"내년 신작게임 출시\"  ...  it\n",
              "31744                      전주시 신종코로나 바이러스 정보 실시간 제공  ...  it\n",
              "31745                     '2TV 생생정보' 닭불고기 '수궁' 위치는?  ...  it\n",
              "31746                      전남 수산의 미래, 스마트양식에서 해법 모색  ...  it\n",
              "31747              '2TV 생생정보' 돌판 짜장면 '남쪽마을돌짜장' 위치는?  ...  it\n",
              "31748    '2TV 생생정보' 5500원 국산 수제 햄버그스테이크 '고관함박' 위치는?  ...  it\n",
              "31749                    삼성SDS-PwC컨설팅, 인공지능 혁신사업 동맹  ...  it\n",
              "31750                           울산시, 강소기업 육성 참여社 모집  ...  it\n",
              "31751          KDB생명, 온라인 플랫폼 전면 리뉴얼 모바일・인터넷 창구 일원화  ...  it\n",
              "31752           삼성전자, ISE 2020서 상업용 디스플레이 신제품 대거 공개  ...  it\n",
              "31753  [전문] 이재웅 '타다, 무죄 확신' 재판부에 \"법 제도 기술 기반 살펴봐달라\"  ...  it\n",
              "31754             LG전자, 디지털 캠페인 ‘스타일러 잘 쓰는 법’ 영상 공개  ...  it\n",
              "31755       [김과장 & 이대리] \"삶의 질 좌우하는 건 근무시간 아닌 출퇴근시간\"  ...  it\n",
              "31756       LG전자, ‘스타일러 잘 쓰는 법’ 공유 이벤트 실시 캠페인 영상 공개  ...  it\n",
              "31757                   페이코 끌고 게임 밀고 NHN 영업익 27% 급증  ...  it\n",
              "31758      [전문] 이재웅 박재욱 \"법정에 선 현실 안타까워 모빌리티 혁신 꾀해야\"  ...  it\n",
              "31759                    삼성SDS, PwC컨설팅과 AI 업무혁신 돕는다  ...  it\n",
              "31760                  마늘 많이 먹으면 신종 코로나 예방? 가짜뉴스 조심  ...  it\n",
              "31761  외출 보다 방콕, 외식 대신 배달 집 나서기 꺼리며 번지는 '언택트 소비' 문화  ...  it\n",
              "31762                근로복지공단, AI로 산재 노동자 재활・복귀서비스 지원  ...  it\n",
              "31763                 AR VR 힘 주는 하현회 유럽에도 5G 콘텐츠 수출  ...  it\n",
              "31764           세종사이버대 박성배 교수, 미스터트롯 김인석 '오메가쓰리' 작곡  ...  it\n",
              "31765                            창원시 '주민자치 소통맵' 서비스  ...  it\n",
              "31766                          예능도...드라마도...짧아야 통한다  ...  it\n",
              "31767                        삼성SDS AI기술 글로벌 컨설팅에 적용  ...  it\n",
              "31768            충북테크노파크, 발암 추정물질 NDMA 분석 서비스 본격 개시  ...  it\n",
              "31769           \"택시와 다른 점?\" 재판부 질문에 '타다' 이재웅이 내놓은 답  ...  it\n",
              "\n",
              "[30 rows x 3 columns]"
            ]
          },
          "metadata": {
            "tags": []
          },
          "execution_count": 26
        }
      ]
    },
    {
      "cell_type": "markdown",
      "metadata": {
        "id": "XLO9sFMCZB7b",
        "colab_type": "text"
      },
      "source": [
        "## 데이터 셔플"
      ]
    },
    {
      "cell_type": "code",
      "metadata": {
        "id": "KUNUW5y2HxN2",
        "colab_type": "code",
        "outputId": "23af7f43-e3ca-43a4-d7b7-7f41f7504f4e",
        "colab": {
          "base_uri": "https://localhost:8080/",
          "height": 0
        }
      },
      "source": [
        "from sklearn.utils import shuffle\n",
        "data = shuffle(data)\n",
        "data.head(10)"
      ],
      "execution_count": 27,
      "outputs": [
        {
          "output_type": "execute_result",
          "data": {
            "text/html": [
              "<div>\n",
              "<style scoped>\n",
              "    .dataframe tbody tr th:only-of-type {\n",
              "        vertical-align: middle;\n",
              "    }\n",
              "\n",
              "    .dataframe tbody tr th {\n",
              "        vertical-align: top;\n",
              "    }\n",
              "\n",
              "    .dataframe thead th {\n",
              "        text-align: right;\n",
              "    }\n",
              "</style>\n",
              "<table border=\"1\" class=\"dataframe\">\n",
              "  <thead>\n",
              "    <tr style=\"text-align: right;\">\n",
              "      <th></th>\n",
              "      <th>제목</th>\n",
              "      <th>키워드</th>\n",
              "      <th>주제</th>\n",
              "    </tr>\n",
              "  </thead>\n",
              "  <tbody>\n",
              "    <tr>\n",
              "      <th>4961</th>\n",
              "      <td>文대통령 “신종 코로나 대응 맞춰 일정 수정 국민불안 최소화”</td>\n",
              "      <td>대통령 신종 코로 대응 일정 수정 국민불안 최소화 문재인 대통령 신종 코로나바이러스...</td>\n",
              "      <td>pol</td>\n",
              "    </tr>\n",
              "    <tr>\n",
              "      <th>84135</th>\n",
              "      <td>황교안 입당 43일 만에 대표 외연 확장 보수 통합 숙제</td>\n",
              "      <td>43일 황교안 입당 대표 외연 확장 보수 통합 숙제 황교안 국무총리 자유한국당 대표...</td>\n",
              "      <td>pol</td>\n",
              "    </tr>\n",
              "    <tr>\n",
              "      <th>1977</th>\n",
              "      <td>자유한국당 박인 전 도의원, 같은 지역구 출마 선언한 더불어민주당 김두관 의원에게 ...</td>\n",
              "      <td>자유 한국당 박인 도의원 선언 지역구 출마 의원 더불어민주당 김두관 토종개 철새 묘...</td>\n",
              "      <td>pol</td>\n",
              "    </tr>\n",
              "    <tr>\n",
              "      <th>149791</th>\n",
              "      <td>박형식, 그림같은 조각미남</td>\n",
              "      <td>박형식 그림 조각미남 배우 박형식 28일 서울 성동구 성수동 S팩토리 샤넬 파리 뉴...</td>\n",
              "      <td>cul</td>\n",
              "    </tr>\n",
              "    <tr>\n",
              "      <th>65377</th>\n",
              "      <td>'아는 형님' 태항호, 4.5kg 우량아+노안 \"교복 입고 버스 타니 알만한 사람이...</td>\n",
              "      <td>형님 태항호 4.5 kg 우량아 노안 교복 버스 사람 태항호 체중 언급 주목 태항호...</td>\n",
              "      <td>cul</td>\n",
              "    </tr>\n",
              "    <tr>\n",
              "      <th>132247</th>\n",
              "      <td>‘한센병’ 논란에 고개 숙인 김현아 “환우와 가족 마음에 큰 아픔 죄송”</td>\n",
              "      <td>한센병 논란 고개 김현아 환우 가족 마음 아픔 의원 김현아 자유한국당 한센병 발언 ...</td>\n",
              "      <td>pol</td>\n",
              "    </tr>\n",
              "    <tr>\n",
              "      <th>50615</th>\n",
              "      <td>[ET투자뉴스]에스엠, \"텐센트뮤직과 전략적 \" BUY-KTB투자증권</td>\n",
              "      <td>에스엠 텐센트뮤직 전략적 BUY-KTB투자증권 KTB투자증권 에스엠 텐센트뮤직 체결...</td>\n",
              "      <td>eco</td>\n",
              "    </tr>\n",
              "    <tr>\n",
              "      <th>14505</th>\n",
              "      <td>현대오일뱅크, 지난해 영업익 5220억원 전년比 21%↓</td>\n",
              "      <td>현대오일뱅크 영업익 전년 21% 현대오일뱅크 영업 이익 기록 전년 21% 감소 실적...</td>\n",
              "      <td>eco</td>\n",
              "    </tr>\n",
              "    <tr>\n",
              "      <th>39883</th>\n",
              "      <td>野 “대선 결과 정당성 의심 윗선 규명해야”, 與 “사법농단 양승태 측근 판사의 보...</td>\n",
              "      <td>결과 대선 의심 윗선 규명 판사 사법 농단 양승태 측근 보복 재판 문재인 대통령 핵...</td>\n",
              "      <td>pol</td>\n",
              "    </tr>\n",
              "    <tr>\n",
              "      <th>6037</th>\n",
              "      <td>文, ★진급자 77명에 `삼정검` 수여</td>\n",
              "      <td>진급자 삼정검 수여 문재인 대통령 도발 국방력 평화 정착 한반도 평화 역할 강조 이...</td>\n",
              "      <td>pol</td>\n",
              "    </tr>\n",
              "  </tbody>\n",
              "</table>\n",
              "</div>"
            ],
            "text/plain": [
              "                                                       제목  ...   주제\n",
              "4961                   文대통령 “신종 코로나 대응 맞춰 일정 수정 국민불안 최소화”  ...  pol\n",
              "84135                     황교안 입당 43일 만에 대표 외연 확장 보수 통합 숙제  ...  pol\n",
              "1977    자유한국당 박인 전 도의원, 같은 지역구 출마 선언한 더불어민주당 김두관 의원에게 ...  ...  pol\n",
              "149791                                     박형식, 그림같은 조각미남  ...  cul\n",
              "65377   '아는 형님' 태항호, 4.5kg 우량아+노안 \"교복 입고 버스 타니 알만한 사람이...  ...  cul\n",
              "132247           ‘한센병’ 논란에 고개 숙인 김현아 “환우와 가족 마음에 큰 아픔 죄송”  ...  pol\n",
              "50615              [ET투자뉴스]에스엠, \"텐센트뮤직과 전략적 \" BUY-KTB투자증권  ...  eco\n",
              "14505                     현대오일뱅크, 지난해 영업익 5220억원 전년比 21%↓  ...  eco\n",
              "39883   野 “대선 결과 정당성 의심 윗선 규명해야”, 與 “사법농단 양승태 측근 판사의 보...  ...  pol\n",
              "6037                                文, ★진급자 77명에 `삼정검` 수여  ...  pol\n",
              "\n",
              "[10 rows x 3 columns]"
            ]
          },
          "metadata": {
            "tags": []
          },
          "execution_count": 27
        }
      ]
    },
    {
      "cell_type": "markdown",
      "metadata": {
        "id": "uQ7bGPXy2q3a",
        "colab_type": "text"
      },
      "source": [
        "# nan 확인\n"
      ]
    },
    {
      "cell_type": "code",
      "metadata": {
        "id": "8pxymJt81w6x",
        "colab_type": "code",
        "outputId": "88ae331d-9dd6-4b93-8aca-64eae29ff2b8",
        "colab": {
          "base_uri": "https://localhost:8080/",
          "height": 0
        }
      },
      "source": [
        "# data.isnull()\n",
        "data.isnull().sum()"
      ],
      "execution_count": 28,
      "outputs": [
        {
          "output_type": "execute_result",
          "data": {
            "text/plain": [
              "제목     0\n",
              "키워드    0\n",
              "주제     0\n",
              "dtype: int64"
            ]
          },
          "metadata": {
            "tags": []
          },
          "execution_count": 28
        }
      ]
    },
    {
      "cell_type": "code",
      "metadata": {
        "id": "wUWi9xLQj8d9",
        "colab_type": "code",
        "outputId": "cdfd58b5-5c23-4128-9e84-2aeefc920b7e",
        "colab": {
          "base_uri": "https://localhost:8080/",
          "height": 0
        }
      },
      "source": [
        "data.head(20)"
      ],
      "execution_count": 29,
      "outputs": [
        {
          "output_type": "execute_result",
          "data": {
            "text/html": [
              "<div>\n",
              "<style scoped>\n",
              "    .dataframe tbody tr th:only-of-type {\n",
              "        vertical-align: middle;\n",
              "    }\n",
              "\n",
              "    .dataframe tbody tr th {\n",
              "        vertical-align: top;\n",
              "    }\n",
              "\n",
              "    .dataframe thead th {\n",
              "        text-align: right;\n",
              "    }\n",
              "</style>\n",
              "<table border=\"1\" class=\"dataframe\">\n",
              "  <thead>\n",
              "    <tr style=\"text-align: right;\">\n",
              "      <th></th>\n",
              "      <th>제목</th>\n",
              "      <th>키워드</th>\n",
              "      <th>주제</th>\n",
              "    </tr>\n",
              "  </thead>\n",
              "  <tbody>\n",
              "    <tr>\n",
              "      <th>4961</th>\n",
              "      <td>文대통령 “신종 코로나 대응 맞춰 일정 수정 국민불안 최소화”</td>\n",
              "      <td>대통령 신종 코로 대응 일정 수정 국민불안 최소화 문재인 대통령 신종 코로나바이러스...</td>\n",
              "      <td>pol</td>\n",
              "    </tr>\n",
              "    <tr>\n",
              "      <th>84135</th>\n",
              "      <td>황교안 입당 43일 만에 대표 외연 확장 보수 통합 숙제</td>\n",
              "      <td>43일 황교안 입당 대표 외연 확장 보수 통합 숙제 황교안 국무총리 자유한국당 대표...</td>\n",
              "      <td>pol</td>\n",
              "    </tr>\n",
              "    <tr>\n",
              "      <th>1977</th>\n",
              "      <td>자유한국당 박인 전 도의원, 같은 지역구 출마 선언한 더불어민주당 김두관 의원에게 ...</td>\n",
              "      <td>자유 한국당 박인 도의원 선언 지역구 출마 의원 더불어민주당 김두관 토종개 철새 묘...</td>\n",
              "      <td>pol</td>\n",
              "    </tr>\n",
              "    <tr>\n",
              "      <th>149791</th>\n",
              "      <td>박형식, 그림같은 조각미남</td>\n",
              "      <td>박형식 그림 조각미남 배우 박형식 28일 서울 성동구 성수동 S팩토리 샤넬 파리 뉴...</td>\n",
              "      <td>cul</td>\n",
              "    </tr>\n",
              "    <tr>\n",
              "      <th>65377</th>\n",
              "      <td>'아는 형님' 태항호, 4.5kg 우량아+노안 \"교복 입고 버스 타니 알만한 사람이...</td>\n",
              "      <td>형님 태항호 4.5 kg 우량아 노안 교복 버스 사람 태항호 체중 언급 주목 태항호...</td>\n",
              "      <td>cul</td>\n",
              "    </tr>\n",
              "    <tr>\n",
              "      <th>132247</th>\n",
              "      <td>‘한센병’ 논란에 고개 숙인 김현아 “환우와 가족 마음에 큰 아픔 죄송”</td>\n",
              "      <td>한센병 논란 고개 김현아 환우 가족 마음 아픔 의원 김현아 자유한국당 한센병 발언 ...</td>\n",
              "      <td>pol</td>\n",
              "    </tr>\n",
              "    <tr>\n",
              "      <th>50615</th>\n",
              "      <td>[ET투자뉴스]에스엠, \"텐센트뮤직과 전략적 \" BUY-KTB투자증권</td>\n",
              "      <td>에스엠 텐센트뮤직 전략적 BUY-KTB투자증권 KTB투자증권 에스엠 텐센트뮤직 체결...</td>\n",
              "      <td>eco</td>\n",
              "    </tr>\n",
              "    <tr>\n",
              "      <th>14505</th>\n",
              "      <td>현대오일뱅크, 지난해 영업익 5220억원 전년比 21%↓</td>\n",
              "      <td>현대오일뱅크 영업익 전년 21% 현대오일뱅크 영업 이익 기록 전년 21% 감소 실적...</td>\n",
              "      <td>eco</td>\n",
              "    </tr>\n",
              "    <tr>\n",
              "      <th>39883</th>\n",
              "      <td>野 “대선 결과 정당성 의심 윗선 규명해야”, 與 “사법농단 양승태 측근 판사의 보...</td>\n",
              "      <td>결과 대선 의심 윗선 규명 판사 사법 농단 양승태 측근 보복 재판 문재인 대통령 핵...</td>\n",
              "      <td>pol</td>\n",
              "    </tr>\n",
              "    <tr>\n",
              "      <th>6037</th>\n",
              "      <td>文, ★진급자 77명에 `삼정검` 수여</td>\n",
              "      <td>진급자 삼정검 수여 문재인 대통령 도발 국방력 평화 정착 한반도 평화 역할 강조 이...</td>\n",
              "      <td>pol</td>\n",
              "    </tr>\n",
              "    <tr>\n",
              "      <th>133493</th>\n",
              "      <td>文 대통령 ‘5당회동’ 고수 ‘일대일’ 회담 ‘門’ 열릴수도</td>\n",
              "      <td>5당 대통령 5당 회동 고수 일대일 회담 메시지 여야정협의체 연일 5당 대표 회담 ...</td>\n",
              "      <td>pol</td>\n",
              "    </tr>\n",
              "    <tr>\n",
              "      <th>39613</th>\n",
              "      <td>정준, 월세 피소 해명 하루만에 이번엔 채무 논란</td>\n",
              "      <td>정준 월세 피소 해명 하루 채무 논란 사진 배우 정준 헤럴드경제 모바일섹션 90년대...</td>\n",
              "      <td>pol</td>\n",
              "    </tr>\n",
              "    <tr>\n",
              "      <th>60041</th>\n",
              "      <td>오상진ㆍ안현모ㆍ이동진, ‘아카데미 시상식’ 생중계 MC 확정</td>\n",
              "      <td>오상진ㆍ안현모 이동진 아카데미 시상식 확정 생중계 MC 시상식 아카데미 오상진 아나...</td>\n",
              "      <td>cul</td>\n",
              "    </tr>\n",
              "    <tr>\n",
              "      <th>84205</th>\n",
              "      <td>'과반득표' 한국당 대표에 황교안</td>\n",
              "      <td>과반득표 한국당 대표 황교안 2위 오세훈 3위 김진태 최고위원 조경태 정미경 김순례...</td>\n",
              "      <td>pol</td>\n",
              "    </tr>\n",
              "    <tr>\n",
              "      <th>35490</th>\n",
              "      <td>“신사업 신시장 잡아라” 이통 3사, 5G 동맹 구축 ‘잰걸음’</td>\n",
              "      <td>신사업 신시장 이통 3사 5G 동맹 구축 잰걸음 TF 글로벌 MEC 발족 SK 텔레...</td>\n",
              "      <td>it</td>\n",
              "    </tr>\n",
              "    <tr>\n",
              "      <th>84471</th>\n",
              "      <td>[포토] 화기애애한 북-미 정상 만찬</td>\n",
              "      <td>정상 만찬 도널드 트럼프 미국 대통령 국무위원장 김정은 북한 27일 현지시간 2차 ...</td>\n",
              "      <td>pol</td>\n",
              "    </tr>\n",
              "    <tr>\n",
              "      <th>37201</th>\n",
              "      <td>2020 AFC U-23 챔피언십 C조 최종 순위</td>\n",
              "      <td>AFC U- 챔피언십 C조 최종 순위 김학범 감독 한국 U- 축구대표팀 15일 태국...</td>\n",
              "      <td>spo</td>\n",
              "    </tr>\n",
              "    <tr>\n",
              "      <th>91840</th>\n",
              "      <td>“성매매 여성, 세 살 버릇 여든까지 ” 민주당 구의원 ‘제명’</td>\n",
              "      <td>성매매 여성 버릇 제명 민주당 구의원 자리 의회 본회의 성매매 여성 비하 더불어민주...</td>\n",
              "      <td>pol</td>\n",
              "    </tr>\n",
              "    <tr>\n",
              "      <th>88677</th>\n",
              "      <td>민주평통 \"남북교류가 북한 비핵화 견인 금강산 열려야\"</td>\n",
              "      <td>민주평통 남북 교류 견인 북한 비핵화 금강산 민주평화통일자문회 결의안2차 자문위원 ...</td>\n",
              "      <td>pol</td>\n",
              "    </tr>\n",
              "    <tr>\n",
              "      <th>111382</th>\n",
              "      <td>보물급 서적 ‘월인석보 권17’</td>\n",
              "      <td>보물급 서적 월인석보 권17 보물급 서적 평가 월인석보 月印釋譜 권17 사진 20일...</td>\n",
              "      <td>cul</td>\n",
              "    </tr>\n",
              "  </tbody>\n",
              "</table>\n",
              "</div>"
            ],
            "text/plain": [
              "                                                       제목  ...   주제\n",
              "4961                   文대통령 “신종 코로나 대응 맞춰 일정 수정 국민불안 최소화”  ...  pol\n",
              "84135                     황교안 입당 43일 만에 대표 외연 확장 보수 통합 숙제  ...  pol\n",
              "1977    자유한국당 박인 전 도의원, 같은 지역구 출마 선언한 더불어민주당 김두관 의원에게 ...  ...  pol\n",
              "149791                                     박형식, 그림같은 조각미남  ...  cul\n",
              "65377   '아는 형님' 태항호, 4.5kg 우량아+노안 \"교복 입고 버스 타니 알만한 사람이...  ...  cul\n",
              "132247           ‘한센병’ 논란에 고개 숙인 김현아 “환우와 가족 마음에 큰 아픔 죄송”  ...  pol\n",
              "50615              [ET투자뉴스]에스엠, \"텐센트뮤직과 전략적 \" BUY-KTB투자증권  ...  eco\n",
              "14505                     현대오일뱅크, 지난해 영업익 5220억원 전년比 21%↓  ...  eco\n",
              "39883   野 “대선 결과 정당성 의심 윗선 규명해야”, 與 “사법농단 양승태 측근 판사의 보...  ...  pol\n",
              "6037                                文, ★진급자 77명에 `삼정검` 수여  ...  pol\n",
              "133493                 文 대통령 ‘5당회동’ 고수 ‘일대일’ 회담 ‘門’ 열릴수도   ...  pol\n",
              "39613                         정준, 월세 피소 해명 하루만에 이번엔 채무 논란  ...  pol\n",
              "60041                   오상진ㆍ안현모ㆍ이동진, ‘아카데미 시상식’ 생중계 MC 확정  ...  cul\n",
              "84205                                  '과반득표' 한국당 대표에 황교안  ...  pol\n",
              "35490                 “신사업 신시장 잡아라” 이통 3사, 5G 동맹 구축 ‘잰걸음’  ...   it\n",
              "84471                                [포토] 화기애애한 북-미 정상 만찬  ...  pol\n",
              "37201                         2020 AFC U-23 챔피언십 C조 최종 순위  ...  spo\n",
              "91840                 “성매매 여성, 세 살 버릇 여든까지 ” 민주당 구의원 ‘제명’  ...  pol\n",
              "88677                      민주평통 \"남북교류가 북한 비핵화 견인 금강산 열려야\"  ...  pol\n",
              "111382                                  보물급 서적 ‘월인석보 권17’  ...  cul\n",
              "\n",
              "[20 rows x 3 columns]"
            ]
          },
          "metadata": {
            "tags": []
          },
          "execution_count": 29
        }
      ]
    },
    {
      "cell_type": "code",
      "metadata": {
        "id": "2cy2YvJrjdld",
        "colab_type": "code",
        "colab": {}
      },
      "source": [
        "# data = data.iloc[:100000,:]\n"
      ],
      "execution_count": 0,
      "outputs": []
    },
    {
      "cell_type": "markdown",
      "metadata": {
        "id": "B6WXvrW9Y8cD",
        "colab_type": "text"
      },
      "source": [
        "# 주제 지우기 함수"
      ]
    },
    {
      "cell_type": "code",
      "metadata": {
        "id": "NsuwsdXPuqJd",
        "colab_type": "code",
        "colab": {}
      },
      "source": [
        "def removeTopic(top):\n",
        "  data = data.drop(data[data[\"주제\"] == top].index)\n",
        "\n",
        "  y = []\n",
        "  topicList = list(set(data.sort_values(by=[\"주제\"])[\"주제\"].to_list()))\n",
        "\n",
        "  import matplotlib.font_manager as fm\n",
        "  # plt.rcParams['font.family'] = 'NanumGothic'\n",
        "\n",
        "\n",
        "  font_path = 'C:/Windows/Fonts/NanumGothic.ttf'\n",
        "  fontprop = fm.FontProperties(fname=font_path, size=18)\n",
        "\n",
        "\n",
        "  for topic in topicList:\n",
        "    sumVal = (data[\"주제\"]==topic).sum()\n",
        "    y.append(sumVal)\n",
        "    print(topic ,\"count : \", sumVal)\n",
        "\n",
        "  plt.xlabel(\"\",fontproperties=fontprop)\n",
        "  plt.plot(topicList, y,)\n",
        "  plt.show()\n",
        "\n",
        "  y = []\n",
        "\n",
        "  import matplotlib.font_manager as fm\n",
        "  # plt.rcParams['font.family'] = 'NanumGothic'\n",
        "\n",
        "\n",
        "  font_path = 'C:/Windows/Fonts/NanumGothic.ttf'\n",
        "  fontprop = fm.FontProperties(fname=font_path, size=18)\n",
        "\n",
        "\n",
        "  for topic in topicList:\n",
        "    sumVal = (data[\"주제\"]==topic).sum()\n",
        "    y.append(sumVal)\n",
        "    print(topic ,\"count : \", sumVal)\n",
        "\n",
        "  plt.xlabel(\"\",fontproperties=fontprop)\n",
        "  plt.plot(topicList, y,)\n",
        "  plt.show()\n"
      ],
      "execution_count": 0,
      "outputs": []
    },
    {
      "cell_type": "code",
      "metadata": {
        "id": "bmANvb-nDEmO",
        "colab_type": "code",
        "colab": {}
      },
      "source": [
        "# removeTopic(\"it\")"
      ],
      "execution_count": 0,
      "outputs": []
    },
    {
      "cell_type": "markdown",
      "metadata": {
        "id": "6I380Yae0SJZ",
        "colab_type": "text"
      },
      "source": [
        "# IT지우기"
      ]
    },
    {
      "cell_type": "code",
      "metadata": {
        "id": "prWcfZDc0UJq",
        "colab_type": "code",
        "colab": {}
      },
      "source": [
        "# data = data.drop(data[data[\"주제\"].map(lambda i : i == \"cul\")].index)"
      ],
      "execution_count": 0,
      "outputs": []
    },
    {
      "cell_type": "code",
      "metadata": {
        "id": "FYJJXPAl15O6",
        "colab_type": "code",
        "colab": {}
      },
      "source": [
        "# topicList = list(set(data.sort_values(by=[\"주제\"])[\"주제\"].to_list()))\n",
        "# data = data.astype(str)\n",
        "\n",
        "# keys = data[\"키워드\"]\n",
        "# keys = keys.astype(str)\n",
        "\n",
        "# lst = keys.to_list()\n",
        "\n",
        "# print(\"max length article : \", max([len(i) for i in lst]))\n",
        "# print(\"ave article length : \" , sum(map(len,lst))/len(lst) )\n",
        "\n",
        "# plt.hist([len(i) for i in lst], bins = 50)\n",
        "# plt.show()\n",
        "\n",
        "# y = []\n",
        "\n",
        "# import matplotlib.font_manager as fm\n",
        "# # plt.rcParams['font.family'] = 'NanumGothic'\n",
        "\n",
        "\n",
        "# font_path = 'C:/Windows/Fonts/NanumGothic.ttf'\n",
        "# fontprop = fm.FontProperties(fname=font_path, size=18)\n",
        "\n",
        "\n",
        "# for topic in topicList:\n",
        "#   sumVal = (data[\"주제\"]==topic).sum()\n",
        "#   y.append(sumVal)\n",
        "#   print(topic ,\"count : \", sumVal)\n",
        "\n",
        "# plt.xlabel(\"\",fontproperties=fontprop)\n",
        "# plt.plot(topicList, y,)\n",
        "# plt.show()\n"
      ],
      "execution_count": 0,
      "outputs": []
    },
    {
      "cell_type": "code",
      "metadata": {
        "id": "VEkqS6iIDCAQ",
        "colab_type": "code",
        "colab": {}
      },
      "source": [
        ""
      ],
      "execution_count": 0,
      "outputs": []
    },
    {
      "cell_type": "markdown",
      "metadata": {
        "id": "5eMBM4h8GSd3",
        "colab_type": "text"
      },
      "source": [
        "# Keras"
      ]
    },
    {
      "cell_type": "code",
      "metadata": {
        "id": "ikDw-ZKPNQNA",
        "colab_type": "code",
        "colab": {
          "base_uri": "https://localhost:8080/",
          "height": 0
        },
        "outputId": "ece305b0-74f5-47b0-d2ff-795ee778fb75"
      },
      "source": [
        "from keras.preprocessing.text import Tokenizer"
      ],
      "execution_count": 33,
      "outputs": [
        {
          "output_type": "stream",
          "text": [
            "Using TensorFlow backend.\n"
          ],
          "name": "stderr"
        },
        {
          "output_type": "display_data",
          "data": {
            "text/html": [
              "<p style=\"color: red;\">\n",
              "The default version of TensorFlow in Colab will soon switch to TensorFlow 2.x.<br>\n",
              "We recommend you <a href=\"https://www.tensorflow.org/guide/migrate\" target=\"_blank\">upgrade</a> now \n",
              "or ensure your notebook will continue to use TensorFlow 1.x via the <code>%tensorflow_version 1.x</code> magic:\n",
              "<a href=\"https://colab.research.google.com/notebooks/tensorflow_version.ipynb\" target=\"_blank\">more info</a>.</p>\n"
            ],
            "text/plain": [
              "<IPython.core.display.HTML object>"
            ]
          },
          "metadata": {
            "tags": []
          }
        }
      ]
    },
    {
      "cell_type": "code",
      "metadata": {
        "id": "IXGc7tkBNio9",
        "colab_type": "code",
        "colab": {}
      },
      "source": [
        "test = str(data[\"키워드\"])"
      ],
      "execution_count": 0,
      "outputs": []
    },
    {
      "cell_type": "code",
      "metadata": {
        "id": "azfPilCLRoZr",
        "colab_type": "code",
        "colab": {}
      },
      "source": [
        "MAX_NB_WORDS = 5000\n",
        "MAX_SEQUENCE_LENGTH = 500\n"
      ],
      "execution_count": 0,
      "outputs": []
    },
    {
      "cell_type": "code",
      "metadata": {
        "id": "cNnxa-H3Wc5u",
        "colab_type": "code",
        "colab": {}
      },
      "source": [
        "tokenizer = Tokenizer(num_words=MAX_NB_WORDS, filters = \" \")\n",
        "# 빈도가 높은 최대 50000개의 단어들로만 인덱싱"
      ],
      "execution_count": 0,
      "outputs": []
    },
    {
      "cell_type": "code",
      "metadata": {
        "id": "Fdm_nKpafX3K",
        "colab_type": "code",
        "colab": {}
      },
      "source": [
        "data[\"키워드\"] = data[\"키워드\"].astype(str)"
      ],
      "execution_count": 0,
      "outputs": []
    },
    {
      "cell_type": "code",
      "metadata": {
        "id": "92BJQeCTWekh",
        "colab_type": "code",
        "outputId": "3a3f7ab0-bac7-4f80-c506-9125614f5e25",
        "colab": {
          "base_uri": "https://localhost:8080/",
          "height": 0
        }
      },
      "source": [
        "tokenizer.fit_on_texts(data[\"키워드\"].values)\n",
        "#padas와 호완이 된다. string array을 넣는다.\n",
        "# string array을 넣으면 각 string element에서 계산을 다 해서\n",
        "# 단어들을 indexing한다.\n",
        "# word_index : 전체 문서 셋에서 단어에 idx 매핑 전체 문서 셋에서 단어 빈도수 따라서 \n",
        "# 빈도 수 높을 수록 낮은 숫자에 매핑. 단어 -> 숫자 매핑\n",
        "# index_word : word_index의 반대 표현. object에서 숫자 -> 단어 매핑.\n",
        "# 일단 indexing은...\n",
        "\"\"\"\n",
        "from : https://stackoverflow.com/questions/51956000/what-does-keras-tokenizer-method-exactly-do\n",
        "fit_on_texts Updates internal vocabulary based on a list of texts. This method creates the vocabulary index based on word frequency. So if you give it something like, \"The cat sat on the mat.\" It will create a dictionary s.t. word_index[\"the\"] = 1; word_index[\"cat\"] = 2 it is word -> index dictionary so every word gets a unique integer value. 0 is reserved for padding. So lower integer means more frequent word (often the first few are stop words because they appear a lot).\n",
        "texts_to_sequences Transforms each text in texts to a sequence of integers. So it basically takes each word in the text and replaces it with its corresponding integer value from the word_index dictionary. Nothing more, nothing less, certainly no magic involved.\n",
        "\"\"\"\n",
        "\n",
        "\n"
      ],
      "execution_count": 38,
      "outputs": [
        {
          "output_type": "execute_result",
          "data": {
            "text/plain": [
              "'\\nfrom : https://stackoverflow.com/questions/51956000/what-does-keras-tokenizer-method-exactly-do\\nfit_on_texts Updates internal vocabulary based on a list of texts. This method creates the vocabulary index based on word frequency. So if you give it something like, \"The cat sat on the mat.\" It will create a dictionary s.t. word_index[\"the\"] = 1; word_index[\"cat\"] = 2 it is word -> index dictionary so every word gets a unique integer value. 0 is reserved for padding. So lower integer means more frequent word (often the first few are stop words because they appear a lot).\\ntexts_to_sequences Transforms each text in texts to a sequence of integers. So it basically takes each word in the text and replaces it with its corresponding integer value from the word_index dictionary. Nothing more, nothing less, certainly no magic involved.\\n'"
            ]
          },
          "metadata": {
            "tags": []
          },
          "execution_count": 38
        }
      ]
    },
    {
      "cell_type": "code",
      "metadata": {
        "id": "O9kR6J2iWk0d",
        "colab_type": "code",
        "outputId": "ca34b2b4-00c4-4470-cc3e-711d003307b1",
        "colab": {
          "base_uri": "https://localhost:8080/",
          "height": 0
        }
      },
      "source": [
        "word_index = tokenizer.word_index\n",
        "print(f\"found %s unique tokens.\" %len(word_index))"
      ],
      "execution_count": 39,
      "outputs": [
        {
          "output_type": "stream",
          "text": [
            "found 567490 unique tokens.\n"
          ],
          "name": "stdout"
        }
      ]
    },
    {
      "cell_type": "code",
      "metadata": {
        "id": "ORlFYI4CaJZA",
        "colab_type": "code",
        "colab": {}
      },
      "source": [
        "# tokenizer.word_index"
      ],
      "execution_count": 0,
      "outputs": []
    },
    {
      "cell_type": "code",
      "metadata": {
        "id": "7j-lmIILW-bJ",
        "colab_type": "code",
        "colab": {}
      },
      "source": [
        "# tokenizer.word_counts"
      ],
      "execution_count": 0,
      "outputs": []
    },
    {
      "cell_type": "code",
      "metadata": {
        "id": "Y6P5nEXxXkgg",
        "colab_type": "code",
        "colab": {}
      },
      "source": [
        "# 위에서 각 단어 -> 정수 매핑했다.\n",
        "# 이제 문서를 정수 표현으로 바꾼다.\n",
        "X = tokenizer.texts_to_sequences(data[\"키워드\"].values)\n"
      ],
      "execution_count": 0,
      "outputs": []
    },
    {
      "cell_type": "code",
      "metadata": {
        "id": "NEM8dl4selzX",
        "colab_type": "code",
        "colab": {}
      },
      "source": [
        "# len(X)\n",
        "# X.shape"
      ],
      "execution_count": 0,
      "outputs": []
    },
    {
      "cell_type": "code",
      "metadata": {
        "id": "j5CnV1TrdPOA",
        "colab_type": "code",
        "colab": {}
      },
      "source": [
        "from keras.preprocessing.sequence import pad_sequences\n"
      ],
      "execution_count": 0,
      "outputs": []
    },
    {
      "cell_type": "code",
      "metadata": {
        "id": "LDW7gHYvds2y",
        "colab_type": "code",
        "outputId": "6c1dedc9-c395-4431-88c5-f036c5775726",
        "colab": {
          "base_uri": "https://localhost:8080/",
          "height": 0
        }
      },
      "source": [
        "X = pad_sequences(X, maxlen = MAX_SEQUENCE_LENGTH)\n",
        "print(\"shape of data tensor: \", X.shape)"
      ],
      "execution_count": 45,
      "outputs": [
        {
          "output_type": "stream",
          "text": [
            "shape of data tensor:  (166885, 500)\n"
          ],
          "name": "stdout"
        }
      ]
    },
    {
      "cell_type": "code",
      "metadata": {
        "id": "VC2Ci_VDd42z",
        "colab_type": "code",
        "outputId": "86bb1db8-6ffb-4ded-dd64-8859a7d00365",
        "colab": {
          "base_uri": "https://localhost:8080/",
          "height": 0
        }
      },
      "source": [
        "X"
      ],
      "execution_count": 46,
      "outputs": [
        {
          "output_type": "execute_result",
          "data": {
            "text/plain": [
              "array([[   0,    0,    0, ...,  360,   84,   14],\n",
              "       [   0,    0,    0, ...,  600,  786,  663],\n",
              "       [   0,    0,    0, ..., 1702, 2101, 2108],\n",
              "       ...,\n",
              "       [   0,    0,    0, ...,  181, 1007,   56],\n",
              "       [   0,    0,    0, ...,    4,  722, 1985],\n",
              "       [   0,    0,    0, ...,  257, 3754,  361]], dtype=int32)"
            ]
          },
          "metadata": {
            "tags": []
          },
          "execution_count": 46
        }
      ]
    },
    {
      "cell_type": "code",
      "metadata": {
        "id": "poV1SPGweAhy",
        "colab_type": "code",
        "colab": {}
      },
      "source": [
        "Y = pd.get_dummies(data[\"주제\"]).values"
      ],
      "execution_count": 0,
      "outputs": []
    },
    {
      "cell_type": "code",
      "metadata": {
        "id": "Cvrbu_WmivOm",
        "colab_type": "code",
        "outputId": "9c3d0032-c26a-4cd5-bab3-3623293f86ae",
        "colab": {
          "base_uri": "https://localhost:8080/",
          "height": 0
        }
      },
      "source": [
        "print(\"shale of label tensor:\", Y.shape)"
      ],
      "execution_count": 48,
      "outputs": [
        {
          "output_type": "stream",
          "text": [
            "shale of label tensor: (166885, 7)\n"
          ],
          "name": "stdout"
        }
      ]
    },
    {
      "cell_type": "code",
      "metadata": {
        "id": "kmjWb9p-izE7",
        "colab_type": "code",
        "colab": {}
      },
      "source": [
        "from sklearn.model_selection import train_test_split"
      ],
      "execution_count": 0,
      "outputs": []
    },
    {
      "cell_type": "code",
      "metadata": {
        "id": "mFrIC5UdjQlJ",
        "colab_type": "code",
        "colab": {}
      },
      "source": [
        "X_train, X_test, Y_train, Y_test = train_test_split(X,Y,test_size = 0.1, random_state = 42)"
      ],
      "execution_count": 0,
      "outputs": []
    },
    {
      "cell_type": "code",
      "metadata": {
        "id": "cbQWL2zxjeYk",
        "colab_type": "code",
        "outputId": "3ebf5338-0824-4f01-c4f2-3c5ba18b01cb",
        "colab": {
          "base_uri": "https://localhost:8080/",
          "height": 0
        }
      },
      "source": [
        "print(X_train.shape, Y_train.shape)"
      ],
      "execution_count": 51,
      "outputs": [
        {
          "output_type": "stream",
          "text": [
            "(150196, 500) (150196, 7)\n"
          ],
          "name": "stdout"
        }
      ]
    },
    {
      "cell_type": "code",
      "metadata": {
        "id": "dfwwrG7CjhLh",
        "colab_type": "code",
        "outputId": "e1f18ad4-3fe5-45e1-f348-ef2e378ccf78",
        "colab": {
          "base_uri": "https://localhost:8080/",
          "height": 0
        }
      },
      "source": [
        "print(X_test.shape, Y_test.shape)"
      ],
      "execution_count": 52,
      "outputs": [
        {
          "output_type": "stream",
          "text": [
            "(16689, 500) (16689, 7)\n"
          ],
          "name": "stdout"
        }
      ]
    },
    {
      "cell_type": "code",
      "metadata": {
        "id": "N_QFiy1yjlf4",
        "colab_type": "code",
        "colab": {}
      },
      "source": [
        "import tensorflow as tf\n",
        "from tensorflow.keras.models import Sequential\n",
        "from tensorflow.keras.layers import Dense, Dropout, LSTM, CuDNNLSTM, Embedding, SpatialDropout1D, Bidirectional\n",
        "from tensorflow.keras.callbacks import EarlyStopping\n",
        "\n"
      ],
      "execution_count": 0,
      "outputs": []
    },
    {
      "cell_type": "code",
      "metadata": {
        "id": "0HihKIKgkObv",
        "colab_type": "code",
        "colab": {}
      },
      "source": [
        "# EMBEDDING_DIM = 256\n",
        "\n",
        "# def runModel(EMBEDDING_DIM = 256, lstmLayer = 128, layerNum = 1, layerSet = [128], epochs = 2, batch_size = 64, reluDense = False, biDir = False, method = CuDNNLSTM):\n",
        "#   model = Sequential()\n",
        "\n",
        "#   model.add(Embedding(MAX_NB_WORDS, EMBEDDING_DIM))\n",
        "#   model.add(SpatialDropout1D(0.2))\n",
        "#   if method == LSTM:\n",
        "#     method = LSTM\n",
        "#   if biDir == True:\n",
        "#     print(\"biDir is True\")\n",
        "#     model.add(Bidirectional(method(lstmLayer,return_sequences=True)))\n",
        "\n",
        "#     if layerNum > 1:\n",
        "#       print(\"layer num > 1\")\n",
        "#       for i in range(layerNum - 1):\n",
        "#         print(\"add \",i,\"th layer\")\n",
        "#         model.add(method(lstmLayer,return_sequences=True)) \n",
        "#         model.add(Dropout(0.2))\n",
        "#     elif len(layerSet) > 1:\n",
        "#       print(\"len(layerSet) > 1\")\n",
        "#       for i, layerWid in enumerate(layerSet):\n",
        "#         print(\"add \",i,\"th layer\")\n",
        "#         model.add(method(layerWid,return_sequences=True)) \n",
        "#         model.add(Dropout(0.2)) \n",
        "#     else:\n",
        "#       model.add(Bidirectional(method(lstmLayer)))\n",
        "#   # model.add(method(128,return_sequences=True)) \n",
        "#   # model.add(Dropout(0.2))\n",
        "#   # model.add(Dense(7, activation='softmax'))\n",
        "\n",
        "#   # model.add(method(128,return_sequences=True)) \n",
        "#   # model.add(Dropout(0.2))\n",
        "\n",
        "#   # model.add(method(128,return_sequences=True)) \n",
        "#   # model.add(Dropout(0.2))\n",
        "\n",
        "#   # model.add(method(128,return_sequences=True)) \n",
        "#   # model.add(Dropout(0.2))\n",
        "#   else:\n",
        "#     # model.add(SpatialDropout1D(0.2))\n",
        "\n",
        "#     if layerNum > 1:\n",
        "#       for i in range(layerNum - 1):\n",
        "#         print(\"add \",i,\"th layer\")\n",
        "#         model.add(method(lstmLayer,return_sequences=True)) \n",
        "#         model.add(Dropout(0.2))\n",
        "#     elif len(layerSet) > 1:\n",
        "#       for i, layerWid in enumerate(layerSet):\n",
        "#         print(\"add \",i,\"th layer\")\n",
        "#         model.add(CuDNNLSTM(layerWid,return_sequences=True)) \n",
        "#         model.add(Dropout(0.2))\n",
        "\n",
        "#   model.add(method(lstmLayer)) \n",
        "#   model.add(Dropout(0.2))\n",
        "\n",
        "#   # model.add(Dense(32,activation='relu'))\n",
        "\n",
        "#   # model.add(LSTM(100, dropout = 0.2, recurrent_dropout=0.2))\n",
        "\n",
        "#   if reluDense == True:\n",
        "#     model.add(Dense(EMBEDDING_DIM, activation = 'relu'))\n",
        "#     model.add(Dropout(0.2))\n",
        "\n",
        "#   model.add(Dense(9, activation='softmax'))\n",
        "#   opt = tf.keras.optimizers.Adam(lr=1e-3, decay = 1e-5)\n",
        "#   model.summary()\n",
        "#   # model.compile(loss='categorical_crossentropy', optimizer = opt, metrics = ['accuracy'])\n",
        "#   # model.compile(loss='sparse_categorical_crossentropy', optimizer = 'adam', metrics = ['accuracy'])\n",
        "#   model.compile(loss='categorical_crossentropy', optimizer = 'adam', metrics = ['accuracy'])\n",
        "\n",
        "#   # epochs = 2\n",
        "#   # batch_size = 64\n",
        "\n",
        "#   history = model.fit(X_train, Y_train, epochs = epochs, batch_size = batch_size, validation_split=0.1, callbacks=[EarlyStopping(monitor='val_loss', patience=3, min_delta=0.0001)])\n",
        "\n",
        "#   #accuracy show\n",
        "#   accr = model.evaluate(X_test,Y_test)\n",
        "#   print('Test set\\n  Loss: {:0.3f}\\n  Accuracy: {:0.3f}'.format(accr[0],accr[1]))\n",
        "\n",
        "#   #accuracy graph\n",
        "#   plt.title('Loss')\n",
        "#   plt.plot(history.history['loss'], label='train')\n",
        "#   plt.plot(history.history['val_loss'], label='test')\n",
        "#   plt.legend()\n",
        "#   plt.show();\n",
        "\n",
        "#   plt.title('Accuracy')\n",
        "#   plt.plot(history.history['acc'], label='train')\n",
        "#   plt.plot(history.history['val_acc'], label='test')\n",
        "#   plt.legend()\n",
        "#   plt.show();"
      ],
      "execution_count": 0,
      "outputs": []
    },
    {
      "cell_type": "markdown",
      "metadata": {
        "id": "XFhTelwqrqr3",
        "colab_type": "text"
      },
      "source": [
        "# 기본적인 모델\n",
        "* 그런데 epoch =1, 과 2일 때 차이가 0.3이 난다. 에폭을 더 늘려서 시도해볼 필요성이 있어보인다.\n",
        "* 에폭 = 2 -> 8.3\n",
        "* 에폭 = 5- > "
      ]
    },
    {
      "cell_type": "code",
      "metadata": {
        "id": "M5_QzZJNofrT",
        "colab_type": "code",
        "outputId": "f9b8a0c5-bff3-4f9b-cb8c-3ecaad7c13f4",
        "colab": {
          "base_uri": "https://localhost:8080/",
          "height": 1000
        }
      },
      "source": [
        "\n",
        "\n",
        "model = Sequential()\n",
        "EMBEDDING_DIM = 512\n",
        "model.add(Embedding(MAX_NB_WORDS, EMBEDDING_DIM))\n",
        "\n",
        "model.add(CuDNNLSTM(EMBEDDING_DIM)) \n",
        "model.add(Dropout(0.2))\n",
        "model.add(Dense(EMBEDDING_DIM/2, activation='relu'))\n",
        "model.add(Dropout(0.2))\n",
        "\n",
        "model.add(Dense(len(topicList), activation='softmax'))\n",
        "model.summary()\n",
        "model.compile(loss='categorical_crossentropy', optimizer = 'adam', metrics = ['accuracy'])\n",
        "\n",
        "\n",
        "epochs = 2\n",
        "batch_size = 64\n",
        "history = model.fit(X_train, Y_train, epochs = epochs, batch_size = batch_size, validation_split=0.1, callbacks=[EarlyStopping(monitor='val_loss', patience=3, min_delta=0.0001)])\n",
        "\n",
        "#accuracy show\n",
        "accr = model.evaluate(X_test,Y_test)\n",
        "print('Test set\\n  Loss: {:0.3f}\\n  Accuracy: {:0.3f}'.format(accr[0],accr[1]))\n",
        "\n",
        "#accuracy graph\n",
        "plt.title('Loss')\n",
        "plt.plot(history.history['loss'], label='train')\n",
        "plt.plot(history.history['val_loss'], label='test')\n",
        "plt.legend()\n",
        "plt.show();\n",
        "\n",
        "plt.title('Accuracy')\n",
        "plt.plot(history.history['acc'], label='train')\n",
        "plt.plot(history.history['val_acc'], label='test')\n",
        "plt.legend()\n",
        "plt.show();"
      ],
      "execution_count": 55,
      "outputs": [
        {
          "output_type": "stream",
          "text": [
            "WARNING:tensorflow:From /usr/local/lib/python3.6/dist-packages/tensorflow_core/python/keras/initializers.py:119: calling RandomUniform.__init__ (from tensorflow.python.ops.init_ops) with dtype is deprecated and will be removed in a future version.\n",
            "Instructions for updating:\n",
            "Call initializer instance with the dtype argument instead of passing it to the constructor\n",
            "WARNING:tensorflow:From /usr/local/lib/python3.6/dist-packages/tensorflow_core/python/ops/resource_variable_ops.py:1630: calling BaseResourceVariable.__init__ (from tensorflow.python.ops.resource_variable_ops) with constraint is deprecated and will be removed in a future version.\n",
            "Instructions for updating:\n",
            "If using Keras pass *_constraint arguments to layers.\n",
            "Model: \"sequential\"\n",
            "_________________________________________________________________\n",
            "Layer (type)                 Output Shape              Param #   \n",
            "=================================================================\n",
            "embedding (Embedding)        (None, None, 512)         2560000   \n",
            "_________________________________________________________________\n",
            "cu_dnnlstm (CuDNNLSTM)       (None, 512)               2101248   \n",
            "_________________________________________________________________\n",
            "dropout (Dropout)            (None, 512)               0         \n",
            "_________________________________________________________________\n",
            "dense (Dense)                (None, 256)               131328    \n",
            "_________________________________________________________________\n",
            "dropout_1 (Dropout)          (None, 256)               0         \n",
            "_________________________________________________________________\n",
            "dense_1 (Dense)              (None, 7)                 1799      \n",
            "=================================================================\n",
            "Total params: 4,794,375\n",
            "Trainable params: 4,794,375\n",
            "Non-trainable params: 0\n",
            "_________________________________________________________________\n",
            "Train on 135176 samples, validate on 15020 samples\n",
            "Epoch 1/2\n",
            "135176/135176 [==============================] - 252s 2ms/sample - loss: 0.2647 - acc: 0.9255 - val_loss: 0.1636 - val_acc: 0.9571\n",
            "Epoch 2/2\n",
            "135176/135176 [==============================] - 234s 2ms/sample - loss: 0.1130 - acc: 0.9705 - val_loss: 0.1297 - val_acc: 0.9663\n",
            "16689/16689 [==============================] - 24s 1ms/sample - loss: 0.1309 - acc: 0.9661\n",
            "Test set\n",
            "  Loss: 0.131\n",
            "  Accuracy: 0.966\n"
          ],
          "name": "stdout"
        },
        {
          "output_type": "display_data",
          "data": {
            "image/png": "[encoded data removed]",
            "text/plain": [
              "<Figure size 432x288 with 1 Axes>"
            ]
          },
          "metadata": {
            "tags": []
          }
        },
        {
          "output_type": "display_data",
          "data": {
            "image/png": "[encoded data removed]",
            "text/plain": [
              "<Figure size 432x288 with 1 Axes>"
            ]
          },
          "metadata": {
            "tags": []
          }
        }
      ]
    },
    {
      "cell_type": "code",
      "metadata": {
        "id": "7FjHJGE7l1P9",
        "colab_type": "code",
        "colab": {}
      },
      "source": [
        ""
      ],
      "execution_count": 0,
      "outputs": []
    },
    {
      "cell_type": "markdown",
      "metadata": {
        "id": "pr0bZyAxl7Nz",
        "colab_type": "text"
      },
      "source": [
        "## 버리기 dropout = 0.4\n",
        "* 과적합을 없애보자!"
      ]
    },
    {
      "cell_type": "code",
      "metadata": {
        "id": "BHRLEtjql1-d",
        "colab_type": "code",
        "outputId": "f894f2c5-2778-4dae-d7cc-480f7f125858",
        "colab": {
          "base_uri": "https://localhost:8080/",
          "height": 1000
        }
      },
      "source": [
        "\n",
        "\n",
        "model = Sequential()\n",
        "EMBEDDING_DIM = 512\n",
        "model.add(Embedding(MAX_NB_WORDS, EMBEDDING_DIM))\n",
        "\n",
        "model.add(CuDNNLSTM(EMBEDDING_DIM)) \n",
        "model.add(Dropout(0.4))\n",
        "model.add(Dense(EMBEDDING_DIM/2, activation='relu'))\n",
        "model.add(Dropout(0.4))\n",
        "\n",
        "model.add(Dense(7, activation='softmax'))\n",
        "model.summary()\n",
        "model.compile(loss='categorical_crossentropy', optimizer = 'adam', metrics = ['accuracy'])\n",
        "\n",
        "\n",
        "epochs = 10\n",
        "batch_size = 64\n",
        "history = model.fit(X_train, Y_train, epochs = epochs, batch_size = batch_size, validation_split=0.1, callbacks=[EarlyStopping(monitor='val_loss', patience=3, min_delta=0.0001)])\n",
        "\n",
        "#accuracy show\n",
        "accr = model.evaluate(X_test,Y_test)\n",
        "print('Test set\\n  Loss: {:0.3f}\\n  Accuracy: {:0.3f}'.format(accr[0],accr[1]))\n",
        "\n",
        "#accuracy graph\n",
        "plt.title('Loss')\n",
        "plt.plot(history.history['loss'], label='train')\n",
        "plt.plot(history.history['val_loss'], label='test')\n",
        "plt.legend()\n",
        "plt.show();\n",
        "\n",
        "plt.title('Accuracy')\n",
        "plt.plot(history.history['acc'], label='train')\n",
        "plt.plot(history.history['val_acc'], label='test')\n",
        "plt.legend()\n",
        "plt.show();"
      ],
      "execution_count": 0,
      "outputs": [
        {
          "output_type": "stream",
          "text": [
            "Model: \"sequential_5\"\n",
            "_________________________________________________________________\n",
            "Layer (type)                 Output Shape              Param #   \n",
            "=================================================================\n",
            "embedding_5 (Embedding)      (None, None, 512)         2560000   \n",
            "_________________________________________________________________\n",
            "cu_dnnlstm_6 (CuDNNLSTM)     (None, 512)               2101248   \n",
            "_________________________________________________________________\n",
            "dropout_4 (Dropout)          (None, 512)               0         \n",
            "_________________________________________________________________\n",
            "dense_9 (Dense)              (None, 256)               131328    \n",
            "_________________________________________________________________\n",
            "dropout_5 (Dropout)          (None, 256)               0         \n",
            "_________________________________________________________________\n",
            "dense_10 (Dense)             (None, 7)                 1799      \n",
            "=================================================================\n",
            "Total params: 4,794,375\n",
            "Trainable params: 4,794,375\n",
            "Non-trainable params: 0\n",
            "_________________________________________________________________\n",
            "Train on 76875 samples, validate on 8542 samples\n",
            "Epoch 1/10\n",
            "76875/76875 [==============================] - 141s 2ms/sample - loss: 0.7124 - acc: 0.7717 - val_loss: 0.4695 - val_acc: 0.8493\n",
            "Epoch 2/10\n",
            "76875/76875 [==============================] - 137s 2ms/sample - loss: 0.3713 - acc: 0.8751 - val_loss: 0.3642 - val_acc: 0.8767\n",
            "Epoch 3/10\n",
            "76875/76875 [==============================] - 137s 2ms/sample - loss: 0.2943 - acc: 0.8963 - val_loss: 0.3539 - val_acc: 0.8780\n",
            "Epoch 4/10\n",
            "76875/76875 [==============================] - 138s 2ms/sample - loss: 0.2442 - acc: 0.9132 - val_loss: 0.3744 - val_acc: 0.8786\n",
            "Epoch 5/10\n",
            "76875/76875 [==============================] - 137s 2ms/sample - loss: 0.1985 - acc: 0.9288 - val_loss: 0.3793 - val_acc: 0.8774\n",
            "Epoch 6/10\n",
            "76875/76875 [==============================] - 137s 2ms/sample - loss: 0.1618 - acc: 0.9417 - val_loss: 0.4028 - val_acc: 0.8835\n",
            "9491/9491 [==============================] - 11s 1ms/sample - loss: 0.4029 - acc: 0.8833\n",
            "Test set\n",
            "  Loss: 0.403\n",
            "  Accuracy: 0.883\n"
          ],
          "name": "stdout"
        },
        {
          "output_type": "display_data",
          "data": {
            "image/png": "[encoded data removed]",
            "text/plain": [
              "<Figure size 432x288 with 1 Axes>"
            ]
          },
          "metadata": {
            "tags": []
          }
        },
        {
          "output_type": "display_data",
          "data": {
            "image/png": "[encoded data removed]",
            "text/plain": [
              "<Figure size 432x288 with 1 Axes>"
            ]
          },
          "metadata": {
            "tags": []
          }
        }
      ]
    },
    {
      "cell_type": "code",
      "metadata": {
        "id": "3cjhD1Hjjrm6",
        "colab_type": "code",
        "colab": {}
      },
      "source": [
        ""
      ],
      "execution_count": 0,
      "outputs": []
    },
    {
      "cell_type": "markdown",
      "metadata": {
        "id": "CUe7bzQ4vIWK",
        "colab_type": "text"
      },
      "source": [
        "# biDirectional model\n",
        "별 차이가 없다... 여전히 에폭 수를 늘리는 것을 고려해보아야..."
      ]
    },
    {
      "cell_type": "code",
      "metadata": {
        "id": "soH86zgBq3bg",
        "colab_type": "code",
        "colab": {}
      },
      "source": [
        "model = Sequential()\n",
        "EMBEDDING_DIM = 64\n",
        "model.add(Embedding(MAX_NB_WORDS, EMBEDDING_DIM))\n",
        "model.add(Bidirectional(CuDNNLSTM(EMBEDDING_DIM,return_sequences=True)))\n",
        "\n",
        "# model.add(CuDNNLSTM(EMBEDDING_DIM,return_sequences=True)) \n",
        "model.add(CuDNNLSTM(EMBEDDING_DIM)) \n",
        "model.add(Dense(7, activation='softmax'))\n",
        "model.summary()\n",
        "model.compile(loss='categorical_crossentropy', optimizer = 'adam', metrics = ['accuracy'])\n",
        "\n",
        "\n",
        "epochs = 10\n",
        "batch_size = 64\n",
        "history = model.fit(X_train, Y_train, epochs = epochs, batch_size = batch_size, validation_split=0.1, callbacks=[EarlyStopping(monitor='val_loss', patience=3, min_delta=0.0001)])\n",
        "\n",
        "#accuracy show\n",
        "accr = model.evaluate(X_test,Y_test)\n",
        "print('Test set\\n  Loss: {:0.3f}\\n  Accuracy: {:0.3f}'.format(accr[0],accr[1]))\n",
        "\n",
        "#accuracy graph\n",
        "plt.title('Loss')\n",
        "plt.plot(history.history['loss'], label='train')\n",
        "plt.plot(history.history['val_loss'], label='test')\n",
        "plt.legend()\n",
        "plt.show();\n",
        "\n",
        "plt.title('Accuracy')\n",
        "plt.plot(history.history['acc'], label='train')\n",
        "plt.plot(history.history['val_acc'], label='test')\n",
        "plt.legend()\n",
        "plt.show();"
      ],
      "execution_count": 0,
      "outputs": []
    },
    {
      "cell_type": "markdown",
      "metadata": {
        "id": "i1eRGLRoxTMP",
        "colab_type": "text"
      },
      "source": [
        "# dense 30을 추가한 모형\n",
        "* 고만고만..."
      ]
    },
    {
      "cell_type": "code",
      "metadata": {
        "id": "mO9zTHLVvQeX",
        "colab_type": "code",
        "colab": {}
      },
      "source": [
        "model = Sequential()\n",
        "EMBEDDING_DIM = 64\n",
        "model.add(Embedding(MAX_NB_WORDS, EMBEDDING_DIM))\n",
        "# model.add(Bidirectional(CuDNNLSTM(EMBEDDING_DIM,return_sequences=True)))\n",
        "\n",
        "# model.add(CuDNNLSTM(EMBEDDING_DIM,return_sequences=True)) \n",
        "model.add(CuDNNLSTM(EMBEDDING_DIM)) \n",
        "model.add(Dense(EMBEDDING_DIM/2, activation='relu'))\n",
        "model.add(Dense(9, activation='softmax'))\n",
        "model.summary()\n",
        "model.compile(loss='categorical_crossentropy', optimizer = 'adam', metrics = ['accuracy'])\n",
        "\n",
        "\n",
        "epochs = 2\n",
        "batch_size = 64\n",
        "history = model.fit(X_train, Y_train, epochs = epochs, batch_size = batch_size, validation_split=0.1, callbacks=[EarlyStopping(monitor='val_loss', patience=3, min_delta=0.0001)])\n",
        "\n",
        "#accuracy show\n",
        "accr = model.evaluate(X_test,Y_test)\n",
        "print('Test set\\n  Loss: {:0.3f}\\n  Accuracy: {:0.3f}'.format(accr[0],accr[1]))\n",
        "\n",
        "#accuracy graph\n",
        "plt.title('Loss')\n",
        "plt.plot(history.history['loss'], label='train')\n",
        "plt.plot(history.history['val_loss'], label='test')\n",
        "plt.legend()\n",
        "plt.show();\n",
        "\n",
        "plt.title('Accuracy')\n",
        "plt.plot(history.history['acc'], label='train')\n",
        "plt.plot(history.history['val_acc'], label='test')\n",
        "plt.legend()\n",
        "plt.show();"
      ],
      "execution_count": 0,
      "outputs": []
    },
    {
      "cell_type": "markdown",
      "metadata": {
        "id": "1kjyWrhC3AD2",
        "colab_type": "text"
      },
      "source": [
        "# 노드 수 512\n",
        "* 조금 커졌지만... 과적합"
      ]
    },
    {
      "cell_type": "code",
      "metadata": {
        "id": "j2iv81jbxZmK",
        "colab_type": "code",
        "colab": {}
      },
      "source": [
        "model = Sequential()\n",
        "EMBEDDING_DIM = 512\n",
        "model.add(Embedding(MAX_NB_WORDS, EMBEDDING_DIM))\n",
        "# model.add(Bidirectional(CuDNNLSTM(EMBEDDING_DIM,return_sequences=True)))\n",
        "\n",
        "# model.add(CuDNNLSTM(EMBEDDING_DIM,return_sequences=True)) \n",
        "model.add(CuDNNLSTM(EMBEDDING_DIM)) \n",
        "model.add(Dense(EMBEDDING_DIM/2, activation='relu'))\n",
        "model.add(Dense(9, activation='softmax'))\n",
        "model.summary()\n",
        "model.compile(loss='categorical_crossentropy', optimizer = 'adam', metrics = ['accuracy'])\n",
        "\n",
        "\n",
        "epochs = 2\n",
        "batch_size = 64\n",
        "history = model.fit(X_train, Y_train, epochs = epochs, batch_size = batch_size, validation_split=0.1, callbacks=[EarlyStopping(monitor='val_loss', patience=3, min_delta=0.0001)])\n",
        "\n",
        "#accuracy show\n",
        "accr = model.evaluate(X_test,Y_test)\n",
        "print('Test set\\n  Loss: {:0.3f}\\n  Accuracy: {:0.3f}'.format(accr[0],accr[1]))\n",
        "\n",
        "#accuracy graph\n",
        "plt.title('Loss')\n",
        "plt.plot(history.history['loss'], label='train')\n",
        "plt.plot(history.history['val_loss'], label='test')\n",
        "plt.legend()\n",
        "plt.show();\n",
        "\n",
        "plt.title('Accuracy')\n",
        "plt.plot(history.history['acc'], label='train')\n",
        "plt.plot(history.history['val_acc'], label='test')\n",
        "plt.legend()\n",
        "plt.show();"
      ],
      "execution_count": 0,
      "outputs": []
    },
    {
      "cell_type": "markdown",
      "metadata": {
        "id": "4ASHBu8U3HS5",
        "colab_type": "text"
      },
      "source": [
        "# spatial layer 모형"
      ]
    },
    {
      "cell_type": "code",
      "metadata": {
        "id": "yUDLEMVw3IBI",
        "colab_type": "code",
        "outputId": "16564f84-e28f-42a6-fd56-580b790e82fb",
        "colab": {
          "base_uri": "https://localhost:8080/",
          "height": 1000
        }
      },
      "source": [
        "model = Sequential()\n",
        "EMBEDDING_DIM = 512\n",
        "model.add(Embedding(MAX_NB_WORDS, EMBEDDING_DIM))\n",
        "# model.add(Bidirectional(CuDNNLSTM(EMBEDDING_DIM,return_sequences=True)))\n",
        "model.add(SpatialDropout1D(0.2))\n",
        "\n",
        "# model.add(CuDNNLSTM(EMBEDDING_DIM,return_sequences=True)) \n",
        "model.add(CuDNNLSTM(EMBEDDING_DIM)) \n",
        "model.add(Dense(EMBEDDING_DIM/2, activation='relu'))\n",
        "model.add(Dense(7, activation='softmax'))\n",
        "model.summary()\n",
        "model.compile(loss='categorical_crossentropy', optimizer = 'adam', metrics = ['accuracy'])\n",
        "\n",
        "\n",
        "epochs = 2\n",
        "batch_size = 64\n",
        "history = model.fit(X_train, Y_train, epochs = epochs, batch_size = batch_size, validation_split=0.1, callbacks=[EarlyStopping(monitor='val_loss', patience=3, min_delta=0.0001)])\n",
        "\n",
        "#accuracy show\n",
        "accr = model.evaluate(X_test,Y_test)\n",
        "print('Test set\\n  Loss: {:0.3f}\\n  Accuracy: {:0.3f}'.format(accr[0],accr[1]))\n",
        "\n",
        "#accuracy graph\n",
        "plt.title('Loss')\n",
        "plt.plot(history.history['loss'], label='train')\n",
        "plt.plot(history.history['val_loss'], label='test')\n",
        "plt.legend()\n",
        "plt.show();\n",
        "\n",
        "plt.title('Accuracy')\n",
        "plt.plot(history.history['acc'], label='train')\n",
        "plt.plot(history.history['val_acc'], label='test')\n",
        "plt.legend()\n",
        "plt.show();"
      ],
      "execution_count": 0,
      "outputs": [
        {
          "output_type": "stream",
          "text": [
            "Model: \"sequential_3\"\n",
            "_________________________________________________________________\n",
            "Layer (type)                 Output Shape              Param #   \n",
            "=================================================================\n",
            "embedding_3 (Embedding)      (None, None, 512)         2560000   \n",
            "_________________________________________________________________\n",
            "spatial_dropout1d_1 (Spatial (None, None, 512)         0         \n",
            "_________________________________________________________________\n",
            "cu_dnnlstm_3 (CuDNNLSTM)     (None, 512)               2101248   \n",
            "_________________________________________________________________\n",
            "dense_6 (Dense)              (None, 256)               131328    \n",
            "_________________________________________________________________\n",
            "dense_7 (Dense)              (None, 7)                 1799      \n",
            "=================================================================\n",
            "Total params: 4,794,375\n",
            "Trainable params: 4,794,375\n",
            "Non-trainable params: 0\n",
            "_________________________________________________________________\n",
            "Train on 76875 samples, validate on 8542 samples\n",
            "Epoch 1/2\n",
            "76875/76875 [==============================] - 142s 2ms/sample - loss: 0.6774 - acc: 0.7815 - val_loss: 0.5336 - val_acc: 0.8177\n",
            "Epoch 2/2\n",
            "76875/76875 [==============================] - 138s 2ms/sample - loss: 0.3904 - acc: 0.8689 - val_loss: 0.4000 - val_acc: 0.8592\n",
            "9491/9491 [==============================] - 11s 1ms/sample - loss: 0.3820 - acc: 0.8671\n",
            "Test set\n",
            "  Loss: 0.382\n",
            "  Accuracy: 0.867\n"
          ],
          "name": "stdout"
        },
        {
          "output_type": "display_data",
          "data": {
            "image/png": "[encoded data removed]",
            "text/plain": [
              "<Figure size 432x288 with 1 Axes>"
            ]
          },
          "metadata": {
            "tags": []
          }
        },
        {
          "output_type": "display_data",
          "data": {
            "image/png": "[encoded data removed]",
            "text/plain": [
              "<Figure size 432x288 with 1 Axes>"
            ]
          },
          "metadata": {
            "tags": []
          }
        }
      ]
    },
    {
      "cell_type": "code",
      "metadata": {
        "id": "HtGfAk9-8Q5H",
        "colab_type": "code",
        "colab": {}
      },
      "source": [
        "# "
      ],
      "execution_count": 0,
      "outputs": []
    },
    {
      "cell_type": "code",
      "metadata": {
        "id": "_rpi2tky8R1z",
        "colab_type": "code",
        "colab": {}
      },
      "source": [
        "model = Sequential()\n",
        "EMBEDDING_DIM = 256\n",
        "model.add(Embedding(MAX_NB_WORDS, EMBEDDING_DIM))\n",
        "# model.add(Bidirectional(CuDNNLSTM(EMBEDDING_DIM,return_sequences=True)))\n",
        "# model.add(SpatialDropout1D(0.2))\n",
        "\n",
        "# model.add(CuDNNLSTM(EMBEDDING_DIM,return_sequences=True)) \n",
        "model.add(CuDNNLSTM(EMBEDDING_DIM)) \n",
        "model.add(Dense(EMBEDDING_DIM/2, activation='relu'))\n",
        "model.add(Dense(9, activation='softmax'))\n",
        "model.summary()\n",
        "model.compile(loss='categorical_crossentropy', optimizer = 'adam', metrics = ['accuracy'])\n",
        "\n",
        "\n",
        "epochs = 10\n",
        "batch_size = 64\n",
        "history = model.fit(X_train, Y_train, epochs = epochs, batch_size = batch_size, validation_split=0.1, callbacks=[EarlyStopping(monitor='val_loss', patience=3, min_delta=0.0001)])\n",
        "\n",
        "#accuracy show\n",
        "accr = model.evaluate(X_test,Y_test)\n",
        "print('Test set\\n  Loss: {:0.3f}\\n  Accuracy: {:0.3f}'.format(accr[0],accr[1]))\n",
        "\n",
        "#accuracy graph\n",
        "plt.title('Loss')\n",
        "plt.plot(history.history['loss'], label='train')\n",
        "plt.plot(history.history['val_loss'], label='test')\n",
        "plt.legend()\n",
        "plt.show();\n",
        "\n",
        "plt.title('Accuracy')\n",
        "plt.plot(history.history['acc'], label='train')\n",
        "plt.plot(history.history['val_acc'], label='test')\n",
        "plt.legend()\n",
        "plt.show();"
      ],
      "execution_count": 0,
      "outputs": []
    },
    {
      "cell_type": "code",
      "metadata": {
        "id": "jStbX7ITgzVd",
        "colab_type": "code",
        "colab": {}
      },
      "source": [
        "runModel(64,64, layerNum=1, batch_size = 32, epochs = 2, reluDense=True)#, biDir = True"
      ],
      "execution_count": 0,
      "outputs": []
    },
    {
      "cell_type": "code",
      "metadata": {
        "id": "fd2zc-NsZ8WI",
        "colab_type": "code",
        "colab": {}
      },
      "source": [
        "runModel(512,512, layerNum=1, batch_size = 256, epochs = 2, reluDense=True)#, biDir = True)"
      ],
      "execution_count": 0,
      "outputs": []
    },
    {
      "cell_type": "code",
      "metadata": {
        "id": "tmkoZ56OZva2",
        "colab_type": "code",
        "colab": {}
      },
      "source": [
        "runModel(64,64, layerNum=8, batch_size = 256, epochs = 2, reluDense=True)#, biDir = True)"
      ],
      "execution_count": 0,
      "outputs": []
    },
    {
      "cell_type": "code",
      "metadata": {
        "id": "JRu6y366U9yA",
        "colab_type": "code",
        "colab": {}
      },
      "source": [
        "runModel(64,64, layerNum=3, batch_size = 256, epochs = 2, reluDense=True)#, biDir = True)"
      ],
      "execution_count": 0,
      "outputs": []
    },
    {
      "cell_type": "code",
      "metadata": {
        "id": "zNvc3QKaUP-m",
        "colab_type": "code",
        "colab": {}
      },
      "source": [
        "runModel(64,64, batch_size = 256, epochs = 2, reluDense=True, biDir = True)# batch size 128 was fine... not overfitting. Test overcomes trains."
      ],
      "execution_count": 0,
      "outputs": []
    },
    {
      "cell_type": "code",
      "metadata": {
        "id": "1qR9ciVxSAgg",
        "colab_type": "code",
        "colab": {}
      },
      "source": [
        "runModel(64,64, batch_size = 128, epochs = 2, reluDense=True, biDir = True)"
      ],
      "execution_count": 0,
      "outputs": []
    },
    {
      "cell_type": "code",
      "metadata": {
        "id": "y1dEaRT3UlE7",
        "colab_type": "code",
        "colab": {}
      },
      "source": [
        "runModel(256,256)"
      ],
      "execution_count": 0,
      "outputs": []
    },
    {
      "cell_type": "code",
      "metadata": {
        "id": "U5f50EkONdoX",
        "colab_type": "code",
        "colab": {}
      },
      "source": [
        "runModel(512,256)"
      ],
      "execution_count": 0,
      "outputs": []
    },
    {
      "cell_type": "code",
      "metadata": {
        "id": "mIdCbfKmPgPg",
        "colab_type": "code",
        "colab": {}
      },
      "source": [
        "runModel(512,512)"
      ],
      "execution_count": 0,
      "outputs": []
    },
    {
      "cell_type": "code",
      "metadata": {
        "id": "CKKk8Zo4ULj8",
        "colab_type": "code",
        "colab": {}
      },
      "source": [
        "runModel(128,128, layerNum = 2)"
      ],
      "execution_count": 0,
      "outputs": []
    },
    {
      "cell_type": "code",
      "metadata": {
        "id": "9xg3wKogT_J0",
        "colab_type": "code",
        "colab": {}
      },
      "source": [
        "runModel(128,128, layerNum = 3)"
      ],
      "execution_count": 0,
      "outputs": []
    },
    {
      "cell_type": "code",
      "metadata": {
        "id": "N5KaKZBVYY6L",
        "colab_type": "code",
        "colab": {}
      },
      "source": [
        "runModel(128,128, layerNum = 3, batch_size = 32)"
      ],
      "execution_count": 0,
      "outputs": []
    },
    {
      "cell_type": "code",
      "metadata": {
        "id": "7eZDejBMfLcP",
        "colab_type": "code",
        "colab": {}
      },
      "source": [
        "runModel(128,128, layerNum = 3, batch_size = 32, epoch = 10)"
      ],
      "execution_count": 0,
      "outputs": []
    },
    {
      "cell_type": "code",
      "metadata": {
        "id": "-hvLynIzfu7e",
        "colab_type": "code",
        "colab": {}
      },
      "source": [
        "# max num : 50000 -> 5000\n",
        "runModel(64,64, layerNum = 3, batch_size = 32, epochs = 10, reluDense=True)"
      ],
      "execution_count": 0,
      "outputs": []
    },
    {
      "cell_type": "code",
      "metadata": {
        "id": "ewl0BGa0o1Pz",
        "colab_type": "code",
        "colab": {}
      },
      "source": [
        "runModel(64,64, batch_size = 32, epochs = 2, reluDense=True, biDir = True)"
      ],
      "execution_count": 0,
      "outputs": []
    },
    {
      "cell_type": "code",
      "metadata": {
        "id": "ELZmwi2gYi4o",
        "colab_type": "code",
        "colab": {}
      },
      "source": [
        "runModel(128,128, layerNum = 3, batch_size = 16)"
      ],
      "execution_count": 0,
      "outputs": []
    },
    {
      "cell_type": "code",
      "metadata": {
        "id": "oWQKCqo_YlBC",
        "colab_type": "code",
        "colab": {}
      },
      "source": [
        "runModel(128,128, layerNum = 3, batch_size = 128)"
      ],
      "execution_count": 0,
      "outputs": []
    },
    {
      "cell_type": "code",
      "metadata": {
        "id": "Mc19_AQ1dMa-",
        "colab_type": "code",
        "colab": {}
      },
      "source": [
        "runModel(128,128, layerNum = 3, batch_size = 256)"
      ],
      "execution_count": 0,
      "outputs": []
    },
    {
      "cell_type": "code",
      "metadata": {
        "id": "DyFNDa0lSCWR",
        "colab_type": "code",
        "colab": {}
      },
      "source": [
        "runModel(512,512, epochs = 10)"
      ],
      "execution_count": 0,
      "outputs": []
    },
    {
      "cell_type": "code",
      "metadata": {
        "id": "JSINh081OC6t",
        "colab_type": "code",
        "colab": {}
      },
      "source": [
        "runModel(256, 64, layerNum = 4)"
      ],
      "execution_count": 0,
      "outputs": []
    },
    {
      "cell_type": "code",
      "metadata": {
        "id": "ojmKoKogPkWu",
        "colab_type": "code",
        "colab": {}
      },
      "source": [
        "runModel(256,256,epochs = 4)"
      ],
      "execution_count": 0,
      "outputs": []
    },
    {
      "cell_type": "code",
      "metadata": {
        "id": "MTBQ7LXFPouH",
        "colab_type": "code",
        "colab": {}
      },
      "source": [
        "runModel(256,256,batch_size = )"
      ],
      "execution_count": 0,
      "outputs": []
    },
    {
      "cell_type": "markdown",
      "metadata": {
        "id": "B1I1XFc4B20w",
        "colab_type": "text"
      },
      "source": [
        "# 개별 테스트"
      ]
    },
    {
      "cell_type": "code",
      "metadata": {
        "id": "qsl_sqRpnXNl",
        "colab_type": "code",
        "colab": {}
      },
      "source": [
        "test = [\"\"\"\n",
        "봉준호 감독의 영화 '기생충'이 지난 9일(현지시간) 아카데미 시상식에서 4관왕을 차지한 뒤 정치권에서도 봉 감독과 '기생충'의 쾌거에 찬사를 보내고 있다. 자유한국당에서도 \"기념비적인 사건\"이라며 봉 감독을 치켜세웠는데, 진중권 전 동양대 교수는 이를 두고 \"얼굴이 두텁다(두껍다)\"고 비판했다.\n",
        "\n",
        "진 전 교수는 11일 자신의 페이스북을 통해 \"한국의 보수, 절망적이다\"라고 했다. 진 전 교수는 \"봉준호 감독은 블랙리스트에 올려놓고, CJ 이미경 부회장은 자리에서 끌어내려 미국으로 망명 보냈던 분들 아닌가\"라며 \"이제 와서 봉준호 감독의 쾌거에 숟가락 올려놓으려 하다니 얼굴도 참 두터우시다\"라고 비꼬았다.\n",
        "\n",
        "전날인 10일 박용찬 자유한국당 대변인은 '기생충' 오스카 수상 소식이 전해지자 논평을 내고 \"한국 영화 기생충이 새로운 역사를 썼다\"며 \"지난해 칸영화제 황금종려상을 시작으로 연이어 들려온 놀라운 소식\"이라고 했다. 한국당은 또 \"전 세계에 한국 영화, 한국 문화의 힘을 알린 기념비적인 사건이라 할 수 있을 것\"이라고 부연했다.\n",
        "\n",
        "또 강효상 자유한국당 의원도 이날 자유한국당 원내대책회의에서 \"대구신청사 옆 두류 공원에 '봉준호 영화박물관'을 건립해 대구신청사와 함께 세계적인 영화테마 관광메카로 만들겠다\"고 말했다. 봉 감독이 대구출신이라는 이유에서 나온 발언이다.\n",
        "\n",
        "이에 대해서도 진 전 교수는 박정희 전 대통령 생가복원 마인드라고 꼬집으면서 \"이 소식이 외신으로 나가면 문화강국 한국의 이미지에 먹칠을 할 것\"이라고 비난했다. 그러면서 \"이분들, 마인드가 딱 70년대에 가 있다\"고 비판하기도 했다.\n",
        "\n",
        "이명박 정부 시기에는 봉 감독을 포함해 영화인 52명이 블랙리스트에 올랐다. 특히 당시 청와대 기획관리실에서 작성한 내부 문건에는 봉 감독의 영화 '괴물'을 \"대중이 쉽게 접하고 무의식중에 좌파 메시지에 동조하게 만드는 좋은 수단인 영화를 중심으로 국민의식 좌경화 추진\" 사례로 들었다.\n",
        "\n",
        "문화예술계 블랙리스트 진상조사 및 제도개선위원회가 지난해 2월 발간한 '문화예술계 블랙리스트 진상조사 및 제도개선위원회 백서'에는 '괴물'을 포함해 '설국열차', '살인의 추억' 등 봉 감독의 영화 세 편이 블랙리스트 영화로 등장한다.\n",
        "\n",
        "봉 감독 외에도 배우 송강호 역시 '문화체육관광부 9473명 명단'에 블랙리스트로 등장한다. 송강호는 문화예술인 594명이 2015년 5월 1일 발표한 '세월호 정부 시행령 폐기 촉구 성명'을 발표해 블랙리스트에 포함됐다.\n",
        "\"\"\"]\n",
        "\n"
      ],
      "execution_count": 0,
      "outputs": []
    },
    {
      "cell_type": "code",
      "metadata": {
        "id": "LVsacYNXTkOc",
        "colab_type": "code",
        "colab": {}
      },
      "source": [
        "seq = tokenizer.texts_to_sequences(test)\n",
        "padded = pad_sequences(seq, maxlen = MAX_SEQUENCE_LENGTH)\n"
      ],
      "execution_count": 0,
      "outputs": []
    },
    {
      "cell_type": "code",
      "metadata": {
        "id": "pWLbWqyXUCn7",
        "colab_type": "code",
        "colab": {}
      },
      "source": [
        "pred = model.predict(padded)"
      ],
      "execution_count": 0,
      "outputs": []
    },
    {
      "cell_type": "code",
      "metadata": {
        "id": "5Z3Lei08UF0p",
        "colab_type": "code",
        "colab": {}
      },
      "source": [
        "labels = topicList"
      ],
      "execution_count": 0,
      "outputs": []
    },
    {
      "cell_type": "code",
      "metadata": {
        "id": "J0fgM4k7UZPK",
        "colab_type": "code",
        "colab": {}
      },
      "source": [
        "import numpy as np\n"
      ],
      "execution_count": 0,
      "outputs": []
    },
    {
      "cell_type": "code",
      "metadata": {
        "id": "LCLBNGFYUbny",
        "colab_type": "code",
        "outputId": "afee6cdb-b506-47d5-989d-a1bedfe2ad3f",
        "colab": {
          "base_uri": "https://localhost:8080/",
          "height": 35
        }
      },
      "source": [
        "print(pred, labels[np.argmax(pred)])\n",
        "# pred"
      ],
      "execution_count": 0,
      "outputs": [
        {
          "output_type": "stream",
          "text": [
            "[[0.00486093 0.02850493 0.00742397 0.88261074 0.07146551 0.00513387]] it\n"
          ],
          "name": "stdout"
        }
      ]
    },
    {
      "cell_type": "code",
      "metadata": {
        "id": "jnI2Dk3ZWJZ_",
        "colab_type": "code",
        "colab": {}
      },
      "source": [
        "model.save('drive/My Drive/Colab Notebooks/Machine Learning/RNN/my_model'+version+'.h5')\n"
      ],
      "execution_count": 0,
      "outputs": []
    },
    {
      "cell_type": "code",
      "metadata": {
        "id": "7viFBBMfMmuS",
        "colab_type": "code",
        "outputId": "ff37fd6f-274b-4c7c-ba3f-fb3b488680df",
        "colab": {
          "base_uri": "https://localhost:8080/",
          "height": 323
        }
      },
      "source": [
        "from tensorflow import keras\n",
        "new_model = keras.models.load_model('drive/My Drive/Colab Notebooks/Machine Learning/RNN/my_model'+version+'.h5')\n"
      ],
      "execution_count": 0,
      "outputs": [
        {
          "output_type": "error",
          "ename": "OSError",
          "evalue": "ignored",
          "traceback": [
            "\u001b[0;31m---------------------------------------------------------------------------\u001b[0m",
            "\u001b[0;31mOSError\u001b[0m                                   Traceback (most recent call last)",
            "\u001b[0;32m<ipython-input-178-1e7a1217e801>\u001b[0m in \u001b[0;36m<module>\u001b[0;34m()\u001b[0m\n\u001b[1;32m      1\u001b[0m \u001b[0;32mfrom\u001b[0m \u001b[0mtensorflow\u001b[0m \u001b[0;32mimport\u001b[0m \u001b[0mkeras\u001b[0m\u001b[0;34m\u001b[0m\u001b[0;34m\u001b[0m\u001b[0m\n\u001b[0;32m----> 2\u001b[0;31m \u001b[0mnew_model\u001b[0m \u001b[0;34m=\u001b[0m \u001b[0mkeras\u001b[0m\u001b[0;34m.\u001b[0m\u001b[0mmodels\u001b[0m\u001b[0;34m.\u001b[0m\u001b[0mload_model\u001b[0m\u001b[0;34m(\u001b[0m\u001b[0;34m'drive/My Drive/Colab Notebooks/Machine Learning/RNN/my_model'\u001b[0m\u001b[0;34m+\u001b[0m\u001b[0mversion\u001b[0m\u001b[0;34m+\u001b[0m\u001b[0;34m'.h5'\u001b[0m\u001b[0;34m)\u001b[0m\u001b[0;34m\u001b[0m\u001b[0;34m\u001b[0m\u001b[0m\n\u001b[0m",
            "\u001b[0;32m/usr/local/lib/python3.6/dist-packages/tensorflow_core/python/keras/saving/save.py\u001b[0m in \u001b[0;36mload_model\u001b[0;34m(filepath, custom_objects, compile)\u001b[0m\n\u001b[1;32m    144\u001b[0m \u001b[0;34m\u001b[0m\u001b[0m\n\u001b[1;32m    145\u001b[0m   \u001b[0;32mif\u001b[0m \u001b[0misinstance\u001b[0m\u001b[0;34m(\u001b[0m\u001b[0mfilepath\u001b[0m\u001b[0;34m,\u001b[0m \u001b[0msix\u001b[0m\u001b[0;34m.\u001b[0m\u001b[0mstring_types\u001b[0m\u001b[0;34m)\u001b[0m\u001b[0;34m:\u001b[0m\u001b[0;34m\u001b[0m\u001b[0;34m\u001b[0m\u001b[0m\n\u001b[0;32m--> 146\u001b[0;31m     \u001b[0mloader_impl\u001b[0m\u001b[0;34m.\u001b[0m\u001b[0mparse_saved_model\u001b[0m\u001b[0;34m(\u001b[0m\u001b[0mfilepath\u001b[0m\u001b[0;34m)\u001b[0m\u001b[0;34m\u001b[0m\u001b[0;34m\u001b[0m\u001b[0m\n\u001b[0m\u001b[1;32m    147\u001b[0m     \u001b[0;32mreturn\u001b[0m \u001b[0msaved_model_load\u001b[0m\u001b[0;34m.\u001b[0m\u001b[0mload\u001b[0m\u001b[0;34m(\u001b[0m\u001b[0mfilepath\u001b[0m\u001b[0;34m,\u001b[0m \u001b[0mcompile\u001b[0m\u001b[0;34m)\u001b[0m\u001b[0;34m\u001b[0m\u001b[0;34m\u001b[0m\u001b[0m\n\u001b[1;32m    148\u001b[0m \u001b[0;34m\u001b[0m\u001b[0m\n",
            "\u001b[0;32m/usr/local/lib/python3.6/dist-packages/tensorflow_core/python/saved_model/loader_impl.py\u001b[0m in \u001b[0;36mparse_saved_model\u001b[0;34m(export_dir)\u001b[0m\n\u001b[1;32m     81\u001b[0m                   (export_dir,\n\u001b[1;32m     82\u001b[0m                    \u001b[0mconstants\u001b[0m\u001b[0;34m.\u001b[0m\u001b[0mSAVED_MODEL_FILENAME_PBTXT\u001b[0m\u001b[0;34m,\u001b[0m\u001b[0;34m\u001b[0m\u001b[0;34m\u001b[0m\u001b[0m\n\u001b[0;32m---> 83\u001b[0;31m                    constants.SAVED_MODEL_FILENAME_PB))\n\u001b[0m\u001b[1;32m     84\u001b[0m \u001b[0;34m\u001b[0m\u001b[0m\n\u001b[1;32m     85\u001b[0m \u001b[0;34m\u001b[0m\u001b[0m\n",
            "\u001b[0;31mOSError\u001b[0m: SavedModel file does not exist at: drive/My Drive/Colab Notebooks/Machine Learning/RNN/my_modelinteg.h5/{saved_model.pbtxt|saved_model.pb}"
          ]
        }
      ]
    },
    {
      "cell_type": "code",
      "metadata": {
        "id": "uOrSTzveMuFZ",
        "colab_type": "code",
        "outputId": "0aa112dd-4f17-4ada-c95d-be8c3f1d1d16",
        "colab": {
          "base_uri": "https://localhost:8080/",
          "height": 34
        }
      },
      "source": [
        "pred = model.predict(padded)\n",
        "print(pred, labels[np.argmax(pred)])\n"
      ],
      "execution_count": 0,
      "outputs": [
        {
          "output_type": "stream",
          "text": [
            "[[0.94730633 0.00502064 0.01667797 0.01763796 0.0062179  0.00713924]] pol\n"
          ],
          "name": "stdout"
        }
      ]
    },
    {
      "cell_type": "code",
      "metadata": {
        "id": "_JuJXTzNMxBd",
        "colab_type": "code",
        "colab": {}
      },
      "source": [
        "test = [\"\"\"\n",
        " 남북물류포럼 칼럼 제350호사드배치 알 박기, 진정 국익을 위한 것일까?추 원 서남북물류포럼 수석부회장지난달 말 롯데가 국방부와 성주골프장을 고고도미사일방어체계(THAAD·사드) 부지로 제공하는 계약을 체결한 이후, 한·중 간 갈등이 표면화되면서 중국의 보복이 노골화하고 있다. 거듭되는 중국의 반대와 경고에도 불구하고 한미 당국이 사드의 조기 배치 의지를 재천명하며 절차를 신속히 진행하는 움직임을 보이자, 중국은 이미 시행되던 경고성 조치를 넘어 롯데에 대한 '보복'을 시작으로 전방위 경제 및 문화 보복에 나서고 있다. 경제적 측면에서 당장 예상되는 커다란 손실은 물론, 앞으로 정치․외교․사회․군사 등 여러 방면에서도 심대한 피해와 후유증이 우려되고 있다. 만일, 사태가 장기화한다면 지난 25년 간 어렵게 축적해온 중국인의 한국에 대한 신뢰와 우호적 정서마저 크게 손상될 것이라는 것은 불문가지다. 물론, 상호의존도가 높은 글로벌 경제 하에서 중국이 입을 손실 역시 작지는 않을 것이다. 우리는 중국의 보복조치를 유감스럽게 생각하면서도, 중국이 사드배치를 왜 그토록 강하게 반대하는 상황에서 한국 정부가 알박기 하듯, 서둘러 사드 배치를 강행하는 것이 과연 국가의 장래에 도움이 될 것인지를 생각해 볼 필요가 있다. 결론부터 말한다면 현 정부는 사드 배치의 성급한 추진을 잠정 중단하고 차기 정부에 넘기는 것이 합당하고 현명하다는 것이다. 그 이유는 다음과 같다.첫째, 사드배치는 북한 핵 위협에 대처하는 방위적 조치라는 말로 설명할 수 있는 단순한 문제가 아니기 때문이다. 사드배치는 동북아 안보지형과 세력균형을 근본적으로 흔드는 사건이다. 중국이 반대하는 이유는 바로 여기에 있다. 미국은 부상하는 중국을 견제하기 위해 일본의 군사대국화를 용인하면서, 한국을 묶는 전략을 구사하고 있다. 중국은 사드가 미국의 대중국 포위전략의 일환이며, 액스밴드 레이더를 통해 자신을 근접거리에서 감시함으로써 유사 시 중국의 대응능력을 크게 훼손할 것을 우려하고 있다. 또한 이를 계기로 한국이 미국과 일본이 추진하는 미사일방어망(MD)에 편입되어 자신을 향해 칼날을 겨누게 될 것을 우려한다. 이에 대해 한국 정부는 사드배치는 어디까지나 북한의 핵·미사일 위협에 대비하기 위한 방위용이며 미국이 추진하는 MD 참여와는 관련이 없다는 것을 누차 강조해왔다. 실제로 한국은 김대중 정부 이래 지역 MD 체계 편입에 반대한다는 입장을 유지해 온 것이 사실이다. 3분 내외면 북한 미사일이 한국에 도달할 수 있기 때문에 MD의 효용성이 낮을 뿐 아니라, 자칫하면 미․중 간 군사적 대립에 말려들 소지가 있다고 보았기 때문이다. 그러나 최근 미국의 의도가 한국을 미사일 방어망에 편입시키려는 것에 있음이 밝혀짐으로써 한국 정부의 주장이 무색하게 되고 말았다. 지난 2월 23일 트럼프 대통령은 “한국과 일본에 미사일 방어체계(MD)를 강화하겠다”며 한국을 특정하여 MD 편입을 시사한 것이 그것이다. 따라서 중국에 있어 사드배치는 미·중 간 군사적 완충지대 역할을 자임해오던 한국이 미국 및 일본의 미사일 공동망의 참여를 통해 중국에 대항하겠다는 것이나 마찬가지가 되었다. 해양세력과 대륙세력의 파워게임에 한국이 해양세력의 편을 들어 중국에 맞서는 형국이 되는 것이다. 둘째, 성급한 사드 배치 추진은 자칫하면 군사적 자주권의 상실과 한반도의 발칸화로 이어질 가능성이 높다는 점이다. 만일, 중국의 양해 없이 사드배치가 이루어졌다고 가정해 보자. 우리 사회 일각에서 주장하는 것처럼 당장은 중국의 압력에 맞서 군사적 주권을 지켰다고 큰소리칠 수는 있다. 그러나 이후의 상황은 어떻게 전개될까? 한국은 앞으로 북한 외에 중국과 러시아의 위협에 대처하기 위해 군사력을 더욱 증대할 수밖에 없다. 또한 어쩔 수 없이 미국에게 안보를 더욱 의존하지 않으면 안 되는 상황에 내몰리게 될 것이다. 미국은 당연히 한국의 부담 하에 사드의 추가배치를 요구할 것이며, 동중국해와 남중국해에서 중국의 군사력을 견제할 목적으로 제주나 진해항에 줌왈트호 등 미해군력의 배치 허용을 요구할 것이다. 이때 한국은 중국의 위협을 의식, 미국의 요구를 들어주지 않을 수 없게 된다. 한반도 평화와 안정을 위한 한·미동맹이 동아시아에서 미국의 군사적 이익을 추종하는 공격적 동맹으로 변질됨으로써 ‘한반도의 발칸화’라는 최악의 안보불안을 자초하게 될 것이다.셋째, 사드의 군사적 효용성을 포함한 배치의 적합성에 대한 신중한 검토가 필요하기 때문이다. 지난해 사드 배치 결정 과정은 국내에서 충분한 논의와 검토 없이 이루어졌다. 주무부처인 국방부마저 앞뒤가 맞지 않는 논리로 사드배치의 타당성만 강조했다. 의사결정 메커니즘의 허술함을 짐작하게 하고도 남는다. 정부는 물론, 국회 내에서라도 충분한 논의와 공론 과정을 거쳤더라면 사드배치의 부적합에 따른 대안을 모색했을 것이다. 설사 불가피하게 필요하다는 판단에 이르렀더라도 국민들을 충분히 설득하고 이웃인 중국의 우려를 덜어주는 방안을 강구함은 물론, 설득할 수 있는 시간적 여유를 확보할 수 있었을 것이다. 넷째, 북핵문제 해결과 한반도 평화통일이라는 대의를 위해서라도 반드시 중국의 협력을 얻는 외교적 노력이 절실하기 때문이다. 북핵문제 해결의 주요 당사자인 중국을 적대시한다면 앞으로 과연 중국이 북핵문제 해결에 적극적으로 나설 수 있을까? 북한 핵은 기정사실화 되고 다시는 북한 핵문제를 해결할 수 있는 기회를 갖지 못하게 될 것이다. 뿐만 아니라 향후 남북의 통일과정에서 중국은 한국의 통일을 지지하고 협력하는데 주저하게 될 것이다. 마지막 이유는 차기 정부가 나서서 남북관계 복원을 포함한 큰 그림 속에서 사드배치와 핵문제 등 현안을 해결할 수 있도록 해주는 것이 정치적 도의라고 믿기 때문이다. 국내외적으로 사면초가에 처해있는 현 정부가 굳이 엄청난 희생을 무릅쓰고서라도 사드의 신속한 배치를 결행해야 할 만큼 절실하고 시급한 상황에 처해 있는 지 자문해볼 필요가 있다. 만일 그게 아니라면 지금이라도 미국에 양해를 구하여 사드 배치 추진 문제를 차기 정부에 넘기는 것이 올바른 선택일 것이다. 갓 취임한 트럼프 대통령 역시 그것이 선거로 선출되는 민주주의 정부에서 오히려 당연한 도리라는 점을 누구보다도 잘 이해하고 있을 것이다.(끝) 김정남  |   2017-03-08        지난 10년간 천문학적인 국방비를 지출하면서도 왜 핵개발을 추진하지 않아서 이런 형국까지 당하는지 이해를 하기가 힘들다.돈이 없는가? 기술이 없는가? 모두 있으면서도 유독 핵우산에 의존한 당연한 귀결이니 답답할 뿐이다. 함무라비법전에도 있듯이 핵에는 핵으로 균형을 맞추어야 한다. 최소의 비용으로 최대의 공포를 줄 수 있는 핵개발을 북한이 포기할 까닭이 없다.지금이라도 늦지 않았으니 당당하게 자위차원에서 핵개발을 선언하여야 한다. 그래야 중국에게도 공격의 빌미를 주지 않고 핵의 균형을 갖춰서 정은이 망나니가 우쭐대지 못하고 대화의 광장으로 나올 가능성이 조금이라도 높아진다. 남의 힘을 빌려 내집을 지키다보면 결국 살림살이 모두 내어주며 바보가 되고 그 피해는 고스란이 한민족전체에게 돌아간다.미국도 힘쎈자는 대우한다. 일본을 대하는 그들의 태도가 이를 여실히 보여주지 않는가! 곽태환  |   2017-03-06        추원서 박사가 사드의 실전배치를 다음 정권에 넘기자는 5가지 이유를 잘 정리해줘서 감사하고 공감한다. 한미정부가 사드배치결정의 단순한 안보논리는 북한의 핵. 미사일 위협에 대응하여 사드배치 한다는 논리이다. 이러한 안보논리의 기본적인 전제조건이 오류가 있다. 북한이 핵전쟁을 한다는 가정이다. 만약 북한이 핵탄두 미사일 발사 결정은 무엇을 의미하는가? 북한이 핵 전쟁을 각오하고 핵미사일을 남쪽을 향하여 발사해야 한다는 것은 핵전쟁을 하겠다는 것인데 이것은 자살행위이고 과연 핵전쟁을 할 의도가 있다고 가정이 오류가 아닌가? 북한은 핵억지력을 강화하는 이유는 핵전쟁을 방지하기 위해 자위권차원에서 핵무기를 보유한다고 하는데 만약 핵 억지력이 깨지면 핵전쟁이 발생하는데 이것은 공멸을 의미하는데 사드가 불필요하게 될 것이다. 사드가 어떻게 핵 전쟁을 예방 할 수 있는지 한미군부에게 묻고 싶다.\n",
        "\"\"\"]"
      ],
      "execution_count": 0,
      "outputs": []
    },
    {
      "cell_type": "code",
      "metadata": {
        "id": "YskPsSRjOVpU",
        "colab_type": "code",
        "colab": {}
      },
      "source": [
        "def clsfy(test):\n",
        "  seq = tokenizer.texts_to_sequences(test)\n",
        "  padded = pad_sequences(seq, maxlen = MAX_SEQUENCE_LENGTH)\n",
        "  pred = model.predict(padded)\n",
        "  print(pred, labels[np.argmax(pred)])\n"
      ],
      "execution_count": 0,
      "outputs": []
    },
    {
      "cell_type": "code",
      "metadata": {
        "id": "pJpwdQCoOZuw",
        "colab_type": "code",
        "outputId": "30adbe21-80b1-4741-c512-d1927a9e3b3d",
        "colab": {
          "base_uri": "https://localhost:8080/",
          "height": 51
        }
      },
      "source": [
        "clsfy(test)"
      ],
      "execution_count": 0,
      "outputs": [
        {
          "output_type": "stream",
          "text": [
            "[[1.4369380e-04 7.2861250e-05 1.3471409e-03 9.9801648e-01 3.7061307e-04\n",
            "  4.9278435e-05]] innt\n"
          ],
          "name": "stdout"
        }
      ]
    },
    {
      "cell_type": "markdown",
      "metadata": {
        "id": "ha1AOndXXaMm",
        "colab_type": "text"
      },
      "source": [
        "# real data test"
      ]
    },
    {
      "cell_type": "code",
      "metadata": {
        "id": "pdjua_XjXvNb",
        "colab_type": "code",
        "outputId": "77fcffe9-b426-490a-d254-f627895b4f73",
        "colab": {
          "base_uri": "https://localhost:8080/",
          "height": 190
        }
      },
      "source": [
        "# from tensorflow import keras\n",
        "\n",
        "# new_model = keras.models.load_model('drive/My Drive/Colab Notebooks/Machine Learning/RNN/my_model1201.h5')\n",
        "\n"
      ],
      "execution_count": 0,
      "outputs": [
        {
          "output_type": "stream",
          "text": [
            "WARNING:tensorflow:From /usr/local/lib/python3.6/dist-packages/tensorflow_core/python/ops/init_ops.py:97: calling GlorotUniform.__init__ (from tensorflow.python.ops.init_ops) with dtype is deprecated and will be removed in a future version.\n",
            "Instructions for updating:\n",
            "Call initializer instance with the dtype argument instead of passing it to the constructor\n",
            "WARNING:tensorflow:From /usr/local/lib/python3.6/dist-packages/tensorflow_core/python/ops/init_ops.py:97: calling Orthogonal.__init__ (from tensorflow.python.ops.init_ops) with dtype is deprecated and will be removed in a future version.\n",
            "Instructions for updating:\n",
            "Call initializer instance with the dtype argument instead of passing it to the constructor\n",
            "WARNING:tensorflow:From /usr/local/lib/python3.6/dist-packages/tensorflow_core/python/ops/init_ops.py:97: calling Zeros.__init__ (from tensorflow.python.ops.init_ops) with dtype is deprecated and will be removed in a future version.\n",
            "Instructions for updating:\n",
            "Call initializer instance with the dtype argument instead of passing it to the constructor\n"
          ],
          "name": "stdout"
        }
      ]
    },
    {
      "cell_type": "code",
      "metadata": {
        "id": "UtTjCVowXb-N",
        "colab_type": "code",
        "outputId": "0328a2c7-32cf-40e7-bd64-fd13e79c516a",
        "colab": {
          "base_uri": "https://localhost:8080/",
          "height": 108
        }
      },
      "source": [
        "kubic = pd.read_json(\"drive/My Drive/Colab Notebooks/Machine Learning/RNN/refined620.json\")\n",
        "# kubic.head(5)\n",
        "# print(kubic[\"tokenized_doc\"][0])\n",
        "for i in range(kubic.shape[0]):\n",
        "  kubic.loc[i,\"tokenized_doc\"] = \" \".join(kubic[\"tokenized_doc\"][i])\n",
        "# for i in range(len(data.index)):\n",
        "#   data.loc[i,\"키워드\"] = str(data.loc[i][\"키워드\"]).replace(\",\",\" \")\n",
        "kubic.head(2)"
      ],
      "execution_count": 56,
      "outputs": [
        {
          "output_type": "execute_result",
          "data": {
            "text/html": [
              "<div>\n",
              "<style scoped>\n",
              "    .dataframe tbody tr th:only-of-type {\n",
              "        vertical-align: middle;\n",
              "    }\n",
              "\n",
              "    .dataframe tbody tr th {\n",
              "        vertical-align: top;\n",
              "    }\n",
              "\n",
              "    .dataframe thead th {\n",
              "        text-align: right;\n",
              "    }\n",
              "</style>\n",
              "<table border=\"1\" class=\"dataframe\">\n",
              "  <thead>\n",
              "    <tr style=\"text-align: right;\">\n",
              "      <th></th>\n",
              "      <th>idList</th>\n",
              "      <th>titles</th>\n",
              "      <th>tokenized_doc</th>\n",
              "    </tr>\n",
              "  </thead>\n",
              "  <tbody>\n",
              "    <tr>\n",
              "      <th>0</th>\n",
              "      <td>5de110274b79a29a5f987f1d</td>\n",
              "      <td>2012년 3차 대북정책 추진에 관한 정책건의 보고서</td>\n",
              "      <td>대북 정책 추진 정책 건의 원칙 입각 대북 정책 성과 과제 정치 한반도 평화 국제 ...</td>\n",
              "    </tr>\n",
              "    <tr>\n",
              "      <th>1</th>\n",
              "      <td>5de1102a4b79a29a5f987f39</td>\n",
              "      <td>2017년 3차 통일정책 추진에 관한 정책건의 보고서</td>\n",
              "      <td>상임 위원회 대북 통일 정책 추진 정책 건의 평화 한반도 구현 과제 민주 평화통일 ...</td>\n",
              "    </tr>\n",
              "  </tbody>\n",
              "</table>\n",
              "</div>"
            ],
            "text/plain": [
              "                     idList  ...                                      tokenized_doc\n",
              "0  5de110274b79a29a5f987f1d  ...  대북 정책 추진 정책 건의 원칙 입각 대북 정책 성과 과제 정치 한반도 평화 국제 ...\n",
              "1  5de1102a4b79a29a5f987f39  ...  상임 위원회 대북 통일 정책 추진 정책 건의 평화 한반도 구현 과제 민주 평화통일 ...\n",
              "\n",
              "[2 rows x 3 columns]"
            ]
          },
          "metadata": {
            "tags": []
          },
          "execution_count": 56
        }
      ]
    },
    {
      "cell_type": "code",
      "metadata": {
        "id": "medD6X7ca0L1",
        "colab_type": "code",
        "colab": {}
      },
      "source": [
        "kubic[\"주제\"] = None\n"
      ],
      "execution_count": 0,
      "outputs": []
    },
    {
      "cell_type": "code",
      "metadata": {
        "id": "YqpbfQgYaJab",
        "colab_type": "code",
        "colab": {}
      },
      "source": [
        "import numpy as np"
      ],
      "execution_count": 0,
      "outputs": []
    },
    {
      "cell_type": "code",
      "metadata": {
        "id": "VgcTKUH8Xd9z",
        "colab_type": "code",
        "colab": {}
      },
      "source": [
        "for i, cont in enumerate(kubic[\"tokenized_doc\"]):\n",
        "  test = []\n",
        "  test.append(cont)\n",
        "  seq = tokenizer.texts_to_sequences(test)\n",
        "  padded = pad_sequences(seq, maxlen = MAX_SEQUENCE_LENGTH)\n",
        "  pred = model.predict(padded)\n",
        "  #pol innt soc cul eco spo\n",
        "  labels = topicList\n",
        "  # labels = ['pol', 'eco', 'cul', 'innt', 'spo', 'soc']\n",
        "  kubic.loc[i,\"주제\"] = labels[np.argmax(pred)]\n",
        "  # print(kubic[\"post_title\"][i] , \" : \", labels[np.argmax(pred)])\n",
        "  # print(pred, labels[np.argmax(pred)])"
      ],
      "execution_count": 0,
      "outputs": []
    },
    {
      "cell_type": "code",
      "metadata": {
        "id": "2kwiESo1Xjfi",
        "colab_type": "code",
        "outputId": "d92dc619-c290-4de4-f506-366e0c67b7f1",
        "colab": {
          "base_uri": "https://localhost:8080/",
          "height": 1000
        }
      },
      "source": [
        "for top in topicList:\n",
        "  print(kubic[kubic[\"주제\"]==top][[\"tokenized_doc\",\"주제\"]].head(20),\"\\n\")"
      ],
      "execution_count": 60,
      "outputs": [
        {
          "output_type": "stream",
          "text": [
            "                                         tokenized_doc   주제\n",
            "9                                                       soc\n",
            "17                                              건의문 수정  soc\n",
            "30   차통 한정 통일 정책 추진 정책 건의 통일 정책 추진 정책 건의 통일 정책 추진 정...  soc\n",
            "36                                    민주 평화통일 자문 회의 감사  soc\n",
            "39                                    민주 평화통일 자문 회의 감사  soc\n",
            "41                                                      soc\n",
            "43                                               내지 완료  soc\n",
            "52   목적의식 행동 취직 희망 사람 모두 지명도 회사 입사 회사 소수 현실 때문 기업 지...  soc\n",
            "53   콩깍지 콩깍지 콩깍지 간장 공장 공장장 공장장 된장 공장 공장장 공장장 장년 장수 ...  soc\n",
            "56   자기 소개 동안 자기 자신 장점 단점 말씀 당신 개성 생각 특기 리더십 생각 협조 ...  soc\n",
            "57   뉴스 앵커 녹음 표준말 어법 여러분 어법 비교 발음 속도 강세 운율 연습 영어 운율...  soc\n",
            "88                                                      soc\n",
            "104  중국 실크 로드 전략 한반도 선택 학술 세미나 장소 상공 회의소 의원 회의실 주최 ...  soc\n",
            "105                                    자료집 첨부 파일 참조 감사  soc\n",
            "106         개최 남북 물류 포럼 동북아 역사 재단 공동 학술회의 자료집 첨부 파일 참고  soc\n",
            "120                                                     soc\n",
            "126  중국 미인 서시 왕소군 초선 양귀비 서시 西施 물고기 침어 정도 으뜸 미인 나라 월...  soc\n",
            "128  평화 전쟁 전쟁 사이 기간 의미 서쪽 바다 포성 연평도 이번 피폭 사건 한반도 열강...  soc\n",
            "158  칼럼 몽골 강재홍 사전 교통 연구 원장 하늘 몽골 사르 이것 하늘 음력 정월 의미 ...  soc\n",
            "163  칼럼 북한 문화 예술 상정 남북 물류 포럼 사무 국장 북한 문화 예술 이해 그림 여...  soc \n",
            "\n",
            "                                         tokenized_doc    주제\n",
            "60   탈북자 동지 자원 봉사 신청서 서식 내용 작성 담당자 메일 신청 접수 자원 봉사 신...  innt\n",
            "69   국내 입국 새터민 시대 새터민 우리 사회 안정 정착 자립 지원 체계 마련 추진 배경...  innt\n",
            "109  정한기 한국 중국 투자 법인 매리 국과 교역 사업 베트남 러시아 해외 사업 구축 리...  innt\n",
            "219  크루트 온라인 채용 대표 사이트 국내 최초 인터넷 채용 시스템 개발 온라인 채용 제...  innt\n",
            "226  북한이탈주민 직업훈련 수당 지급 규정 통일부 훈령 목적 규정 북한이탈주민 보호 정착...  innt\n",
            "231  북한이탈주민 보호 정착 지원 법률 일부 개정 법률안 제안 제안 이화영 의원 제안 이...  innt\n",
            "234  북한이탈주민 지원 제도 세부 내용 교육 지원 생업 지원 생활 보호 의료 보호 자격 ...  innt\n",
            "276  천안 사태 정부 대북 경제 교류 단절 관련 제재 조치 언론 북한 경제 손실 피해 부...  innt\n",
            "279  오늘날 북한 자원 노동력 손재주 우리 중소기업 정부 북한 비지니스 미련 이유 규모 ...  innt\n",
            "393  칼럼 북한 가격 환율 이해 김영찬 대외 경제 정책 연구원 초청 연구 위원 이규연 스...  innt\n",
            "440  칼럼 자원 부동산 개발 북한 인프라 개발 김형준 회계사 코넬 대학교 수학 주변 만류...  innt\n",
            "460  통일 정책 길잡이 칼럼 부선 무엇 최재선 박사 남북 물류 포럼 수석 부회장 부선 艀...  innt\n",
            "469  통일 정책 길잡이 칼럼 독일 통일 김영찬 사전 한국은행 프랑크푸르트 지사장 통일 통...  innt\n",
            "473  칼럼 부산 부산항 재생 사업 최재선 한국 해양 수산 개발 명예 연구 위원 시계추 겨...  innt\n",
            "474  칼럼 물류 격변기 일본 선택 최재선 남북 물류 포럼 수석 부회장 물류 시장 물류 일...  innt\n",
            "475  칼럼 직격탄 반도체 업체 리스크 예상 이상근 박사 영물 대표 이사 남북 물류 포럼 ...  innt\n",
            "497  칼럼 통일 사유 조치 성공 박훤일 교수 경희대 법학 전문 대학원 통일 즈음 시책 북...  innt\n",
            "521  개성 공단 단계 개발 사업 준공 입주 업체 업체 입주 가동 여기 근로자 남측 북측 ...  innt\n",
            "560  일전 춘시 민정부 정창 부시장 일행 투자 유치 한국 지난해 남북 물류 포럼 훈춘 지...  innt \n",
            "\n",
            "                                         tokenized_doc   주제\n",
            "70   제안 이유 현행법 주민 거주지 근거 주민 등록 번호 탈북자 대한민국 국적 국내 입국...  eco\n",
            "99   대비 전술 재배치 생존 문제 북한 군사력 균형 최소한 무장 고려 봉선 북한 연구소 ...  eco\n",
            "103  남북 물류 포럼 주년 기념 공동 학술회의 취록 일시 장소 서울 마리나 리조트 주제 ...  eco\n",
            "113  칼럼 필자 견해 포럼 공식 입장 지금 중동 최대 강국 이집트 궁정 모세 이름 노인 ...  eco\n",
            "114  최근 북한 후계 문제 몰두 경제 상황 과거 대북 정책 평가 온탕 냉탕 실행 만족 결...  eco\n",
            "118  얼마 한국 소설 거장 황석영 작가 알타이 문화 연합 세상 알타이 문화 알타이어 알타...  eco\n",
            "121  몽골 초원 나담 축제 수도 울란바토르 전국 용사 활쏘기 씨름 말타기 경주 가지 종목...  eco\n",
            "122  내몽골 외몽골 사람 혼동 내몽골 중요 외몽골 우리 바깥 몽골 구분 어디 북경 중심 ...  eco\n",
            "124  독일 통일 독일 통일 영광 경험 오늘 우리 노력 분야 시도 동서 독통 생각 아쉬움 ...  eco\n",
            "137  중국 러시아 만남 그녀 기차 러시아어 실력 노래 러시아 국민 가수 알라 푸가 백만 ...  eco\n",
            "144  중국 철도 동심원 중국 베이징 올림픽 직전 베이징 톈진 天津 구간 주파 고속철 처음...  eco\n",
            "151  통일 정책 대안 칼럼 독일 통일 김영윤 남북 물류 포럼 대표 금년 독일 통일 햇수 ...  eco\n",
            "152  칼럼 아일랜드 벨파스트 김영찬 사전 한국은행 프랑크푸르트 사무 소장 누구 마음 내게...  eco\n",
            "156  북한 심장부 중국 철도 김영윤 남북 물류 포럼 회장 중국 지도부 철도 외교 세계 상...  eco\n",
            "157  시진핑 방한 한국 외교 숙제 한반도 개발 협력 연구소 소장 공산 전회 全會 개혁 개...  eco\n",
            "160  칼럼 유라시아 추원 경기 대학교 국제 통상 학과 초빙 교수 중국 구상 시대 한국 생...  eco\n",
            "164  전현준 북한 대북 경제 융단 폭격 김정은 선택 전현준 동북아 평화 협력 연구 원장 ...  eco\n",
            "166  칼럼 호주 한국 김영윤 남북 물류 포럼 회장 남북 물류 포럼 공식 밴드 실크 로드 ...  eco\n",
            "168  칼럼 호주 최저 임금 구입 생필품 정도 김영윤 남북 물류 포럼 회장 지난번 칼럼 이...  eco\n",
            "177  칼럼 전현준 북한 위기 동북아 정세 우리 무엇 전현준 동북아 평화 협력 연구 원장 ...  eco \n",
            "\n",
            "                                         tokenized_doc   주제\n",
            "0    대북 정책 추진 정책 건의 원칙 입각 대북 정책 성과 과제 정치 한반도 평화 국제 ...  spo\n",
            "6    대북 정책 추진 정책 건의 운영 상임 협의 회장 합동 회의 오후 보고서 민주 평화 ...  spo\n",
            "25   통일 정책 추진 정책 건의 보고서 민주 평화 통일 문회 분과 위원회 심의 자문 위원...  spo\n",
            "46   무료 프로그램 가지 백신 프로그램 컴퓨터 악성 프로그램 바이러스 스파이 프로그램 실...  spo\n",
            "55   취업 사이트 이용 자신 개인 정보 안전 관리 가지 주의 사항 최근 취업 사이트 유령...  spo\n",
            "61      첨부 파일 다운로드 작성 사용 이력서 자기 소개서 회원 금란 요벨 신고 게시물 신고  spo\n",
            "80   북한이탈주민 보호 정착 지원 법률 개정 법률안 제안 일자 제안자 김문수 의원 소관 ...  spo\n",
            "86                                            첨부 파일 클릭  spo\n",
            "87                                            첨부 파일 클릭  spo\n",
            "89                                            첨부 파일 클릭  spo\n",
            "90                                            첨부 파일 클릭  spo\n",
            "91                                            첨부 파일 클릭  spo\n",
            "92                                            첨부 파일 클릭  spo\n",
            "93                                            첨부 파일 클릭  spo\n",
            "94                                            첨부 파일 클릭  spo\n",
            "95                                            첨부 파일 클릭  spo\n",
            "209  남북 물류 포럼 칼럼 특별 칼럼 제재 빈틈 개성 공단 재가동 남북 물류 포럼 조찬 ...  spo\n",
            "239                                           첨부 파일 클릭  spo\n",
            "240                                           첨부 파일 클릭  spo\n",
            "246                                           첨부 파일 클릭  spo \n",
            "\n",
            "                                        tokenized_doc   주제\n",
            "1   상임 위원회 대북 통일 정책 추진 정책 건의 평화 한반도 구현 과제 민주 평화통일 ...  pol\n",
            "2   대북 정책 추진 정책 건의 대북 정책 추진 정책 건의 한정 대북 정책 추진 정책 건...  pol\n",
            "3   통일 정책 추진 정책 건의 대내외 통일 환경 변화 통일 대북 정책 추진 방향 통일 ...  pol\n",
            "4   통일 정책 추진 정책 건의 대북 통일 정책 추진 방향 실행 과제 통일 정책 외교 안...  pol\n",
            "5   대북 정책 추진 정책 건의 대북 정책 내지 오전 보고서 민주 평화통일 자문 회의 분...  pol\n",
            "7   통일 정책 추진 정책 건의 보고서 민주 평화 통일 문회 분과 위원회 심의 자문 위원...  pol\n",
            "8   통일 정책 추진 정책 건의 보고서 민주 평화 통일 문회 분과 위원회 심의 자문 위원...  pol\n",
            "10  통일 정책 추진 정책 건의 평화 발전 한반도 체제 남북 평화 협력 증진 방안 국제 ...  pol\n",
            "11  차통 한정 통일 정책 추진 정책 건의 통일 정책 추진 정책 건의 통일 정책 추진 정...  pol\n",
            "12  통일 정책 추진 정책 한정 통일 정책 추진 정책 건의 통일 정책 추진 정책 건의 보...  pol\n",
            "13  보고서 민주 평화 통일 문회 분과 위원회 논의 운영 상임 위원회 합동 회의 채택 정...  pol\n",
            "14  대북 정책 추진 정책 건의 보고서 민주 평화 통일 문회 분과 위원회 심의 자문 위원...  pol\n",
            "15  통일 정책 추진 정책 건의 보고서 민주 평화 통일 문회 분과 위원회 심의 자문 위원...  pol\n",
            "16  전체 회의 상임 위원회 상임 위원회 해외 지역 회의 정책 건의문 기전체 회의 남북 ...  pol\n",
            "18  대북 정책 추진 정책 건의 대북 정책 내지 오후 보고서 민주 평화 통일 문회 분과 ...  pol\n",
            "19  정책 건의 보고서 정책 건의 국민 통일 의식 현황 통일 담론 형성 방안 민주 평화 ...  pol\n",
            "20  상임 운영 위원회 정책 건의 최종 운영 상임 위원회 합동 회의 통일 대북 정책 추진...  pol\n",
            "21  통일 추진 정책 건의 보고서 민주 평화 통일 문회 분과 위원회 심의 자문 위원 견해...  pol\n",
            "22  대북 정책 추진 정책 건의 보고서 민주 평화 통일 문회 분과 위원회 심의 자문 위원...  pol\n",
            "23  대북 정책 추진 정책 건의 보고서 민주 평화 통일 문회 자문 위원 국민 견수 결과 ...  pol \n",
            "\n",
            "                                        tokenized_doc  주제\n",
            "47                                    토론 회원 신고 게시물 신고  it\n",
            "48                      한글 맞춤법 문법 검사 사이트 회원 신고 게시물 신고  it\n",
            "49                이력서 서식 한글 파일 이력서 단순 회원 금란 신고 게시물 신고  it\n",
            "50                    국립 국어 한글 맞춤법 교육 자료 회원 신고 게시물 신고  it\n",
            "51  탈북자 영어 교실 강사 신청서 양식 내용 입력 홈페이지 하단 운영 부분 클릭 탈북자...  it\n",
            "54  사설 세계 경기 침체 원화 가치 하락 원자재 가격 상승 영향 공공 기관 작년 순이익...  it\n",
            "58  탈북자 영어 교실 수강 신청서 양식 내용 입력 담당자 메일 탈북자 영어 교실 수강 ...  it\n",
            "59  구인 등록 신청서 서식 파일 구인 등록 신청서 회원 유원 요벨 박진섭 태화 신고 게...  it\n",
            "62  북한이탈주민 보호 정착 지원 법률 시행 규칙 일부 개정 통일 부령 목적 규칙 북한이...  it\n",
            "64                        이후 입국 해당 내용 회원 아침 신고 게시물 신고  it\n",
            "65  북한이탈주민 보호 정착 지원 법률 시행 규칙 일부 개정 통일 부령 목적 규칙 북한이...  it\n",
            "67  개정 이유 개정 북한이탈주민 보호 정착 지원 법률 공포 직업훈련 영농 교육 훈련 농...  it\n",
            "68  목적 지침 북한이탈주민 보호 정착 지원 법률 이하 법률 시행령 이하 시행 규칙 의거...  it\n",
            "71  北韓 離脫 住民 정착 지원 사무소 운영 규정 통일부 훈령 목적 규정 북한이탈주민 보...  it\n",
            "73  북한 텔레비전 영상 자료 취급 규정 국토 통일원 훈령 훈령 통일부 훈령 통일부 훈령...  it\n",
            "74  북한이탈주민 보호 정착 지원 법률 시행 규칙 일부 개정 통일 부령 목적 규칙 북한이...  it\n",
            "76  임금 채권 보장 일부 개정 법률 총칙 목적 경기 변동 산업 구조 변화 사업 계속 가...  it\n",
            "78  고용 보험법 일부 개정 법률 총칙 목적 고용 보험 시행 실업 예방 고용 촉진 근로자...  it\n",
            "84  최저 임금법 일부 개정 법률 총칙 목적 근로자 임금 최저 수준 보장 근로자 생활 안...  it\n",
            "85  법률 일부 개정 법률 일부 개정 법률 일부 개정 법률 근로자 퇴직 급여 보장 일부 ...  it \n",
            "\n",
            "Empty DataFrame\n",
            "Columns: [tokenized_doc, 주제]\n",
            "Index: [] \n",
            "\n"
          ],
          "name": "stdout"
        }
      ]
    },
    {
      "cell_type": "code",
      "metadata": {
        "id": "Hq6O81o3hoY_",
        "colab_type": "code",
        "outputId": "941206d0-6405-4903-e8f3-5c3c430f0693",
        "colab": {
          "base_uri": "https://localhost:8080/",
          "height": 658
        }
      },
      "source": [
        "kubicList = list(set(kubic.sort_values(by=[\"주제\"])[\"주제\"].to_list()))\n",
        "kubic = kubic.astype(str)\n",
        "\n",
        "keys = kubic[\"tokenized_doc\"][0]\n",
        "# keys = keys.astype(str)\n",
        "\n",
        "# lst = keys.to_list()\n",
        "lst = keys\n",
        "print(\"max length article : \", max([len(i) for i in lst]))\n",
        "print(\"ave article length : \" , sum(map(len,lst))/len(lst) )\n",
        "\n",
        "plt.hist([len(i) for i in lst], bins = 50)\n",
        "plt.show()\n",
        "\n",
        "y = []\n",
        "\n",
        "import matplotlib.font_manager as fm\n",
        "# plt.rcParams['font.family'] = 'NanumGothic'\n",
        "\n",
        "\n",
        "font_path = 'C:/Windows/Fonts/NanumGothic.ttf'\n",
        "fontprop = fm.FontProperties(fname=font_path, size=18)\n",
        "\n",
        "\n",
        "for topic in kubicList:\n",
        "  sumVal = (kubic[\"주제\"]==topic).sum()\n",
        "  y.append(sumVal)\n",
        "  print(topic ,\"count : \", sumVal)\n",
        "\n",
        "plt.xlabel(\"\",fontproperties=fontprop)\n",
        "plt.plot(kubicList, y,)\n",
        "plt.show()\n"
      ],
      "execution_count": 61,
      "outputs": [
        {
          "output_type": "stream",
          "text": [
            "max length article :  1\n",
            "ave article length :  1.0\n"
          ],
          "name": "stdout"
        },
        {
          "output_type": "display_data",
          "data": {
            "image/png": "[encoded data removed]",
            "text/plain": [
              "<Figure size 432x288 with 1 Axes>"
            ]
          },
          "metadata": {
            "tags": []
          }
        },
        {
          "output_type": "stream",
          "text": [
            "soc count :  67\n",
            "innt count :  19\n",
            "eco count :  57\n",
            "spo count :  29\n",
            "pol count :  362\n",
            "it count :  30\n"
          ],
          "name": "stdout"
        },
        {
          "output_type": "display_data",
          "data": {
            "image/png": "[encoded data removed]",
            "text/plain": [
              "<Figure size 432x288 with 1 Axes>"
            ]
          },
          "metadata": {
            "tags": []
          }
        }
      ]
    },
    {
      "cell_type": "code",
      "metadata": {
        "id": "ZtyV9O2MwEha",
        "colab_type": "code",
        "colab": {
          "base_uri": "https://localhost:8080/",
          "height": 538
        },
        "outputId": "0280a031-406f-4e7c-a6a0-129b7687fd6b"
      },
      "source": [
        "kubic[kubic[\"주제\"]==\"eco\"].head(10)"
      ],
      "execution_count": 65,
      "outputs": [
        {
          "output_type": "execute_result",
          "data": {
            "text/html": [
              "<div>\n",
              "<style scoped>\n",
              "    .dataframe tbody tr th:only-of-type {\n",
              "        vertical-align: middle;\n",
              "    }\n",
              "\n",
              "    .dataframe tbody tr th {\n",
              "        vertical-align: top;\n",
              "    }\n",
              "\n",
              "    .dataframe thead th {\n",
              "        text-align: right;\n",
              "    }\n",
              "</style>\n",
              "<table border=\"1\" class=\"dataframe\">\n",
              "  <thead>\n",
              "    <tr style=\"text-align: right;\">\n",
              "      <th></th>\n",
              "      <th>idList</th>\n",
              "      <th>titles</th>\n",
              "      <th>tokenized_doc</th>\n",
              "      <th>주제</th>\n",
              "    </tr>\n",
              "  </thead>\n",
              "  <tbody>\n",
              "    <tr>\n",
              "      <th>70</th>\n",
              "      <td>5de1109d582a23c9693cbecd</td>\n",
              "      <td>주민등록법 일부개정안(진영의원외12인)-2008.1.21</td>\n",
              "      <td>제안 이유 현행법 주민 거주지 근거 주민 등록 번호 탈북자 대한민국 국적 국내 입국...</td>\n",
              "      <td>eco</td>\n",
              "    </tr>\n",
              "    <tr>\n",
              "      <th>99</th>\n",
              "      <td>5de110c4b18dc65108ce7f24</td>\n",
              "      <td>['北核 대비 美전술핵 재배치, 생존권 문제다']</td>\n",
              "      <td>대비 전술 재배치 생존 문제 북한 군사력 균형 최소한 무장 고려 봉선 북한 연구소 ...</td>\n",
              "      <td>eco</td>\n",
              "    </tr>\n",
              "    <tr>\n",
              "      <th>103</th>\n",
              "      <td>5de110d6179a87aeac0a07aa</td>\n",
              "      <td>['(사)남북물류포럼 제10주년 기념 공동학술회의 내용(녹취록)']</td>\n",
              "      <td>남북 물류 포럼 주년 기념 공동 학술회의 취록 일시 장소 서울 마리나 리조트 주제 ...</td>\n",
              "      <td>eco</td>\n",
              "    </tr>\n",
              "    <tr>\n",
              "      <th>113</th>\n",
              "      <td>5de11124b53863d63aa551da</td>\n",
              "      <td>['[박훤일]강퍅한 지도자와 출애굽의 기적']</td>\n",
              "      <td>칼럼 필자 견해 포럼 공식 입장 지금 중동 최대 강국 이집트 궁정 모세 이름 노인 ...</td>\n",
              "      <td>eco</td>\n",
              "    </tr>\n",
              "    <tr>\n",
              "      <th>114</th>\n",
              "      <td>5de11128b53863d63aa551dc</td>\n",
              "      <td>['[특별칼럼]북한통과 가스관․철도․전기건설 과연 누가 득일까?']</td>\n",
              "      <td>최근 북한 후계 문제 몰두 경제 상황 과거 대북 정책 평가 온탕 냉탕 실행 만족 결...</td>\n",
              "      <td>eco</td>\n",
              "    </tr>\n",
              "    <tr>\n",
              "      <th>118</th>\n",
              "      <td>5de11138b53863d63aa551e5</td>\n",
              "      <td>['[강재홍]몽골철도와 골드러시 II']</td>\n",
              "      <td>얼마 한국 소설 거장 황석영 작가 알타이 문화 연합 세상 알타이 문화 알타이어 알타...</td>\n",
              "      <td>eco</td>\n",
              "    </tr>\n",
              "    <tr>\n",
              "      <th>121</th>\n",
              "      <td>5de1114bb53863d63aa551f0</td>\n",
              "      <td>['[강재홍]몽골철도와 골드러시']</td>\n",
              "      <td>몽골 초원 나담 축제 수도 울란바토르 전국 용사 활쏘기 씨름 말타기 경주 가지 종목...</td>\n",
              "      <td>eco</td>\n",
              "    </tr>\n",
              "    <tr>\n",
              "      <th>122</th>\n",
              "      <td>5de11162b53863d63aa551fe</td>\n",
              "      <td>['[강재홍]내몽골과 외몽골, 그 영원한 슬픔(3)']</td>\n",
              "      <td>내몽골 외몽골 사람 혼동 내몽골 중요 외몽골 우리 바깥 몽골 구분 어디 북경 중심 ...</td>\n",
              "      <td>eco</td>\n",
              "    </tr>\n",
              "    <tr>\n",
              "      <th>124</th>\n",
              "      <td>5de1116db53863d63aa55205</td>\n",
              "      <td>['[박정원]독일통일 20년 유감']</td>\n",
              "      <td>독일 통일 독일 통일 영광 경험 오늘 우리 노력 분야 시도 동서 독통 생각 아쉬움 ...</td>\n",
              "      <td>eco</td>\n",
              "    </tr>\n",
              "    <tr>\n",
              "      <th>137</th>\n",
              "      <td>5de1119cb53863d63aa55221</td>\n",
              "      <td>['[강재홍] 내몽골과 외몽골, 그 영원한 슬픔(2)']</td>\n",
              "      <td>중국 러시아 만남 그녀 기차 러시아어 실력 노래 러시아 국민 가수 알라 푸가 백만 ...</td>\n",
              "      <td>eco</td>\n",
              "    </tr>\n",
              "  </tbody>\n",
              "</table>\n",
              "</div>"
            ],
            "text/plain": [
              "                       idList  ...   주제\n",
              "70   5de1109d582a23c9693cbecd  ...  eco\n",
              "99   5de110c4b18dc65108ce7f24  ...  eco\n",
              "103  5de110d6179a87aeac0a07aa  ...  eco\n",
              "113  5de11124b53863d63aa551da  ...  eco\n",
              "114  5de11128b53863d63aa551dc  ...  eco\n",
              "118  5de11138b53863d63aa551e5  ...  eco\n",
              "121  5de1114bb53863d63aa551f0  ...  eco\n",
              "122  5de11162b53863d63aa551fe  ...  eco\n",
              "124  5de1116db53863d63aa55205  ...  eco\n",
              "137  5de1119cb53863d63aa55221  ...  eco\n",
              "\n",
              "[10 rows x 4 columns]"
            ]
          },
          "metadata": {
            "tags": []
          },
          "execution_count": 65
        }
      ]
    },
    {
      "cell_type": "markdown",
      "metadata": {
        "id": "SAJ76sYuw273",
        "colab_type": "text"
      },
      "source": [
        "# 분석 결과를 저장"
      ]
    },
    {
      "cell_type": "code",
      "metadata": {
        "id": "n87KLoNUw8cO",
        "colab_type": "code",
        "outputId": "18b22ef2-e624-4bbb-c889-ba4c159ab4d3",
        "colab": {
          "base_uri": "https://localhost:8080/",
          "height": 34
        }
      },
      "source": [
        "print((data[\"주제\"]==\"spo\").sum())\n",
        "# print(data[data[\"주제\"]==\"it\"].head(30))"
      ],
      "execution_count": 0,
      "outputs": [
        {
          "output_type": "stream",
          "text": [
            "7391\n"
          ],
          "name": "stdout"
        }
      ]
    },
    {
      "cell_type": "code",
      "metadata": {
        "id": "oRiL135Sw-H4",
        "colab_type": "code",
        "colab": {}
      },
      "source": [
        ""
      ],
      "execution_count": 0,
      "outputs": []
    }
  ]
}