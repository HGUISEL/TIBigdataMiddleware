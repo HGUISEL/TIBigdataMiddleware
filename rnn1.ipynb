{
  "nbformat": 4,
  "nbformat_minor": 0,
  "metadata": {
    "colab": {
      "name": "rnn1.ipynb",
      "provenance": [],
      "collapsed_sections": [],
      "machine_shape": "hm",
      "authorship_tag": "ABX9TyPYTW1ewyb3dQRhVjTyIwLP",
      "include_colab_link": true
    },
    "kernelspec": {
      "name": "python3",
      "display_name": "Python 3"
    },
    "accelerator": "GPU"
  },
  "cells": [
    {
      "cell_type": "markdown",
      "metadata": {
        "id": "view-in-github",
        "colab_type": "text"
      },
      "source": [
        "<a href=\"https://colab.research.google.com/github/BaekTree/TIBigdataMiddleware/blob/master/rnn1.ipynb\" target=\"_parent\"><img src=\"https://colab.research.google.com/assets/colab-badge.svg\" alt=\"Open In Colab\"/></a>"
      ]
    },
    {
      "cell_type": "markdown",
      "metadata": {
        "id": "BydMR8-IXmlf",
        "colab_type": "text"
      },
      "source": [
        "version : 다운 받은 데이터 버전"
      ]
    },
    {
      "cell_type": "code",
      "metadata": {
        "id": "97EJZNlIMbxX",
        "colab_type": "code",
        "colab": {}
      },
      "source": [
        "version = \"integ-01integ-02integ-05integ\""
      ],
      "execution_count": 0,
      "outputs": []
    },
    {
      "cell_type": "code",
      "metadata": {
        "id": "zSFbzOWZGeud",
        "colab_type": "code",
        "outputId": "e5ed4e36-7ebe-4073-df81-6b049a908f90",
        "colab": {
          "base_uri": "https://localhost:8080/",
          "height": 35
        }
      },
      "source": [
        "import pandas as pd\n",
        "pd.set_option('display.max_rows', 500)\n",
        "\n",
        "import matplotlib.pyplot as plt\n",
        "\n",
        "from google.colab import drive\n",
        "drive.mount('/content/drive')\n",
        "\n",
        "\n"
      ],
      "execution_count": 168,
      "outputs": [
        {
          "output_type": "stream",
          "text": [
            "Drive already mounted at /content/drive; to attempt to forcibly remount, call drive.mount(\"/content/drive\", force_remount=True).\n"
          ],
          "name": "stdout"
        }
      ]
    },
    {
      "cell_type": "code",
      "metadata": {
        "id": "vttKsHeTHcat",
        "colab_type": "code",
        "colab": {}
      },
      "source": [
        "data = pd.read_csv('drive/My Drive/Colab Notebooks/Machine Learning/RNN/dataPrs'+version+'.csv')\n",
        "data.columns.to_list()\n",
        "data = data.drop_duplicates()"
      ],
      "execution_count": 0,
      "outputs": []
    },
    {
      "cell_type": "markdown",
      "metadata": {
        "id": "DUKalVLDYEic",
        "colab_type": "text"
      },
      "source": [
        "## 업로드한 데이터에서 불필요한 column들을 지운다."
      ]
    },
    {
      "cell_type": "code",
      "metadata": {
        "id": "k9aLcLhz91mn",
        "colab_type": "code",
        "outputId": "623858d7-06b2-48f8-c7f3-d7d88c07267d",
        "colab": {
          "base_uri": "https://localhost:8080/",
          "height": 0
        }
      },
      "source": [
        "for i in data.columns.to_list():\n",
        "  if bool(i != \"제목\") ^ bool(i != \"키워드\") ^ bool(i != \"주제\"):\n",
        "    print(i)\n",
        "    data = data.drop([i], axis = 1)"
      ],
      "execution_count": 170,
      "outputs": [
        {
          "output_type": "stream",
          "text": [
            "Unnamed: 0\n",
            "level_0\n",
            "Unnamed: 0.1\n",
            "index\n"
          ],
          "name": "stdout"
        }
      ]
    },
    {
      "cell_type": "markdown",
      "metadata": {
        "id": "2HSgNog4YdCh",
        "colab_type": "text"
      },
      "source": [
        "## 데이터 정보 확인... 크기 혹은 주제..."
      ]
    },
    {
      "cell_type": "markdown",
      "metadata": {
        "id": "DMku6qSC6vvY",
        "colab_type": "text"
      },
      "source": [
        "## graph 그려서 보기"
      ]
    },
    {
      "cell_type": "code",
      "metadata": {
        "id": "TFBX0kBAQFx7",
        "colab_type": "code",
        "outputId": "f6b85fc4-04f6-45ca-f83a-cb13c231454b",
        "colab": {
          "base_uri": "https://localhost:8080/",
          "height": 676
        }
      },
      "source": [
        "topicList = list(set(data.sort_values(by=[\"주제\"])[\"주제\"].to_list()))\n",
        "data = data.astype(str)\n",
        "\n",
        "keys = data[\"키워드\"]\n",
        "keys = keys.astype(str)\n",
        "\n",
        "lst = keys.to_list()\n",
        "\n",
        "print(\"max length article : \", max([len(i) for i in lst]))\n",
        "print(\"ave article length : \" , sum(map(len,lst))/len(lst) )\n",
        "\n",
        "plt.hist([len(i) for i in lst], bins = 50)\n",
        "plt.show()\n",
        "\n",
        "y = []\n",
        "\n",
        "import matplotlib.font_manager as fm\n",
        "# plt.rcParams['font.family'] = 'NanumGothic'\n",
        "\n",
        "\n",
        "font_path = 'C:/Windows/Fonts/NanumGothic.ttf'\n",
        "fontprop = fm.FontProperties(fname=font_path, size=18)\n",
        "\n",
        "\n",
        "for topic in topicList:\n",
        "  sumVal = (data[\"주제\"]==topic).sum()\n",
        "  y.append(sumVal)\n",
        "  print(topic ,\"count : \", sumVal)\n",
        "\n",
        "plt.xlabel(\"\",fontproperties=fontprop)\n",
        "plt.plot(topicList, y,)\n",
        "plt.show()\n"
      ],
      "execution_count": 171,
      "outputs": [
        {
          "output_type": "stream",
          "text": [
            "max length article :  13236\n",
            "ave article length :  521.8927268725238\n"
          ],
          "name": "stdout"
        },
        {
          "output_type": "display_data",
          "data": {
            "image/png": "[encoded data removed]",
            "text/plain": [
              "<Figure size 432x288 with 1 Axes>"
            ]
          },
          "metadata": {
            "tags": []
          }
        },
        {
          "output_type": "stream",
          "text": [
            "pol count :  65233\n",
            "innt count :  51233\n",
            "soc count :  56638\n",
            "it count :  46144\n",
            "cul count :  62727\n",
            "eco count :  65730\n",
            "spo count :  33919\n"
          ],
          "name": "stdout"
        },
        {
          "output_type": "display_data",
          "data": {
            "image/png": "[encoded data removed]",
            "text/plain": [
              "<Figure size 432x288 with 1 Axes>"
            ]
          },
          "metadata": {
            "tags": []
          }
        }
      ]
    },
    {
      "cell_type": "markdown",
      "metadata": {
        "id": "NrBjRDZ66x5Z",
        "colab_type": "text"
      },
      "source": [
        "## 개별 주제 확인해보기"
      ]
    },
    {
      "cell_type": "code",
      "metadata": {
        "id": "mEkFxtTI6z3Y",
        "colab_type": "code",
        "colab": {
          "base_uri": "https://localhost:8080/",
          "height": 1000
        },
        "outputId": "79887677-65b2-40c0-e575-2fb56912f839"
      },
      "source": [
        "data[data[\"주제\"]==\"it\"].head(30)"
      ],
      "execution_count": 175,
      "outputs": [
        {
          "output_type": "execute_result",
          "data": {
            "text/html": [
              "<div>\n",
              "<style scoped>\n",
              "    .dataframe tbody tr th:only-of-type {\n",
              "        vertical-align: middle;\n",
              "    }\n",
              "\n",
              "    .dataframe tbody tr th {\n",
              "        vertical-align: top;\n",
              "    }\n",
              "\n",
              "    .dataframe thead th {\n",
              "        text-align: right;\n",
              "    }\n",
              "</style>\n",
              "<table border=\"1\" class=\"dataframe\">\n",
              "  <thead>\n",
              "    <tr style=\"text-align: right;\">\n",
              "      <th></th>\n",
              "      <th>제목</th>\n",
              "      <th>키워드</th>\n",
              "      <th>주제</th>\n",
              "    </tr>\n",
              "  </thead>\n",
              "  <tbody>\n",
              "    <tr>\n",
              "      <th>62487</th>\n",
              "      <td>군포시 마을버스 활용해 미세먼지 측정</td>\n",
              "      <td>활용 군포시 마을버스 미세 먼지 측정 앵커 미세먼지 마음 지자체들 대책 마련 고심 ...</td>\n",
              "      <td>it</td>\n",
              "    </tr>\n",
              "    <tr>\n",
              "      <th>62488</th>\n",
              "      <td>동신대, 사이버 전문가 양성 도우미 ‘톡톡’</td>\n",
              "      <td>동신대 사이버 전문가 양성 도우미 동신대학교 에너지 융합 대학 융합 정보 보안전공 ...</td>\n",
              "      <td>it</td>\n",
              "    </tr>\n",
              "    <tr>\n",
              "      <th>62489</th>\n",
              "      <td>‘스트레이트’, 신종 코로나바이러스 가짜 뉴스의 실태 [M+TV컷]</td>\n",
              "      <td>스트레이트 가짜 신종 코로나바이러스 가짜 실태 TV컷 신종 코로나 공포 세계 가짜 ...</td>\n",
              "      <td>it</td>\n",
              "    </tr>\n",
              "    <tr>\n",
              "      <th>62490</th>\n",
              "      <td>[케이블 위성 하이라이트]2020년 2월 11일</td>\n",
              "      <td>11일 2월 교양 요즘 책방 tvN 8시 리프킨 경제학자 제레미 노동 미래 예견서 ...</td>\n",
              "      <td>it</td>\n",
              "    </tr>\n",
              "    <tr>\n",
              "      <th>62491</th>\n",
              "      <td>전주비전대, 코이카 글로벌연수사업 선정</td>\n",
              "      <td>전주비전대 선정 코이카 글로벌 연수 사업 전주비전대학교 지난달 코이카 KOICAㆍ한...</td>\n",
              "      <td>it</td>\n",
              "    </tr>\n",
              "    <tr>\n",
              "      <th>62492</th>\n",
              "      <td>'생생정보' 돌판 짜장면, 300도 달궈진 뜨끈한 돌판 위에 짜장면X만두X튀김까지 푸짐</td>\n",
              "      <td>생생정보 돌판 짜장면 돌판 짜장면X만두X튀김 푸짐 2TV 생생 정보 맛집 돌판 짜장...</td>\n",
              "      <td>it</td>\n",
              "    </tr>\n",
              "    <tr>\n",
              "      <th>62493</th>\n",
              "      <td>메드팩토, 항암제 개발 기대감 시간외 주가 10% ↑</td>\n",
              "      <td>메드팩토 항암제 기대감 항암제 시간외 주가 10% TGF-β 저해제 메드팩토 백토서...</td>\n",
              "      <td>it</td>\n",
              "    </tr>\n",
              "    <tr>\n",
              "      <th>62494</th>\n",
              "      <td>KBS교향악단 5G 클래식 VR 콘텐츠 제작 LG유플러스 앱으로 관람</td>\n",
              "      <td>KBS 교향악단 5G 클래식 VR 콘텐츠 제작 LG유플러스 관람 KBS교향악단 LG...</td>\n",
              "      <td>it</td>\n",
              "    </tr>\n",
              "    <tr>\n",
              "      <th>62495</th>\n",
              "      <td>`서든어택` 넥슨지티 영업손실 287억원 \"내년 신작게임 출시\"</td>\n",
              "      <td>서든어택 287억 넥슨지티 영업 손실 내년 신작 게임 출시 총싸움 게임 어택 유명 ...</td>\n",
              "      <td>it</td>\n",
              "    </tr>\n",
              "    <tr>\n",
              "      <th>62496</th>\n",
              "      <td>김병원 “화순 바이오메디컬 허브 반드시 구축”</td>\n",
              "      <td>김병원 화순 바이오메디컬 허브 구축 예비후보 김병원 더불어민주당 나주화순 국회의원 ...</td>\n",
              "      <td>it</td>\n",
              "    </tr>\n",
              "    <tr>\n",
              "      <th>62497</th>\n",
              "      <td>화순경찰, 사회적약자에 마스크 전달</td>\n",
              "      <td>화순경찰 사회적 약자 마스크 전달 화순경찰서 서장 백형석 확산 신종 코로나바이러스 ...</td>\n",
              "      <td>it</td>\n",
              "    </tr>\n",
              "    <tr>\n",
              "      <th>62498</th>\n",
              "      <td>농업기술실용화재단, 식품기술 거래 기관 모집</td>\n",
              "      <td>농업기술실용화재단 식품 거래 기관 모집 농업기술실용화재단 전경 농업 실용화재단 농식...</td>\n",
              "      <td>it</td>\n",
              "    </tr>\n",
              "    <tr>\n",
              "      <th>62499</th>\n",
              "      <td>\"법대로 해도 법정 선다면 혁신 없을 것\" 논란의 타다 재판 19일 선고</td>\n",
              "      <td>법정 혁신 논란 선고 재판 대로 사업 법정 혁신 시도 10일 법정 서울중앙지법 대표...</td>\n",
              "      <td>it</td>\n",
              "    </tr>\n",
              "    <tr>\n",
              "      <th>62500</th>\n",
              "      <td>바오밥헬스케어-데이비스, 3D 세포배양 적용 화장품 사업 시동</td>\n",
              "      <td>바오밥헬스케어 데이비스 3D 세포 배양 적용 화장품 사업 시동 왼쪽 바오밥헬스케어 ...</td>\n",
              "      <td>it</td>\n",
              "    </tr>\n",
              "    <tr>\n",
              "      <th>62501</th>\n",
              "      <td>특별입국자 자가진단 앱 설치 의무화... 3일간 건강상태 미입력 땐 위치 추적 [신...</td>\n",
              "      <td>의무화 특별입국자 자가 진단 설치 의무 3일 건강 상태 미입력 위치 추적 신종 코로...</td>\n",
              "      <td>it</td>\n",
              "    </tr>\n",
              "    <tr>\n",
              "      <th>62502</th>\n",
              "      <td>전주시 신종코로나 바이러스 정보 실시간 제공</td>\n",
              "      <td>전주시 신종코 바이러스 정보 실시간 제공 전주시 신종코로 바이러스 감염증 시민들 불...</td>\n",
              "      <td>it</td>\n",
              "    </tr>\n",
              "    <tr>\n",
              "      <th>62503</th>\n",
              "      <td>롯데 자이언츠 외국인 선수들 “제기차기 너무 재미있어요”</td>\n",
              "      <td>제기차기 롯데 자이언츠 외국인 선수 롯데 자이언츠 외국인 선수 전지훈련지 호주 애들...</td>\n",
              "      <td>it</td>\n",
              "    </tr>\n",
              "    <tr>\n",
              "      <th>62504</th>\n",
              "      <td>경기도박물관, 연구서 '옥나비 떨잠에 진주낭 차고' 발간</td>\n",
              "      <td>경기도박물관 떨잠 연구서 옥나비 진주낭 발간 경기도박물관 떨잠 연구서 조선 시대 세...</td>\n",
              "      <td>it</td>\n",
              "    </tr>\n",
              "    <tr>\n",
              "      <th>62505</th>\n",
              "      <td>MWC, 코로나 우려 불참행렬 화웨이는 유럽공략 노려 ‘적극 행보’</td>\n",
              "      <td>MWC 코로 불참행렬 화웨이 유럽공략 적극 행보 24~27일 현지시간 스페인 바르셀...</td>\n",
              "      <td>it</td>\n",
              "    </tr>\n",
              "    <tr>\n",
              "      <th>62506</th>\n",
              "      <td>이식용 신경도관 공동 개발 분당서울대병원 도프</td>\n",
              "      <td>공동 이식 신경 도관 공동 분당서울대병원 도프 분당서울대병원 바이오 벤처 도프 이식...</td>\n",
              "      <td>it</td>\n",
              "    </tr>\n",
              "    <tr>\n",
              "      <th>62507</th>\n",
              "      <td>'2TV 생생정보' 닭불고기 '수궁' 위치는?</td>\n",
              "      <td>2TV 생생 정보 닭불고기 수궁 위치 2TV 생생 정보 등장 닭불고기 화제 방송 생...</td>\n",
              "      <td>it</td>\n",
              "    </tr>\n",
              "    <tr>\n",
              "      <th>62508</th>\n",
              "      <td>전남 수산의 미래, 스마트양식에서 해법 모색</td>\n",
              "      <td>전남 수산 미래 스마트양식 해법 모색 스마트양식 4차 산업 혁명 접목 자동화 지능화...</td>\n",
              "      <td>it</td>\n",
              "    </tr>\n",
              "    <tr>\n",
              "      <th>62509</th>\n",
              "      <td>김성은 이주은 건양의대생 SCI급 국제학술지 논문 게재</td>\n",
              "      <td>김성은 이주은 국제학술지 건양의대생 SCI 국제 학술지 게재 배아 자궁 착상 도움 ...</td>\n",
              "      <td>it</td>\n",
              "    </tr>\n",
              "    <tr>\n",
              "      <th>62510</th>\n",
              "      <td>택시 뒷좌석 결제 뒷짐진 대전시</td>\n",
              "      <td>택시 뒷좌석 결제 뒷짐 대전시 대전시 공공교통수단 택시 서비스 품질 시민 편익 단계...</td>\n",
              "      <td>it</td>\n",
              "    </tr>\n",
              "    <tr>\n",
              "      <th>62511</th>\n",
              "      <td>원자력硏 김형택 박사, 유럽방사선량연구그룹 '젊은 과학자상' 수상</td>\n",
              "      <td>원자력 김형택 박사 유럽방사선량연구그룹 과학자상 수상 한국원자력연구원 박사 방사선 ...</td>\n",
              "      <td>it</td>\n",
              "    </tr>\n",
              "    <tr>\n",
              "      <th>62512</th>\n",
              "      <td>충북농기원, 신기술 보급사업에 4억 2000만원 투입</td>\n",
              "      <td>충북농기원 신기술 보급 사업 4억 투입 충북도농업기술원 원장 송용섭 변화 식품 시장...</td>\n",
              "      <td>it</td>\n",
              "    </tr>\n",
              "    <tr>\n",
              "      <th>62513</th>\n",
              "      <td>2020년도 영동군농업인대학 신입생 모집</td>\n",
              "      <td>영동군 농업 대학 신입 모집 영동군 지역농업 특화발전 육성 품목 전문 농업 인력 영...</td>\n",
              "      <td>it</td>\n",
              "    </tr>\n",
              "    <tr>\n",
              "      <th>62514</th>\n",
              "      <td>상명대 국제개발평가센터 KOICA '국제개발협력 이해증진사업' 수행기관 선정</td>\n",
              "      <td>이해증진사업 상명대 국제 평가 센터 KOICA 국제 협력 이해 증진 사업 수행 기관...</td>\n",
              "      <td>it</td>\n",
              "    </tr>\n",
              "    <tr>\n",
              "      <th>62515</th>\n",
              "      <td>'2TV 생생정보' 돌판 짜장면 '남쪽마을돌짜장' 위치는?</td>\n",
              "      <td>2TV 생생 정보 남쪽마을돌짜장 돌판 짜장면 남쪽 마을돌 짜장 위치 2TV 생생 정...</td>\n",
              "      <td>it</td>\n",
              "    </tr>\n",
              "    <tr>\n",
              "      <th>62516</th>\n",
              "      <td>'2TV 생생정보' 5500원 국산 수제 햄버그스테이크 '고관함박' 위치는?</td>\n",
              "      <td>2TV 생생 정보 고관함박 국산 수제 햄버그스테이크 위치 2TV 생생 정보 등장 햄...</td>\n",
              "      <td>it</td>\n",
              "    </tr>\n",
              "  </tbody>\n",
              "</table>\n",
              "</div>"
            ],
            "text/plain": [
              "                                                      제목  ...  주제\n",
              "62487                               군포시 마을버스 활용해 미세먼지 측정  ...  it\n",
              "62488                           동신대, 사이버 전문가 양성 도우미 ‘톡톡’  ...  it\n",
              "62489              ‘스트레이트’, 신종 코로나바이러스 가짜 뉴스의 실태 [M+TV컷]  ...  it\n",
              "62490                         [케이블 위성 하이라이트]2020년 2월 11일  ...  it\n",
              "62491                              전주비전대, 코이카 글로벌연수사업 선정  ...  it\n",
              "62492   '생생정보' 돌판 짜장면, 300도 달궈진 뜨끈한 돌판 위에 짜장면X만두X튀김까지 푸짐  ...  it\n",
              "62493                      메드팩토, 항암제 개발 기대감 시간외 주가 10% ↑  ...  it\n",
              "62494             KBS교향악단 5G 클래식 VR 콘텐츠 제작 LG유플러스 앱으로 관람  ...  it\n",
              "62495                `서든어택` 넥슨지티 영업손실 287억원 \"내년 신작게임 출시\"  ...  it\n",
              "62496                          김병원 “화순 바이오메디컬 허브 반드시 구축”  ...  it\n",
              "62497                                화순경찰, 사회적약자에 마스크 전달  ...  it\n",
              "62498                           농업기술실용화재단, 식품기술 거래 기관 모집  ...  it\n",
              "62499           \"법대로 해도 법정 선다면 혁신 없을 것\" 논란의 타다 재판 19일 선고  ...  it\n",
              "62500                 바오밥헬스케어-데이비스, 3D 세포배양 적용 화장품 사업 시동  ...  it\n",
              "62501  특별입국자 자가진단 앱 설치 의무화... 3일간 건강상태 미입력 땐 위치 추적 [신...  ...  it\n",
              "62502                           전주시 신종코로나 바이러스 정보 실시간 제공  ...  it\n",
              "62503                    롯데 자이언츠 외국인 선수들 “제기차기 너무 재미있어요”  ...  it\n",
              "62504                    경기도박물관, 연구서 '옥나비 떨잠에 진주낭 차고' 발간  ...  it\n",
              "62505              MWC, 코로나 우려 불참행렬 화웨이는 유럽공략 노려 ‘적극 행보’  ...  it\n",
              "62506                          이식용 신경도관 공동 개발 분당서울대병원 도프  ...  it\n",
              "62507                          '2TV 생생정보' 닭불고기 '수궁' 위치는?  ...  it\n",
              "62508                           전남 수산의 미래, 스마트양식에서 해법 모색  ...  it\n",
              "62509                     김성은 이주은 건양의대생 SCI급 국제학술지 논문 게재  ...  it\n",
              "62510                                  택시 뒷좌석 결제 뒷짐진 대전시  ...  it\n",
              "62511               원자력硏 김형택 박사, 유럽방사선량연구그룹 '젊은 과학자상' 수상  ...  it\n",
              "62512                      충북농기원, 신기술 보급사업에 4억 2000만원 투입  ...  it\n",
              "62513                             2020년도 영동군농업인대학 신입생 모집  ...  it\n",
              "62514         상명대 국제개발평가센터 KOICA '국제개발협력 이해증진사업' 수행기관 선정  ...  it\n",
              "62515                   '2TV 생생정보' 돌판 짜장면 '남쪽마을돌짜장' 위치는?  ...  it\n",
              "62516         '2TV 생생정보' 5500원 국산 수제 햄버그스테이크 '고관함박' 위치는?  ...  it\n",
              "\n",
              "[30 rows x 3 columns]"
            ]
          },
          "metadata": {
            "tags": []
          },
          "execution_count": 175
        }
      ]
    },
    {
      "cell_type": "markdown",
      "metadata": {
        "id": "XLO9sFMCZB7b",
        "colab_type": "text"
      },
      "source": [
        "## 데이터 셔플"
      ]
    },
    {
      "cell_type": "code",
      "metadata": {
        "id": "KUNUW5y2HxN2",
        "colab_type": "code",
        "outputId": "56566d2a-9bde-4ce1-8df2-f3c1d6e99737",
        "colab": {
          "base_uri": "https://localhost:8080/",
          "height": 0
        }
      },
      "source": [
        "from sklearn.utils import shuffle\n",
        "data = shuffle(data)\n",
        "data.head(10)"
      ],
      "execution_count": 123,
      "outputs": [
        {
          "output_type": "execute_result",
          "data": {
            "text/html": [
              "<div>\n",
              "<style scoped>\n",
              "    .dataframe tbody tr th:only-of-type {\n",
              "        vertical-align: middle;\n",
              "    }\n",
              "\n",
              "    .dataframe tbody tr th {\n",
              "        vertical-align: top;\n",
              "    }\n",
              "\n",
              "    .dataframe thead th {\n",
              "        text-align: right;\n",
              "    }\n",
              "</style>\n",
              "<table border=\"1\" class=\"dataframe\">\n",
              "  <thead>\n",
              "    <tr style=\"text-align: right;\">\n",
              "      <th></th>\n",
              "      <th>제목</th>\n",
              "      <th>키워드</th>\n",
              "      <th>주제</th>\n",
              "    </tr>\n",
              "  </thead>\n",
              "  <tbody>\n",
              "    <tr>\n",
              "      <th>344791</th>\n",
              "      <td>보잉 경영진, 조종사들 ‘운항 중단’ 묵살 B737맥스 사고 자초했나</td>\n",
              "      <td>보잉 경영진 중단 조종사들 운항 묵살 B737맥스 사고 자초 미국 항공 업체 보잉 ...</td>\n",
              "      <td>innt</td>\n",
              "    </tr>\n",
              "    <tr>\n",
              "      <th>43909</th>\n",
              "      <td>'양식의 양식' 열풍 불어도 마라탕이 짜장면 아성은 못 넘는다</td>\n",
              "      <td>양식 양식 열풍 마라탕 짜장면 아성 JTBC 양식 양식 추억 소환 짜장면 대표 서민...</td>\n",
              "      <td>cul</td>\n",
              "    </tr>\n",
              "    <tr>\n",
              "      <th>119781</th>\n",
              "      <td>HUG, `주거복지 도시재생 부문` 대상 수상</td>\n",
              "      <td>HUG 주거복지 도시재생 대상 수상 주택도시보증공사 HUG 서울힐튼호텔 최고 소비자...</td>\n",
              "      <td>eco</td>\n",
              "    </tr>\n",
              "    <tr>\n",
              "      <th>312224</th>\n",
              "      <td>화웨이 사태에 대구경북 IT업계 기대와 우려 엇갈려</td>\n",
              "      <td>화웨이 사태 대구경북 IT업계 미국 중국 통신 장비 업체 화웨이 제재 경북 구미 지...</td>\n",
              "      <td>eco</td>\n",
              "    </tr>\n",
              "    <tr>\n",
              "      <th>166774</th>\n",
              "      <td>영화가 현실로?...중국, 달에서 새싹 틔워</td>\n",
              "      <td>영화 현실 중국 새싹 중국 창어 탐사선 嫦娥 4호 뒷면 far side moon 식...</td>\n",
              "      <td>it</td>\n",
              "    </tr>\n",
              "    <tr>\n",
              "      <th>113900</th>\n",
              "      <td>美연준, 만장일치로 기준금리 동결 '추가적 점진적 금리인상' 표현 삭제</td>\n",
              "      <td>연준 만장일치 기준금리 동결 추가적 점진적 금리인상 표현 삭제 미국 중앙은행 연방준...</td>\n",
              "      <td>eco</td>\n",
              "    </tr>\n",
              "    <tr>\n",
              "      <th>19864</th>\n",
              "      <td>줄줄이 휴점 유통가 ‘코로나 쇼크’</td>\n",
              "      <td>휴점 유통 코로나 쇼크 신종코로 확진자 방문 여파 롯데 본점 휴점 방역 돌입 이마트...</td>\n",
              "      <td>eco</td>\n",
              "    </tr>\n",
              "    <tr>\n",
              "      <th>295673</th>\n",
              "      <td>2019 의정부시 청소년위원회 워크숍</td>\n",
              "      <td>의정부시 청소년위원회 워크숍 청소년수련관 의정부시청소년육성재단 산하 청소년 수련관 ...</td>\n",
              "      <td>pol</td>\n",
              "    </tr>\n",
              "    <tr>\n",
              "      <th>11603</th>\n",
              "      <td>[포토] 문재인 대통령, 신종 코로나바이러스 현장점검</td>\n",
              "      <td>문재인 대통령 현장점검 신종 코로나바이러스 현장 점검 문재인 대통령 28일 의료기관...</td>\n",
              "      <td>pol</td>\n",
              "    </tr>\n",
              "    <tr>\n",
              "      <th>163826</th>\n",
              "      <td>[투데이 영상] '어떤 스타일을 원해요?' 6살 '가위손'</td>\n",
              "      <td>스타일 6살 가위손 가위 헤어드라이어 고객 머리 어린이 중국 쓰촨 친구 미용실 부모...</td>\n",
              "      <td>it</td>\n",
              "    </tr>\n",
              "  </tbody>\n",
              "</table>\n",
              "</div>"
            ],
            "text/plain": [
              "                                             제목  ...    주제\n",
              "344791   보잉 경영진, 조종사들 ‘운항 중단’ 묵살 B737맥스 사고 자초했나  ...  innt\n",
              "43909        '양식의 양식' 열풍 불어도 마라탕이 짜장면 아성은 못 넘는다  ...   cul\n",
              "119781                HUG, `주거복지 도시재생 부문` 대상 수상  ...   eco\n",
              "312224             화웨이 사태에 대구경북 IT업계 기대와 우려 엇갈려  ...   eco\n",
              "166774                 영화가 현실로?...중국, 달에서 새싹 틔워  ...    it\n",
              "113900  美연준, 만장일치로 기준금리 동결 '추가적 점진적 금리인상' 표현 삭제  ...   eco\n",
              "19864                       줄줄이 휴점 유통가 ‘코로나 쇼크’  ...   eco\n",
              "295673                     2019 의정부시 청소년위원회 워크숍  ...   pol\n",
              "11603             [포토] 문재인 대통령, 신종 코로나바이러스 현장점검  ...   pol\n",
              "163826         [투데이 영상] '어떤 스타일을 원해요?' 6살 '가위손'  ...    it\n",
              "\n",
              "[10 rows x 3 columns]"
            ]
          },
          "metadata": {
            "tags": []
          },
          "execution_count": 123
        }
      ]
    },
    {
      "cell_type": "markdown",
      "metadata": {
        "id": "uQ7bGPXy2q3a",
        "colab_type": "text"
      },
      "source": [
        "# nan 확인\n"
      ]
    },
    {
      "cell_type": "code",
      "metadata": {
        "id": "8pxymJt81w6x",
        "colab_type": "code",
        "outputId": "987d13c5-6187-4a4a-b68b-5feb81ccba8f",
        "colab": {
          "base_uri": "https://localhost:8080/",
          "height": 0
        }
      },
      "source": [
        "# data.isnull()\n",
        "data.isnull().sum()"
      ],
      "execution_count": 124,
      "outputs": [
        {
          "output_type": "execute_result",
          "data": {
            "text/plain": [
              "제목     0\n",
              "키워드    0\n",
              "주제     0\n",
              "dtype: int64"
            ]
          },
          "metadata": {
            "tags": []
          },
          "execution_count": 124
        }
      ]
    },
    {
      "cell_type": "code",
      "metadata": {
        "id": "wUWi9xLQj8d9",
        "colab_type": "code",
        "outputId": "5c40aa67-2fb6-46a5-940a-59aaf8c39c83",
        "colab": {
          "base_uri": "https://localhost:8080/",
          "height": 0
        }
      },
      "source": [
        "data.head(20)"
      ],
      "execution_count": 125,
      "outputs": [
        {
          "output_type": "execute_result",
          "data": {
            "text/html": [
              "<div>\n",
              "<style scoped>\n",
              "    .dataframe tbody tr th:only-of-type {\n",
              "        vertical-align: middle;\n",
              "    }\n",
              "\n",
              "    .dataframe tbody tr th {\n",
              "        vertical-align: top;\n",
              "    }\n",
              "\n",
              "    .dataframe thead th {\n",
              "        text-align: right;\n",
              "    }\n",
              "</style>\n",
              "<table border=\"1\" class=\"dataframe\">\n",
              "  <thead>\n",
              "    <tr style=\"text-align: right;\">\n",
              "      <th></th>\n",
              "      <th>제목</th>\n",
              "      <th>키워드</th>\n",
              "      <th>주제</th>\n",
              "    </tr>\n",
              "  </thead>\n",
              "  <tbody>\n",
              "    <tr>\n",
              "      <th>344791</th>\n",
              "      <td>보잉 경영진, 조종사들 ‘운항 중단’ 묵살 B737맥스 사고 자초했나</td>\n",
              "      <td>보잉 경영진 중단 조종사들 운항 묵살 B737맥스 사고 자초 미국 항공 업체 보잉 ...</td>\n",
              "      <td>innt</td>\n",
              "    </tr>\n",
              "    <tr>\n",
              "      <th>43909</th>\n",
              "      <td>'양식의 양식' 열풍 불어도 마라탕이 짜장면 아성은 못 넘는다</td>\n",
              "      <td>양식 양식 열풍 마라탕 짜장면 아성 JTBC 양식 양식 추억 소환 짜장면 대표 서민...</td>\n",
              "      <td>cul</td>\n",
              "    </tr>\n",
              "    <tr>\n",
              "      <th>119781</th>\n",
              "      <td>HUG, `주거복지 도시재생 부문` 대상 수상</td>\n",
              "      <td>HUG 주거복지 도시재생 대상 수상 주택도시보증공사 HUG 서울힐튼호텔 최고 소비자...</td>\n",
              "      <td>eco</td>\n",
              "    </tr>\n",
              "    <tr>\n",
              "      <th>312224</th>\n",
              "      <td>화웨이 사태에 대구경북 IT업계 기대와 우려 엇갈려</td>\n",
              "      <td>화웨이 사태 대구경북 IT업계 미국 중국 통신 장비 업체 화웨이 제재 경북 구미 지...</td>\n",
              "      <td>eco</td>\n",
              "    </tr>\n",
              "    <tr>\n",
              "      <th>166774</th>\n",
              "      <td>영화가 현실로?...중국, 달에서 새싹 틔워</td>\n",
              "      <td>영화 현실 중국 새싹 중국 창어 탐사선 嫦娥 4호 뒷면 far side moon 식...</td>\n",
              "      <td>it</td>\n",
              "    </tr>\n",
              "    <tr>\n",
              "      <th>113900</th>\n",
              "      <td>美연준, 만장일치로 기준금리 동결 '추가적 점진적 금리인상' 표현 삭제</td>\n",
              "      <td>연준 만장일치 기준금리 동결 추가적 점진적 금리인상 표현 삭제 미국 중앙은행 연방준...</td>\n",
              "      <td>eco</td>\n",
              "    </tr>\n",
              "    <tr>\n",
              "      <th>19864</th>\n",
              "      <td>줄줄이 휴점 유통가 ‘코로나 쇼크’</td>\n",
              "      <td>휴점 유통 코로나 쇼크 신종코로 확진자 방문 여파 롯데 본점 휴점 방역 돌입 이마트...</td>\n",
              "      <td>eco</td>\n",
              "    </tr>\n",
              "    <tr>\n",
              "      <th>295673</th>\n",
              "      <td>2019 의정부시 청소년위원회 워크숍</td>\n",
              "      <td>의정부시 청소년위원회 워크숍 청소년수련관 의정부시청소년육성재단 산하 청소년 수련관 ...</td>\n",
              "      <td>pol</td>\n",
              "    </tr>\n",
              "    <tr>\n",
              "      <th>11603</th>\n",
              "      <td>[포토] 문재인 대통령, 신종 코로나바이러스 현장점검</td>\n",
              "      <td>문재인 대통령 현장점검 신종 코로나바이러스 현장 점검 문재인 대통령 28일 의료기관...</td>\n",
              "      <td>pol</td>\n",
              "    </tr>\n",
              "    <tr>\n",
              "      <th>163826</th>\n",
              "      <td>[투데이 영상] '어떤 스타일을 원해요?' 6살 '가위손'</td>\n",
              "      <td>스타일 6살 가위손 가위 헤어드라이어 고객 머리 어린이 중국 쓰촨 친구 미용실 부모...</td>\n",
              "      <td>it</td>\n",
              "    </tr>\n",
              "    <tr>\n",
              "      <th>128861</th>\n",
              "      <td>'왜그래 풍상씨' 간암 걸린 유준상, 동생들에겐 생매장까지 막장 냄새가 난다</td>\n",
              "      <td>풍상씨 간암 유준상 동생들 생매장 막장 냄새 풍상씨 유준상 생매장 위기 충격적 간암...</td>\n",
              "      <td>cul</td>\n",
              "    </tr>\n",
              "    <tr>\n",
              "      <th>337505</th>\n",
              "      <td>유럽선 폐기물 연료화 소각 에너지는 시민에 무상 공급</td>\n",
              "      <td>유럽 폐기물 연료 소각 에너지 시민 무상 공급 쓰레기 직매립 세계적 추세 쓰레기 처...</td>\n",
              "      <td>innt</td>\n",
              "    </tr>\n",
              "    <tr>\n",
              "      <th>41986</th>\n",
              "      <td>[종합]장지연, 김용호 전 기자 고소 vs 가세연 \"근거 있다\" 반박</td>\n",
              "      <td>장지연 김용호 근거 고소 vs 가세연 반박 김건모 아내 장지연 가로세로연구소 유튜브...</td>\n",
              "      <td>cul</td>\n",
              "    </tr>\n",
              "    <tr>\n",
              "      <th>10570</th>\n",
              "      <td>기상청 \"북한 함경북도 길주 북북서쪽서 규모 2.5 지진 발생\"</td>\n",
              "      <td>발생 기상청 북한 함경북도 길주 북북서 쪽서 규모 2.5 지진 9시 북한 지역 함경...</td>\n",
              "      <td>pol</td>\n",
              "    </tr>\n",
              "    <tr>\n",
              "      <th>241748</th>\n",
              "      <td>상산고 학부모 1인 릴레이 시위 자사고 재지정 점수 상향 반발</td>\n",
              "      <td>시위 상산고 학부모 1인 릴레이 자사고 재지정 점수 상향 반발 학부모들 전주 상산고...</td>\n",
              "      <td>innt</td>\n",
              "    </tr>\n",
              "    <tr>\n",
              "      <th>2718</th>\n",
              "      <td>송재호 출마에 제주시갑 후보예상자 비</td>\n",
              "      <td>송재호 출마 제주시갑 후보 예상자 송재호 대통령 소속 국가 균형 발전 위원장 더불이...</td>\n",
              "      <td>pol</td>\n",
              "    </tr>\n",
              "    <tr>\n",
              "      <th>222104</th>\n",
              "      <td>50년 스테디셀러 '팜피린' 기침ㆍ코막힘 빠르게 뚝</td>\n",
              "      <td>팜피린 스테디셀러 기침 판피린 사진 판피린 동화제약 피로회복제 박카스 동아제약 장수...</td>\n",
              "      <td>eco</td>\n",
              "    </tr>\n",
              "    <tr>\n",
              "      <th>240594</th>\n",
              "      <td>'영재발굴단' 개그맨 김인석 \"아내 안젤라 박 때문에 운동 시작\" 몸짱 부부 비결은?</td>\n",
              "      <td>영재발굴단 개그맨 김인석 아내 안젤라 운동 시작 몸짱 부부 비결 약골 개그맨 몸짱 ...</td>\n",
              "      <td>cul</td>\n",
              "    </tr>\n",
              "    <tr>\n",
              "      <th>122867</th>\n",
              "      <td>금융 증시 동향</td>\n",
              "      <td>금융 증시 동향 코스피 기관 순매매 단위 매수 순매도 종목 대금 종목 대금 현대모비...</td>\n",
              "      <td>eco</td>\n",
              "    </tr>\n",
              "    <tr>\n",
              "      <th>319346</th>\n",
              "      <td>인사말하는 지진석 (쇼케이스)</td>\n",
              "      <td>인사말 지진석 쇼케이스 가수 지진석 31일 일지아트홀 서울 청담동 Night 데뷔싱...</td>\n",
              "      <td>cul</td>\n",
              "    </tr>\n",
              "  </tbody>\n",
              "</table>\n",
              "</div>"
            ],
            "text/plain": [
              "                                                     제목  ...    주제\n",
              "344791           보잉 경영진, 조종사들 ‘운항 중단’ 묵살 B737맥스 사고 자초했나  ...  innt\n",
              "43909                '양식의 양식' 열풍 불어도 마라탕이 짜장면 아성은 못 넘는다  ...   cul\n",
              "119781                        HUG, `주거복지 도시재생 부문` 대상 수상  ...   eco\n",
              "312224                     화웨이 사태에 대구경북 IT업계 기대와 우려 엇갈려  ...   eco\n",
              "166774                         영화가 현실로?...중국, 달에서 새싹 틔워  ...    it\n",
              "113900          美연준, 만장일치로 기준금리 동결 '추가적 점진적 금리인상' 표현 삭제  ...   eco\n",
              "19864                               줄줄이 휴점 유통가 ‘코로나 쇼크’  ...   eco\n",
              "295673                             2019 의정부시 청소년위원회 워크숍  ...   pol\n",
              "11603                     [포토] 문재인 대통령, 신종 코로나바이러스 현장점검  ...   pol\n",
              "163826                 [투데이 영상] '어떤 스타일을 원해요?' 6살 '가위손'  ...    it\n",
              "128861       '왜그래 풍상씨' 간암 걸린 유준상, 동생들에겐 생매장까지 막장 냄새가 난다  ...   cul\n",
              "337505                    유럽선 폐기물 연료화 소각 에너지는 시민에 무상 공급  ...  innt\n",
              "41986            [종합]장지연, 김용호 전 기자 고소 vs 가세연 \"근거 있다\" 반박  ...   cul\n",
              "10570               기상청 \"북한 함경북도 길주 북북서쪽서 규모 2.5 지진 발생\"  ...   pol\n",
              "241748               상산고 학부모 1인 릴레이 시위 자사고 재지정 점수 상향 반발  ...  innt\n",
              "2718                               송재호 출마에 제주시갑 후보예상자 비  ...   pol\n",
              "222104                     50년 스테디셀러 '팜피린' 기침ㆍ코막힘 빠르게 뚝  ...   eco\n",
              "240594  '영재발굴단' 개그맨 김인석 \"아내 안젤라 박 때문에 운동 시작\" 몸짱 부부 비결은?  ...   cul\n",
              "122867                                         금융 증시 동향  ...   eco\n",
              "319346                                 인사말하는 지진석 (쇼케이스)  ...   cul\n",
              "\n",
              "[20 rows x 3 columns]"
            ]
          },
          "metadata": {
            "tags": []
          },
          "execution_count": 125
        }
      ]
    },
    {
      "cell_type": "code",
      "metadata": {
        "id": "2cy2YvJrjdld",
        "colab_type": "code",
        "colab": {}
      },
      "source": [
        "# data = data.iloc[:100000,:]\n"
      ],
      "execution_count": 0,
      "outputs": []
    },
    {
      "cell_type": "markdown",
      "metadata": {
        "id": "B6WXvrW9Y8cD",
        "colab_type": "text"
      },
      "source": [
        "# 주제 지우기 함수"
      ]
    },
    {
      "cell_type": "code",
      "metadata": {
        "id": "NsuwsdXPuqJd",
        "colab_type": "code",
        "colab": {}
      },
      "source": [
        "def removeTopic(top):\n",
        "  data = data.drop(data[data[\"주제\"] == top].index)\n",
        "\n",
        "  y = []\n",
        "  topicList = list(set(data.sort_values(by=[\"주제\"])[\"주제\"].to_list()))\n",
        "\n",
        "  import matplotlib.font_manager as fm\n",
        "  # plt.rcParams['font.family'] = 'NanumGothic'\n",
        "\n",
        "\n",
        "  font_path = 'C:/Windows/Fonts/NanumGothic.ttf'\n",
        "  fontprop = fm.FontProperties(fname=font_path, size=18)\n",
        "\n",
        "\n",
        "  for topic in topicList:\n",
        "    sumVal = (data[\"주제\"]==topic).sum()\n",
        "    y.append(sumVal)\n",
        "    print(topic ,\"count : \", sumVal)\n",
        "\n",
        "  plt.xlabel(\"\",fontproperties=fontprop)\n",
        "  plt.plot(topicList, y,)\n",
        "  plt.show()\n",
        "\n",
        "  y = []\n",
        "\n",
        "  import matplotlib.font_manager as fm\n",
        "  # plt.rcParams['font.family'] = 'NanumGothic'\n",
        "\n",
        "\n",
        "  font_path = 'C:/Windows/Fonts/NanumGothic.ttf'\n",
        "  fontprop = fm.FontProperties(fname=font_path, size=18)\n",
        "\n",
        "\n",
        "  for topic in topicList:\n",
        "    sumVal = (data[\"주제\"]==topic).sum()\n",
        "    y.append(sumVal)\n",
        "    print(topic ,\"count : \", sumVal)\n",
        "\n",
        "  plt.xlabel(\"\",fontproperties=fontprop)\n",
        "  plt.plot(topicList, y,)\n",
        "  plt.show()\n"
      ],
      "execution_count": 0,
      "outputs": []
    },
    {
      "cell_type": "code",
      "metadata": {
        "id": "bmANvb-nDEmO",
        "colab_type": "code",
        "colab": {}
      },
      "source": [
        "removeTopic(\"it\")"
      ],
      "execution_count": 0,
      "outputs": []
    },
    {
      "cell_type": "markdown",
      "metadata": {
        "id": "6I380Yae0SJZ",
        "colab_type": "text"
      },
      "source": [
        "# IT지우기"
      ]
    },
    {
      "cell_type": "code",
      "metadata": {
        "id": "prWcfZDc0UJq",
        "colab_type": "code",
        "colab": {}
      },
      "source": [
        "# data = data.drop(data[data[\"주제\"].map(lambda i : i == \"cul\")].index)"
      ],
      "execution_count": 0,
      "outputs": []
    },
    {
      "cell_type": "code",
      "metadata": {
        "id": "FYJJXPAl15O6",
        "colab_type": "code",
        "colab": {
          "base_uri": "https://localhost:8080/",
          "height": 658
        },
        "outputId": "0543f458-eb0a-459b-a14c-d1f15f36c9e5"
      },
      "source": [
        "# topicList = list(set(data.sort_values(by=[\"주제\"])[\"주제\"].to_list()))\n",
        "# data = data.astype(str)\n",
        "\n",
        "# keys = data[\"키워드\"]\n",
        "# keys = keys.astype(str)\n",
        "\n",
        "# lst = keys.to_list()\n",
        "\n",
        "# print(\"max length article : \", max([len(i) for i in lst]))\n",
        "# print(\"ave article length : \" , sum(map(len,lst))/len(lst) )\n",
        "\n",
        "# plt.hist([len(i) for i in lst], bins = 50)\n",
        "# plt.show()\n",
        "\n",
        "# y = []\n",
        "\n",
        "# import matplotlib.font_manager as fm\n",
        "# # plt.rcParams['font.family'] = 'NanumGothic'\n",
        "\n",
        "\n",
        "# font_path = 'C:/Windows/Fonts/NanumGothic.ttf'\n",
        "# fontprop = fm.FontProperties(fname=font_path, size=18)\n",
        "\n",
        "\n",
        "# for topic in topicList:\n",
        "#   sumVal = (data[\"주제\"]==topic).sum()\n",
        "#   y.append(sumVal)\n",
        "#   print(topic ,\"count : \", sumVal)\n",
        "\n",
        "# plt.xlabel(\"\",fontproperties=fontprop)\n",
        "# plt.plot(topicList, y,)\n",
        "# plt.show()\n"
      ],
      "execution_count": 127,
      "outputs": [
        {
          "output_type": "stream",
          "text": [
            "max length article :  13236\n",
            "ave article length :  537.2526238879639\n"
          ],
          "name": "stdout"
        },
        {
          "output_type": "display_data",
          "data": {
            "image/png": "[encoded data removed]",
            "text/plain": [
              "<Figure size 432x288 with 1 Axes>"
            ]
          },
          "metadata": {
            "tags": []
          }
        },
        {
          "output_type": "stream",
          "text": [
            "pol count :  65233\n",
            "innt count :  51233\n",
            "soc count :  56638\n",
            "it count :  46144\n",
            "eco count :  65730\n",
            "spo count :  33919\n"
          ],
          "name": "stdout"
        },
        {
          "output_type": "display_data",
          "data": {
            "image/png": "[encoded data removed]",
            "text/plain": [
              "<Figure size 432x288 with 1 Axes>"
            ]
          },
          "metadata": {
            "tags": []
          }
        }
      ]
    },
    {
      "cell_type": "code",
      "metadata": {
        "id": "VEkqS6iIDCAQ",
        "colab_type": "code",
        "colab": {}
      },
      "source": [
        ""
      ],
      "execution_count": 0,
      "outputs": []
    },
    {
      "cell_type": "markdown",
      "metadata": {
        "id": "5eMBM4h8GSd3",
        "colab_type": "text"
      },
      "source": [
        "# Keras"
      ]
    },
    {
      "cell_type": "code",
      "metadata": {
        "id": "ikDw-ZKPNQNA",
        "colab_type": "code",
        "colab": {}
      },
      "source": [
        "from keras.preprocessing.text import Tokenizer"
      ],
      "execution_count": 0,
      "outputs": []
    },
    {
      "cell_type": "code",
      "metadata": {
        "id": "IXGc7tkBNio9",
        "colab_type": "code",
        "colab": {}
      },
      "source": [
        "test = str(data[\"키워드\"])"
      ],
      "execution_count": 0,
      "outputs": []
    },
    {
      "cell_type": "code",
      "metadata": {
        "id": "azfPilCLRoZr",
        "colab_type": "code",
        "colab": {}
      },
      "source": [
        "MAX_NB_WORDS = 5000\n",
        "MAX_SEQUENCE_LENGTH = 500\n"
      ],
      "execution_count": 0,
      "outputs": []
    },
    {
      "cell_type": "code",
      "metadata": {
        "id": "cNnxa-H3Wc5u",
        "colab_type": "code",
        "colab": {}
      },
      "source": [
        "tokenizer = Tokenizer(num_words=MAX_NB_WORDS, filters = \" \")\n",
        "# 빈도가 높은 최대 50000개의 단어들로만 인덱싱"
      ],
      "execution_count": 0,
      "outputs": []
    },
    {
      "cell_type": "code",
      "metadata": {
        "id": "Fdm_nKpafX3K",
        "colab_type": "code",
        "colab": {}
      },
      "source": [
        "data[\"키워드\"] = data[\"키워드\"].astype(str)"
      ],
      "execution_count": 0,
      "outputs": []
    },
    {
      "cell_type": "code",
      "metadata": {
        "id": "92BJQeCTWekh",
        "colab_type": "code",
        "outputId": "9101278b-fbcf-4046-a864-e8e679f04a4b",
        "colab": {
          "base_uri": "https://localhost:8080/",
          "height": 0
        }
      },
      "source": [
        "tokenizer.fit_on_texts(data[\"키워드\"].values)\n",
        "#padas와 호완이 된다. string array을 넣는다.\n",
        "# string array을 넣으면 각 string element에서 계산을 다 해서\n",
        "# 단어들을 indexing한다.\n",
        "# word_index : 전체 문서 셋에서 단어에 idx 매핑 전체 문서 셋에서 단어 빈도수 따라서 \n",
        "# 빈도 수 높을 수록 낮은 숫자에 매핑. 단어 -> 숫자 매핑\n",
        "# index_word : word_index의 반대 표현. object에서 숫자 -> 단어 매핑.\n",
        "# 일단 indexing은...\n",
        "\"\"\"\n",
        "from : https://stackoverflow.com/questions/51956000/what-does-keras-tokenizer-method-exactly-do\n",
        "fit_on_texts Updates internal vocabulary based on a list of texts. This method creates the vocabulary index based on word frequency. So if you give it something like, \"The cat sat on the mat.\" It will create a dictionary s.t. word_index[\"the\"] = 1; word_index[\"cat\"] = 2 it is word -> index dictionary so every word gets a unique integer value. 0 is reserved for padding. So lower integer means more frequent word (often the first few are stop words because they appear a lot).\n",
        "texts_to_sequences Transforms each text in texts to a sequence of integers. So it basically takes each word in the text and replaces it with its corresponding integer value from the word_index dictionary. Nothing more, nothing less, certainly no magic involved.\n",
        "\"\"\"\n",
        "\n",
        "\n"
      ],
      "execution_count": 133,
      "outputs": [
        {
          "output_type": "execute_result",
          "data": {
            "text/plain": [
              "'\\nfrom : https://stackoverflow.com/questions/51956000/what-does-keras-tokenizer-method-exactly-do\\nfit_on_texts Updates internal vocabulary based on a list of texts. This method creates the vocabulary index based on word frequency. So if you give it something like, \"The cat sat on the mat.\" It will create a dictionary s.t. word_index[\"the\"] = 1; word_index[\"cat\"] = 2 it is word -> index dictionary so every word gets a unique integer value. 0 is reserved for padding. So lower integer means more frequent word (often the first few are stop words because they appear a lot).\\ntexts_to_sequences Transforms each text in texts to a sequence of integers. So it basically takes each word in the text and replaces it with its corresponding integer value from the word_index dictionary. Nothing more, nothing less, certainly no magic involved.\\n'"
            ]
          },
          "metadata": {
            "tags": []
          },
          "execution_count": 133
        }
      ]
    },
    {
      "cell_type": "code",
      "metadata": {
        "id": "O9kR6J2iWk0d",
        "colab_type": "code",
        "outputId": "95407009-7d07-48d9-9852-ddf44549287d",
        "colab": {
          "base_uri": "https://localhost:8080/",
          "height": 0
        }
      },
      "source": [
        "word_index = tokenizer.word_index\n",
        "print(f\"found %s unique tokens.\" %len(word_index))"
      ],
      "execution_count": 134,
      "outputs": [
        {
          "output_type": "stream",
          "text": [
            "found 831393 unique tokens.\n"
          ],
          "name": "stdout"
        }
      ]
    },
    {
      "cell_type": "code",
      "metadata": {
        "id": "ORlFYI4CaJZA",
        "colab_type": "code",
        "colab": {}
      },
      "source": [
        "# tokenizer.word_index"
      ],
      "execution_count": 0,
      "outputs": []
    },
    {
      "cell_type": "code",
      "metadata": {
        "id": "7j-lmIILW-bJ",
        "colab_type": "code",
        "colab": {}
      },
      "source": [
        "# tokenizer.word_counts"
      ],
      "execution_count": 0,
      "outputs": []
    },
    {
      "cell_type": "code",
      "metadata": {
        "id": "Y6P5nEXxXkgg",
        "colab_type": "code",
        "colab": {}
      },
      "source": [
        "# 위에서 각 단어 -> 정수 매핑했다.\n",
        "# 이제 문서를 정수 표현으로 바꾼다.\n",
        "X = tokenizer.texts_to_sequences(data[\"키워드\"].values)\n"
      ],
      "execution_count": 0,
      "outputs": []
    },
    {
      "cell_type": "code",
      "metadata": {
        "id": "NEM8dl4selzX",
        "colab_type": "code",
        "colab": {}
      },
      "source": [
        "# len(X)\n",
        "# X.shape"
      ],
      "execution_count": 0,
      "outputs": []
    },
    {
      "cell_type": "code",
      "metadata": {
        "id": "j5CnV1TrdPOA",
        "colab_type": "code",
        "colab": {}
      },
      "source": [
        "from keras.preprocessing.sequence import pad_sequences\n"
      ],
      "execution_count": 0,
      "outputs": []
    },
    {
      "cell_type": "code",
      "metadata": {
        "id": "LDW7gHYvds2y",
        "colab_type": "code",
        "outputId": "c76a451e-12d9-4e9f-f59c-0984031cb74a",
        "colab": {
          "base_uri": "https://localhost:8080/",
          "height": 0
        }
      },
      "source": [
        "X = pad_sequences(X, maxlen = MAX_SEQUENCE_LENGTH)\n",
        "print(\"shape of data tensor: \", X.shape)"
      ],
      "execution_count": 140,
      "outputs": [
        {
          "output_type": "stream",
          "text": [
            "shape of data tensor:  (318897, 500)\n"
          ],
          "name": "stdout"
        }
      ]
    },
    {
      "cell_type": "code",
      "metadata": {
        "id": "VC2Ci_VDd42z",
        "colab_type": "code",
        "outputId": "2351fd11-604c-41a8-e01b-ee6f7c445584",
        "colab": {
          "base_uri": "https://localhost:8080/",
          "height": 0
        }
      },
      "source": [
        "X"
      ],
      "execution_count": 141,
      "outputs": [
        {
          "output_type": "execute_result",
          "data": {
            "text/plain": [
              "array([[   0,    0,    0, ...,  410,  271,   96],\n",
              "       [   0,    0,    0, ...,  129,  556,  146],\n",
              "       [   0,    0,    0, ...,  258, 3046,  803],\n",
              "       ...,\n",
              "       [   0,    0,    0, ...,  493,   35, 4319],\n",
              "       [   0,    0,    0, ...,  810,  102,   45],\n",
              "       [   0,    0,    0, ..., 4464,   10,   24]], dtype=int32)"
            ]
          },
          "metadata": {
            "tags": []
          },
          "execution_count": 141
        }
      ]
    },
    {
      "cell_type": "code",
      "metadata": {
        "id": "poV1SPGweAhy",
        "colab_type": "code",
        "colab": {}
      },
      "source": [
        "Y = pd.get_dummies(data[\"주제\"]).values"
      ],
      "execution_count": 0,
      "outputs": []
    },
    {
      "cell_type": "code",
      "metadata": {
        "id": "Cvrbu_WmivOm",
        "colab_type": "code",
        "outputId": "34a90aa0-d821-4cd9-ba59-0b85b4908170",
        "colab": {
          "base_uri": "https://localhost:8080/",
          "height": 0
        }
      },
      "source": [
        "print(\"shale of label tensor:\", Y.shape)"
      ],
      "execution_count": 143,
      "outputs": [
        {
          "output_type": "stream",
          "text": [
            "shale of label tensor: (318897, 6)\n"
          ],
          "name": "stdout"
        }
      ]
    },
    {
      "cell_type": "code",
      "metadata": {
        "id": "kmjWb9p-izE7",
        "colab_type": "code",
        "colab": {}
      },
      "source": [
        "from sklearn.model_selection import train_test_split"
      ],
      "execution_count": 0,
      "outputs": []
    },
    {
      "cell_type": "code",
      "metadata": {
        "id": "mFrIC5UdjQlJ",
        "colab_type": "code",
        "colab": {}
      },
      "source": [
        "X_train, X_test, Y_train, Y_test = train_test_split(X,Y,test_size = 0.1, random_state = 42)"
      ],
      "execution_count": 0,
      "outputs": []
    },
    {
      "cell_type": "code",
      "metadata": {
        "id": "cbQWL2zxjeYk",
        "colab_type": "code",
        "outputId": "15fd8daa-b22a-41b9-93c4-fc8a39d3c9d0",
        "colab": {
          "base_uri": "https://localhost:8080/",
          "height": 0
        }
      },
      "source": [
        "print(X_train.shape, Y_train.shape)"
      ],
      "execution_count": 146,
      "outputs": [
        {
          "output_type": "stream",
          "text": [
            "(287007, 500) (287007, 6)\n"
          ],
          "name": "stdout"
        }
      ]
    },
    {
      "cell_type": "code",
      "metadata": {
        "id": "dfwwrG7CjhLh",
        "colab_type": "code",
        "outputId": "00017acf-f4d7-42b3-b8a7-843ed61ce989",
        "colab": {
          "base_uri": "https://localhost:8080/",
          "height": 0
        }
      },
      "source": [
        "print(X_test.shape, Y_test.shape)"
      ],
      "execution_count": 147,
      "outputs": [
        {
          "output_type": "stream",
          "text": [
            "(31890, 500) (31890, 6)\n"
          ],
          "name": "stdout"
        }
      ]
    },
    {
      "cell_type": "code",
      "metadata": {
        "id": "N_QFiy1yjlf4",
        "colab_type": "code",
        "colab": {}
      },
      "source": [
        "import tensorflow as tf\n",
        "from tensorflow.keras.models import Sequential\n",
        "from tensorflow.keras.layers import Dense, Dropout, LSTM, CuDNNLSTM, Embedding, SpatialDropout1D, Bidirectional\n",
        "from tensorflow.keras.callbacks import EarlyStopping\n",
        "\n"
      ],
      "execution_count": 0,
      "outputs": []
    },
    {
      "cell_type": "code",
      "metadata": {
        "id": "0HihKIKgkObv",
        "colab_type": "code",
        "colab": {}
      },
      "source": [
        "# EMBEDDING_DIM = 256\n",
        "\n",
        "# def runModel(EMBEDDING_DIM = 256, lstmLayer = 128, layerNum = 1, layerSet = [128], epochs = 2, batch_size = 64, reluDense = False, biDir = False, method = CuDNNLSTM):\n",
        "#   model = Sequential()\n",
        "\n",
        "#   model.add(Embedding(MAX_NB_WORDS, EMBEDDING_DIM))\n",
        "#   model.add(SpatialDropout1D(0.2))\n",
        "#   if method == LSTM:\n",
        "#     method = LSTM\n",
        "#   if biDir == True:\n",
        "#     print(\"biDir is True\")\n",
        "#     model.add(Bidirectional(method(lstmLayer,return_sequences=True)))\n",
        "\n",
        "#     if layerNum > 1:\n",
        "#       print(\"layer num > 1\")\n",
        "#       for i in range(layerNum - 1):\n",
        "#         print(\"add \",i,\"th layer\")\n",
        "#         model.add(method(lstmLayer,return_sequences=True)) \n",
        "#         model.add(Dropout(0.2))\n",
        "#     elif len(layerSet) > 1:\n",
        "#       print(\"len(layerSet) > 1\")\n",
        "#       for i, layerWid in enumerate(layerSet):\n",
        "#         print(\"add \",i,\"th layer\")\n",
        "#         model.add(method(layerWid,return_sequences=True)) \n",
        "#         model.add(Dropout(0.2)) \n",
        "#     else:\n",
        "#       model.add(Bidirectional(method(lstmLayer)))\n",
        "#   # model.add(method(128,return_sequences=True)) \n",
        "#   # model.add(Dropout(0.2))\n",
        "#   # model.add(Dense(7, activation='softmax'))\n",
        "\n",
        "#   # model.add(method(128,return_sequences=True)) \n",
        "#   # model.add(Dropout(0.2))\n",
        "\n",
        "#   # model.add(method(128,return_sequences=True)) \n",
        "#   # model.add(Dropout(0.2))\n",
        "\n",
        "#   # model.add(method(128,return_sequences=True)) \n",
        "#   # model.add(Dropout(0.2))\n",
        "#   else:\n",
        "#     # model.add(SpatialDropout1D(0.2))\n",
        "\n",
        "#     if layerNum > 1:\n",
        "#       for i in range(layerNum - 1):\n",
        "#         print(\"add \",i,\"th layer\")\n",
        "#         model.add(method(lstmLayer,return_sequences=True)) \n",
        "#         model.add(Dropout(0.2))\n",
        "#     elif len(layerSet) > 1:\n",
        "#       for i, layerWid in enumerate(layerSet):\n",
        "#         print(\"add \",i,\"th layer\")\n",
        "#         model.add(CuDNNLSTM(layerWid,return_sequences=True)) \n",
        "#         model.add(Dropout(0.2))\n",
        "\n",
        "#   model.add(method(lstmLayer)) \n",
        "#   model.add(Dropout(0.2))\n",
        "\n",
        "#   # model.add(Dense(32,activation='relu'))\n",
        "\n",
        "#   # model.add(LSTM(100, dropout = 0.2, recurrent_dropout=0.2))\n",
        "\n",
        "#   if reluDense == True:\n",
        "#     model.add(Dense(EMBEDDING_DIM, activation = 'relu'))\n",
        "#     model.add(Dropout(0.2))\n",
        "\n",
        "#   model.add(Dense(9, activation='softmax'))\n",
        "#   opt = tf.keras.optimizers.Adam(lr=1e-3, decay = 1e-5)\n",
        "#   model.summary()\n",
        "#   # model.compile(loss='categorical_crossentropy', optimizer = opt, metrics = ['accuracy'])\n",
        "#   # model.compile(loss='sparse_categorical_crossentropy', optimizer = 'adam', metrics = ['accuracy'])\n",
        "#   model.compile(loss='categorical_crossentropy', optimizer = 'adam', metrics = ['accuracy'])\n",
        "\n",
        "#   # epochs = 2\n",
        "#   # batch_size = 64\n",
        "\n",
        "#   history = model.fit(X_train, Y_train, epochs = epochs, batch_size = batch_size, validation_split=0.1, callbacks=[EarlyStopping(monitor='val_loss', patience=3, min_delta=0.0001)])\n",
        "\n",
        "#   #accuracy show\n",
        "#   accr = model.evaluate(X_test,Y_test)\n",
        "#   print('Test set\\n  Loss: {:0.3f}\\n  Accuracy: {:0.3f}'.format(accr[0],accr[1]))\n",
        "\n",
        "#   #accuracy graph\n",
        "#   plt.title('Loss')\n",
        "#   plt.plot(history.history['loss'], label='train')\n",
        "#   plt.plot(history.history['val_loss'], label='test')\n",
        "#   plt.legend()\n",
        "#   plt.show();\n",
        "\n",
        "#   plt.title('Accuracy')\n",
        "#   plt.plot(history.history['acc'], label='train')\n",
        "#   plt.plot(history.history['val_acc'], label='test')\n",
        "#   plt.legend()\n",
        "#   plt.show();"
      ],
      "execution_count": 0,
      "outputs": []
    },
    {
      "cell_type": "markdown",
      "metadata": {
        "id": "XFhTelwqrqr3",
        "colab_type": "text"
      },
      "source": [
        "# 기본적인 모델\n",
        "* 그런데 epoch =1, 과 2일 때 차이가 0.3이 난다. 에폭을 더 늘려서 시도해볼 필요성이 있어보인다.\n",
        "* 에폭 = 2 -> 8.3\n",
        "* 에폭 = 5- > "
      ]
    },
    {
      "cell_type": "code",
      "metadata": {
        "id": "M5_QzZJNofrT",
        "colab_type": "code",
        "outputId": "d616eb23-13f5-44b2-ebdf-51c2632e3a0e",
        "colab": {
          "base_uri": "https://localhost:8080/",
          "height": 1000
        }
      },
      "source": [
        "\n",
        "\n",
        "model = Sequential()\n",
        "EMBEDDING_DIM = 512\n",
        "model.add(Embedding(MAX_NB_WORDS, EMBEDDING_DIM))\n",
        "\n",
        "model.add(CuDNNLSTM(EMBEDDING_DIM)) \n",
        "model.add(Dropout(0.2))\n",
        "model.add(Dense(EMBEDDING_DIM/2, activation='relu'))\n",
        "model.add(Dropout(0.2))\n",
        "\n",
        "model.add(Dense(len(topicList), activation='softmax'))\n",
        "model.summary()\n",
        "model.compile(loss='categorical_crossentropy', optimizer = 'adam', metrics = ['accuracy'])\n",
        "\n",
        "\n",
        "epochs = 2\n",
        "batch_size = 64\n",
        "history = model.fit(X_train, Y_train, epochs = epochs, batch_size = batch_size, validation_split=0.1, callbacks=[EarlyStopping(monitor='val_loss', patience=3, min_delta=0.0001)])\n",
        "\n",
        "#accuracy show\n",
        "accr = model.evaluate(X_test,Y_test)\n",
        "print('Test set\\n  Loss: {:0.3f}\\n  Accuracy: {:0.3f}'.format(accr[0],accr[1]))\n",
        "\n",
        "#accuracy graph\n",
        "plt.title('Loss')\n",
        "plt.plot(history.history['loss'], label='train')\n",
        "plt.plot(history.history['val_loss'], label='test')\n",
        "plt.legend()\n",
        "plt.show();\n",
        "\n",
        "plt.title('Accuracy')\n",
        "plt.plot(history.history['acc'], label='train')\n",
        "plt.plot(history.history['val_acc'], label='test')\n",
        "plt.legend()\n",
        "plt.show();"
      ],
      "execution_count": 151,
      "outputs": [
        {
          "output_type": "stream",
          "text": [
            "Model: \"sequential_4\"\n",
            "_________________________________________________________________\n",
            "Layer (type)                 Output Shape              Param #   \n",
            "=================================================================\n",
            "embedding_4 (Embedding)      (None, None, 512)         2560000   \n",
            "_________________________________________________________________\n",
            "cu_dnnlstm_4 (CuDNNLSTM)     (None, 512)               2101248   \n",
            "_________________________________________________________________\n",
            "dropout_8 (Dropout)          (None, 512)               0         \n",
            "_________________________________________________________________\n",
            "dense_8 (Dense)              (None, 256)               131328    \n",
            "_________________________________________________________________\n",
            "dropout_9 (Dropout)          (None, 256)               0         \n",
            "_________________________________________________________________\n",
            "dense_9 (Dense)              (None, 6)                 1542      \n",
            "=================================================================\n",
            "Total params: 4,794,118\n",
            "Trainable params: 4,794,118\n",
            "Non-trainable params: 0\n",
            "_________________________________________________________________\n",
            "Train on 258306 samples, validate on 28701 samples\n",
            "Epoch 1/2\n",
            "258306/258306 [==============================] - 457s 2ms/sample - loss: 0.4498 - acc: 0.8473 - val_loss: 0.3299 - val_acc: 0.8808\n",
            "Epoch 2/2\n",
            "258306/258306 [==============================] - 448s 2ms/sample - loss: 0.2950 - acc: 0.8968 - val_loss: 0.2938 - val_acc: 0.8956\n",
            "31890/31890 [==============================] - 36s 1ms/sample - loss: 0.2822 - acc: 0.8987\n",
            "Test set\n",
            "  Loss: 0.282\n",
            "  Accuracy: 0.899\n"
          ],
          "name": "stdout"
        },
        {
          "output_type": "display_data",
          "data": {
            "image/png": "[encoded data removed]",
            "text/plain": [
              "<Figure size 432x288 with 1 Axes>"
            ]
          },
          "metadata": {
            "tags": []
          }
        },
        {
          "output_type": "display_data",
          "data": {
            "image/png": "[encoded data removed]",
            "text/plain": [
              "<Figure size 432x288 with 1 Axes>"
            ]
          },
          "metadata": {
            "tags": []
          }
        }
      ]
    },
    {
      "cell_type": "code",
      "metadata": {
        "id": "7FjHJGE7l1P9",
        "colab_type": "code",
        "colab": {}
      },
      "source": [
        ""
      ],
      "execution_count": 0,
      "outputs": []
    },
    {
      "cell_type": "markdown",
      "metadata": {
        "id": "pr0bZyAxl7Nz",
        "colab_type": "text"
      },
      "source": [
        "## 버리기 dropout = 0.4\n",
        "* 과적합을 없애보자!"
      ]
    },
    {
      "cell_type": "code",
      "metadata": {
        "id": "BHRLEtjql1-d",
        "colab_type": "code",
        "outputId": "f894f2c5-2778-4dae-d7cc-480f7f125858",
        "colab": {
          "base_uri": "https://localhost:8080/",
          "height": 1000
        }
      },
      "source": [
        "\n",
        "\n",
        "model = Sequential()\n",
        "EMBEDDING_DIM = 512\n",
        "model.add(Embedding(MAX_NB_WORDS, EMBEDDING_DIM))\n",
        "\n",
        "model.add(CuDNNLSTM(EMBEDDING_DIM)) \n",
        "model.add(Dropout(0.4))\n",
        "model.add(Dense(EMBEDDING_DIM/2, activation='relu'))\n",
        "model.add(Dropout(0.4))\n",
        "\n",
        "model.add(Dense(7, activation='softmax'))\n",
        "model.summary()\n",
        "model.compile(loss='categorical_crossentropy', optimizer = 'adam', metrics = ['accuracy'])\n",
        "\n",
        "\n",
        "epochs = 10\n",
        "batch_size = 64\n",
        "history = model.fit(X_train, Y_train, epochs = epochs, batch_size = batch_size, validation_split=0.1, callbacks=[EarlyStopping(monitor='val_loss', patience=3, min_delta=0.0001)])\n",
        "\n",
        "#accuracy show\n",
        "accr = model.evaluate(X_test,Y_test)\n",
        "print('Test set\\n  Loss: {:0.3f}\\n  Accuracy: {:0.3f}'.format(accr[0],accr[1]))\n",
        "\n",
        "#accuracy graph\n",
        "plt.title('Loss')\n",
        "plt.plot(history.history['loss'], label='train')\n",
        "plt.plot(history.history['val_loss'], label='test')\n",
        "plt.legend()\n",
        "plt.show();\n",
        "\n",
        "plt.title('Accuracy')\n",
        "plt.plot(history.history['acc'], label='train')\n",
        "plt.plot(history.history['val_acc'], label='test')\n",
        "plt.legend()\n",
        "plt.show();"
      ],
      "execution_count": 0,
      "outputs": [
        {
          "output_type": "stream",
          "text": [
            "Model: \"sequential_5\"\n",
            "_________________________________________________________________\n",
            "Layer (type)                 Output Shape              Param #   \n",
            "=================================================================\n",
            "embedding_5 (Embedding)      (None, None, 512)         2560000   \n",
            "_________________________________________________________________\n",
            "cu_dnnlstm_6 (CuDNNLSTM)     (None, 512)               2101248   \n",
            "_________________________________________________________________\n",
            "dropout_4 (Dropout)          (None, 512)               0         \n",
            "_________________________________________________________________\n",
            "dense_9 (Dense)              (None, 256)               131328    \n",
            "_________________________________________________________________\n",
            "dropout_5 (Dropout)          (None, 256)               0         \n",
            "_________________________________________________________________\n",
            "dense_10 (Dense)             (None, 7)                 1799      \n",
            "=================================================================\n",
            "Total params: 4,794,375\n",
            "Trainable params: 4,794,375\n",
            "Non-trainable params: 0\n",
            "_________________________________________________________________\n",
            "Train on 76875 samples, validate on 8542 samples\n",
            "Epoch 1/10\n",
            "76875/76875 [==============================] - 141s 2ms/sample - loss: 0.7124 - acc: 0.7717 - val_loss: 0.4695 - val_acc: 0.8493\n",
            "Epoch 2/10\n",
            "76875/76875 [==============================] - 137s 2ms/sample - loss: 0.3713 - acc: 0.8751 - val_loss: 0.3642 - val_acc: 0.8767\n",
            "Epoch 3/10\n",
            "76875/76875 [==============================] - 137s 2ms/sample - loss: 0.2943 - acc: 0.8963 - val_loss: 0.3539 - val_acc: 0.8780\n",
            "Epoch 4/10\n",
            "76875/76875 [==============================] - 138s 2ms/sample - loss: 0.2442 - acc: 0.9132 - val_loss: 0.3744 - val_acc: 0.8786\n",
            "Epoch 5/10\n",
            "76875/76875 [==============================] - 137s 2ms/sample - loss: 0.1985 - acc: 0.9288 - val_loss: 0.3793 - val_acc: 0.8774\n",
            "Epoch 6/10\n",
            "76875/76875 [==============================] - 137s 2ms/sample - loss: 0.1618 - acc: 0.9417 - val_loss: 0.4028 - val_acc: 0.8835\n",
            "9491/9491 [==============================] - 11s 1ms/sample - loss: 0.4029 - acc: 0.8833\n",
            "Test set\n",
            "  Loss: 0.403\n",
            "  Accuracy: 0.883\n"
          ],
          "name": "stdout"
        },
        {
          "output_type": "display_data",
          "data": {
            "image/png": "[encoded data removed]",
            "text/plain": [
              "<Figure size 432x288 with 1 Axes>"
            ]
          },
          "metadata": {
            "tags": []
          }
        },
        {
          "output_type": "display_data",
          "data": {
            "image/png": "[encoded data removed]",
            "text/plain": [
              "<Figure size 432x288 with 1 Axes>"
            ]
          },
          "metadata": {
            "tags": []
          }
        }
      ]
    },
    {
      "cell_type": "code",
      "metadata": {
        "id": "3cjhD1Hjjrm6",
        "colab_type": "code",
        "colab": {}
      },
      "source": [
        ""
      ],
      "execution_count": 0,
      "outputs": []
    },
    {
      "cell_type": "markdown",
      "metadata": {
        "id": "CUe7bzQ4vIWK",
        "colab_type": "text"
      },
      "source": [
        "# biDirectional model\n",
        "별 차이가 없다... 여전히 에폭 수를 늘리는 것을 고려해보아야..."
      ]
    },
    {
      "cell_type": "code",
      "metadata": {
        "id": "soH86zgBq3bg",
        "colab_type": "code",
        "colab": {}
      },
      "source": [
        "model = Sequential()\n",
        "EMBEDDING_DIM = 64\n",
        "model.add(Embedding(MAX_NB_WORDS, EMBEDDING_DIM))\n",
        "model.add(Bidirectional(CuDNNLSTM(EMBEDDING_DIM,return_sequences=True)))\n",
        "\n",
        "# model.add(CuDNNLSTM(EMBEDDING_DIM,return_sequences=True)) \n",
        "model.add(CuDNNLSTM(EMBEDDING_DIM)) \n",
        "model.add(Dense(7, activation='softmax'))\n",
        "model.summary()\n",
        "model.compile(loss='categorical_crossentropy', optimizer = 'adam', metrics = ['accuracy'])\n",
        "\n",
        "\n",
        "epochs = 10\n",
        "batch_size = 64\n",
        "history = model.fit(X_train, Y_train, epochs = epochs, batch_size = batch_size, validation_split=0.1, callbacks=[EarlyStopping(monitor='val_loss', patience=3, min_delta=0.0001)])\n",
        "\n",
        "#accuracy show\n",
        "accr = model.evaluate(X_test,Y_test)\n",
        "print('Test set\\n  Loss: {:0.3f}\\n  Accuracy: {:0.3f}'.format(accr[0],accr[1]))\n",
        "\n",
        "#accuracy graph\n",
        "plt.title('Loss')\n",
        "plt.plot(history.history['loss'], label='train')\n",
        "plt.plot(history.history['val_loss'], label='test')\n",
        "plt.legend()\n",
        "plt.show();\n",
        "\n",
        "plt.title('Accuracy')\n",
        "plt.plot(history.history['acc'], label='train')\n",
        "plt.plot(history.history['val_acc'], label='test')\n",
        "plt.legend()\n",
        "plt.show();"
      ],
      "execution_count": 0,
      "outputs": []
    },
    {
      "cell_type": "markdown",
      "metadata": {
        "id": "i1eRGLRoxTMP",
        "colab_type": "text"
      },
      "source": [
        "# dense 30을 추가한 모형\n",
        "* 고만고만..."
      ]
    },
    {
      "cell_type": "code",
      "metadata": {
        "id": "mO9zTHLVvQeX",
        "colab_type": "code",
        "colab": {}
      },
      "source": [
        "model = Sequential()\n",
        "EMBEDDING_DIM = 64\n",
        "model.add(Embedding(MAX_NB_WORDS, EMBEDDING_DIM))\n",
        "# model.add(Bidirectional(CuDNNLSTM(EMBEDDING_DIM,return_sequences=True)))\n",
        "\n",
        "# model.add(CuDNNLSTM(EMBEDDING_DIM,return_sequences=True)) \n",
        "model.add(CuDNNLSTM(EMBEDDING_DIM)) \n",
        "model.add(Dense(EMBEDDING_DIM/2, activation='relu'))\n",
        "model.add(Dense(9, activation='softmax'))\n",
        "model.summary()\n",
        "model.compile(loss='categorical_crossentropy', optimizer = 'adam', metrics = ['accuracy'])\n",
        "\n",
        "\n",
        "epochs = 2\n",
        "batch_size = 64\n",
        "history = model.fit(X_train, Y_train, epochs = epochs, batch_size = batch_size, validation_split=0.1, callbacks=[EarlyStopping(monitor='val_loss', patience=3, min_delta=0.0001)])\n",
        "\n",
        "#accuracy show\n",
        "accr = model.evaluate(X_test,Y_test)\n",
        "print('Test set\\n  Loss: {:0.3f}\\n  Accuracy: {:0.3f}'.format(accr[0],accr[1]))\n",
        "\n",
        "#accuracy graph\n",
        "plt.title('Loss')\n",
        "plt.plot(history.history['loss'], label='train')\n",
        "plt.plot(history.history['val_loss'], label='test')\n",
        "plt.legend()\n",
        "plt.show();\n",
        "\n",
        "plt.title('Accuracy')\n",
        "plt.plot(history.history['acc'], label='train')\n",
        "plt.plot(history.history['val_acc'], label='test')\n",
        "plt.legend()\n",
        "plt.show();"
      ],
      "execution_count": 0,
      "outputs": []
    },
    {
      "cell_type": "markdown",
      "metadata": {
        "id": "1kjyWrhC3AD2",
        "colab_type": "text"
      },
      "source": [
        "# 노드 수 512\n",
        "* 조금 커졌지만... 과적합"
      ]
    },
    {
      "cell_type": "code",
      "metadata": {
        "id": "j2iv81jbxZmK",
        "colab_type": "code",
        "colab": {}
      },
      "source": [
        "model = Sequential()\n",
        "EMBEDDING_DIM = 512\n",
        "model.add(Embedding(MAX_NB_WORDS, EMBEDDING_DIM))\n",
        "# model.add(Bidirectional(CuDNNLSTM(EMBEDDING_DIM,return_sequences=True)))\n",
        "\n",
        "# model.add(CuDNNLSTM(EMBEDDING_DIM,return_sequences=True)) \n",
        "model.add(CuDNNLSTM(EMBEDDING_DIM)) \n",
        "model.add(Dense(EMBEDDING_DIM/2, activation='relu'))\n",
        "model.add(Dense(9, activation='softmax'))\n",
        "model.summary()\n",
        "model.compile(loss='categorical_crossentropy', optimizer = 'adam', metrics = ['accuracy'])\n",
        "\n",
        "\n",
        "epochs = 2\n",
        "batch_size = 64\n",
        "history = model.fit(X_train, Y_train, epochs = epochs, batch_size = batch_size, validation_split=0.1, callbacks=[EarlyStopping(monitor='val_loss', patience=3, min_delta=0.0001)])\n",
        "\n",
        "#accuracy show\n",
        "accr = model.evaluate(X_test,Y_test)\n",
        "print('Test set\\n  Loss: {:0.3f}\\n  Accuracy: {:0.3f}'.format(accr[0],accr[1]))\n",
        "\n",
        "#accuracy graph\n",
        "plt.title('Loss')\n",
        "plt.plot(history.history['loss'], label='train')\n",
        "plt.plot(history.history['val_loss'], label='test')\n",
        "plt.legend()\n",
        "plt.show();\n",
        "\n",
        "plt.title('Accuracy')\n",
        "plt.plot(history.history['acc'], label='train')\n",
        "plt.plot(history.history['val_acc'], label='test')\n",
        "plt.legend()\n",
        "plt.show();"
      ],
      "execution_count": 0,
      "outputs": []
    },
    {
      "cell_type": "markdown",
      "metadata": {
        "id": "4ASHBu8U3HS5",
        "colab_type": "text"
      },
      "source": [
        "# spatial layer 모형"
      ]
    },
    {
      "cell_type": "code",
      "metadata": {
        "id": "yUDLEMVw3IBI",
        "colab_type": "code",
        "outputId": "16564f84-e28f-42a6-fd56-580b790e82fb",
        "colab": {
          "base_uri": "https://localhost:8080/",
          "height": 1000
        }
      },
      "source": [
        "model = Sequential()\n",
        "EMBEDDING_DIM = 512\n",
        "model.add(Embedding(MAX_NB_WORDS, EMBEDDING_DIM))\n",
        "# model.add(Bidirectional(CuDNNLSTM(EMBEDDING_DIM,return_sequences=True)))\n",
        "model.add(SpatialDropout1D(0.2))\n",
        "\n",
        "# model.add(CuDNNLSTM(EMBEDDING_DIM,return_sequences=True)) \n",
        "model.add(CuDNNLSTM(EMBEDDING_DIM)) \n",
        "model.add(Dense(EMBEDDING_DIM/2, activation='relu'))\n",
        "model.add(Dense(7, activation='softmax'))\n",
        "model.summary()\n",
        "model.compile(loss='categorical_crossentropy', optimizer = 'adam', metrics = ['accuracy'])\n",
        "\n",
        "\n",
        "epochs = 2\n",
        "batch_size = 64\n",
        "history = model.fit(X_train, Y_train, epochs = epochs, batch_size = batch_size, validation_split=0.1, callbacks=[EarlyStopping(monitor='val_loss', patience=3, min_delta=0.0001)])\n",
        "\n",
        "#accuracy show\n",
        "accr = model.evaluate(X_test,Y_test)\n",
        "print('Test set\\n  Loss: {:0.3f}\\n  Accuracy: {:0.3f}'.format(accr[0],accr[1]))\n",
        "\n",
        "#accuracy graph\n",
        "plt.title('Loss')\n",
        "plt.plot(history.history['loss'], label='train')\n",
        "plt.plot(history.history['val_loss'], label='test')\n",
        "plt.legend()\n",
        "plt.show();\n",
        "\n",
        "plt.title('Accuracy')\n",
        "plt.plot(history.history['acc'], label='train')\n",
        "plt.plot(history.history['val_acc'], label='test')\n",
        "plt.legend()\n",
        "plt.show();"
      ],
      "execution_count": 0,
      "outputs": [
        {
          "output_type": "stream",
          "text": [
            "Model: \"sequential_3\"\n",
            "_________________________________________________________________\n",
            "Layer (type)                 Output Shape              Param #   \n",
            "=================================================================\n",
            "embedding_3 (Embedding)      (None, None, 512)         2560000   \n",
            "_________________________________________________________________\n",
            "spatial_dropout1d_1 (Spatial (None, None, 512)         0         \n",
            "_________________________________________________________________\n",
            "cu_dnnlstm_3 (CuDNNLSTM)     (None, 512)               2101248   \n",
            "_________________________________________________________________\n",
            "dense_6 (Dense)              (None, 256)               131328    \n",
            "_________________________________________________________________\n",
            "dense_7 (Dense)              (None, 7)                 1799      \n",
            "=================================================================\n",
            "Total params: 4,794,375\n",
            "Trainable params: 4,794,375\n",
            "Non-trainable params: 0\n",
            "_________________________________________________________________\n",
            "Train on 76875 samples, validate on 8542 samples\n",
            "Epoch 1/2\n",
            "76875/76875 [==============================] - 142s 2ms/sample - loss: 0.6774 - acc: 0.7815 - val_loss: 0.5336 - val_acc: 0.8177\n",
            "Epoch 2/2\n",
            "76875/76875 [==============================] - 138s 2ms/sample - loss: 0.3904 - acc: 0.8689 - val_loss: 0.4000 - val_acc: 0.8592\n",
            "9491/9491 [==============================] - 11s 1ms/sample - loss: 0.3820 - acc: 0.8671\n",
            "Test set\n",
            "  Loss: 0.382\n",
            "  Accuracy: 0.867\n"
          ],
          "name": "stdout"
        },
        {
          "output_type": "display_data",
          "data": {
            "image/png": "[encoded data removed]",
            "text/plain": [
              "<Figure size 432x288 with 1 Axes>"
            ]
          },
          "metadata": {
            "tags": []
          }
        },
        {
          "output_type": "display_data",
          "data": {
            "image/png": "[encoded data removed]",
            "text/plain": [
              "<Figure size 432x288 with 1 Axes>"
            ]
          },
          "metadata": {
            "tags": []
          }
        }
      ]
    },
    {
      "cell_type": "code",
      "metadata": {
        "id": "HtGfAk9-8Q5H",
        "colab_type": "code",
        "colab": {}
      },
      "source": [
        "# "
      ],
      "execution_count": 0,
      "outputs": []
    },
    {
      "cell_type": "code",
      "metadata": {
        "id": "_rpi2tky8R1z",
        "colab_type": "code",
        "colab": {}
      },
      "source": [
        "model = Sequential()\n",
        "EMBEDDING_DIM = 256\n",
        "model.add(Embedding(MAX_NB_WORDS, EMBEDDING_DIM))\n",
        "# model.add(Bidirectional(CuDNNLSTM(EMBEDDING_DIM,return_sequences=True)))\n",
        "# model.add(SpatialDropout1D(0.2))\n",
        "\n",
        "# model.add(CuDNNLSTM(EMBEDDING_DIM,return_sequences=True)) \n",
        "model.add(CuDNNLSTM(EMBEDDING_DIM)) \n",
        "model.add(Dense(EMBEDDING_DIM/2, activation='relu'))\n",
        "model.add(Dense(9, activation='softmax'))\n",
        "model.summary()\n",
        "model.compile(loss='categorical_crossentropy', optimizer = 'adam', metrics = ['accuracy'])\n",
        "\n",
        "\n",
        "epochs = 10\n",
        "batch_size = 64\n",
        "history = model.fit(X_train, Y_train, epochs = epochs, batch_size = batch_size, validation_split=0.1, callbacks=[EarlyStopping(monitor='val_loss', patience=3, min_delta=0.0001)])\n",
        "\n",
        "#accuracy show\n",
        "accr = model.evaluate(X_test,Y_test)\n",
        "print('Test set\\n  Loss: {:0.3f}\\n  Accuracy: {:0.3f}'.format(accr[0],accr[1]))\n",
        "\n",
        "#accuracy graph\n",
        "plt.title('Loss')\n",
        "plt.plot(history.history['loss'], label='train')\n",
        "plt.plot(history.history['val_loss'], label='test')\n",
        "plt.legend()\n",
        "plt.show();\n",
        "\n",
        "plt.title('Accuracy')\n",
        "plt.plot(history.history['acc'], label='train')\n",
        "plt.plot(history.history['val_acc'], label='test')\n",
        "plt.legend()\n",
        "plt.show();"
      ],
      "execution_count": 0,
      "outputs": []
    },
    {
      "cell_type": "code",
      "metadata": {
        "id": "jStbX7ITgzVd",
        "colab_type": "code",
        "colab": {}
      },
      "source": [
        "runModel(64,64, layerNum=1, batch_size = 32, epochs = 2, reluDense=True)#, biDir = True"
      ],
      "execution_count": 0,
      "outputs": []
    },
    {
      "cell_type": "code",
      "metadata": {
        "id": "fd2zc-NsZ8WI",
        "colab_type": "code",
        "colab": {}
      },
      "source": [
        "runModel(512,512, layerNum=1, batch_size = 256, epochs = 2, reluDense=True)#, biDir = True)"
      ],
      "execution_count": 0,
      "outputs": []
    },
    {
      "cell_type": "code",
      "metadata": {
        "id": "tmkoZ56OZva2",
        "colab_type": "code",
        "colab": {}
      },
      "source": [
        "runModel(64,64, layerNum=8, batch_size = 256, epochs = 2, reluDense=True)#, biDir = True)"
      ],
      "execution_count": 0,
      "outputs": []
    },
    {
      "cell_type": "code",
      "metadata": {
        "id": "JRu6y366U9yA",
        "colab_type": "code",
        "colab": {}
      },
      "source": [
        "runModel(64,64, layerNum=3, batch_size = 256, epochs = 2, reluDense=True)#, biDir = True)"
      ],
      "execution_count": 0,
      "outputs": []
    },
    {
      "cell_type": "code",
      "metadata": {
        "id": "zNvc3QKaUP-m",
        "colab_type": "code",
        "colab": {}
      },
      "source": [
        "runModel(64,64, batch_size = 256, epochs = 2, reluDense=True, biDir = True)# batch size 128 was fine... not overfitting. Test overcomes trains."
      ],
      "execution_count": 0,
      "outputs": []
    },
    {
      "cell_type": "code",
      "metadata": {
        "id": "1qR9ciVxSAgg",
        "colab_type": "code",
        "colab": {}
      },
      "source": [
        "runModel(64,64, batch_size = 128, epochs = 2, reluDense=True, biDir = True)"
      ],
      "execution_count": 0,
      "outputs": []
    },
    {
      "cell_type": "code",
      "metadata": {
        "id": "y1dEaRT3UlE7",
        "colab_type": "code",
        "colab": {}
      },
      "source": [
        "runModel(256,256)"
      ],
      "execution_count": 0,
      "outputs": []
    },
    {
      "cell_type": "code",
      "metadata": {
        "id": "U5f50EkONdoX",
        "colab_type": "code",
        "colab": {}
      },
      "source": [
        "runModel(512,256)"
      ],
      "execution_count": 0,
      "outputs": []
    },
    {
      "cell_type": "code",
      "metadata": {
        "id": "mIdCbfKmPgPg",
        "colab_type": "code",
        "colab": {}
      },
      "source": [
        "runModel(512,512)"
      ],
      "execution_count": 0,
      "outputs": []
    },
    {
      "cell_type": "code",
      "metadata": {
        "id": "CKKk8Zo4ULj8",
        "colab_type": "code",
        "colab": {}
      },
      "source": [
        "runModel(128,128, layerNum = 2)"
      ],
      "execution_count": 0,
      "outputs": []
    },
    {
      "cell_type": "code",
      "metadata": {
        "id": "9xg3wKogT_J0",
        "colab_type": "code",
        "colab": {}
      },
      "source": [
        "runModel(128,128, layerNum = 3)"
      ],
      "execution_count": 0,
      "outputs": []
    },
    {
      "cell_type": "code",
      "metadata": {
        "id": "N5KaKZBVYY6L",
        "colab_type": "code",
        "colab": {}
      },
      "source": [
        "runModel(128,128, layerNum = 3, batch_size = 32)"
      ],
      "execution_count": 0,
      "outputs": []
    },
    {
      "cell_type": "code",
      "metadata": {
        "id": "7eZDejBMfLcP",
        "colab_type": "code",
        "colab": {}
      },
      "source": [
        "runModel(128,128, layerNum = 3, batch_size = 32, epoch = 10)"
      ],
      "execution_count": 0,
      "outputs": []
    },
    {
      "cell_type": "code",
      "metadata": {
        "id": "-hvLynIzfu7e",
        "colab_type": "code",
        "colab": {}
      },
      "source": [
        "# max num : 50000 -> 5000\n",
        "runModel(64,64, layerNum = 3, batch_size = 32, epochs = 10, reluDense=True)"
      ],
      "execution_count": 0,
      "outputs": []
    },
    {
      "cell_type": "code",
      "metadata": {
        "id": "ewl0BGa0o1Pz",
        "colab_type": "code",
        "colab": {}
      },
      "source": [
        "runModel(64,64, batch_size = 32, epochs = 2, reluDense=True, biDir = True)"
      ],
      "execution_count": 0,
      "outputs": []
    },
    {
      "cell_type": "code",
      "metadata": {
        "id": "ELZmwi2gYi4o",
        "colab_type": "code",
        "colab": {}
      },
      "source": [
        "runModel(128,128, layerNum = 3, batch_size = 16)"
      ],
      "execution_count": 0,
      "outputs": []
    },
    {
      "cell_type": "code",
      "metadata": {
        "id": "oWQKCqo_YlBC",
        "colab_type": "code",
        "colab": {}
      },
      "source": [
        "runModel(128,128, layerNum = 3, batch_size = 128)"
      ],
      "execution_count": 0,
      "outputs": []
    },
    {
      "cell_type": "code",
      "metadata": {
        "id": "Mc19_AQ1dMa-",
        "colab_type": "code",
        "colab": {}
      },
      "source": [
        "runModel(128,128, layerNum = 3, batch_size = 256)"
      ],
      "execution_count": 0,
      "outputs": []
    },
    {
      "cell_type": "code",
      "metadata": {
        "id": "DyFNDa0lSCWR",
        "colab_type": "code",
        "colab": {}
      },
      "source": [
        "runModel(512,512, epochs = 10)"
      ],
      "execution_count": 0,
      "outputs": []
    },
    {
      "cell_type": "code",
      "metadata": {
        "id": "JSINh081OC6t",
        "colab_type": "code",
        "colab": {}
      },
      "source": [
        "runModel(256, 64, layerNum = 4)"
      ],
      "execution_count": 0,
      "outputs": []
    },
    {
      "cell_type": "code",
      "metadata": {
        "id": "ojmKoKogPkWu",
        "colab_type": "code",
        "colab": {}
      },
      "source": [
        "runModel(256,256,epochs = 4)"
      ],
      "execution_count": 0,
      "outputs": []
    },
    {
      "cell_type": "code",
      "metadata": {
        "id": "MTBQ7LXFPouH",
        "colab_type": "code",
        "colab": {}
      },
      "source": [
        "runModel(256,256,batch_size = )"
      ],
      "execution_count": 0,
      "outputs": []
    },
    {
      "cell_type": "markdown",
      "metadata": {
        "id": "B1I1XFc4B20w",
        "colab_type": "text"
      },
      "source": [
        "# 개별 테스트"
      ]
    },
    {
      "cell_type": "code",
      "metadata": {
        "id": "qsl_sqRpnXNl",
        "colab_type": "code",
        "colab": {}
      },
      "source": [
        "test = [\"\"\"\n",
        "봉준호 감독의 영화 '기생충'이 지난 9일(현지시간) 아카데미 시상식에서 4관왕을 차지한 뒤 정치권에서도 봉 감독과 '기생충'의 쾌거에 찬사를 보내고 있다. 자유한국당에서도 \"기념비적인 사건\"이라며 봉 감독을 치켜세웠는데, 진중권 전 동양대 교수는 이를 두고 \"얼굴이 두텁다(두껍다)\"고 비판했다.\n",
        "\n",
        "진 전 교수는 11일 자신의 페이스북을 통해 \"한국의 보수, 절망적이다\"라고 했다. 진 전 교수는 \"봉준호 감독은 블랙리스트에 올려놓고, CJ 이미경 부회장은 자리에서 끌어내려 미국으로 망명 보냈던 분들 아닌가\"라며 \"이제 와서 봉준호 감독의 쾌거에 숟가락 올려놓으려 하다니 얼굴도 참 두터우시다\"라고 비꼬았다.\n",
        "\n",
        "전날인 10일 박용찬 자유한국당 대변인은 '기생충' 오스카 수상 소식이 전해지자 논평을 내고 \"한국 영화 기생충이 새로운 역사를 썼다\"며 \"지난해 칸영화제 황금종려상을 시작으로 연이어 들려온 놀라운 소식\"이라고 했다. 한국당은 또 \"전 세계에 한국 영화, 한국 문화의 힘을 알린 기념비적인 사건이라 할 수 있을 것\"이라고 부연했다.\n",
        "\n",
        "또 강효상 자유한국당 의원도 이날 자유한국당 원내대책회의에서 \"대구신청사 옆 두류 공원에 '봉준호 영화박물관'을 건립해 대구신청사와 함께 세계적인 영화테마 관광메카로 만들겠다\"고 말했다. 봉 감독이 대구출신이라는 이유에서 나온 발언이다.\n",
        "\n",
        "이에 대해서도 진 전 교수는 박정희 전 대통령 생가복원 마인드라고 꼬집으면서 \"이 소식이 외신으로 나가면 문화강국 한국의 이미지에 먹칠을 할 것\"이라고 비난했다. 그러면서 \"이분들, 마인드가 딱 70년대에 가 있다\"고 비판하기도 했다.\n",
        "\n",
        "이명박 정부 시기에는 봉 감독을 포함해 영화인 52명이 블랙리스트에 올랐다. 특히 당시 청와대 기획관리실에서 작성한 내부 문건에는 봉 감독의 영화 '괴물'을 \"대중이 쉽게 접하고 무의식중에 좌파 메시지에 동조하게 만드는 좋은 수단인 영화를 중심으로 국민의식 좌경화 추진\" 사례로 들었다.\n",
        "\n",
        "문화예술계 블랙리스트 진상조사 및 제도개선위원회가 지난해 2월 발간한 '문화예술계 블랙리스트 진상조사 및 제도개선위원회 백서'에는 '괴물'을 포함해 '설국열차', '살인의 추억' 등 봉 감독의 영화 세 편이 블랙리스트 영화로 등장한다.\n",
        "\n",
        "봉 감독 외에도 배우 송강호 역시 '문화체육관광부 9473명 명단'에 블랙리스트로 등장한다. 송강호는 문화예술인 594명이 2015년 5월 1일 발표한 '세월호 정부 시행령 폐기 촉구 성명'을 발표해 블랙리스트에 포함됐다.\n",
        "\"\"\"]\n",
        "\n"
      ],
      "execution_count": 0,
      "outputs": []
    },
    {
      "cell_type": "code",
      "metadata": {
        "id": "LVsacYNXTkOc",
        "colab_type": "code",
        "colab": {}
      },
      "source": [
        "seq = tokenizer.texts_to_sequences(test)\n",
        "padded = pad_sequences(seq, maxlen = MAX_SEQUENCE_LENGTH)\n"
      ],
      "execution_count": 0,
      "outputs": []
    },
    {
      "cell_type": "code",
      "metadata": {
        "id": "pWLbWqyXUCn7",
        "colab_type": "code",
        "colab": {}
      },
      "source": [
        "pred = model.predict(padded)"
      ],
      "execution_count": 0,
      "outputs": []
    },
    {
      "cell_type": "code",
      "metadata": {
        "id": "5Z3Lei08UF0p",
        "colab_type": "code",
        "colab": {}
      },
      "source": [
        "labels = topicList"
      ],
      "execution_count": 0,
      "outputs": []
    },
    {
      "cell_type": "code",
      "metadata": {
        "id": "J0fgM4k7UZPK",
        "colab_type": "code",
        "colab": {}
      },
      "source": [
        "import numpy as np\n"
      ],
      "execution_count": 0,
      "outputs": []
    },
    {
      "cell_type": "code",
      "metadata": {
        "id": "LCLBNGFYUbny",
        "colab_type": "code",
        "outputId": "afee6cdb-b506-47d5-989d-a1bedfe2ad3f",
        "colab": {
          "base_uri": "https://localhost:8080/",
          "height": 35
        }
      },
      "source": [
        "print(pred, labels[np.argmax(pred)])\n",
        "# pred"
      ],
      "execution_count": 165,
      "outputs": [
        {
          "output_type": "stream",
          "text": [
            "[[0.00486093 0.02850493 0.00742397 0.88261074 0.07146551 0.00513387]] it\n"
          ],
          "name": "stdout"
        }
      ]
    },
    {
      "cell_type": "code",
      "metadata": {
        "id": "jnI2Dk3ZWJZ_",
        "colab_type": "code",
        "colab": {}
      },
      "source": [
        "model.save('drive/My Drive/Colab Notebooks/Machine Learning/RNN/my_model'+version+'.h5')\n"
      ],
      "execution_count": 0,
      "outputs": []
    },
    {
      "cell_type": "code",
      "metadata": {
        "id": "7viFBBMfMmuS",
        "colab_type": "code",
        "outputId": "ff37fd6f-274b-4c7c-ba3f-fb3b488680df",
        "colab": {
          "base_uri": "https://localhost:8080/",
          "height": 323
        }
      },
      "source": [
        "from tensorflow import keras\n",
        "new_model = keras.models.load_model('drive/My Drive/Colab Notebooks/Machine Learning/RNN/my_model'+version+'.h5')\n"
      ],
      "execution_count": 0,
      "outputs": [
        {
          "output_type": "error",
          "ename": "OSError",
          "evalue": "ignored",
          "traceback": [
            "\u001b[0;31m---------------------------------------------------------------------------\u001b[0m",
            "\u001b[0;31mOSError\u001b[0m                                   Traceback (most recent call last)",
            "\u001b[0;32m<ipython-input-178-1e7a1217e801>\u001b[0m in \u001b[0;36m<module>\u001b[0;34m()\u001b[0m\n\u001b[1;32m      1\u001b[0m \u001b[0;32mfrom\u001b[0m \u001b[0mtensorflow\u001b[0m \u001b[0;32mimport\u001b[0m \u001b[0mkeras\u001b[0m\u001b[0;34m\u001b[0m\u001b[0;34m\u001b[0m\u001b[0m\n\u001b[0;32m----> 2\u001b[0;31m \u001b[0mnew_model\u001b[0m \u001b[0;34m=\u001b[0m \u001b[0mkeras\u001b[0m\u001b[0;34m.\u001b[0m\u001b[0mmodels\u001b[0m\u001b[0;34m.\u001b[0m\u001b[0mload_model\u001b[0m\u001b[0;34m(\u001b[0m\u001b[0;34m'drive/My Drive/Colab Notebooks/Machine Learning/RNN/my_model'\u001b[0m\u001b[0;34m+\u001b[0m\u001b[0mversion\u001b[0m\u001b[0;34m+\u001b[0m\u001b[0;34m'.h5'\u001b[0m\u001b[0;34m)\u001b[0m\u001b[0;34m\u001b[0m\u001b[0;34m\u001b[0m\u001b[0m\n\u001b[0m",
            "\u001b[0;32m/usr/local/lib/python3.6/dist-packages/tensorflow_core/python/keras/saving/save.py\u001b[0m in \u001b[0;36mload_model\u001b[0;34m(filepath, custom_objects, compile)\u001b[0m\n\u001b[1;32m    144\u001b[0m \u001b[0;34m\u001b[0m\u001b[0m\n\u001b[1;32m    145\u001b[0m   \u001b[0;32mif\u001b[0m \u001b[0misinstance\u001b[0m\u001b[0;34m(\u001b[0m\u001b[0mfilepath\u001b[0m\u001b[0;34m,\u001b[0m \u001b[0msix\u001b[0m\u001b[0;34m.\u001b[0m\u001b[0mstring_types\u001b[0m\u001b[0;34m)\u001b[0m\u001b[0;34m:\u001b[0m\u001b[0;34m\u001b[0m\u001b[0;34m\u001b[0m\u001b[0m\n\u001b[0;32m--> 146\u001b[0;31m     \u001b[0mloader_impl\u001b[0m\u001b[0;34m.\u001b[0m\u001b[0mparse_saved_model\u001b[0m\u001b[0;34m(\u001b[0m\u001b[0mfilepath\u001b[0m\u001b[0;34m)\u001b[0m\u001b[0;34m\u001b[0m\u001b[0;34m\u001b[0m\u001b[0m\n\u001b[0m\u001b[1;32m    147\u001b[0m     \u001b[0;32mreturn\u001b[0m \u001b[0msaved_model_load\u001b[0m\u001b[0;34m.\u001b[0m\u001b[0mload\u001b[0m\u001b[0;34m(\u001b[0m\u001b[0mfilepath\u001b[0m\u001b[0;34m,\u001b[0m \u001b[0mcompile\u001b[0m\u001b[0;34m)\u001b[0m\u001b[0;34m\u001b[0m\u001b[0;34m\u001b[0m\u001b[0m\n\u001b[1;32m    148\u001b[0m \u001b[0;34m\u001b[0m\u001b[0m\n",
            "\u001b[0;32m/usr/local/lib/python3.6/dist-packages/tensorflow_core/python/saved_model/loader_impl.py\u001b[0m in \u001b[0;36mparse_saved_model\u001b[0;34m(export_dir)\u001b[0m\n\u001b[1;32m     81\u001b[0m                   (export_dir,\n\u001b[1;32m     82\u001b[0m                    \u001b[0mconstants\u001b[0m\u001b[0;34m.\u001b[0m\u001b[0mSAVED_MODEL_FILENAME_PBTXT\u001b[0m\u001b[0;34m,\u001b[0m\u001b[0;34m\u001b[0m\u001b[0;34m\u001b[0m\u001b[0m\n\u001b[0;32m---> 83\u001b[0;31m                    constants.SAVED_MODEL_FILENAME_PB))\n\u001b[0m\u001b[1;32m     84\u001b[0m \u001b[0;34m\u001b[0m\u001b[0m\n\u001b[1;32m     85\u001b[0m \u001b[0;34m\u001b[0m\u001b[0m\n",
            "\u001b[0;31mOSError\u001b[0m: SavedModel file does not exist at: drive/My Drive/Colab Notebooks/Machine Learning/RNN/my_modelinteg.h5/{saved_model.pbtxt|saved_model.pb}"
          ]
        }
      ]
    },
    {
      "cell_type": "code",
      "metadata": {
        "id": "uOrSTzveMuFZ",
        "colab_type": "code",
        "outputId": "0aa112dd-4f17-4ada-c95d-be8c3f1d1d16",
        "colab": {
          "base_uri": "https://localhost:8080/",
          "height": 34
        }
      },
      "source": [
        "pred = model.predict(padded)\n",
        "print(pred, labels[np.argmax(pred)])\n"
      ],
      "execution_count": 0,
      "outputs": [
        {
          "output_type": "stream",
          "text": [
            "[[0.94730633 0.00502064 0.01667797 0.01763796 0.0062179  0.00713924]] pol\n"
          ],
          "name": "stdout"
        }
      ]
    },
    {
      "cell_type": "code",
      "metadata": {
        "id": "_JuJXTzNMxBd",
        "colab_type": "code",
        "colab": {}
      },
      "source": [
        "test = [\"\"\"\n",
        " 남북물류포럼 칼럼 제350호사드배치 알 박기, 진정 국익을 위한 것일까?추 원 서남북물류포럼 수석부회장지난달 말 롯데가 국방부와 성주골프장을 고고도미사일방어체계(THAAD·사드) 부지로 제공하는 계약을 체결한 이후, 한·중 간 갈등이 표면화되면서 중국의 보복이 노골화하고 있다. 거듭되는 중국의 반대와 경고에도 불구하고 한미 당국이 사드의 조기 배치 의지를 재천명하며 절차를 신속히 진행하는 움직임을 보이자, 중국은 이미 시행되던 경고성 조치를 넘어 롯데에 대한 '보복'을 시작으로 전방위 경제 및 문화 보복에 나서고 있다. 경제적 측면에서 당장 예상되는 커다란 손실은 물론, 앞으로 정치․외교․사회․군사 등 여러 방면에서도 심대한 피해와 후유증이 우려되고 있다. 만일, 사태가 장기화한다면 지난 25년 간 어렵게 축적해온 중국인의 한국에 대한 신뢰와 우호적 정서마저 크게 손상될 것이라는 것은 불문가지다. 물론, 상호의존도가 높은 글로벌 경제 하에서 중국이 입을 손실 역시 작지는 않을 것이다. 우리는 중국의 보복조치를 유감스럽게 생각하면서도, 중국이 사드배치를 왜 그토록 강하게 반대하는 상황에서 한국 정부가 알박기 하듯, 서둘러 사드 배치를 강행하는 것이 과연 국가의 장래에 도움이 될 것인지를 생각해 볼 필요가 있다. 결론부터 말한다면 현 정부는 사드 배치의 성급한 추진을 잠정 중단하고 차기 정부에 넘기는 것이 합당하고 현명하다는 것이다. 그 이유는 다음과 같다.첫째, 사드배치는 북한 핵 위협에 대처하는 방위적 조치라는 말로 설명할 수 있는 단순한 문제가 아니기 때문이다. 사드배치는 동북아 안보지형과 세력균형을 근본적으로 흔드는 사건이다. 중국이 반대하는 이유는 바로 여기에 있다. 미국은 부상하는 중국을 견제하기 위해 일본의 군사대국화를 용인하면서, 한국을 묶는 전략을 구사하고 있다. 중국은 사드가 미국의 대중국 포위전략의 일환이며, 액스밴드 레이더를 통해 자신을 근접거리에서 감시함으로써 유사 시 중국의 대응능력을 크게 훼손할 것을 우려하고 있다. 또한 이를 계기로 한국이 미국과 일본이 추진하는 미사일방어망(MD)에 편입되어 자신을 향해 칼날을 겨누게 될 것을 우려한다. 이에 대해 한국 정부는 사드배치는 어디까지나 북한의 핵·미사일 위협에 대비하기 위한 방위용이며 미국이 추진하는 MD 참여와는 관련이 없다는 것을 누차 강조해왔다. 실제로 한국은 김대중 정부 이래 지역 MD 체계 편입에 반대한다는 입장을 유지해 온 것이 사실이다. 3분 내외면 북한 미사일이 한국에 도달할 수 있기 때문에 MD의 효용성이 낮을 뿐 아니라, 자칫하면 미․중 간 군사적 대립에 말려들 소지가 있다고 보았기 때문이다. 그러나 최근 미국의 의도가 한국을 미사일 방어망에 편입시키려는 것에 있음이 밝혀짐으로써 한국 정부의 주장이 무색하게 되고 말았다. 지난 2월 23일 트럼프 대통령은 “한국과 일본에 미사일 방어체계(MD)를 강화하겠다”며 한국을 특정하여 MD 편입을 시사한 것이 그것이다. 따라서 중국에 있어 사드배치는 미·중 간 군사적 완충지대 역할을 자임해오던 한국이 미국 및 일본의 미사일 공동망의 참여를 통해 중국에 대항하겠다는 것이나 마찬가지가 되었다. 해양세력과 대륙세력의 파워게임에 한국이 해양세력의 편을 들어 중국에 맞서는 형국이 되는 것이다. 둘째, 성급한 사드 배치 추진은 자칫하면 군사적 자주권의 상실과 한반도의 발칸화로 이어질 가능성이 높다는 점이다. 만일, 중국의 양해 없이 사드배치가 이루어졌다고 가정해 보자. 우리 사회 일각에서 주장하는 것처럼 당장은 중국의 압력에 맞서 군사적 주권을 지켰다고 큰소리칠 수는 있다. 그러나 이후의 상황은 어떻게 전개될까? 한국은 앞으로 북한 외에 중국과 러시아의 위협에 대처하기 위해 군사력을 더욱 증대할 수밖에 없다. 또한 어쩔 수 없이 미국에게 안보를 더욱 의존하지 않으면 안 되는 상황에 내몰리게 될 것이다. 미국은 당연히 한국의 부담 하에 사드의 추가배치를 요구할 것이며, 동중국해와 남중국해에서 중국의 군사력을 견제할 목적으로 제주나 진해항에 줌왈트호 등 미해군력의 배치 허용을 요구할 것이다. 이때 한국은 중국의 위협을 의식, 미국의 요구를 들어주지 않을 수 없게 된다. 한반도 평화와 안정을 위한 한·미동맹이 동아시아에서 미국의 군사적 이익을 추종하는 공격적 동맹으로 변질됨으로써 ‘한반도의 발칸화’라는 최악의 안보불안을 자초하게 될 것이다.셋째, 사드의 군사적 효용성을 포함한 배치의 적합성에 대한 신중한 검토가 필요하기 때문이다. 지난해 사드 배치 결정 과정은 국내에서 충분한 논의와 검토 없이 이루어졌다. 주무부처인 국방부마저 앞뒤가 맞지 않는 논리로 사드배치의 타당성만 강조했다. 의사결정 메커니즘의 허술함을 짐작하게 하고도 남는다. 정부는 물론, 국회 내에서라도 충분한 논의와 공론 과정을 거쳤더라면 사드배치의 부적합에 따른 대안을 모색했을 것이다. 설사 불가피하게 필요하다는 판단에 이르렀더라도 국민들을 충분히 설득하고 이웃인 중국의 우려를 덜어주는 방안을 강구함은 물론, 설득할 수 있는 시간적 여유를 확보할 수 있었을 것이다. 넷째, 북핵문제 해결과 한반도 평화통일이라는 대의를 위해서라도 반드시 중국의 협력을 얻는 외교적 노력이 절실하기 때문이다. 북핵문제 해결의 주요 당사자인 중국을 적대시한다면 앞으로 과연 중국이 북핵문제 해결에 적극적으로 나설 수 있을까? 북한 핵은 기정사실화 되고 다시는 북한 핵문제를 해결할 수 있는 기회를 갖지 못하게 될 것이다. 뿐만 아니라 향후 남북의 통일과정에서 중국은 한국의 통일을 지지하고 협력하는데 주저하게 될 것이다. 마지막 이유는 차기 정부가 나서서 남북관계 복원을 포함한 큰 그림 속에서 사드배치와 핵문제 등 현안을 해결할 수 있도록 해주는 것이 정치적 도의라고 믿기 때문이다. 국내외적으로 사면초가에 처해있는 현 정부가 굳이 엄청난 희생을 무릅쓰고서라도 사드의 신속한 배치를 결행해야 할 만큼 절실하고 시급한 상황에 처해 있는 지 자문해볼 필요가 있다. 만일 그게 아니라면 지금이라도 미국에 양해를 구하여 사드 배치 추진 문제를 차기 정부에 넘기는 것이 올바른 선택일 것이다. 갓 취임한 트럼프 대통령 역시 그것이 선거로 선출되는 민주주의 정부에서 오히려 당연한 도리라는 점을 누구보다도 잘 이해하고 있을 것이다.(끝) 김정남  |   2017-03-08        지난 10년간 천문학적인 국방비를 지출하면서도 왜 핵개발을 추진하지 않아서 이런 형국까지 당하는지 이해를 하기가 힘들다.돈이 없는가? 기술이 없는가? 모두 있으면서도 유독 핵우산에 의존한 당연한 귀결이니 답답할 뿐이다. 함무라비법전에도 있듯이 핵에는 핵으로 균형을 맞추어야 한다. 최소의 비용으로 최대의 공포를 줄 수 있는 핵개발을 북한이 포기할 까닭이 없다.지금이라도 늦지 않았으니 당당하게 자위차원에서 핵개발을 선언하여야 한다. 그래야 중국에게도 공격의 빌미를 주지 않고 핵의 균형을 갖춰서 정은이 망나니가 우쭐대지 못하고 대화의 광장으로 나올 가능성이 조금이라도 높아진다. 남의 힘을 빌려 내집을 지키다보면 결국 살림살이 모두 내어주며 바보가 되고 그 피해는 고스란이 한민족전체에게 돌아간다.미국도 힘쎈자는 대우한다. 일본을 대하는 그들의 태도가 이를 여실히 보여주지 않는가! 곽태환  |   2017-03-06        추원서 박사가 사드의 실전배치를 다음 정권에 넘기자는 5가지 이유를 잘 정리해줘서 감사하고 공감한다. 한미정부가 사드배치결정의 단순한 안보논리는 북한의 핵. 미사일 위협에 대응하여 사드배치 한다는 논리이다. 이러한 안보논리의 기본적인 전제조건이 오류가 있다. 북한이 핵전쟁을 한다는 가정이다. 만약 북한이 핵탄두 미사일 발사 결정은 무엇을 의미하는가? 북한이 핵 전쟁을 각오하고 핵미사일을 남쪽을 향하여 발사해야 한다는 것은 핵전쟁을 하겠다는 것인데 이것은 자살행위이고 과연 핵전쟁을 할 의도가 있다고 가정이 오류가 아닌가? 북한은 핵억지력을 강화하는 이유는 핵전쟁을 방지하기 위해 자위권차원에서 핵무기를 보유한다고 하는데 만약 핵 억지력이 깨지면 핵전쟁이 발생하는데 이것은 공멸을 의미하는데 사드가 불필요하게 될 것이다. 사드가 어떻게 핵 전쟁을 예방 할 수 있는지 한미군부에게 묻고 싶다.\n",
        "\"\"\"]"
      ],
      "execution_count": 0,
      "outputs": []
    },
    {
      "cell_type": "code",
      "metadata": {
        "id": "YskPsSRjOVpU",
        "colab_type": "code",
        "colab": {}
      },
      "source": [
        "def clsfy(test):\n",
        "  seq = tokenizer.texts_to_sequences(test)\n",
        "  padded = pad_sequences(seq, maxlen = MAX_SEQUENCE_LENGTH)\n",
        "  pred = model.predict(padded)\n",
        "  print(pred, labels[np.argmax(pred)])\n"
      ],
      "execution_count": 0,
      "outputs": []
    },
    {
      "cell_type": "code",
      "metadata": {
        "id": "pJpwdQCoOZuw",
        "colab_type": "code",
        "outputId": "30adbe21-80b1-4741-c512-d1927a9e3b3d",
        "colab": {
          "base_uri": "https://localhost:8080/",
          "height": 51
        }
      },
      "source": [
        "clsfy(test)"
      ],
      "execution_count": 0,
      "outputs": [
        {
          "output_type": "stream",
          "text": [
            "[[1.4369380e-04 7.2861250e-05 1.3471409e-03 9.9801648e-01 3.7061307e-04\n",
            "  4.9278435e-05]] innt\n"
          ],
          "name": "stdout"
        }
      ]
    },
    {
      "cell_type": "markdown",
      "metadata": {
        "id": "ha1AOndXXaMm",
        "colab_type": "text"
      },
      "source": [
        "# real data test"
      ]
    },
    {
      "cell_type": "code",
      "metadata": {
        "id": "pdjua_XjXvNb",
        "colab_type": "code",
        "outputId": "77fcffe9-b426-490a-d254-f627895b4f73",
        "colab": {
          "base_uri": "https://localhost:8080/",
          "height": 190
        }
      },
      "source": [
        "# from tensorflow import keras\n",
        "\n",
        "# new_model = keras.models.load_model('drive/My Drive/Colab Notebooks/Machine Learning/RNN/my_model1201.h5')\n",
        "\n"
      ],
      "execution_count": 0,
      "outputs": [
        {
          "output_type": "stream",
          "text": [
            "WARNING:tensorflow:From /usr/local/lib/python3.6/dist-packages/tensorflow_core/python/ops/init_ops.py:97: calling GlorotUniform.__init__ (from tensorflow.python.ops.init_ops) with dtype is deprecated and will be removed in a future version.\n",
            "Instructions for updating:\n",
            "Call initializer instance with the dtype argument instead of passing it to the constructor\n",
            "WARNING:tensorflow:From /usr/local/lib/python3.6/dist-packages/tensorflow_core/python/ops/init_ops.py:97: calling Orthogonal.__init__ (from tensorflow.python.ops.init_ops) with dtype is deprecated and will be removed in a future version.\n",
            "Instructions for updating:\n",
            "Call initializer instance with the dtype argument instead of passing it to the constructor\n",
            "WARNING:tensorflow:From /usr/local/lib/python3.6/dist-packages/tensorflow_core/python/ops/init_ops.py:97: calling Zeros.__init__ (from tensorflow.python.ops.init_ops) with dtype is deprecated and will be removed in a future version.\n",
            "Instructions for updating:\n",
            "Call initializer instance with the dtype argument instead of passing it to the constructor\n"
          ],
          "name": "stdout"
        }
      ]
    },
    {
      "cell_type": "code",
      "metadata": {
        "id": "UtTjCVowXb-N",
        "colab_type": "code",
        "outputId": "9e0d2357-118c-484a-ff4f-f677573c4c1c",
        "colab": {
          "base_uri": "https://localhost:8080/",
          "height": 108
        }
      },
      "source": [
        "kubic = pd.read_json(\"drive/My Drive/Colab Notebooks/Machine Learning/RNN/refined620.json\")\n",
        "# kubic.head(5)\n",
        "# print(kubic[\"tokenized_doc\"][0])\n",
        "for i in range(kubic.shape[0]):\n",
        "  kubic.loc[i,\"tokenized_doc\"] = \" \".join(kubic[\"tokenized_doc\"][i])\n",
        "# for i in range(len(data.index)):\n",
        "#   data.loc[i,\"키워드\"] = str(data.loc[i][\"키워드\"]).replace(\",\",\" \")\n",
        "kubic.head(2)"
      ],
      "execution_count": 153,
      "outputs": [
        {
          "output_type": "execute_result",
          "data": {
            "text/html": [
              "<div>\n",
              "<style scoped>\n",
              "    .dataframe tbody tr th:only-of-type {\n",
              "        vertical-align: middle;\n",
              "    }\n",
              "\n",
              "    .dataframe tbody tr th {\n",
              "        vertical-align: top;\n",
              "    }\n",
              "\n",
              "    .dataframe thead th {\n",
              "        text-align: right;\n",
              "    }\n",
              "</style>\n",
              "<table border=\"1\" class=\"dataframe\">\n",
              "  <thead>\n",
              "    <tr style=\"text-align: right;\">\n",
              "      <th></th>\n",
              "      <th>idList</th>\n",
              "      <th>titles</th>\n",
              "      <th>tokenized_doc</th>\n",
              "    </tr>\n",
              "  </thead>\n",
              "  <tbody>\n",
              "    <tr>\n",
              "      <th>0</th>\n",
              "      <td>5de110274b79a29a5f987f1d</td>\n",
              "      <td>2012년 3차 대북정책 추진에 관한 정책건의 보고서</td>\n",
              "      <td>대북 정책 추진 정책 건의 원칙 입각 대북 정책 성과 과제 정치 한반도 평화 국제 ...</td>\n",
              "    </tr>\n",
              "    <tr>\n",
              "      <th>1</th>\n",
              "      <td>5de1102a4b79a29a5f987f39</td>\n",
              "      <td>2017년 3차 통일정책 추진에 관한 정책건의 보고서</td>\n",
              "      <td>상임 위원회 대북 통일 정책 추진 정책 건의 평화 한반도 구현 과제 민주 평화통일 ...</td>\n",
              "    </tr>\n",
              "  </tbody>\n",
              "</table>\n",
              "</div>"
            ],
            "text/plain": [
              "                     idList  ...                                      tokenized_doc\n",
              "0  5de110274b79a29a5f987f1d  ...  대북 정책 추진 정책 건의 원칙 입각 대북 정책 성과 과제 정치 한반도 평화 국제 ...\n",
              "1  5de1102a4b79a29a5f987f39  ...  상임 위원회 대북 통일 정책 추진 정책 건의 평화 한반도 구현 과제 민주 평화통일 ...\n",
              "\n",
              "[2 rows x 3 columns]"
            ]
          },
          "metadata": {
            "tags": []
          },
          "execution_count": 153
        }
      ]
    },
    {
      "cell_type": "code",
      "metadata": {
        "id": "medD6X7ca0L1",
        "colab_type": "code",
        "colab": {}
      },
      "source": [
        "kubic[\"주제\"] = None\n"
      ],
      "execution_count": 0,
      "outputs": []
    },
    {
      "cell_type": "code",
      "metadata": {
        "id": "YqpbfQgYaJab",
        "colab_type": "code",
        "colab": {}
      },
      "source": [
        "import numpy as np"
      ],
      "execution_count": 0,
      "outputs": []
    },
    {
      "cell_type": "code",
      "metadata": {
        "id": "VgcTKUH8Xd9z",
        "colab_type": "code",
        "colab": {}
      },
      "source": [
        "for i, cont in enumerate(kubic[\"tokenized_doc\"]):\n",
        "  test = []\n",
        "  test.append(cont)\n",
        "  seq = tokenizer.texts_to_sequences(test)\n",
        "  padded = pad_sequences(seq, maxlen = MAX_SEQUENCE_LENGTH)\n",
        "  pred = model.predict(padded)\n",
        "  #pol innt soc cul eco spo\n",
        "  labels = topicList\n",
        "  # labels = ['pol', 'eco', 'cul', 'innt', 'spo', 'soc']\n",
        "  kubic.loc[i,\"주제\"] = labels[np.argmax(pred)]\n",
        "  # print(kubic[\"post_title\"][i] , \" : \", labels[np.argmax(pred)])\n",
        "  # print(pred, labels[np.argmax(pred)])"
      ],
      "execution_count": 0,
      "outputs": []
    },
    {
      "cell_type": "code",
      "metadata": {
        "id": "2kwiESo1Xjfi",
        "colab_type": "code",
        "outputId": "dfd10438-d3e2-4587-c9e0-5b5744c7aa83",
        "colab": {
          "base_uri": "https://localhost:8080/",
          "height": 1000
        }
      },
      "source": [
        "for top in topicList:\n",
        "  print(kubic[kubic[\"주제\"]==top][[\"tokenized_doc\",\"주제\"]].head(20),\"\\n\")"
      ],
      "execution_count": 157,
      "outputs": [
        {
          "output_type": "stream",
          "text": [
            "                                         tokenized_doc   주제\n",
            "47                                     토론 회원 신고 게시물 신고  pol\n",
            "55   취업 사이트 이용 자신 개인 정보 안전 관리 가지 주의 사항 최근 취업 사이트 유령...  pol\n",
            "60   탈북자 동지 자원 봉사 신청서 서식 내용 작성 담당자 메일 신청 접수 자원 봉사 신...  pol\n",
            "64                         이후 입국 해당 내용 회원 아침 신고 게시물 신고  pol\n",
            "65   북한이탈주민 보호 정착 지원 법률 시행 규칙 일부 개정 통일 부령 목적 규칙 북한이...  pol\n",
            "69   국내 입국 새터민 시대 새터민 우리 사회 안정 정착 자립 지원 체계 마련 추진 배경...  pol\n",
            "86                                            첨부 파일 클릭  pol\n",
            "87                                            첨부 파일 클릭  pol\n",
            "89                                            첨부 파일 클릭  pol\n",
            "90                                            첨부 파일 클릭  pol\n",
            "91                                            첨부 파일 클릭  pol\n",
            "92                                            첨부 파일 클릭  pol\n",
            "93                                            첨부 파일 클릭  pol\n",
            "94                                            첨부 파일 클릭  pol\n",
            "95                                            첨부 파일 클릭  pol\n",
            "219  크루트 온라인 채용 대표 사이트 국내 최초 인터넷 채용 시스템 개발 온라인 채용 제...  pol\n",
            "234  북한이탈주민 지원 제도 세부 내용 교육 지원 생업 지원 생활 보호 의료 보호 자격 ...  pol\n",
            "239                                           첨부 파일 클릭  pol\n",
            "240                                           첨부 파일 클릭  pol\n",
            "246                                           첨부 파일 클릭  pol \n",
            "\n",
            "                                         tokenized_doc    주제\n",
            "17                                              건의문 수정  innt\n",
            "44                                            정책 건의 내지  innt\n",
            "70   제안 이유 현행법 주민 거주지 근거 주민 등록 번호 탈북자 대한민국 국적 국내 입국...  innt\n",
            "104  중국 실크 로드 전략 한반도 선택 학술 세미나 장소 상공 회의소 의원 회의실 주최 ...  innt\n",
            "118  얼마 한국 소설 거장 황석영 작가 알타이 문화 연합 세상 알타이 문화 알타이어 알타...  innt\n",
            "121  몽골 초원 나담 축제 수도 울란바토르 전국 용사 활쏘기 씨름 말타기 경주 가지 종목...  innt\n",
            "122  내몽골 외몽골 사람 혼동 내몽골 중요 외몽골 우리 바깥 몽골 구분 어디 북경 중심 ...  innt\n",
            "126  중국 미인 서시 왕소군 초선 양귀비 서시 西施 물고기 침어 정도 으뜸 미인 나라 월...  innt\n",
            "128  평화 전쟁 전쟁 사이 기간 의미 서쪽 바다 포성 연평도 이번 피폭 사건 한반도 열강...  innt\n",
            "137  중국 러시아 만남 그녀 기차 러시아어 실력 노래 러시아 국민 가수 알라 푸가 백만 ...  innt\n",
            "151  통일 정책 대안 칼럼 독일 통일 김영윤 남북 물류 포럼 대표 금년 독일 통일 햇수 ...  innt\n",
            "152  칼럼 아일랜드 벨파스트 김영찬 사전 한국은행 프랑크푸르트 사무 소장 누구 마음 내게...  innt\n",
            "157  시진핑 방한 한국 외교 숙제 한반도 개발 협력 연구소 소장 공산 전회 全會 개혁 개...  innt\n",
            "160  칼럼 유라시아 추원 경기 대학교 국제 통상 학과 초빙 교수 중국 구상 시대 한국 생...  innt\n",
            "166  칼럼 호주 한국 김영윤 남북 물류 포럼 회장 남북 물류 포럼 공식 밴드 실크 로드 ...  innt\n",
            "169  남북 물류 포럼 칼럼 포은 圃隱 물류 민변 호사 북한학 박사 국번 역원 발간 민족 ...  innt\n",
            "189  칼럼 노란색 신호 여유 김영윤 남북 물류 포럼 회장 지금 독일 북부 도시 브레멘 유...  innt\n",
            "205  남북 물류 포럼 칼럼 시베리아 횡단 철도 방향 김영윤 남북 물류 포럼 대표 한반도 ...  innt\n",
            "264  행사 보고 남북 물류 포럼 동북아 역사 재단 공동 국제 학술회의 한반도 지정학 동북...  innt\n",
            "267  칼럼 문화 비즈니스 해양 박물관 최재선 한국 해양 수산 개발 선임 연구 위원 마르세...  innt \n",
            "\n",
            "                                         tokenized_doc   주제\n",
            "30   차통 한정 통일 정책 추진 정책 건의 통일 정책 추진 정책 건의 통일 정책 추진 정...  soc\n",
            "46   무료 프로그램 가지 백신 프로그램 컴퓨터 악성 프로그램 바이러스 스파이 프로그램 실...  soc\n",
            "48                       한글 맞춤법 문법 검사 사이트 회원 신고 게시물 신고  soc\n",
            "49                 이력서 서식 한글 파일 이력서 단순 회원 금란 신고 게시물 신고  soc\n",
            "50                     국립 국어 한글 맞춤법 교육 자료 회원 신고 게시물 신고  soc\n",
            "53   콩깍지 콩깍지 콩깍지 간장 공장 공장장 공장장 된장 공장 공장장 공장장 장년 장수 ...  soc\n",
            "59   구인 등록 신청서 서식 파일 구인 등록 신청서 회원 유원 요벨 박진섭 태화 신고 게...  soc\n",
            "61      첨부 파일 다운로드 작성 사용 이력서 자기 소개서 회원 금란 요벨 신고 게시물 신고  soc\n",
            "73   북한 텔레비전 영상 자료 취급 규정 국토 통일원 훈령 훈령 통일부 훈령 통일부 훈령...  soc\n",
            "260  학술회의 프로그램 장소 회의실 동시 진흥 가로 등록 전체 사회 김범중 중국 연구 센...  soc\n",
            "265  남북 물류 포럼 동북아 평화 협력 연구원 실크 로드 탐방 기념 학술회의 관련 파일 ...  soc \n",
            "\n",
            "                                        tokenized_doc  주제\n",
            "0   대북 정책 추진 정책 건의 원칙 입각 대북 정책 성과 과제 정치 한반도 평화 국제 ...  it\n",
            "1   상임 위원회 대북 통일 정책 추진 정책 건의 평화 한반도 구현 과제 민주 평화통일 ...  it\n",
            "2   대북 정책 추진 정책 건의 대북 정책 추진 정책 건의 한정 대북 정책 추진 정책 건...  it\n",
            "3   통일 정책 추진 정책 건의 대내외 통일 환경 변화 통일 대북 정책 추진 방향 통일 ...  it\n",
            "4   통일 정책 추진 정책 건의 대북 통일 정책 추진 방향 실행 과제 통일 정책 외교 안...  it\n",
            "5   대북 정책 추진 정책 건의 대북 정책 내지 오전 보고서 민주 평화통일 자문 회의 분...  it\n",
            "6   대북 정책 추진 정책 건의 운영 상임 협의 회장 합동 회의 오후 보고서 민주 평화 ...  it\n",
            "7   통일 정책 추진 정책 건의 보고서 민주 평화 통일 문회 분과 위원회 심의 자문 위원...  it\n",
            "8   통일 정책 추진 정책 건의 보고서 민주 평화 통일 문회 분과 위원회 심의 자문 위원...  it\n",
            "10  통일 정책 추진 정책 건의 평화 발전 한반도 체제 남북 평화 협력 증진 방안 국제 ...  it\n",
            "11  차통 한정 통일 정책 추진 정책 건의 통일 정책 추진 정책 건의 통일 정책 추진 정...  it\n",
            "12  통일 정책 추진 정책 한정 통일 정책 추진 정책 건의 통일 정책 추진 정책 건의 보...  it\n",
            "13  보고서 민주 평화 통일 문회 분과 위원회 논의 운영 상임 위원회 합동 회의 채택 정...  it\n",
            "14  대북 정책 추진 정책 건의 보고서 민주 평화 통일 문회 분과 위원회 심의 자문 위원...  it\n",
            "15  통일 정책 추진 정책 건의 보고서 민주 평화 통일 문회 분과 위원회 심의 자문 위원...  it\n",
            "16  전체 회의 상임 위원회 상임 위원회 해외 지역 회의 정책 건의문 기전체 회의 남북 ...  it\n",
            "18  대북 정책 추진 정책 건의 대북 정책 내지 오후 보고서 민주 평화 통일 문회 분과 ...  it\n",
            "19  정책 건의 보고서 정책 건의 국민 통일 의식 현황 통일 담론 형성 방안 민주 평화 ...  it\n",
            "20  상임 운영 위원회 정책 건의 최종 운영 상임 위원회 합동 회의 통일 대북 정책 추진...  it\n",
            "21  통일 추진 정책 건의 보고서 민주 평화 통일 문회 분과 위원회 심의 자문 위원 견해...  it \n",
            "\n",
            "                                        tokenized_doc   주제\n",
            "9                                                      eco\n",
            "25  통일 정책 추진 정책 건의 보고서 민주 평화 통일 문회 분과 위원회 심의 자문 위원...  eco\n",
            "36                                   민주 평화통일 자문 회의 감사  eco\n",
            "39                                   민주 평화통일 자문 회의 감사  eco\n",
            "41                                                     eco\n",
            "43                                              내지 완료  eco\n",
            "51  탈북자 영어 교실 강사 신청서 양식 내용 입력 홈페이지 하단 운영 부분 클릭 탈북자...  eco\n",
            "52  목적의식 행동 취직 희망 사람 모두 지명도 회사 입사 회사 소수 현실 때문 기업 지...  eco\n",
            "54  사설 세계 경기 침체 원화 가치 하락 원자재 가격 상승 영향 공공 기관 작년 순이익...  eco\n",
            "56  자기 소개 동안 자기 자신 장점 단점 말씀 당신 개성 생각 특기 리더십 생각 협조 ...  eco\n",
            "57  뉴스 앵커 녹음 표준말 어법 여러분 어법 비교 발음 속도 강세 운율 연습 영어 운율...  eco\n",
            "58  탈북자 영어 교실 수강 신청서 양식 내용 입력 담당자 메일 탈북자 영어 교실 수강 ...  eco\n",
            "62  북한이탈주민 보호 정착 지원 법률 시행 규칙 일부 개정 통일 부령 목적 규칙 북한이...  eco\n",
            "67  개정 이유 개정 북한이탈주민 보호 정착 지원 법률 공포 직업훈련 영농 교육 훈련 농...  eco\n",
            "68  목적 지침 북한이탈주민 보호 정착 지원 법률 이하 법률 시행령 이하 시행 규칙 의거...  eco\n",
            "71  北韓 離脫 住民 정착 지원 사무소 운영 규정 통일부 훈령 목적 규정 북한이탈주민 보...  eco\n",
            "74  북한이탈주민 보호 정착 지원 법률 시행 규칙 일부 개정 통일 부령 목적 규칙 북한이...  eco\n",
            "76  임금 채권 보장 일부 개정 법률 총칙 목적 경기 변동 산업 구조 변화 사업 계속 가...  eco\n",
            "77  북한이탈주민 보호 정착 지원 법률 시행 규칙 통일 부령 개정 통일 부령 개정 통일 ...  eco\n",
            "78  고용 보험법 일부 개정 법률 총칙 목적 고용 보험 시행 실업 예방 고용 촉진 근로자...  eco \n",
            "\n",
            "                                         tokenized_doc   주제\n",
            "158  칼럼 몽골 강재홍 사전 교통 연구 원장 하늘 몽골 사르 이것 하늘 음력 정월 의미 ...  spo \n",
            "\n"
          ],
          "name": "stdout"
        }
      ]
    },
    {
      "cell_type": "code",
      "metadata": {
        "id": "Hq6O81o3hoY_",
        "colab_type": "code",
        "outputId": "74fb27d8-c555-4bba-f1e2-6a7792652df5",
        "colab": {
          "base_uri": "https://localhost:8080/",
          "height": 658
        }
      },
      "source": [
        "kubicList = list(set(kubic.sort_values(by=[\"주제\"])[\"주제\"].to_list()))\n",
        "kubic = kubic.astype(str)\n",
        "\n",
        "keys = kubic[\"tokenized_doc\"][0]\n",
        "# keys = keys.astype(str)\n",
        "\n",
        "# lst = keys.to_list()\n",
        "lst = keys\n",
        "print(\"max length article : \", max([len(i) for i in lst]))\n",
        "print(\"ave article length : \" , sum(map(len,lst))/len(lst) )\n",
        "\n",
        "plt.hist([len(i) for i in lst], bins = 50)\n",
        "plt.show()\n",
        "\n",
        "y = []\n",
        "\n",
        "import matplotlib.font_manager as fm\n",
        "# plt.rcParams['font.family'] = 'NanumGothic'\n",
        "\n",
        "\n",
        "font_path = 'C:/Windows/Fonts/NanumGothic.ttf'\n",
        "fontprop = fm.FontProperties(fname=font_path, size=18)\n",
        "\n",
        "\n",
        "for topic in kubicList:\n",
        "  sumVal = (kubic[\"주제\"]==topic).sum()\n",
        "  y.append(sumVal)\n",
        "  print(topic ,\"count : \", sumVal)\n",
        "\n",
        "plt.xlabel(\"\",fontproperties=fontprop)\n",
        "plt.plot(kubicList, y,)\n",
        "plt.show()\n"
      ],
      "execution_count": 158,
      "outputs": [
        {
          "output_type": "stream",
          "text": [
            "max length article :  1\n",
            "ave article length :  1.0\n"
          ],
          "name": "stdout"
        },
        {
          "output_type": "display_data",
          "data": {
            "image/png": "[encoded data removed]",
            "text/plain": [
              "<Figure size 432x288 with 1 Axes>"
            ]
          },
          "metadata": {
            "tags": []
          }
        },
        {
          "output_type": "stream",
          "text": [
            "pol count :  36\n",
            "innt count :  64\n",
            "soc count :  11\n",
            "it count :  401\n",
            "eco count :  51\n",
            "spo count :  1\n"
          ],
          "name": "stdout"
        },
        {
          "output_type": "display_data",
          "data": {
            "image/png": "[encoded data removed]",
            "text/plain": [
              "<Figure size 432x288 with 1 Axes>"
            ]
          },
          "metadata": {
            "tags": []
          }
        }
      ]
    },
    {
      "cell_type": "code",
      "metadata": {
        "id": "ZtyV9O2MwEha",
        "colab_type": "code",
        "colab": {}
      },
      "source": [
        "kubic[kubic[\"주제\"]==topic]"
      ],
      "execution_count": 0,
      "outputs": []
    },
    {
      "cell_type": "markdown",
      "metadata": {
        "id": "SAJ76sYuw273",
        "colab_type": "text"
      },
      "source": [
        "# 자꾸 정치 쪽 ARTICLE이 IT으로 분류 된다. 어덯게 it로 학습한건지 확인..."
      ]
    },
    {
      "cell_type": "code",
      "metadata": {
        "id": "n87KLoNUw8cO",
        "colab_type": "code",
        "outputId": "18b22ef2-e624-4bbb-c889-ba4c159ab4d3",
        "colab": {
          "base_uri": "https://localhost:8080/",
          "height": 34
        }
      },
      "source": [
        "print((data[\"주제\"]==\"spo\").sum())\n",
        "# print(data[data[\"주제\"]==\"it\"].head(30))"
      ],
      "execution_count": 0,
      "outputs": [
        {
          "output_type": "stream",
          "text": [
            "7391\n"
          ],
          "name": "stdout"
        }
      ]
    },
    {
      "cell_type": "code",
      "metadata": {
        "id": "oRiL135Sw-H4",
        "colab_type": "code",
        "colab": {}
      },
      "source": [
        ""
      ],
      "execution_count": 0,
      "outputs": []
    }
  ]
}