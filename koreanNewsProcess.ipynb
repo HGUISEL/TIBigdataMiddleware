{
  "nbformat": 4,
  "nbformat_minor": 0,
  "metadata": {
    "colab": {
      "name": "koreanNewsProcess.ipynb",
      "provenance": [],
      "collapsed_sections": [
        "h51EJ-s0Nall",
        "36qBzbchNfFH",
        "wEihuly9OGLQ",
        "j8GQT7FoOZ2o",
        "mRofwQv7O12z",
        "F9KAHElMPU5s",
        "YE0NVFmXyCV_",
        "j5-h4pXZyMO_",
        "gJaSHfrJFkxS",
        "HAkOH9JbrtmP",
        "i8v9RYuOxqFt",
        "j3u_EE5OtPJN",
        "SkNfiohuCoCm"
      ],
      "toc_visible": true,
      "authorship_tag": "ABX9TyO0vA6MsPfq7FlpVEYCsg+k",
      "include_colab_link": true
    },
    "kernelspec": {
      "name": "python3",
      "display_name": "Python 3"
    }
  },
  "cells": [
    {
      "cell_type": "markdown",
      "metadata": {
        "id": "view-in-github",
        "colab_type": "text"
      },
      "source": [
        "<a href=\"https://colab.research.google.com/github/BaekTree/TIBigdataMiddleware/blob/master/koreanNewsProcess.ipynb\" target=\"_parent\"><img src=\"https://colab.research.google.com/assets/colab-badge.svg\" alt=\"Open In Colab\"/></a>"
      ]
    },
    {
      "cell_type": "code",
      "metadata": {
        "id": "707DqISI-4Pv",
        "colab_type": "code",
        "outputId": "72b1f088-95c5-4bbc-a547-7f9840ba2454",
        "colab": {
          "base_uri": "https://localhost:8080/",
          "height": 146
        }
      },
      "source": [
        "import pandas as pd\n",
        "\n",
        "from google.colab import drive\n",
        "drive.mount('/content/drive')\n",
        "!ls"
      ],
      "execution_count": 7,
      "outputs": [
        {
          "output_type": "stream",
          "text": [
            "Go to this URL in a browser: https://accounts.google.com/o/oauth2/auth?client_id=947318989803-6bn6qk8qdgf4n4g3pfee6491hc0brc4i.apps.googleusercontent.com&redirect_uri=urn%3aietf%3awg%3aoauth%3a2.0%3aoob&response_type=code&scope=email%20https%3a%2f%2fwww.googleapis.com%2fauth%2fdocs.test%20https%3a%2f%2fwww.googleapis.com%2fauth%2fdrive%20https%3a%2f%2fwww.googleapis.com%2fauth%2fdrive.photos.readonly%20https%3a%2f%2fwww.googleapis.com%2fauth%2fpeopleapi.readonly\n",
            "\n",
            "Enter your authorization code:\n",
            "··········\n",
            "Mounted at /content/drive\n",
            "drive  sample_data\n"
          ],
          "name": "stdout"
        }
      ]
    },
    {
      "cell_type": "markdown",
      "metadata": {
        "id": "h51EJ-s0Nall",
        "colab_type": "text"
      },
      "source": [
        "# print 할 때 표현해주는 크기를 더 높인다."
      ]
    },
    {
      "cell_type": "code",
      "metadata": {
        "id": "6Es2q-tKsFos",
        "colab_type": "code",
        "colab": {}
      },
      "source": [
        "pd.set_option('display.max_rows', 500)\n",
        "pd.set_option('display.max_columns', 500)\n",
        "pd.set_option('display.width', 1000)\n"
      ],
      "execution_count": 0,
      "outputs": []
    },
    {
      "cell_type": "markdown",
      "metadata": {
        "id": "36qBzbchNfFH",
        "colab_type": "text"
      },
      "source": [
        "# cleanup \n",
        "* dataframe을 정리해주는 함수이다.\n",
        "* 통합 분류1에 실제 주제가 들어있다. 파싱해서 주제로 넣어준다.\n",
        "* 필요 없는 column들은 모두 지운다.\n",
        "* pandas dataframe에 접근할 때 : [col][row]을 통해서 접근하면, copy을 반환한다. 따라서 여기에 새로운 값을 assign하면 copy된 값에 저장되어 실제 dataframe에 아무런 변경을 주지 않는다.\n",
        "* 포인트로 실제 dataframe의 값에 접근하려면, loc 혹은 iloc 함수를 사용해야 한다.\n",
        "[row, col]\n"
      ]
    },
    {
      "cell_type": "code",
      "metadata": {
        "id": "Q5JQu2acsIbC",
        "colab_type": "code",
        "colab": {}
      },
      "source": [
        "def cleanUp(data):\n",
        "  # print(\"Inside cleanUp Function:\")\n",
        "\n",
        "  data[\"주제\"] = None\n",
        "  # print(\"data.shape[0] : \", data.shape[0])\n",
        "  # print(\"\"\"data['통합 분류1'][i].split(\">\")[0] : \"\"\",data[\"통합 분류1\"][0].split(\">\")[0])\n",
        "  for i in range(data.shape[0]):\n",
        "    data.loc[i,\"주제\"] = data[\"통합 분류1\"][i].split(\">\")[0]\n",
        "  data = data.drop(['뉴스 식별자', '일자', '언론사', '기고자',  '통합 분류1', '본문','통합 분류2', '통합 분류3', '사건/사고 분류1', '사건/사고 분류2', '사건/사고 분류3', '인물', '위치', '기관',  '특성추출',  'URL', '분석제외 여부'], axis = 1)\n",
        "  # print(data)\n",
        "  return data"
      ],
      "execution_count": 0,
      "outputs": []
    },
    {
      "cell_type": "markdown",
      "metadata": {
        "id": "wEihuly9OGLQ",
        "colab_type": "text"
      },
      "source": [
        "# loadDataCat\n",
        "* 주제를 arg으로 주면, 그 주제에 대해서 모든 month에서 가지고 와서 정리해준다.\n",
        "* 거의 depreciated..."
      ]
    },
    {
      "cell_type": "code",
      "metadata": {
        "id": "YnGAFzg0Zixe",
        "colab_type": "code",
        "colab": {}
      },
      "source": [
        "def loadDataCat(topic):\n",
        "  print(\"\\n\\n\\n\",topic)\n",
        "  data12 = pd.read_csv('drive/My Drive/Colab Notebooks/Machine Learning/RNN/'+topic+'utf.csv',encoding='UTF8')\n",
        "  # print(data12[\"통합 분류1\"])\n",
        "  data01 = pd.read_csv('drive/My Drive/Colab Notebooks/Machine Learning/RNN/01'+topic+'utf.csv',encoding='UTF8')\n",
        "  # print(data01[\"통합 분류1\"])\n",
        "  data02 = pd.read_csv('drive/My Drive/Colab Notebooks/Machine Learning/RNN/02'+topic+'utf.csv',encoding='UTF8')\n",
        "  # print(data02[\"통합 분류1\"])\n",
        "  data05 = pd.read_csv('drive/My Drive/Colab Notebooks/Machine Learning/RNN/05'+topic+'utf.csv',encoding='UTF8')\n",
        "  frames = [data12, data01, data02, data05]\n",
        "  data = pd.concat(frames)\n",
        "  data = cleanUp(data)\n",
        "  return data"
      ],
      "execution_count": 0,
      "outputs": []
    },
    {
      "cell_type": "markdown",
      "metadata": {
        "id": "j8GQT7FoOZ2o",
        "colab_type": "text"
      },
      "source": [
        "# loadCatCombRef\n",
        "* loadDataCat을 이용\n",
        "* 전체 주제 데이터를 한꺼번에 저장해서 정리까지 해준다.\n",
        "* 이것도 거의 depreciated"
      ]
    },
    {
      "cell_type": "code",
      "metadata": {
        "id": "-gilQsJaDjTi",
        "colab_type": "code",
        "colab": {}
      },
      "source": [
        "def loadCatCombRef():#load each category and combine all then refine \n",
        "  pol = loadDataCat(\"pol\")\n",
        "  eco = loadDataCat(\"eco\")\n",
        "  cul = loadDataCat(\"cul\")\n",
        "  innt = loadDataCat(\"innt\")\n",
        "  it = loadDataCat(\"it\")\n",
        "  spo = loadDataCat(\"spo\")\n",
        "  soc = loadDataCat(\"soc\")\n",
        "\n",
        "  frames = [pol, eco, cul, innt, it, spo, soc]\n",
        "  data = pd.concat(frames)\n",
        "  data = data.reset_index()\n",
        "\n",
        "  for i in range(len(data.index)):\n",
        "    data[\"키워드\"][i] = str(data.loc[i][\"키워드\"]).replace(\",\",\" \")\n",
        "\n",
        "  data.to_csv(\"drive/My Drive/Colab Notebooks/Machine Learning/RNN/dataPrs12010205.csv\")"
      ],
      "execution_count": 0,
      "outputs": []
    },
    {
      "cell_type": "markdown",
      "metadata": {
        "id": "mRofwQv7O12z",
        "colab_type": "text"
      },
      "source": [
        "# loadDataMntn\n",
        "* 쓸만한 함수\n",
        "* 특정 월month을 arg으로 전달하면, 그 월의 모든 토픽 데이터를 다 받아온다.\n",
        "* claenUp 함수로 정리까지 해준다.\n",
        "* 특정 월에 대한 모든 토픽 데이터를 사용하고자 할 때 이 함수를 호출!\n",
        "* 통합한 데이터를 저장까지 새로 해준다!"
      ]
    },
    {
      "cell_type": "code",
      "metadata": {
        "id": "uGrGCJ0ol5Ub",
        "colab_type": "code",
        "colab": {}
      },
      "source": [
        " def loadDataMnth(mnth):\n",
        "  if mnth == \"12\":\n",
        "    mnth = \"\"\n",
        "\n",
        "  frames = []\n",
        "  topicList = [\"pol\", \"eco\", \"cul\", \"cul\", \"innt\", \"it\", \"spo\",\"soc\"]\n",
        "  for topic in topicList:\n",
        "    data = pd.read_csv('drive/My Drive/Colab Notebooks/Machine Learning/RNN/'+mnth + topic + 'utf.csv',encoding='UTF8')\n",
        "    data = cleanUp(data)\n",
        "    frames.append(data)\n",
        "\n",
        "  print(\"load \", mnth, \" monthly data done... \")\n",
        "  # print(data)\n",
        "  print(\"now proceed to refine...\")\n",
        "\n",
        "  data = pd.concat(frames)\n",
        "  data = data.reset_index()\n",
        "  \n",
        "  for i in range(len(data.index)):\n",
        "    data[\"키워드\"][i] = str(data.loc[i][\"키워드\"]).replace(\",\",\" \")\n",
        "\n",
        "  data.to_csv(\"drive/My Drive/Colab Notebooks/Machine Learning/RNN/dataPrs\"+mnth+\".csv\")\n",
        "  (\"refine done! monthly data saved.\\n\\n\")\n",
        "  return data"
      ],
      "execution_count": 0,
      "outputs": []
    },
    {
      "cell_type": "code",
      "metadata": {
        "id": "4wslsjnaFWFz",
        "colab_type": "code",
        "colab": {}
      },
      "source": [
        "# loadDataMnth(\"12\")"
      ],
      "execution_count": 0,
      "outputs": []
    },
    {
      "cell_type": "code",
      "metadata": {
        "id": "T4i8k8q4PvBA",
        "colab_type": "code",
        "colab": {}
      },
      "source": [
        "# loadDataMnth(\"01\")"
      ],
      "execution_count": 0,
      "outputs": []
    },
    {
      "cell_type": "code",
      "metadata": {
        "id": "7Jwr2rhAPytz",
        "colab_type": "code",
        "colab": {}
      },
      "source": [
        "# loadDataMnth(\"02\")"
      ],
      "execution_count": 0,
      "outputs": []
    },
    {
      "cell_type": "markdown",
      "metadata": {
        "id": "F9KAHElMPU5s",
        "colab_type": "text"
      },
      "source": [
        "# loadMnthRefCob\n",
        "* 쓸만한 함수\n",
        "* loadMnth을 사용한다\n",
        "* 월 list을 만들면, 그 list안의 모든 월들에 대해서 전체 토픽을 가져와서 합쳐준다.\n",
        "* 전체 통합 데이터를 저장까지 한다."
      ]
    },
    {
      "cell_type": "code",
      "metadata": {
        "id": "41_HyszWj-Iu",
        "colab_type": "code",
        "colab": {}
      },
      "source": [
        "# another method: load data by month and refine each then combine\n",
        "def loadMnthRefCob():\n",
        "  mnthList = [\"12\",\"01\",\"02\",\"05\"]\n",
        "  name = \"-\".join(mnthList)\n",
        "  frams = []\n",
        "  for i in mnthList:\n",
        "    print(i,\" month data loading...\")\n",
        "    data = loadDataMnth(i)\n",
        "    print(i, \" month data done! data size : \", data.shape,\"\\n\\n\")\n",
        "    frames.append(data)\n",
        "\n",
        "  if len(mnthList) > 1:\n",
        "    print(\"Each monthly data done... now proceed to combine them all...\\n\\n\")\n",
        "\n",
        "    data = pd.concat(frames)\n",
        "    data = data.reset_index()\n",
        "    data.to_csv(\"drive/My Drive/Colab Notebooks/Machine Learning/RNN/dataPrs\"+name+\".csv\")\n",
        "\n",
        "    print(\"combine finished. total data saved.\\nTotal data size : \", data.shape,\"\\n\\n\")\n",
        "  # return data\n",
        "  # 각각의 month을 먼저 다 가져온다...\n",
        "\n",
        "  #12\n",
        "  # data12 = pd.read_csv('drive/My Drive/Colab Notebooks/Machine Learning/RNN/'+topic+'utf.csv',encoding='UTF8')\n"
      ],
      "execution_count": 0,
      "outputs": []
    },
    {
      "cell_type": "code",
      "metadata": {
        "id": "R5mUGNHVoSGk",
        "colab_type": "code",
        "colab": {}
      },
      "source": [
        "# loadMnthRefCob()"
      ],
      "execution_count": 0,
      "outputs": []
    },
    {
      "cell_type": "markdown",
      "metadata": {
        "id": "YE0NVFmXyCV_",
        "colab_type": "text"
      },
      "source": [
        "# combMnthDatas\n",
        "* 이미 만들어준 월별 데이터를 합쳐서 하나로 만든다!\n",
        "* 쓸모있는 함수!"
      ]
    },
    {
      "cell_type": "code",
      "metadata": {
        "id": "FiJp-QZGsVRG",
        "colab_type": "code",
        "colab": {}
      },
      "source": [
        "def combMnthDatas(dataList = [\"\",\"01\",\"02\",\"05\"]):# combine each month datas\n",
        "  frames = []\n",
        "  for data in dataList:\n",
        "    d = pd.read_csv(\"drive/My Drive/Colab Notebooks/Machine Learning/RNN/dataPrs\"+data+\".csv\",encoding='UTF8')\n",
        "    frames.append(d)\n",
        "\n",
        "\n",
        "  name = \"-\".join(dataList)\n",
        "\n",
        "  data = pd.concat(frames)\n",
        "  data = data.reset_index()\n",
        "  print(data.shape)\n",
        "  data.to_csv(\"drive/My Drive/Colab Notebooks/Machine Learning/RNN/dataPrs\"+name+\".csv\")"
      ],
      "execution_count": 0,
      "outputs": []
    },
    {
      "cell_type": "code",
      "metadata": {
        "id": "Y0AedBfOE3T7",
        "colab_type": "code",
        "colab": {}
      },
      "source": [
        "# combMnthDatas()"
      ],
      "execution_count": 0,
      "outputs": []
    },
    {
      "cell_type": "markdown",
      "metadata": {
        "id": "j5-h4pXZyMO_",
        "colab_type": "text"
      },
      "source": [
        "# cleanUp version2\n",
        "* 데이터에서... 통합분류 1,2를 비교한다. 다르면 그냥 버린다...\n",
        "* 간혹 통합분류 1과 2의 분류가 다른 경우가 꽤 많다..."
      ]
    },
    {
      "cell_type": "code",
      "metadata": {
        "id": "Wh9ql5gPyXWh",
        "colab_type": "code",
        "colab": {}
      },
      "source": [
        "topic = \"pol\"\n",
        "pol = pd.read_csv('drive/My Drive/Colab Notebooks/Machine Learning/RNN/'+topic+'utf.csv',encoding='UTF8')\n"
      ],
      "execution_count": 0,
      "outputs": []
    },
    {
      "cell_type": "code",
      "metadata": {
        "id": "SX_PnoItyflo",
        "colab_type": "code",
        "outputId": "10b177e9-b3b2-46c2-bbbf-5019f92f8835",
        "colab": {
          "base_uri": "https://localhost:8080/",
          "height": 54
        }
      },
      "source": [
        "pol.columns"
      ],
      "execution_count": 0,
      "outputs": [
        {
          "output_type": "execute_result",
          "data": {
            "text/plain": [
              "Index(['뉴스 식별자', '일자', '언론사', '기고자', '제목', '통합 분류1', '통합 분류2', '통합 분류3', '사건/사고 분류1', '사건/사고 분류2', '사건/사고 분류3', '인물', '위치', '기관', '키워드', '특성추출', '본문', 'URL', '분석제외 여부'], dtype='object')"
            ]
          },
          "metadata": {
            "tags": []
          },
          "execution_count": 41
        }
      ]
    },
    {
      "cell_type": "code",
      "metadata": {
        "id": "BROum8NAyrmn",
        "colab_type": "code",
        "colab": {}
      },
      "source": [
        "pol = pol.drop(['뉴스 식별자', '일자', '언론사', '기고자', '사건/사고 분류1', '사건/사고 분류2', '통합 분류3','사건/사고 분류3', '인물', '위치', '기관',  '특성추출', '본문', 'URL', '분석제외 여부'], axis = 1)"
      ],
      "execution_count": 0,
      "outputs": []
    },
    {
      "cell_type": "code",
      "metadata": {
        "id": "GBQfTKHt18kL",
        "colab_type": "code",
        "colab": {}
      },
      "source": [
        "# nan이 있는 경우\n",
        "pol[\"주제\"] = None\n",
        "isNan = list(pol[\"통합 분류2\"].isnull())\n",
        "for i,val in enumerate(isNan):\n",
        "  if val == True:\n",
        "    pol.loc[i,\"주제\"] = pol[\"통합 분류1\"][i].split(\">\")[0]"
      ],
      "execution_count": 0,
      "outputs": []
    },
    {
      "cell_type": "code",
      "metadata": {
        "id": "Lp5jDO4S5gBv",
        "colab_type": "code",
        "outputId": "ac9475da-dd59-4330-a56a-7824a6d8e32f",
        "colab": {
          "base_uri": "https://localhost:8080/",
          "height": 221
        }
      },
      "source": [
        "pol[\"통합 분류1\"]"
      ],
      "execution_count": 0,
      "outputs": [
        {
          "output_type": "execute_result",
          "data": {
            "text/plain": [
              "0           정치>외교\n",
              "1        정치>행정_자치\n",
              "2         사회>사회일반\n",
              "3        정치>국회_정당\n",
              "4         정치>정치일반\n",
              "           ...   \n",
              "19995    정치>국회_정당\n",
              "19996     정치>정치일반\n",
              "19997       사회>여성\n",
              "19998       정치>외교\n",
              "19999     국제>국제일반\n",
              "Name: 통합 분류1, Length: 20000, dtype: object"
            ]
          },
          "metadata": {
            "tags": []
          },
          "execution_count": 45
        }
      ]
    },
    {
      "cell_type": "code",
      "metadata": {
        "id": "XlI_iwvRy2R5",
        "colab_type": "code",
        "outputId": "eecfcaa0-593d-44eb-ad9a-926066e2cf0e",
        "colab": {
          "base_uri": "https://localhost:8080/",
          "height": 34
        }
      },
      "source": [
        "#다른 경우\n",
        "for i in range(pol.shape[0]):\n",
        "  if str(pol[\"통합 분류1\"][i]).split(\">\")[0] != str(pol[\"통합 분류2\"][i]).split(\">\")[0]:\n",
        "    pol.loc[i,\"주제\"] = pol[\"통합 분류1\"][i].split(\">\")[0]\n",
        "    # print(\"1 : \" , str(pol[\"통합 분류1\"][i]).split(\">\")[0], \", 2 : \" , str(pol[\"통합 분류2\"][i]).split(\">\")[0])\n",
        "  # if i > 10:\n",
        "    # break\n",
        "pol\n",
        "\"\"\"\n",
        "  만들어야 할 경우의 수:\n",
        "    하나가 nan이다.\n",
        "    두개가 다르다 : 앞의 걸로 바꿔야?\n",
        "    두개가 같다 : 그냥 바꾼다.\n",
        "\"\"\"\n",
        "# cat = pol[\"통합 분류1\"]\n",
        "# for i, c in enumerate(cat):\n",
        "#   # print()\n",
        "#   c = c.split(\">\")\n",
        "#   print(c[0])\n",
        "#   if i > 10:\n",
        "#     break"
      ],
      "execution_count": 0,
      "outputs": [
        {
          "output_type": "execute_result",
          "data": {
            "text/plain": [
              "'\\n  만들어야 할 경우의 수:\\n    하나가 nan이다.\\n    두개가 다르다 : 앞의 걸로 바꿔야?\\n    두개가 같다 : 그냥 바꾼다.\\n'"
            ]
          },
          "metadata": {
            "tags": []
          },
          "execution_count": 84
        }
      ]
    },
    {
      "cell_type": "code",
      "metadata": {
        "id": "1e3TkJItERHK",
        "colab_type": "code",
        "colab": {}
      },
      "source": [
        "# print(type(data))"
      ],
      "execution_count": 0,
      "outputs": []
    },
    {
      "cell_type": "markdown",
      "metadata": {
        "id": "K9LFPD9dEYX-",
        "colab_type": "text"
      },
      "source": [
        "# cleanUp 탐구"
      ]
    },
    {
      "cell_type": "markdown",
      "metadata": {
        "id": "QYSHkhmQFewm",
        "colab_type": "text"
      },
      "source": [
        "## 정치 섹션에서 정치와 다르게 통합 분류에서 분류 된 기사들을 탐색"
      ]
    },
    {
      "cell_type": "code",
      "metadata": {
        "id": "PzKi1KFpEewk",
        "colab_type": "code",
        "colab": {}
      },
      "source": [
        "import pandas as pd\n",
        "topic = \"it\"\n",
        "data = pd.read_csv('drive/My Drive/Colab Notebooks/Machine Learning/RNN/'+topic+'utf.csv',encoding='UTF8')\n"
      ],
      "execution_count": 0,
      "outputs": []
    },
    {
      "cell_type": "code",
      "metadata": {
        "id": "vNdCxYJHEfnd",
        "colab_type": "code",
        "colab": {}
      },
      "source": [
        "data = data.drop(['뉴스 식별자', '일자', '언론사', '기고자', '사건/사고 분류1', '사건/사고 분류2', '통합 분류3','사건/사고 분류3', '인물', '위치', '기관',  '특성추출', '본문', 'URL', '분석제외 여부'], axis = 1)"
      ],
      "execution_count": 0,
      "outputs": []
    },
    {
      "cell_type": "code",
      "metadata": {
        "id": "7a9LboxyEmSR",
        "colab_type": "code",
        "colab": {
          "base_uri": "https://localhost:8080/",
          "height": 1000
        },
        "outputId": "f230062d-570b-466c-f0cf-e87b8250f395"
      },
      "source": [
        "data.head(20)"
      ],
      "execution_count": 11,
      "outputs": [
        {
          "output_type": "execute_result",
          "data": {
            "text/html": [
              "<div>\n",
              "<style scoped>\n",
              "    .dataframe tbody tr th:only-of-type {\n",
              "        vertical-align: middle;\n",
              "    }\n",
              "\n",
              "    .dataframe tbody tr th {\n",
              "        vertical-align: top;\n",
              "    }\n",
              "\n",
              "    .dataframe thead th {\n",
              "        text-align: right;\n",
              "    }\n",
              "</style>\n",
              "<table border=\"1\" class=\"dataframe\">\n",
              "  <thead>\n",
              "    <tr style=\"text-align: right;\">\n",
              "      <th></th>\n",
              "      <th>제목</th>\n",
              "      <th>통합 분류1</th>\n",
              "      <th>통합 분류2</th>\n",
              "      <th>키워드</th>\n",
              "    </tr>\n",
              "  </thead>\n",
              "  <tbody>\n",
              "    <tr>\n",
              "      <th>0</th>\n",
              "      <td>군포시 마을버스 활용해 미세먼지 측정</td>\n",
              "      <td>IT_과학&gt;보안</td>\n",
              "      <td>IT_과학&gt;과학</td>\n",
              "      <td>활용,군포시,마을버스,미세,먼지,측정,앵커,미세먼지,마음,지자체들,대책,마련,고심,...</td>\n",
              "    </tr>\n",
              "    <tr>\n",
              "      <th>1</th>\n",
              "      <td>[영상] ‘기생충’ 아카데미 4관왕</td>\n",
              "      <td>문화&gt;영화</td>\n",
              "      <td>IT_과학&gt;과학</td>\n",
              "      <td>기생충,아카데미,4관왕,기생충,아카데미,4관왕</td>\n",
              "    </tr>\n",
              "    <tr>\n",
              "      <th>2</th>\n",
              "      <td>동신대, 사이버 전문가 양성 도우미 ‘톡톡’</td>\n",
              "      <td>IT_과학&gt;보안</td>\n",
              "      <td>IT_과학&gt;과학</td>\n",
              "      <td>동신대,사이버,전문가,양성,도우미,동신대학교,에너지,융합,대학,융합,정보,보안전공,...</td>\n",
              "    </tr>\n",
              "    <tr>\n",
              "      <th>3</th>\n",
              "      <td>기아차, 소형 SUV ‘쏘넷’으로 셀토스 돌풍 잇는다</td>\n",
              "      <td>경제&gt;자동차</td>\n",
              "      <td>경제&gt;산업_기업</td>\n",
              "      <td>기아차,쏘넷,소형,SUV,셀토스,돌풍,셀토스,흥행,돌풍,기아차,소형,SUV,등장,눈...</td>\n",
              "    </tr>\n",
              "    <tr>\n",
              "      <th>4</th>\n",
              "      <td>“스팅어 이제 할부로 구독하세요”</td>\n",
              "      <td>경제&gt;자동차</td>\n",
              "      <td>경제&gt;산업_기업</td>\n",
              "      <td>스팅어,할부,구독,기아자동차,형태,프로그램,구독,할부,기아차,프리미엄,퍼포먼스,세단...</td>\n",
              "    </tr>\n",
              "    <tr>\n",
              "      <th>5</th>\n",
              "      <td>북구, 지방정부 정책대상 ‘최우수상’ 수상</td>\n",
              "      <td>지역&gt;전남</td>\n",
              "      <td>IT_과학&gt;IT_과학일반</td>\n",
              "      <td>북구,최우수상,지방,정부,정책,대상,우수,수상,광주,북구,한국지방정부학회,주관,정책...</td>\n",
              "    </tr>\n",
              "    <tr>\n",
              "      <th>6</th>\n",
              "      <td>‘스트레이트’, 신종 코로나바이러스 가짜 뉴스의 실태 [M+TV컷]</td>\n",
              "      <td>IT_과학&gt;IT_과학일반</td>\n",
              "      <td>사회&gt;미디어</td>\n",
              "      <td>스트레이트,가짜,신종,코로나바이러스,가짜,실태,TV컷,신종,코로나,공포,세계,가짜,...</td>\n",
              "    </tr>\n",
              "    <tr>\n",
              "      <th>7</th>\n",
              "      <td>“소니도 MWC 불참” 코로나에 스페인行 줄줄이 취소</td>\n",
              "      <td>경제&gt;산업_기업</td>\n",
              "      <td>IT_과학&gt;인터넷_SNS</td>\n",
              "      <td>소니,MWC,불참,코로나,스페인,취소,일본,대표적,전자업체,소니,2주,세계이동통신박...</td>\n",
              "    </tr>\n",
              "    <tr>\n",
              "      <th>8</th>\n",
              "      <td>[케이블 위성 하이라이트]2020년 2월 11일</td>\n",
              "      <td>IT_과학&gt;과학</td>\n",
              "      <td>문화&gt;요리_여행</td>\n",
              "      <td>11일,2월,교양,요즘,책방,tvN,8시,리프킨,경제학자,제레미,노동,미래,예견서,...</td>\n",
              "    </tr>\n",
              "    <tr>\n",
              "      <th>9</th>\n",
              "      <td>[유가증권시장 공시] 선도전기 / 잇츠한불 / 한온시스템</td>\n",
              "      <td>경제&gt;서비스_쇼핑</td>\n",
              "      <td>국제&gt;국제일반</td>\n",
              "      <td>선도전기,잇츠한불,한온시스템,선도전기,삼성물산,48억,규모,판매,공급,계약,잇츠한불...</td>\n",
              "    </tr>\n",
              "    <tr>\n",
              "      <th>10</th>\n",
              "      <td>[기자브리핑] 검찰 \"타다는 불법\" 이재웅 대표 징역 1년 구형</td>\n",
              "      <td>사회&gt;사회일반</td>\n",
              "      <td>IT_과학&gt;인터넷_SNS</td>\n",
              "      <td>검찰,불법,구형,이재웅,대표,징역,1년,진행,변상욱,앵커,출연,이연아,텍스트,실제,...</td>\n",
              "    </tr>\n",
              "    <tr>\n",
              "      <th>11</th>\n",
              "      <td>대형마트, 오프라인 매출 '뚝' 온라인은 '호황'</td>\n",
              "      <td>경제&gt;서비스_쇼핑</td>\n",
              "      <td>경제&gt;유통</td>\n",
              "      <td>대형,마트,오프라인,매출,온라인,호황,신종,코로,여파,바이러스,감염,전북,지역,대형...</td>\n",
              "    </tr>\n",
              "    <tr>\n",
              "      <th>12</th>\n",
              "      <td>전주비전대, 코이카 글로벌연수사업 선정</td>\n",
              "      <td>IT_과학&gt;과학</td>\n",
              "      <td>NaN</td>\n",
              "      <td>전주비전대,선정,코이카,글로벌,연수,사업,전주비전대학교,지난달,코이카,KOICAㆍ한...</td>\n",
              "    </tr>\n",
              "    <tr>\n",
              "      <th>13</th>\n",
              "      <td>'생생정보' 돌판 짜장면, 300도 달궈진 뜨끈한 돌판 위에 짜장면X만두X튀김까지 푸짐</td>\n",
              "      <td>IT_과학&gt;인터넷_SNS</td>\n",
              "      <td>문화&gt;생활</td>\n",
              "      <td>생생정보,돌판,짜장면,돌판,짜장면X만두X튀김,푸짐,2TV,생생,정보,맛집,돌판,짜장...</td>\n",
              "    </tr>\n",
              "    <tr>\n",
              "      <th>14</th>\n",
              "      <td>[레이더M] `2020년 1호 상장기업` 위세아이텍 코스닥 상장 \"데이터 3법 개정...</td>\n",
              "      <td>경제&gt;산업_기업</td>\n",
              "      <td>경제&gt;국제경제</td>\n",
              "      <td>상장기업,1호,상장,기업,상장,위세,아이텍,코스닥,데이터,수혜,3법,개정,수혜,기사...</td>\n",
              "    </tr>\n",
              "    <tr>\n",
              "      <th>15</th>\n",
              "      <td>메드팩토, 항암제 개발 기대감 시간외 주가 10% ↑</td>\n",
              "      <td>IT_과학&gt;과학</td>\n",
              "      <td>경제&gt;증권_증시</td>\n",
              "      <td>메드팩토,항암제,기대감,항암제,시간외,주가,10%,TGF-β,저해제,메드팩토,백토서...</td>\n",
              "    </tr>\n",
              "    <tr>\n",
              "      <th>16</th>\n",
              "      <td>KBS교향악단 5G 클래식 VR 콘텐츠 제작 LG유플러스 앱으로 관람</td>\n",
              "      <td>IT_과학&gt;콘텐츠</td>\n",
              "      <td>IT_과학&gt;인터넷_SNS</td>\n",
              "      <td>KBS,교향악단,5G,클래식,VR,콘텐츠,제작,LG유플러스,관람,KBS교향악단,LG...</td>\n",
              "    </tr>\n",
              "    <tr>\n",
              "      <th>17</th>\n",
              "      <td>`서든어택` 넥슨지티 영업손실 287억원 \"내년 신작게임 출시\"</td>\n",
              "      <td>IT_과학&gt;인터넷_SNS</td>\n",
              "      <td>IT_과학&gt;모바일</td>\n",
              "      <td>서든어택,287억,넥슨지티,영업,손실,내년,신작,게임,출시,총싸움,게임,어택,유명,...</td>\n",
              "    </tr>\n",
              "    <tr>\n",
              "      <th>18</th>\n",
              "      <td>'기생충' 전 세계 티켓 수익 2000억 원 육박</td>\n",
              "      <td>문화&gt;영화</td>\n",
              "      <td>문화&gt;전시_공연</td>\n",
              "      <td>기생충,세계,티켓,수익,육박,시상식,아카데미,4관왕,차지,영화,기생충,개국,개봉,기...</td>\n",
              "    </tr>\n",
              "    <tr>\n",
              "      <th>19</th>\n",
              "      <td>제시카송, 짜파구리에 세계 열풍 기생충이 불러온 유행들</td>\n",
              "      <td>문화&gt;생활</td>\n",
              "      <td>IT_과학&gt;IT_과학일반</td>\n",
              "      <td>제시카송,짜파구리,세계,열풍,기생충,유행들,제시카,외동딸,일리노이,시카고,선배,김진...</td>\n",
              "    </tr>\n",
              "  </tbody>\n",
              "</table>\n",
              "</div>"
            ],
            "text/plain": [
              "                                                   제목  ...                                                키워드\n",
              "0                                군포시 마을버스 활용해 미세먼지 측정  ...  활용,군포시,마을버스,미세,먼지,측정,앵커,미세먼지,마음,지자체들,대책,마련,고심,...\n",
              "1                                 [영상] ‘기생충’ 아카데미 4관왕  ...                          기생충,아카데미,4관왕,기생충,아카데미,4관왕\n",
              "2                            동신대, 사이버 전문가 양성 도우미 ‘톡톡’  ...  동신대,사이버,전문가,양성,도우미,동신대학교,에너지,융합,대학,융합,정보,보안전공,...\n",
              "3                       기아차, 소형 SUV ‘쏘넷’으로 셀토스 돌풍 잇는다  ...  기아차,쏘넷,소형,SUV,셀토스,돌풍,셀토스,흥행,돌풍,기아차,소형,SUV,등장,눈...\n",
              "4                                  “스팅어 이제 할부로 구독하세요”  ...  스팅어,할부,구독,기아자동차,형태,프로그램,구독,할부,기아차,프리미엄,퍼포먼스,세단...\n",
              "5                             북구, 지방정부 정책대상 ‘최우수상’ 수상  ...  북구,최우수상,지방,정부,정책,대상,우수,수상,광주,북구,한국지방정부학회,주관,정책...\n",
              "6               ‘스트레이트’, 신종 코로나바이러스 가짜 뉴스의 실태 [M+TV컷]  ...  스트레이트,가짜,신종,코로나바이러스,가짜,실태,TV컷,신종,코로나,공포,세계,가짜,...\n",
              "7                       “소니도 MWC 불참” 코로나에 스페인行 줄줄이 취소  ...  소니,MWC,불참,코로나,스페인,취소,일본,대표적,전자업체,소니,2주,세계이동통신박...\n",
              "8                          [케이블 위성 하이라이트]2020년 2월 11일  ...  11일,2월,교양,요즘,책방,tvN,8시,리프킨,경제학자,제레미,노동,미래,예견서,...\n",
              "9                     [유가증권시장 공시] 선도전기 / 잇츠한불 / 한온시스템  ...  선도전기,잇츠한불,한온시스템,선도전기,삼성물산,48억,규모,판매,공급,계약,잇츠한불...\n",
              "10                [기자브리핑] 검찰 \"타다는 불법\" 이재웅 대표 징역 1년 구형  ...  검찰,불법,구형,이재웅,대표,징역,1년,진행,변상욱,앵커,출연,이연아,텍스트,실제,...\n",
              "11                        대형마트, 오프라인 매출 '뚝' 온라인은 '호황'  ...  대형,마트,오프라인,매출,온라인,호황,신종,코로,여파,바이러스,감염,전북,지역,대형...\n",
              "12                              전주비전대, 코이카 글로벌연수사업 선정  ...  전주비전대,선정,코이카,글로벌,연수,사업,전주비전대학교,지난달,코이카,KOICAㆍ한...\n",
              "13   '생생정보' 돌판 짜장면, 300도 달궈진 뜨끈한 돌판 위에 짜장면X만두X튀김까지 푸짐  ...  생생정보,돌판,짜장면,돌판,짜장면X만두X튀김,푸짐,2TV,생생,정보,맛집,돌판,짜장...\n",
              "14  [레이더M] `2020년 1호 상장기업` 위세아이텍 코스닥 상장 \"데이터 3법 개정...  ...  상장기업,1호,상장,기업,상장,위세,아이텍,코스닥,데이터,수혜,3법,개정,수혜,기사...\n",
              "15                      메드팩토, 항암제 개발 기대감 시간외 주가 10% ↑  ...  메드팩토,항암제,기대감,항암제,시간외,주가,10%,TGF-β,저해제,메드팩토,백토서...\n",
              "16             KBS교향악단 5G 클래식 VR 콘텐츠 제작 LG유플러스 앱으로 관람  ...  KBS,교향악단,5G,클래식,VR,콘텐츠,제작,LG유플러스,관람,KBS교향악단,LG...\n",
              "17                `서든어택` 넥슨지티 영업손실 287억원 \"내년 신작게임 출시\"  ...  서든어택,287억,넥슨지티,영업,손실,내년,신작,게임,출시,총싸움,게임,어택,유명,...\n",
              "18                        '기생충' 전 세계 티켓 수익 2000억 원 육박  ...  기생충,세계,티켓,수익,육박,시상식,아카데미,4관왕,차지,영화,기생충,개국,개봉,기...\n",
              "19                     제시카송, 짜파구리에 세계 열풍 기생충이 불러온 유행들  ...  제시카송,짜파구리,세계,열풍,기생충,유행들,제시카,외동딸,일리노이,시카고,선배,김진...\n",
              "\n",
              "[20 rows x 4 columns]"
            ]
          },
          "metadata": {
            "tags": []
          },
          "execution_count": 11
        }
      ]
    },
    {
      "cell_type": "code",
      "metadata": {
        "id": "5IKoSJiuEtae",
        "colab_type": "code",
        "outputId": "8d16b4ca-5af9-40fa-92fd-36d0d608ee77",
        "colab": {
          "base_uri": "https://localhost:8080/",
          "height": 1000
        }
      },
      "source": [
        "count = 0\n",
        "for i, d in enumerate(data[\"통합 분류1\"]):\n",
        "  if str(s).split(\">\")[0] != \"it\":\n",
        "    print(str(s).split(\">\")[0])\n",
        "    count += 1\n",
        "  if i > 100:\n",
        "    break\n",
        "count"
      ],
      "execution_count": 42,
      "outputs": [
        {
          "output_type": "stream",
          "text": [
            "문화\n",
            "문화\n",
            "문화\n",
            "문화\n",
            "문화\n",
            "문화\n",
            "문화\n",
            "문화\n",
            "문화\n",
            "문화\n",
            "문화\n",
            "문화\n",
            "문화\n",
            "문화\n",
            "문화\n",
            "문화\n",
            "문화\n",
            "문화\n",
            "문화\n",
            "문화\n",
            "문화\n",
            "문화\n",
            "문화\n",
            "문화\n",
            "문화\n",
            "문화\n",
            "문화\n",
            "문화\n",
            "문화\n",
            "문화\n",
            "문화\n",
            "문화\n",
            "문화\n",
            "문화\n",
            "문화\n",
            "문화\n",
            "문화\n",
            "문화\n",
            "문화\n",
            "문화\n",
            "문화\n",
            "문화\n",
            "문화\n",
            "문화\n",
            "문화\n",
            "문화\n",
            "문화\n",
            "문화\n",
            "문화\n",
            "문화\n",
            "문화\n",
            "문화\n",
            "문화\n",
            "문화\n",
            "문화\n",
            "문화\n",
            "문화\n",
            "문화\n",
            "문화\n",
            "문화\n",
            "문화\n",
            "문화\n",
            "문화\n",
            "문화\n",
            "문화\n",
            "문화\n",
            "문화\n",
            "문화\n",
            "문화\n",
            "문화\n",
            "문화\n",
            "문화\n",
            "문화\n",
            "문화\n",
            "문화\n",
            "문화\n",
            "문화\n",
            "문화\n",
            "문화\n",
            "문화\n",
            "문화\n",
            "문화\n",
            "문화\n",
            "문화\n",
            "문화\n",
            "문화\n",
            "문화\n",
            "문화\n",
            "문화\n",
            "문화\n",
            "문화\n",
            "문화\n",
            "문화\n",
            "문화\n",
            "문화\n",
            "문화\n",
            "문화\n",
            "문화\n",
            "문화\n",
            "문화\n",
            "문화\n",
            "문화\n"
          ],
          "name": "stdout"
        },
        {
          "output_type": "execute_result",
          "data": {
            "text/plain": [
              "102"
            ]
          },
          "metadata": {
            "tags": []
          },
          "execution_count": 42
        }
      ]
    },
    {
      "cell_type": "markdown",
      "metadata": {
        "id": "d2KVyeOlE5jI",
        "colab_type": "text"
      },
      "source": [
        "## 통합 분류 1과 통합 분류 2와 기본 주제가 모두 동일해야 인정한다면?"
      ]
    },
    {
      "cell_type": "code",
      "metadata": {
        "id": "_VlNkY0iE_fh",
        "colab_type": "code",
        "colab": {
          "base_uri": "https://localhost:8080/",
          "height": 108
        },
        "outputId": "541aa96d-b02a-4749-f5f7-6de2fdeb55e3"
      },
      "source": [
        "#통합 분류2에 nan데이터가 많더라...\n",
        "data.isnull().sum()"
      ],
      "execution_count": 21,
      "outputs": [
        {
          "output_type": "execute_result",
          "data": {
            "text/plain": [
              "제목           0\n",
              "통합 분류1       0\n",
              "통합 분류2    3077\n",
              "키워드          0\n",
              "dtype: int64"
            ]
          },
          "metadata": {
            "tags": []
          },
          "execution_count": 21
        }
      ]
    },
    {
      "cell_type": "code",
      "metadata": {
        "id": "0KUXSdMHFbqD",
        "colab_type": "code",
        "colab": {
          "base_uri": "https://localhost:8080/",
          "height": 35
        },
        "outputId": "af20609a-b574-48ba-ed07-9858f885bd4b"
      },
      "source": [
        "# 둘 다 주어진 주제가 아닌 row들을 확인해보자.\n",
        "count = 0\n",
        "for i in range(data.shape[0]):\n",
        "# 내가 또 뭘 놓쳤길래 둘 다 IT 과학인 것이 출력이 안될까?\n",
        "# for i,d in enumerate(data):\n",
        "  # print(data.loc[i,\"통합 분류1\"])\n",
        "  a = str(data.loc[i,\"통합 분류1\"]).split(\">\")[0].strip()\n",
        "  b = str(data.loc[i,\"통합 분류2\"]).split(\">\")[0].strip()\n",
        "  # print(type(a), type(b))\n",
        "  # if a == \"IT_과학\":\n",
        "  #   print('yes A')\n",
        "  # if b == \"IT_과학\":\n",
        "  #   print('yes B')\n",
        "  # # print(\"_\",b)\n",
        "  # print(data.loc[i])\n",
        "  \n",
        "  if not(a == \"IT_과학\" and  b == \"IT_과학\"):\n",
        "    count += 1\n",
        "    # print(a)\n",
        "    # print(b)\n",
        "    # print(i)\n",
        "  # if i > 30:\n",
        "  #   break\n",
        "print(count)"
      ],
      "execution_count": 54,
      "outputs": [
        {
          "output_type": "stream",
          "text": [
            "16192\n"
          ],
          "name": "stdout"
        }
      ]
    },
    {
      "cell_type": "code",
      "metadata": {
        "id": "GS2JgcSSJtMx",
        "colab_type": "code",
        "colab": {
          "base_uri": "https://localhost:8080/",
          "height": 760
        },
        "outputId": "dbb1a1c6-2aac-4dbf-8520-a24875d07f5c"
      },
      "source": [
        "# 이제 전체 문서에서 그 수를 확인해보자\n",
        "topicListFile = [\"pol\", \"eco\", \"cul\", \"innt\", \"it\", \"spo\",\"soc\"]\n",
        "topicKor = [\"정치\", \"경제\", \"문화\", \"국제\",\"IT_과학\",\"스포츠\",\"사회\"]\n",
        "for j, topic in enumerate(topicListFile):\n",
        "  count = 0\n",
        "  data = pd.read_csv('drive/My Drive/Colab Notebooks/Machine Learning/RNN/'+ topic + 'utf.csv',encoding='UTF8')\n",
        "  for i in range(data.shape[0]):\n",
        "    a = str(data.loc[i,\"통합 분류1\"]).split(\">\")[0].strip()\n",
        "    b = str(data.loc[i,\"통합 분류2\"]).split(\">\")[0].strip()\n",
        "    if not(a == topicKor[j] and  b == topicKor[j]):\n",
        "      if(count < 5):\n",
        "        print(data[[\"제목\",\"키워드\"]][i])\n",
        "      count += 1\n",
        "  print(topicKor[j],\" : \" , count)"
      ],
      "execution_count": 73,
      "outputs": [
        {
          "output_type": "error",
          "ename": "KeyError",
          "evalue": "ignored",
          "traceback": [
            "\u001b[0;31m---------------------------------------------------------------------------\u001b[0m",
            "\u001b[0;31mKeyError\u001b[0m                                  Traceback (most recent call last)",
            "\u001b[0;32m/usr/local/lib/python3.6/dist-packages/pandas/core/indexes/base.py\u001b[0m in \u001b[0;36mget_loc\u001b[0;34m(self, key, method, tolerance)\u001b[0m\n\u001b[1;32m   2896\u001b[0m             \u001b[0;32mtry\u001b[0m\u001b[0;34m:\u001b[0m\u001b[0;34m\u001b[0m\u001b[0;34m\u001b[0m\u001b[0m\n\u001b[0;32m-> 2897\u001b[0;31m                 \u001b[0;32mreturn\u001b[0m \u001b[0mself\u001b[0m\u001b[0;34m.\u001b[0m\u001b[0m_engine\u001b[0m\u001b[0;34m.\u001b[0m\u001b[0mget_loc\u001b[0m\u001b[0;34m(\u001b[0m\u001b[0mkey\u001b[0m\u001b[0;34m)\u001b[0m\u001b[0;34m\u001b[0m\u001b[0;34m\u001b[0m\u001b[0m\n\u001b[0m\u001b[1;32m   2898\u001b[0m             \u001b[0;32mexcept\u001b[0m \u001b[0mKeyError\u001b[0m\u001b[0;34m:\u001b[0m\u001b[0;34m\u001b[0m\u001b[0;34m\u001b[0m\u001b[0m\n",
            "\u001b[0;32mpandas/_libs/index.pyx\u001b[0m in \u001b[0;36mpandas._libs.index.IndexEngine.get_loc\u001b[0;34m()\u001b[0m\n",
            "\u001b[0;32mpandas/_libs/index.pyx\u001b[0m in \u001b[0;36mpandas._libs.index.IndexEngine.get_loc\u001b[0;34m()\u001b[0m\n",
            "\u001b[0;32mpandas/_libs/hashtable_class_helper.pxi\u001b[0m in \u001b[0;36mpandas._libs.hashtable.PyObjectHashTable.get_item\u001b[0;34m()\u001b[0m\n",
            "\u001b[0;32mpandas/_libs/hashtable_class_helper.pxi\u001b[0m in \u001b[0;36mpandas._libs.hashtable.PyObjectHashTable.get_item\u001b[0;34m()\u001b[0m\n",
            "\u001b[0;31mKeyError\u001b[0m: 0",
            "\nDuring handling of the above exception, another exception occurred:\n",
            "\u001b[0;31mKeyError\u001b[0m                                  Traceback (most recent call last)",
            "\u001b[0;32m<ipython-input-73-45c461c5dae5>\u001b[0m in \u001b[0;36m<module>\u001b[0;34m()\u001b[0m\n\u001b[1;32m      9\u001b[0m     \u001b[0;32mif\u001b[0m \u001b[0;32mnot\u001b[0m\u001b[0;34m(\u001b[0m\u001b[0ma\u001b[0m \u001b[0;34m==\u001b[0m \u001b[0mtopicKor\u001b[0m\u001b[0;34m[\u001b[0m\u001b[0mj\u001b[0m\u001b[0;34m]\u001b[0m \u001b[0;32mand\u001b[0m  \u001b[0mb\u001b[0m \u001b[0;34m==\u001b[0m \u001b[0mtopicKor\u001b[0m\u001b[0;34m[\u001b[0m\u001b[0mj\u001b[0m\u001b[0;34m]\u001b[0m\u001b[0;34m)\u001b[0m\u001b[0;34m:\u001b[0m\u001b[0;34m\u001b[0m\u001b[0;34m\u001b[0m\u001b[0m\n\u001b[1;32m     10\u001b[0m       \u001b[0;32mif\u001b[0m\u001b[0;34m(\u001b[0m\u001b[0mcount\u001b[0m \u001b[0;34m<\u001b[0m \u001b[0;36m5\u001b[0m\u001b[0;34m)\u001b[0m\u001b[0;34m:\u001b[0m\u001b[0;34m\u001b[0m\u001b[0;34m\u001b[0m\u001b[0m\n\u001b[0;32m---> 11\u001b[0;31m         \u001b[0mprint\u001b[0m\u001b[0;34m(\u001b[0m\u001b[0mdata\u001b[0m\u001b[0;34m[\u001b[0m\u001b[0;34m[\u001b[0m\u001b[0;34m\"제목\"\u001b[0m\u001b[0;34m,\u001b[0m\u001b[0;34m\"키워드\"\u001b[0m\u001b[0;34m]\u001b[0m\u001b[0;34m]\u001b[0m\u001b[0;34m[\u001b[0m\u001b[0mi\u001b[0m\u001b[0;34m]\u001b[0m\u001b[0;34m)\u001b[0m\u001b[0;34m\u001b[0m\u001b[0;34m\u001b[0m\u001b[0m\n\u001b[0m\u001b[1;32m     12\u001b[0m       \u001b[0mcount\u001b[0m \u001b[0;34m+=\u001b[0m \u001b[0;36m1\u001b[0m\u001b[0;34m\u001b[0m\u001b[0;34m\u001b[0m\u001b[0m\n\u001b[1;32m     13\u001b[0m   \u001b[0mprint\u001b[0m\u001b[0;34m(\u001b[0m\u001b[0mtopicKor\u001b[0m\u001b[0;34m[\u001b[0m\u001b[0mj\u001b[0m\u001b[0;34m]\u001b[0m\u001b[0;34m,\u001b[0m\u001b[0;34m\" : \"\u001b[0m \u001b[0;34m,\u001b[0m \u001b[0mcount\u001b[0m\u001b[0;34m)\u001b[0m\u001b[0;34m\u001b[0m\u001b[0;34m\u001b[0m\u001b[0m\n",
            "\u001b[0;32m/usr/local/lib/python3.6/dist-packages/pandas/core/frame.py\u001b[0m in \u001b[0;36m__getitem__\u001b[0;34m(self, key)\u001b[0m\n\u001b[1;32m   2993\u001b[0m             \u001b[0;32mif\u001b[0m \u001b[0mself\u001b[0m\u001b[0;34m.\u001b[0m\u001b[0mcolumns\u001b[0m\u001b[0;34m.\u001b[0m\u001b[0mnlevels\u001b[0m \u001b[0;34m>\u001b[0m \u001b[0;36m1\u001b[0m\u001b[0;34m:\u001b[0m\u001b[0;34m\u001b[0m\u001b[0;34m\u001b[0m\u001b[0m\n\u001b[1;32m   2994\u001b[0m                 \u001b[0;32mreturn\u001b[0m \u001b[0mself\u001b[0m\u001b[0;34m.\u001b[0m\u001b[0m_getitem_multilevel\u001b[0m\u001b[0;34m(\u001b[0m\u001b[0mkey\u001b[0m\u001b[0;34m)\u001b[0m\u001b[0;34m\u001b[0m\u001b[0;34m\u001b[0m\u001b[0m\n\u001b[0;32m-> 2995\u001b[0;31m             \u001b[0mindexer\u001b[0m \u001b[0;34m=\u001b[0m \u001b[0mself\u001b[0m\u001b[0;34m.\u001b[0m\u001b[0mcolumns\u001b[0m\u001b[0;34m.\u001b[0m\u001b[0mget_loc\u001b[0m\u001b[0;34m(\u001b[0m\u001b[0mkey\u001b[0m\u001b[0;34m)\u001b[0m\u001b[0;34m\u001b[0m\u001b[0;34m\u001b[0m\u001b[0m\n\u001b[0m\u001b[1;32m   2996\u001b[0m             \u001b[0;32mif\u001b[0m \u001b[0mis_integer\u001b[0m\u001b[0;34m(\u001b[0m\u001b[0mindexer\u001b[0m\u001b[0;34m)\u001b[0m\u001b[0;34m:\u001b[0m\u001b[0;34m\u001b[0m\u001b[0;34m\u001b[0m\u001b[0m\n\u001b[1;32m   2997\u001b[0m                 \u001b[0mindexer\u001b[0m \u001b[0;34m=\u001b[0m \u001b[0;34m[\u001b[0m\u001b[0mindexer\u001b[0m\u001b[0;34m]\u001b[0m\u001b[0;34m\u001b[0m\u001b[0;34m\u001b[0m\u001b[0m\n",
            "\u001b[0;32m/usr/local/lib/python3.6/dist-packages/pandas/core/indexes/base.py\u001b[0m in \u001b[0;36mget_loc\u001b[0;34m(self, key, method, tolerance)\u001b[0m\n\u001b[1;32m   2897\u001b[0m                 \u001b[0;32mreturn\u001b[0m \u001b[0mself\u001b[0m\u001b[0;34m.\u001b[0m\u001b[0m_engine\u001b[0m\u001b[0;34m.\u001b[0m\u001b[0mget_loc\u001b[0m\u001b[0;34m(\u001b[0m\u001b[0mkey\u001b[0m\u001b[0;34m)\u001b[0m\u001b[0;34m\u001b[0m\u001b[0;34m\u001b[0m\u001b[0m\n\u001b[1;32m   2898\u001b[0m             \u001b[0;32mexcept\u001b[0m \u001b[0mKeyError\u001b[0m\u001b[0;34m:\u001b[0m\u001b[0;34m\u001b[0m\u001b[0;34m\u001b[0m\u001b[0m\n\u001b[0;32m-> 2899\u001b[0;31m                 \u001b[0;32mreturn\u001b[0m \u001b[0mself\u001b[0m\u001b[0;34m.\u001b[0m\u001b[0m_engine\u001b[0m\u001b[0;34m.\u001b[0m\u001b[0mget_loc\u001b[0m\u001b[0;34m(\u001b[0m\u001b[0mself\u001b[0m\u001b[0;34m.\u001b[0m\u001b[0m_maybe_cast_indexer\u001b[0m\u001b[0;34m(\u001b[0m\u001b[0mkey\u001b[0m\u001b[0;34m)\u001b[0m\u001b[0;34m)\u001b[0m\u001b[0;34m\u001b[0m\u001b[0;34m\u001b[0m\u001b[0m\n\u001b[0m\u001b[1;32m   2900\u001b[0m         \u001b[0mindexer\u001b[0m \u001b[0;34m=\u001b[0m \u001b[0mself\u001b[0m\u001b[0;34m.\u001b[0m\u001b[0mget_indexer\u001b[0m\u001b[0;34m(\u001b[0m\u001b[0;34m[\u001b[0m\u001b[0mkey\u001b[0m\u001b[0;34m]\u001b[0m\u001b[0;34m,\u001b[0m \u001b[0mmethod\u001b[0m\u001b[0;34m=\u001b[0m\u001b[0mmethod\u001b[0m\u001b[0;34m,\u001b[0m \u001b[0mtolerance\u001b[0m\u001b[0;34m=\u001b[0m\u001b[0mtolerance\u001b[0m\u001b[0;34m)\u001b[0m\u001b[0;34m\u001b[0m\u001b[0;34m\u001b[0m\u001b[0m\n\u001b[1;32m   2901\u001b[0m         \u001b[0;32mif\u001b[0m \u001b[0mindexer\u001b[0m\u001b[0;34m.\u001b[0m\u001b[0mndim\u001b[0m \u001b[0;34m>\u001b[0m \u001b[0;36m1\u001b[0m \u001b[0;32mor\u001b[0m \u001b[0mindexer\u001b[0m\u001b[0;34m.\u001b[0m\u001b[0msize\u001b[0m \u001b[0;34m>\u001b[0m \u001b[0;36m1\u001b[0m\u001b[0;34m:\u001b[0m\u001b[0;34m\u001b[0m\u001b[0;34m\u001b[0m\u001b[0m\n",
            "\u001b[0;32mpandas/_libs/index.pyx\u001b[0m in \u001b[0;36mpandas._libs.index.IndexEngine.get_loc\u001b[0;34m()\u001b[0m\n",
            "\u001b[0;32mpandas/_libs/index.pyx\u001b[0m in \u001b[0;36mpandas._libs.index.IndexEngine.get_loc\u001b[0;34m()\u001b[0m\n",
            "\u001b[0;32mpandas/_libs/hashtable_class_helper.pxi\u001b[0m in \u001b[0;36mpandas._libs.hashtable.PyObjectHashTable.get_item\u001b[0;34m()\u001b[0m\n",
            "\u001b[0;32mpandas/_libs/hashtable_class_helper.pxi\u001b[0m in \u001b[0;36mpandas._libs.hashtable.PyObjectHashTable.get_item\u001b[0;34m()\u001b[0m\n",
            "\u001b[0;31mKeyError\u001b[0m: 0"
          ]
        }
      ]
    },
    {
      "cell_type": "code",
      "metadata": {
        "id": "ySaNb6mlJwPM",
        "colab_type": "code",
        "colab": {}
      },
      "source": [
        ""
      ],
      "execution_count": 0,
      "outputs": []
    },
    {
      "cell_type": "markdown",
      "metadata": {
        "id": "gJaSHfrJFkxS",
        "colab_type": "text"
      },
      "source": [
        "### 12월 정치 섹션 기사 20000건 중에서 정치 섹션과 다르게 통합 분류가 구분 된 기사의 수는 4000건이다.\n",
        "\n",
        "12월 전체 기사에 대해서 확인해보자."
      ]
    },
    {
      "cell_type": "code",
      "metadata": {
        "id": "a07baoOPFWqA",
        "colab_type": "code",
        "colab": {}
      },
      "source": [
        "  mnth = \"\"\n",
        "  topicListFile = [\"pol\", \"eco\", \"cul\", \"innt\", \"it\", \"spo\",\"soc\"]\n",
        "  topicKor = [\"정치\", \"경제\", \"문화\", \"국제\",\"IT_과학\",\"스포츠\",\"사회\"]\n",
        "  for j, topic in enumerate(topicListFile):\n",
        "    count = 0\n",
        "    data = pd.read_csv('drive/My Drive/Colab Notebooks/Machine Learning/RNN/'+mnth + topic + 'utf.csv',encoding='UTF8')\n",
        "    # print(data[[\"제목\",\"통합 분류1\", \"통합 분류2\", \"키워드\"]].head(5))\n",
        "    data[\"주제\"] = topic\n",
        "    count_wr = 0\n",
        "    count_rgt = 0\n",
        "    for i, s in enumerate(data[\"통합 분류1\"]):\n",
        "      try:\n",
        "        if str(s).split(\">\")[0] != topicKor[j]:\n",
        "          if count_wr < 5:\n",
        "            # print(str(s).split(\">\")[0])\n",
        "            print(\"wrong : \", data.loc[i][\"제목\"])\n",
        "          count_wr += 1\n",
        "          count += 1\n",
        "        else:\n",
        "          if count_rgt < 5:\n",
        "            print(\"correct : \", data.loc[i][\"제목\"])\n",
        "          count_rgt += 1\n",
        "\n",
        "      except:\n",
        "        print(str(s).split(\">\")[0])\n",
        "        print(topicKor[j])\n",
        "    print(topic,\"has diff topic count : \", count, \" out of \", len(data.index))\n",
        "    print(\"\\n\\n\")"
      ],
      "execution_count": 0,
      "outputs": []
    },
    {
      "cell_type": "markdown",
      "metadata": {
        "id": "BHyRS1GRKB3Z",
        "colab_type": "text"
      },
      "source": [
        "보통 20000건의 기사 중 4000건 정도는 분류가 다르게 나온다. 그리고 샘플로 확인해 보았을 때, 일치하는 기사들은 대체로 맞고, 다른 토픽으로 분류 된 기사들은 정말 다르게 나온다.\n",
        "\n",
        "\n",
        "다르게 나온 기사들을 그냥 제외하고 샘플을 만들어보자.\n",
        "\n",
        "판다스 데이터 프레임에는 copy와 view가 있다. 접근하는 방법에 따라 접근 결과에 대해 object 반환하기도 하고 value을 반환하기도 한다.\n",
        "\n",
        "view을 반환해서 받안 값은 call by value이기 때문에 이  결과에 다른 값을 새로 assign하면 원래 데이터 프레임에는 영향을 받지 않는다.\n",
        "\n",
        "copy을 해서 받은 값에 새 값을 저장해야지만 실제 데티어 프레임에 값을 저장할 수 있다.\n",
        "\n",
        "\n",
        "\n",
        "view으로 데이터 프레임을 호출하는 방법에는...\n",
        "```\n",
        "df[\"col\"][row]\n",
        "df.col[row]...\n",
        "```\n",
        "이런 식이다.\n",
        "\n",
        "copy으로 데이터 프레임을 호출하기 위해서는\n",
        "```\n",
        "df.iloc[index,index]\n",
        "df.iloc[index][index]\n",
        "df.loc[\"col\"][index]\n",
        "df.loc[\"col\", index]\n",
        "```\n"
      ]
    },
    {
      "cell_type": "code",
      "metadata": {
        "id": "LR_RMsOlIN08",
        "colab_type": "code",
        "outputId": "57c97e3c-94b8-45a8-cd67-26c942c03bea",
        "colab": {
          "base_uri": "https://localhost:8080/",
          "height": 102
        }
      },
      "source": [
        "mnth = \"\"\n",
        "frames = []\n",
        "topicListFile = [\"pol\", \"eco\", \"cul\", \"innt\", \"it\", \"spo\",\"soc\"]\n",
        "topicKor = [\"정치\", \"경제\", \"문화\", \"국제\",\"IT_과학\",\"스포츠\",\"사회\"]\n",
        "print(\"문서 가져오는 중...\")\n",
        "for j, topic in enumerate(topicListFile):\n",
        "  count = 0\n",
        "  data = pd.read_csv('drive/My Drive/Colab Notebooks/Machine Learning/RNN/'+mnth + topic + 'utf.csv',encoding='UTF8')\n",
        "  data[\"주제\"] = topic\n",
        "  data = data[data[\"통합 분류1\"].map(lambda s : str(s).split(\">\")[0]) == topicKor[j]]\n",
        "  # print(data.shape)\n",
        "  data = data.drop(['뉴스 식별자', '일자', '언론사', '기고자', '사건/사고 분류1', '사건/사고 분류2','통합 분류1','통합 분류2', '통합 분류3','사건/사고 분류3', '인물', '위치', '기관',  '특성추출', '본문', 'URL', '분석제외 여부'], axis = 1)\n",
        "  # print(data.columns)\n",
        "  # print(data.head(10),\"\\n\")\n",
        "  frames.append(data)\n",
        "\n",
        "print(\"문서 가져와서 정리 완료! 합치는 중...\")\n",
        "data = pd.concat(frames)\n",
        "data = data.reset_index()\n",
        "\n",
        "# data\n",
        "\n",
        "# 쉼표를 space으로 대신한다.\n",
        "print(\"쉼표로 바꾸는 중...\")\n",
        "for i in range(len(data.index)):\n",
        "  data.loc[i,\"키워드\"] = str(data.loc[i][\"키워드\"]).replace(\",\",\" \")\n",
        "\n",
        "print(\"쉼표로 바꾸기 완료! 저장 중...\")\n",
        "data.to_csv(\"drive/My Drive/Colab Notebooks/Machine Learning/RNN/dataPrs\"+mnth+\"integ.csv\")\n",
        "print(\"저장 완료! 끝!\")"
      ],
      "execution_count": 0,
      "outputs": [
        {
          "output_type": "stream",
          "text": [
            "문서 가져오는 중...\n",
            "문서 가져와서 정리 완료! 합치는 중...\n",
            "쉼표로 바꾸는 중...\n",
            "쉼표로 바꾸기 완료! 저장 중...\n",
            "저장 완료! 끝!\n"
          ],
          "name": "stdout"
        }
      ]
    },
    {
      "cell_type": "markdown",
      "metadata": {
        "id": "UYMZYYEkQe0-",
        "colab_type": "text"
      },
      "source": [
        "## 함수로 만들기!\n"
      ]
    },
    {
      "cell_type": "code",
      "metadata": {
        "id": "LC_2J3u5c23B",
        "colab_type": "code",
        "colab": {}
      },
      "source": [
        " def loadDataMnthInteg(mnth):\n",
        "  if mnth == \"12\":\n",
        "    mnth = \"\"\n",
        "  frames = []\n",
        "  topicListFile = [\"pol\", \"eco\", \"cul\", \"innt\", \"it\", \"spo\",\"soc\"]\n",
        "  topicKor = [\"정치\", \"경제\", \"문화\", \"국제\",\"IT_과학\",\"스포츠\",\"사회\"]\n",
        "  print(\"문서 가져오는 중...\")\n",
        "  for j, topic in enumerate(topicListFile):\n",
        "    count = 0\n",
        "    data = pd.read_csv('drive/My Drive/Colab Notebooks/Machine Learning/RNN/'+mnth + topic + 'utf.csv',encoding='UTF8')\n",
        "    data[\"주제\"] = topic\n",
        "    data = data[data[\"통합 분류1\"].map(lambda s : str(s).split(\">\")[0]) == topicKor[j]]\n",
        "    # print(data.shape)\n",
        "    data = data.drop(['뉴스 식별자', '일자', '언론사', '기고자', '사건/사고 분류1', '사건/사고 분류2','통합 분류1','통합 분류2', '통합 분류3','사건/사고 분류3', '인물', '위치', '기관',  '특성추출', '본문', 'URL', '분석제외 여부'], axis = 1)\n",
        "    # print(data.columns)\n",
        "    # print(data.head(10),\"\\n\")\n",
        "    frames.append(data)\n",
        "\n",
        "  print(\"문서 가져와서 정리 완료! 합치는 중...\")\n",
        "  data = pd.concat(frames)\n",
        "  data = data.reset_index()\n",
        "\n",
        "  # data\n",
        "\n",
        "  # 쉼표를 space으로 대신한다.\n",
        "  print(\"쉼표로 바꾸는 중...\")\n",
        "  for i in range(len(data.index)):\n",
        "    data.loc[i,\"키워드\"] = str(data.loc[i][\"키워드\"]).replace(\",\",\" \")\n",
        "\n",
        "  print(\"쉼표로 바꾸기 완료! 저장 중...\")\n",
        "  data.to_csv(\"drive/My Drive/Colab Notebooks/Machine Learning/RNN/dataPrs\"+mnth+\"integ.csv\")\n",
        "  print(\"저장 완료! 끝!\")"
      ],
      "execution_count": 0,
      "outputs": []
    },
    {
      "cell_type": "code",
      "metadata": {
        "id": "JxJs3rSZdEJO",
        "colab_type": "code",
        "outputId": "40651537-29f3-4704-bd23-7736ac4d8617",
        "colab": {
          "base_uri": "https://localhost:8080/",
          "height": 272
        }
      },
      "source": [
        "mnthList = [\"01\",\"02\",\"05\"]\n",
        "for i in mnthList:\n",
        "  loadDataMnthInteg(i)"
      ],
      "execution_count": 0,
      "outputs": [
        {
          "output_type": "stream",
          "text": [
            "문서 가져오는 중...\n",
            "문서 가져와서 정리 완료! 합치는 중...\n",
            "쉼표로 바꾸는 중...\n",
            "쉼표로 바꾸기 완료! 저장 중...\n",
            "저장 완료! 끝!\n",
            "문서 가져오는 중...\n",
            "문서 가져와서 정리 완료! 합치는 중...\n",
            "쉼표로 바꾸는 중...\n",
            "쉼표로 바꾸기 완료! 저장 중...\n",
            "저장 완료! 끝!\n",
            "문서 가져오는 중...\n",
            "문서 가져와서 정리 완료! 합치는 중...\n",
            "쉼표로 바꾸는 중...\n",
            "쉼표로 바꾸기 완료! 저장 중...\n",
            "저장 완료! 끝!\n"
          ],
          "name": "stdout"
        }
      ]
    },
    {
      "cell_type": "markdown",
      "metadata": {
        "id": "HAkOH9JbrtmP",
        "colab_type": "text"
      },
      "source": [
        "## 각각의 월별 데이터를 합치기"
      ]
    },
    {
      "cell_type": "code",
      "metadata": {
        "id": "Z4VikXYkruO3",
        "colab_type": "code",
        "outputId": "377dd6d3-c317-4b50-db1a-014018e1ecf4",
        "colab": {
          "base_uri": "https://localhost:8080/",
          "height": 34
        }
      },
      "source": [
        "combMnthDatas([\"integ\",\"01integ\",\"02integ\",\"05integ\"])"
      ],
      "execution_count": 0,
      "outputs": [
        {
          "output_type": "stream",
          "text": [
            "(381624, 6)\n"
          ],
          "name": "stdout"
        }
      ]
    },
    {
      "cell_type": "markdown",
      "metadata": {
        "id": "i8v9RYuOxqFt",
        "colab_type": "text"
      },
      "source": [
        "# 자꾸 RNN을 실제 데이터에 적용하면 정치 기사를 IT기사로 구분한다.\n",
        "## 확인해볼 필요성 ... "
      ]
    },
    {
      "cell_type": "code",
      "metadata": {
        "id": "RbqYG8-Cx5eb",
        "colab_type": "code",
        "colab": {}
      },
      "source": [
        ""
      ],
      "execution_count": 0,
      "outputs": []
    },
    {
      "cell_type": "code",
      "metadata": {
        "colab_type": "code",
        "id": "Eb_bkIdSx-TG",
        "colab": {}
      },
      "source": [
        "\n",
        "topic = \"it\"\n",
        "it = pd.read_csv('drive/My Drive/Colab Notebooks/Machine Learning/RNN/'+topic+'utf.csv',encoding='UTF8')\n"
      ],
      "execution_count": 0,
      "outputs": []
    },
    {
      "cell_type": "code",
      "metadata": {
        "colab_type": "code",
        "id": "BUrY5WDfx-TX",
        "outputId": "48fc8ce0-14da-4cba-e064-080b7e48fb1b",
        "colab": {
          "base_uri": "https://localhost:8080/",
          "height": 111
        }
      },
      "source": [
        "it = it.drop(['뉴스 식별자', '일자', '언론사', '기고자', '사건/사고 분류1', '사건/사고 분류2', '통합 분류3','사건/사고 분류3', '인물', '위치', '기관',  '특성추출', '본문', 'URL', '분석제외 여부'], axis = 1)\n",
        "it.head(2)"
      ],
      "execution_count": 0,
      "outputs": [
        {
          "output_type": "execute_result",
          "data": {
            "text/html": [
              "<div>\n",
              "<style scoped>\n",
              "    .dataframe tbody tr th:only-of-type {\n",
              "        vertical-align: middle;\n",
              "    }\n",
              "\n",
              "    .dataframe tbody tr th {\n",
              "        vertical-align: top;\n",
              "    }\n",
              "\n",
              "    .dataframe thead th {\n",
              "        text-align: right;\n",
              "    }\n",
              "</style>\n",
              "<table border=\"1\" class=\"dataframe\">\n",
              "  <thead>\n",
              "    <tr style=\"text-align: right;\">\n",
              "      <th></th>\n",
              "      <th>제목</th>\n",
              "      <th>통합 분류1</th>\n",
              "      <th>통합 분류2</th>\n",
              "      <th>키워드</th>\n",
              "    </tr>\n",
              "  </thead>\n",
              "  <tbody>\n",
              "    <tr>\n",
              "      <th>0</th>\n",
              "      <td>군포시 마을버스 활용해 미세먼지 측정</td>\n",
              "      <td>IT_과학&gt;보안</td>\n",
              "      <td>IT_과학&gt;과학</td>\n",
              "      <td>활용,군포시,마을버스,미세,먼지,측정,앵커,미세먼지,마음,지자체들,대책,마련,고심,...</td>\n",
              "    </tr>\n",
              "    <tr>\n",
              "      <th>1</th>\n",
              "      <td>[영상] ‘기생충’ 아카데미 4관왕</td>\n",
              "      <td>문화&gt;영화</td>\n",
              "      <td>IT_과학&gt;과학</td>\n",
              "      <td>기생충,아카데미,4관왕,기생충,아카데미,4관왕</td>\n",
              "    </tr>\n",
              "  </tbody>\n",
              "</table>\n",
              "</div>"
            ],
            "text/plain": [
              "                     제목    통합 분류1     통합 분류2                                                키워드\n",
              "0  군포시 마을버스 활용해 미세먼지 측정  IT_과학>보안   IT_과학>과학  활용,군포시,마을버스,미세,먼지,측정,앵커,미세먼지,마음,지자체들,대책,마련,고심,...\n",
              "1   [영상] ‘기생충’ 아카데미 4관왕     문화>영화   IT_과학>과학                          기생충,아카데미,4관왕,기생충,아카데미,4관왕"
            ]
          },
          "metadata": {
            "tags": []
          },
          "execution_count": 124
        }
      ]
    },
    {
      "cell_type": "code",
      "metadata": {
        "colab_type": "code",
        "id": "ASZjP7iQx-Tf",
        "colab": {}
      },
      "source": [
        "# pol.head(20)"
      ],
      "execution_count": 0,
      "outputs": []
    },
    {
      "cell_type": "code",
      "metadata": {
        "colab_type": "code",
        "outputId": "f67da085-5f25-4453-f70a-2ad075d428d5",
        "id": "8al-1OPkx-Tn",
        "colab": {
          "base_uri": "https://localhost:8080/",
          "height": 1000
        }
      },
      "source": [
        "count = 0\n",
        "for i, s in enumerate(pol[\"통합 분류1\"]):\n",
        "  if str(s).split(\">\")[0] == \"IT_과학\":\n",
        "    print(it.iloc[i].to_string())\n",
        "    count += 1\n",
        "  if i > 100:\n",
        "    break\n",
        "count\n",
        "\n",
        "data[]"
      ],
      "execution_count": 0,
      "outputs": [
        {
          "output_type": "stream",
          "text": [
            "제목                                     군포시 마을버스 활용해 미세먼지 측정\n",
            "통합 분류1                                             IT_과학>보안\n",
            "통합 분류2                                             IT_과학>과학\n",
            "키워드       활용,군포시,마을버스,미세,먼지,측정,앵커,미세먼지,마음,지자체들,대책,마련,고심,...\n",
            "제목                                 동신대, 사이버 전문가 양성 도우미 ‘톡톡’\n",
            "통합 분류1                                             IT_과학>보안\n",
            "통합 분류2                                             IT_과학>과학\n",
            "키워드       동신대,사이버,전문가,양성,도우미,동신대학교,에너지,융합,대학,융합,정보,보안전공,...\n",
            "제목                    ‘스트레이트’, 신종 코로나바이러스 가짜 뉴스의 실태 [M+TV컷]\n",
            "통합 분류1                                        IT_과학>IT_과학일반\n",
            "통합 분류2                                               사회>미디어\n",
            "키워드       스트레이트,가짜,신종,코로나바이러스,가짜,실태,TV컷,신종,코로나,공포,세계,가짜,...\n",
            "제목                               [케이블 위성 하이라이트]2020년 2월 11일\n",
            "통합 분류1                                             IT_과학>과학\n",
            "통합 분류2                                             문화>요리_여행\n",
            "키워드       11일,2월,교양,요즘,책방,tvN,8시,리프킨,경제학자,제레미,노동,미래,예견서,...\n",
            "제목                                    전주비전대, 코이카 글로벌연수사업 선정\n",
            "통합 분류1                                             IT_과학>과학\n",
            "통합 분류2                                                  NaN\n",
            "키워드       전주비전대,선정,코이카,글로벌,연수,사업,전주비전대학교,지난달,코이카,KOICAㆍ한...\n",
            "제목         '생생정보' 돌판 짜장면, 300도 달궈진 뜨끈한 돌판 위에 짜장면X만두X튀김까지 푸짐\n",
            "통합 분류1                                        IT_과학>인터넷_SNS\n",
            "통합 분류2                                                문화>생활\n",
            "키워드       생생정보,돌판,짜장면,돌판,짜장면X만두X튀김,푸짐,2TV,생생,정보,맛집,돌판,짜장...\n",
            "제목                            메드팩토, 항암제 개발 기대감 시간외 주가 10% ↑\n",
            "통합 분류1                                             IT_과학>과학\n",
            "통합 분류2                                             경제>증권_증시\n",
            "키워드       메드팩토,항암제,기대감,항암제,시간외,주가,10%,TGF-β,저해제,메드팩토,백토서...\n",
            "제목                   KBS교향악단 5G 클래식 VR 콘텐츠 제작 LG유플러스 앱으로 관람\n",
            "통합 분류1                                            IT_과학>콘텐츠\n",
            "통합 분류2                                        IT_과학>인터넷_SNS\n",
            "키워드       KBS,교향악단,5G,클래식,VR,콘텐츠,제작,LG유플러스,관람,KBS교향악단,LG...\n",
            "제목                      `서든어택` 넥슨지티 영업손실 287억원 \"내년 신작게임 출시\"\n",
            "통합 분류1                                        IT_과학>인터넷_SNS\n",
            "통합 분류2                                            IT_과학>모바일\n",
            "키워드       서든어택,287억,넥슨지티,영업,손실,내년,신작,게임,출시,총싸움,게임,어택,유명,...\n",
            "제목                                김병원 “화순 바이오메디컬 허브 반드시 구축”\n",
            "통합 분류1                                             IT_과학>과학\n",
            "통합 분류2                                             경제>산업_기업\n",
            "키워드       김병원,화순,바이오메디컬,허브,구축,예비후보,김병원,더불어민주당,나주화순,국회의원,...\n",
            "제목                                      화순경찰, 사회적약자에 마스크 전달\n",
            "통합 분류1                                             IT_과학>과학\n",
            "통합 분류2                                                  NaN\n",
            "키워드       화순경찰,사회적,약자,마스크,전달,화순경찰서,서장,백형석,확산,신종,코로나바이러스,...\n",
            "제목                                 농업기술실용화재단, 식품기술 거래 기관 모집\n",
            "통합 분류1                                             IT_과학>과학\n",
            "통합 분류2                                                  NaN\n",
            "키워드       농업기술실용화재단,식품,거래,기관,모집,농업기술실용화재단,전경,농업,실용화재단,농식...\n",
            "제목                 \"법대로 해도 법정 선다면 혁신 없을 것\" 논란의 타다 재판 19일 선고\n",
            "통합 분류1                                        IT_과학>IT_과학일반\n",
            "통합 분류2                                                  NaN\n",
            "키워드       법정,혁신,논란,선고,재판,대로,사업,법정,혁신,시도,10일,법정,서울중앙지법,대표...\n",
            "제목                       바오밥헬스케어-데이비스, 3D 세포배양 적용 화장품 사업 시동\n",
            "통합 분류1                                             IT_과학>과학\n",
            "통합 분류2                                                  NaN\n",
            "키워드       바오밥헬스케어,데이비스,3D,세포,배양,적용,화장품,사업,시동,왼쪽,바오밥헬스케어,...\n",
            "제목        특별입국자 자가진단 앱 설치 의무화... 3일간 건강상태 미입력 땐 위치 추적 [신...\n",
            "통합 분류1                                        IT_과학>인터넷_SNS\n",
            "통합 분류2                                              국제>국제일반\n",
            "키워드       의무화,특별입국자,자가,진단,설치,의무,3일,건강,상태,미입력,위치,추적,신종,코로...\n",
            "제목                                 전주시 신종코로나 바이러스 정보 실시간 제공\n",
            "통합 분류1                                        IT_과학>인터넷_SNS\n",
            "통합 분류2                                            IT_과학>모바일\n",
            "키워드       전주시,신종코,바이러스,정보,실시간,제공,전주시,신종코로,바이러스,감염증,시민들,불...\n",
            "제목                          롯데 자이언츠 외국인 선수들 “제기차기 너무 재미있어요”\n",
            "통합 분류1                                             IT_과학>과학\n",
            "통합 분류2                                            스포츠>스포츠일반\n",
            "키워드       제기차기,롯데,자이언츠,외국인,선수,롯데,자이언츠,외국인,선수,전지훈련지,호주,애들...\n",
            "제목                          경기도박물관, 연구서 '옥나비 떨잠에 진주낭 차고' 발간\n",
            "통합 분류1                                             IT_과학>과학\n",
            "통합 분류2                                            문화>학술_문화재\n",
            "키워드       경기도박물관,떨잠,연구서,옥나비,진주낭,발간,경기도박물관,떨잠,연구서,조선,시대,세...\n",
            "제목                    MWC, 코로나 우려 불참행렬 화웨이는 유럽공략 노려 ‘적극 행보’\n",
            "통합 분류1                                            IT_과학>모바일\n",
            "통합 분류2                                                국제>중국\n",
            "키워드       MWC,코로,불참행렬,화웨이,유럽공략,적극,행보,24~27일,현지시간,스페인,바르셀...\n",
            "제목                                이식용 신경도관 공동 개발 분당서울대병원 도프\n",
            "통합 분류1                                             IT_과학>과학\n",
            "통합 분류2                                             사회>의료_건강\n",
            "키워드       공동,이식,신경,도관,공동,분당서울대병원,도프,분당서울대병원,바이오,벤처,도프,이식...\n",
            "제목                                '2TV 생생정보' 닭불고기 '수궁' 위치는?\n",
            "통합 분류1                                        IT_과학>인터넷_SNS\n",
            "통합 분류2                                            IT_과학>콘텐츠\n",
            "키워드       2TV,생생,정보,닭불고기,수궁,위치,2TV,생생,정보,등장,닭불고기,화제,방송,생...\n",
            "제목                                 전남 수산의 미래, 스마트양식에서 해법 모색\n",
            "통합 분류1                                        IT_과학>인터넷_SNS\n",
            "통합 분류2                                             IT_과학>과학\n",
            "키워드       전남,수산,미래,스마트양식,해법,모색,스마트양식,4차,산업,혁명,접목,자동화,지능화...\n",
            "제목                           김성은 이주은 건양의대생 SCI급 국제학술지 논문 게재\n",
            "통합 분류1                                             IT_과학>과학\n",
            "통합 분류2                                              문화>문화일반\n",
            "키워드       김성은,이주은,국제학술지,건양의대생,SCI,국제,학술지,게재,배아,자궁,착상,도움,...\n",
            "제목                                        택시 뒷좌석 결제 뒷짐진 대전시\n",
            "통합 분류1                                        IT_과학>인터넷_SNS\n",
            "통합 분류2                                                  NaN\n",
            "키워드       택시,뒷좌석,결제,뒷짐,대전시,대전시,공공교통수단,택시,서비스,품질,시민,편익,단계...\n",
            "제목                     원자력硏 김형택 박사, 유럽방사선량연구그룹 '젊은 과학자상' 수상\n",
            "통합 분류1                                             IT_과학>과학\n",
            "통합 분류2                                                문화>생활\n",
            "키워드       원자력,김형택,박사,유럽방사선량연구그룹,과학자상,수상,한국원자력연구원,박사,방사선,...\n",
            "제목                            충북농기원, 신기술 보급사업에 4억 2000만원 투입\n",
            "통합 분류1                                             IT_과학>과학\n",
            "통합 분류2                                                경제>자원\n",
            "키워드       충북농기원,신기술,보급,사업,4억,투입,충북도농업기술원,원장,송용섭,변화,식품,시장...\n",
            "제목                                   2020년도 영동군농업인대학 신입생 모집\n",
            "통합 분류1                                             IT_과학>과학\n",
            "통합 분류2                                              문화>문화일반\n",
            "키워드       영동군,농업,대학,신입,모집,영동군,지역농업,특화발전,육성,품목,전문,농업,인력,영...\n",
            "제목               상명대 국제개발평가센터 KOICA '국제개발협력 이해증진사업' 수행기관 선정\n",
            "통합 분류1                                             IT_과학>과학\n",
            "통합 분류2                                                  NaN\n",
            "키워드       이해증진사업,상명대,국제,평가,센터,KOICA,국제,협력,이해,증진,사업,수행,기관...\n",
            "제목                         '2TV 생생정보' 돌판 짜장면 '남쪽마을돌짜장' 위치는?\n",
            "통합 분류1                                        IT_과학>인터넷_SNS\n",
            "통합 분류2                                            IT_과학>콘텐츠\n",
            "키워드       2TV,생생,정보,남쪽마을돌짜장,돌판,짜장면,남쪽,마을돌,짜장,위치,2TV,생생,정...\n",
            "제목               '2TV 생생정보' 5500원 국산 수제 햄버그스테이크 '고관함박' 위치는?\n",
            "통합 분류1                                        IT_과학>인터넷_SNS\n",
            "통합 분류2                                            IT_과학>콘텐츠\n",
            "키워드       2TV,생생,정보,고관함박,국산,수제,햄버그스테이크,위치,2TV,생생,정보,등장,햄...\n",
            "제목                               삼성SDS-PwC컨설팅, 인공지능 혁신사업 동맹\n",
            "통합 분류1                                             IT_과학>과학\n",
            "통합 분류2                                            IT_과학>모바일\n",
            "키워드       삼성SDS,PwC컨설팅,동맹,인공,지능,혁신,사업,삼성SDS,PwC,컨설팅,인공지능...\n",
            "제목                                    \"갤럭시S20 보조금 경쟁 자제하겠다\"\n",
            "통합 분류1                                            IT_과학>모바일\n",
            "통합 분류2                                              경제>경제일반\n",
            "키워드       S20,보조금,경쟁,자제,통신,3사,삼성전자,6일,스마트폰,갤럭시,시리즈,출시,보조...\n",
            "제목                       검찰, ‘타다’ 이재웅에 징역 1년 구형 李 “혁신 포용해야”\n",
            "통합 분류1                                        IT_과학>인터넷_SNS\n",
            "통합 분류2                                              사회>사회일반\n",
            "키워드       검찰,이재웅,구형,징역,1년,포용,혁신,유사,콜택시,쏘카,벌금,구형,이재웅,이재웅,...\n",
            "제목                            UNIST '금속-공기전지' 성능 높일 복합촉매 개발\n",
            "통합 분류1                                             IT_과학>과학\n",
            "통합 분류2                                                  NaN\n",
            "키워드       UNIST,금속,공기전지,복합촉매,성능,높일,복합,촉매,UNIST,울산과학기술원,김...\n",
            "제목                                      울산시, 강소기업 육성 참여社 모집\n",
            "통합 분류1                                             IT_과학>과학\n",
            "통합 분류2                                        IT_과학>인터넷_SNS\n",
            "키워드       울산시,참여,강소,기업,육성,모집,울산시,2일,글로벌,강소,기업,육성,사업,참여,기...\n",
            "제목                                 지역난방공사, 시간대별 차등요금제 대상 확대\n",
            "통합 분류1                                        IT_과학>인터넷_SNS\n",
            "통합 분류2                                                  NaN\n",
            "키워드       지역난방공사,시간대,차등,요금,대상,확대,한국지역난방공사,시간대,차등,요금,전면,확...\n",
            "제목              부산대병원-인도네시아 가자마다 의과대학 보건복지 분야 교류 협력 업무협약 체결\n",
            "통합 분류1                                             IT_과학>과학\n",
            "통합 분류2                                                  NaN\n",
            "키워드       부산대병원,인도네시아,가자,체결,의과,대학,보건,복지,분야,교류,협력,업무,협약,부...\n",
            "제목        檢 \"타다, 다인승 콜택시\" 이재웅에 징역 1년 구형...이재웅 \"아무도 혁신 꿈꾸...\n",
            "통합 분류1                                        IT_과학>인터넷_SNS\n",
            "통합 분류2                                             사회>사건_사고\n",
            "키워드       다인,콜택시,이재웅,구형,징역,1년,구형,이재웅,혁신,검찰,차량,호출,서비스,불법,...\n",
            "제목                     KDB생명, 온라인 플랫폼 전면 리뉴얼 모바일・인터넷 창구 일원화\n",
            "통합 분류1                                        IT_과학>인터넷_SNS\n",
            "통합 분류2                                            IT_과학>모바일\n",
            "키워드       KDB생명,온라인,플랫폼,전면,리뉴얼,모바일・인터넷,창구,일원,KDB생명,온라인,플...\n",
            "제목                                      코로나바이러스 악용 스팸 문자 기승\n",
            "통합 분류1                                        IT_과학>인터넷_SNS\n",
            "통합 분류2                                                  NaN\n",
            "키워드       기승,코로나바이러스,악용,스팸,문자,A씨,급속,폐렴,확산,감염자,접촉자,신분,정보,...\n",
            "제목                      삼성전자, ISE 2020서 상업용 디스플레이 신제품 대거 공개\n",
            "통합 분류1                                            IT_과학>모바일\n",
            "통합 분류2                                             IT_과학>과학\n",
            "키워드       삼성전자,신제품,ISE,상업,디스플레이,신제품,공개,진행,암스테르담,ISE,삼성전자...\n",
            "제목             [전문] 이재웅 '타다, 무죄 확신' 재판부에 \"법 제도 기술 기반 살펴봐달라\"\n",
            "통합 분류1                                        IT_과학>인터넷_SNS\n",
            "통합 분류2                                            IT_과학>콘텐츠\n",
            "키워드       이재웅,무죄,확신,재판부,제도,렌터카,모빌리티,서비스,혐의,불법,영업,기소,법정,결...\n",
            "제목                            인하대 빅데이터 활용 경진대회 통해 혁신 창업가 발굴\n",
            "통합 분류1                                        IT_과학>IT_과학일반\n",
            "통합 분류2                                                  NaN\n",
            "키워드       인하대,빅데이터,활용,경진,대회,혁신,창업,발굴,인하대,전문성,전자,상거래,분야,전...\n",
            "제목                                전주비전대학교-전문대학 유일 ODA 사업 선정\n",
            "통합 분류1                                             IT_과학>과학\n",
            "통합 분류2                                                  NaN\n",
            "키워드       전주비전대학교,전문대학,유일,ODA,사업,선정,전주비전대,지난달,코이카,KOICA,...\n",
            "제목                       지방자치인재개발원, 몽골 국립거버넌스아카데미 교수단 초청 교육\n",
            "통합 분류1                                        IT_과학>IT_과학일반\n",
            "통합 분류2                                                  NaN\n",
            "키워드       지방자치인,개발원,교육,몽골,국립,거버넌스,아카데미,교수단,초청,행정안전부,지방,자...\n",
            "제목                             전북형 미래혁신식품 기술개발 지원사업 참여기업 모집\n",
            "통합 분류1                                             IT_과학>과학\n",
            "통합 분류2                                             경제>산업_기업\n",
            "키워드       전북,미래혁신,식품,지원,사업,참여,기업,모집,전라북도생물산업진흥원,원장,김동수,전...\n",
            "제목                               농약 다룰 땐 ‘마스크 장갑 방제복’ 착용 당부\n",
            "통합 분류1                                             IT_과학>과학\n",
            "통합 분류2                                                  NaN\n",
            "키워드       농약,마스크,장갑,방제복,착용,당부,농촌진흥청,청장,김경규,조제,살포,농약,마스크,...\n",
            "제목                        LG전자, 디지털 캠페인 ‘스타일러 잘 쓰는 법’ 영상 공개\n",
            "통합 분류1                                            IT_과학>모바일\n",
            "통합 분류2                                        IT_과학>인터넷_SNS\n",
            "키워드       LG전자,스타,디지털,캠페인,영상,공개,LG전자,캠페인,영상,생활,스타,LG,트롬,...\n",
            "제목                                      CJ프레시웨이, 年매출 3조 넘었다\n",
            "통합 분류1                                            IT_과학>콘텐츠\n",
            "통합 분류2                                                  NaN\n",
            "키워드       CJ프레시웨이,매출,3조,식자재,급식,전문,기업,CJ,프레시웨이,3조,매출,3조,돌...\n",
            "제목                  [김과장 & 이대리] \"삶의 질 좌우하는 건 근무시간 아닌 출퇴근시간\"\n",
            "통합 분류1                                        IT_과학>인터넷_SNS\n",
            "통합 분류2                                            IT_과학>모바일\n",
            "키워드       좌우,근무시간,출퇴근시간,좌우,근무시간,출퇴근시간,네이버,아이디,xenn,지난달,일...\n"
          ],
          "name": "stdout"
        },
        {
          "output_type": "execute_result",
          "data": {
            "text/plain": [
              "50"
            ]
          },
          "metadata": {
            "tags": []
          },
          "execution_count": 134
        }
      ]
    },
    {
      "cell_type": "markdown",
      "metadata": {
        "id": "j3u_EE5OtPJN",
        "colab_type": "text"
      },
      "source": [
        "# data가 이상한가... 확인해보자...\n"
      ]
    },
    {
      "cell_type": "code",
      "metadata": {
        "id": "91-scBJUtS5L",
        "colab_type": "code",
        "outputId": "a10eaa2c-7893-4f7d-8df3-7109410a830a",
        "colab": {
          "base_uri": "https://localhost:8080/",
          "height": 119
        }
      },
      "source": [
        "mnth = loadDataMnth(\"12\")"
      ],
      "execution_count": 0,
      "outputs": [
        {
          "output_type": "stream",
          "text": [
            "load    monthly data done... \n",
            "now proceed to refine...\n"
          ],
          "name": "stdout"
        },
        {
          "output_type": "stream",
          "text": [
            "/usr/local/lib/python3.6/dist-packages/ipykernel_launcher.py:20: SettingWithCopyWarning: \n",
            "A value is trying to be set on a copy of a slice from a DataFrame\n",
            "\n",
            "See the caveats in the documentation: http://pandas.pydata.org/pandas-docs/stable/user_guide/indexing.html#returning-a-view-versus-a-copy\n"
          ],
          "name": "stderr"
        }
      ]
    },
    {
      "cell_type": "code",
      "metadata": {
        "id": "Cbv4aT0mtrRn",
        "colab_type": "code",
        "outputId": "a92744dc-6d6a-4375-80e8-134751cf2122",
        "colab": {
          "base_uri": "https://localhost:8080/",
          "height": 1000
        }
      },
      "source": [
        "y = []\n",
        "mnth = mnth.drop_duplicates()\n",
        "topicList = list(set(mnth.sort_values(by=[\"주제\"])[\"주제\"].to_list()))\n",
        "import matplotlib.pyplot as plt\n",
        "import matplotlib.font_manager as fm\n",
        "# plt.rcParams['font.family'] = 'NanumGothic'\n",
        "\n",
        "\n",
        "font_path = 'C:/Windows/Fonts/NanumGothic.ttf'\n",
        "fontprop = fm.FontProperties(fname=font_path, size=18)\n",
        "\n",
        "\n",
        "for topic in topicList:\n",
        "  sumVal = (mnth[\"주제\"]==topic).sum()\n",
        "  y.append(sumVal)\n",
        "  print(topic ,\"count : \", sumVal)\n",
        "\n",
        "plt.xlabel(\"\",fontproperties=fontprop)\n",
        "plt.plot(topicList, y,)\n",
        "plt.show()\n"
      ],
      "execution_count": 0,
      "outputs": [
        {
          "output_type": "stream",
          "text": [
            "정치 count :  17445\n",
            "문화 count :  19939\n",
            "스포츠 count :  7648\n",
            "지역 count :  6735\n",
            "IT_과학 count :  13483\n",
            "경제 count :  24140\n",
            "사회 count :  19512\n",
            "국제 count :  19817\n"
          ],
          "name": "stdout"
        },
        {
          "output_type": "stream",
          "text": [
            "/usr/local/lib/python3.6/dist-packages/matplotlib/backends/backend_agg.py:211: RuntimeWarning: Glyph 51221 missing from current font.\n",
            "  font.set_text(s, 0.0, flags=flags)\n",
            "/usr/local/lib/python3.6/dist-packages/matplotlib/backends/backend_agg.py:211: RuntimeWarning: Glyph 52824 missing from current font.\n",
            "  font.set_text(s, 0.0, flags=flags)\n",
            "/usr/local/lib/python3.6/dist-packages/matplotlib/backends/backend_agg.py:211: RuntimeWarning: Glyph 47928 missing from current font.\n",
            "  font.set_text(s, 0.0, flags=flags)\n",
            "/usr/local/lib/python3.6/dist-packages/matplotlib/backends/backend_agg.py:211: RuntimeWarning: Glyph 54868 missing from current font.\n",
            "  font.set_text(s, 0.0, flags=flags)\n",
            "/usr/local/lib/python3.6/dist-packages/matplotlib/backends/backend_agg.py:211: RuntimeWarning: Glyph 49828 missing from current font.\n",
            "  font.set_text(s, 0.0, flags=flags)\n",
            "/usr/local/lib/python3.6/dist-packages/matplotlib/backends/backend_agg.py:211: RuntimeWarning: Glyph 54252 missing from current font.\n",
            "  font.set_text(s, 0.0, flags=flags)\n",
            "/usr/local/lib/python3.6/dist-packages/matplotlib/backends/backend_agg.py:211: RuntimeWarning: Glyph 52768 missing from current font.\n",
            "  font.set_text(s, 0.0, flags=flags)\n",
            "/usr/local/lib/python3.6/dist-packages/matplotlib/backends/backend_agg.py:211: RuntimeWarning: Glyph 51648 missing from current font.\n",
            "  font.set_text(s, 0.0, flags=flags)\n",
            "/usr/local/lib/python3.6/dist-packages/matplotlib/backends/backend_agg.py:211: RuntimeWarning: Glyph 50669 missing from current font.\n",
            "  font.set_text(s, 0.0, flags=flags)\n",
            "/usr/local/lib/python3.6/dist-packages/matplotlib/backends/backend_agg.py:211: RuntimeWarning: Glyph 44284 missing from current font.\n",
            "  font.set_text(s, 0.0, flags=flags)\n",
            "/usr/local/lib/python3.6/dist-packages/matplotlib/backends/backend_agg.py:211: RuntimeWarning: Glyph 54617 missing from current font.\n",
            "  font.set_text(s, 0.0, flags=flags)\n",
            "/usr/local/lib/python3.6/dist-packages/matplotlib/backends/backend_agg.py:211: RuntimeWarning: Glyph 44221 missing from current font.\n",
            "  font.set_text(s, 0.0, flags=flags)\n",
            "/usr/local/lib/python3.6/dist-packages/matplotlib/backends/backend_agg.py:211: RuntimeWarning: Glyph 51228 missing from current font.\n",
            "  font.set_text(s, 0.0, flags=flags)\n",
            "/usr/local/lib/python3.6/dist-packages/matplotlib/backends/backend_agg.py:211: RuntimeWarning: Glyph 49324 missing from current font.\n",
            "  font.set_text(s, 0.0, flags=flags)\n",
            "/usr/local/lib/python3.6/dist-packages/matplotlib/backends/backend_agg.py:211: RuntimeWarning: Glyph 54924 missing from current font.\n",
            "  font.set_text(s, 0.0, flags=flags)\n",
            "/usr/local/lib/python3.6/dist-packages/matplotlib/backends/backend_agg.py:211: RuntimeWarning: Glyph 44397 missing from current font.\n",
            "  font.set_text(s, 0.0, flags=flags)\n",
            "/usr/local/lib/python3.6/dist-packages/matplotlib/backends/backend_agg.py:180: RuntimeWarning: Glyph 51221 missing from current font.\n",
            "  font.set_text(s, 0, flags=flags)\n",
            "/usr/local/lib/python3.6/dist-packages/matplotlib/backends/backend_agg.py:180: RuntimeWarning: Glyph 52824 missing from current font.\n",
            "  font.set_text(s, 0, flags=flags)\n",
            "/usr/local/lib/python3.6/dist-packages/matplotlib/backends/backend_agg.py:180: RuntimeWarning: Glyph 47928 missing from current font.\n",
            "  font.set_text(s, 0, flags=flags)\n",
            "/usr/local/lib/python3.6/dist-packages/matplotlib/backends/backend_agg.py:180: RuntimeWarning: Glyph 54868 missing from current font.\n",
            "  font.set_text(s, 0, flags=flags)\n",
            "/usr/local/lib/python3.6/dist-packages/matplotlib/backends/backend_agg.py:180: RuntimeWarning: Glyph 49828 missing from current font.\n",
            "  font.set_text(s, 0, flags=flags)\n",
            "/usr/local/lib/python3.6/dist-packages/matplotlib/backends/backend_agg.py:180: RuntimeWarning: Glyph 54252 missing from current font.\n",
            "  font.set_text(s, 0, flags=flags)\n",
            "/usr/local/lib/python3.6/dist-packages/matplotlib/backends/backend_agg.py:180: RuntimeWarning: Glyph 52768 missing from current font.\n",
            "  font.set_text(s, 0, flags=flags)\n",
            "/usr/local/lib/python3.6/dist-packages/matplotlib/backends/backend_agg.py:180: RuntimeWarning: Glyph 51648 missing from current font.\n",
            "  font.set_text(s, 0, flags=flags)\n",
            "/usr/local/lib/python3.6/dist-packages/matplotlib/backends/backend_agg.py:180: RuntimeWarning: Glyph 50669 missing from current font.\n",
            "  font.set_text(s, 0, flags=flags)\n",
            "/usr/local/lib/python3.6/dist-packages/matplotlib/backends/backend_agg.py:180: RuntimeWarning: Glyph 44284 missing from current font.\n",
            "  font.set_text(s, 0, flags=flags)\n",
            "/usr/local/lib/python3.6/dist-packages/matplotlib/backends/backend_agg.py:180: RuntimeWarning: Glyph 54617 missing from current font.\n",
            "  font.set_text(s, 0, flags=flags)\n",
            "/usr/local/lib/python3.6/dist-packages/matplotlib/backends/backend_agg.py:180: RuntimeWarning: Glyph 44221 missing from current font.\n",
            "  font.set_text(s, 0, flags=flags)\n",
            "/usr/local/lib/python3.6/dist-packages/matplotlib/backends/backend_agg.py:180: RuntimeWarning: Glyph 51228 missing from current font.\n",
            "  font.set_text(s, 0, flags=flags)\n",
            "/usr/local/lib/python3.6/dist-packages/matplotlib/backends/backend_agg.py:180: RuntimeWarning: Glyph 49324 missing from current font.\n",
            "  font.set_text(s, 0, flags=flags)\n",
            "/usr/local/lib/python3.6/dist-packages/matplotlib/backends/backend_agg.py:180: RuntimeWarning: Glyph 54924 missing from current font.\n",
            "  font.set_text(s, 0, flags=flags)\n",
            "/usr/local/lib/python3.6/dist-packages/matplotlib/backends/backend_agg.py:180: RuntimeWarning: Glyph 44397 missing from current font.\n",
            "  font.set_text(s, 0, flags=flags)\n"
          ],
          "name": "stderr"
        },
        {
          "output_type": "display_data",
          "data": {
            "image/png": "[encoded data removed]",
            "text/plain": [
              "<Figure size 432x288 with 1 Axes>"
            ]
          },
          "metadata": {
            "tags": []
          }
        }
      ]
    },
    {
      "cell_type": "code",
      "metadata": {
        "id": "C4QyFW1WANPE",
        "colab_type": "code",
        "colab": {}
      },
      "source": [
        "# data\n",
        "import pandas as pd"
      ],
      "execution_count": 0,
      "outputs": []
    },
    {
      "cell_type": "code",
      "metadata": {
        "id": "0vggmmdk6Nkw",
        "colab_type": "code",
        "outputId": "cfeaf6d2-752b-4d49-8bb9-b6e7f0e75531",
        "colab": {
          "base_uri": "https://localhost:8080/",
          "height": 462
        }
      },
      "source": [
        "num = 0\n",
        "data = \"\"\n",
        "d = pd.read_csv(\"drive/My Drive/Colab Notebooks/Machine Learning/RNN/dataPrs\"+data+\".csv\",encoding='UTF8')\n",
        "print(d.shape[0])\n",
        "num += d.shape[0]\n",
        "\n",
        "data = \"01\"\n",
        "d = pd.read_csv(\"drive/My Drive/Colab Notebooks/Machine Learning/RNN/dataPrs\"+data+\".csv\",encoding='UTF8')\n",
        "print(d.shape[0])\n",
        "num += d.shape[0]\n",
        "\n",
        "data = \"02\"\n",
        "d = pd.read_csv(\"drive/My Drive/Colab Notebooks/Machine Learning/RNN/dataPrs\"+data+\".csv\",encoding='UTF8')\n",
        "print(d.shape[0])\n",
        "num += d.shape[0]\n",
        "\n",
        "data = \"05\"\n",
        "d = pd.read_csv(\"drive/My Drive/Colab Notebooks/Machine Learning/RNN/dataPrs\"+data+\".csv\",encoding='UTF8')\n",
        "print(d.shape[0])\n",
        "num += d.shape[0]\n",
        "\n",
        "print(\"\\n\",num)\n"
      ],
      "execution_count": 0,
      "outputs": [
        {
          "output_type": "error",
          "ename": "FileNotFoundError",
          "evalue": "ignored",
          "traceback": [
            "\u001b[0;31m---------------------------------------------------------------------------\u001b[0m",
            "\u001b[0;31mFileNotFoundError\u001b[0m                         Traceback (most recent call last)",
            "\u001b[0;32m<ipython-input-4-154013408313>\u001b[0m in \u001b[0;36m<module>\u001b[0;34m()\u001b[0m\n\u001b[1;32m      1\u001b[0m \u001b[0mnum\u001b[0m \u001b[0;34m=\u001b[0m \u001b[0;36m0\u001b[0m\u001b[0;34m\u001b[0m\u001b[0;34m\u001b[0m\u001b[0m\n\u001b[1;32m      2\u001b[0m \u001b[0mdata\u001b[0m \u001b[0;34m=\u001b[0m \u001b[0;34m\"\"\u001b[0m\u001b[0;34m\u001b[0m\u001b[0;34m\u001b[0m\u001b[0m\n\u001b[0;32m----> 3\u001b[0;31m \u001b[0md\u001b[0m \u001b[0;34m=\u001b[0m \u001b[0mpd\u001b[0m\u001b[0;34m.\u001b[0m\u001b[0mread_csv\u001b[0m\u001b[0;34m(\u001b[0m\u001b[0;34m\"drive/My Drive/Colab Notebooks/Machine Learning/RNN/dataPrs\"\u001b[0m\u001b[0;34m+\u001b[0m\u001b[0mdata\u001b[0m\u001b[0;34m+\u001b[0m\u001b[0;34m\".csv\"\u001b[0m\u001b[0;34m,\u001b[0m\u001b[0mencoding\u001b[0m\u001b[0;34m=\u001b[0m\u001b[0;34m'UTF8'\u001b[0m\u001b[0;34m)\u001b[0m\u001b[0;34m\u001b[0m\u001b[0;34m\u001b[0m\u001b[0m\n\u001b[0m\u001b[1;32m      4\u001b[0m \u001b[0mprint\u001b[0m\u001b[0;34m(\u001b[0m\u001b[0md\u001b[0m\u001b[0;34m.\u001b[0m\u001b[0mshape\u001b[0m\u001b[0;34m[\u001b[0m\u001b[0;36m0\u001b[0m\u001b[0;34m]\u001b[0m\u001b[0;34m)\u001b[0m\u001b[0;34m\u001b[0m\u001b[0;34m\u001b[0m\u001b[0m\n\u001b[1;32m      5\u001b[0m \u001b[0mnum\u001b[0m \u001b[0;34m+=\u001b[0m \u001b[0md\u001b[0m\u001b[0;34m.\u001b[0m\u001b[0mshape\u001b[0m\u001b[0;34m[\u001b[0m\u001b[0;36m0\u001b[0m\u001b[0;34m]\u001b[0m\u001b[0;34m\u001b[0m\u001b[0;34m\u001b[0m\u001b[0m\n",
            "\u001b[0;32m/usr/local/lib/python3.6/dist-packages/pandas/io/parsers.py\u001b[0m in \u001b[0;36mparser_f\u001b[0;34m(filepath_or_buffer, sep, delimiter, header, names, index_col, usecols, squeeze, prefix, mangle_dupe_cols, dtype, engine, converters, true_values, false_values, skipinitialspace, skiprows, skipfooter, nrows, na_values, keep_default_na, na_filter, verbose, skip_blank_lines, parse_dates, infer_datetime_format, keep_date_col, date_parser, dayfirst, cache_dates, iterator, chunksize, compression, thousands, decimal, lineterminator, quotechar, quoting, doublequote, escapechar, comment, encoding, dialect, error_bad_lines, warn_bad_lines, delim_whitespace, low_memory, memory_map, float_precision)\u001b[0m\n\u001b[1;32m    683\u001b[0m         )\n\u001b[1;32m    684\u001b[0m \u001b[0;34m\u001b[0m\u001b[0m\n\u001b[0;32m--> 685\u001b[0;31m         \u001b[0;32mreturn\u001b[0m \u001b[0m_read\u001b[0m\u001b[0;34m(\u001b[0m\u001b[0mfilepath_or_buffer\u001b[0m\u001b[0;34m,\u001b[0m \u001b[0mkwds\u001b[0m\u001b[0;34m)\u001b[0m\u001b[0;34m\u001b[0m\u001b[0;34m\u001b[0m\u001b[0m\n\u001b[0m\u001b[1;32m    686\u001b[0m \u001b[0;34m\u001b[0m\u001b[0m\n\u001b[1;32m    687\u001b[0m     \u001b[0mparser_f\u001b[0m\u001b[0;34m.\u001b[0m\u001b[0m__name__\u001b[0m \u001b[0;34m=\u001b[0m \u001b[0mname\u001b[0m\u001b[0;34m\u001b[0m\u001b[0;34m\u001b[0m\u001b[0m\n",
            "\u001b[0;32m/usr/local/lib/python3.6/dist-packages/pandas/io/parsers.py\u001b[0m in \u001b[0;36m_read\u001b[0;34m(filepath_or_buffer, kwds)\u001b[0m\n\u001b[1;32m    455\u001b[0m \u001b[0;34m\u001b[0m\u001b[0m\n\u001b[1;32m    456\u001b[0m     \u001b[0;31m# Create the parser.\u001b[0m\u001b[0;34m\u001b[0m\u001b[0;34m\u001b[0m\u001b[0;34m\u001b[0m\u001b[0m\n\u001b[0;32m--> 457\u001b[0;31m     \u001b[0mparser\u001b[0m \u001b[0;34m=\u001b[0m \u001b[0mTextFileReader\u001b[0m\u001b[0;34m(\u001b[0m\u001b[0mfp_or_buf\u001b[0m\u001b[0;34m,\u001b[0m \u001b[0;34m**\u001b[0m\u001b[0mkwds\u001b[0m\u001b[0;34m)\u001b[0m\u001b[0;34m\u001b[0m\u001b[0;34m\u001b[0m\u001b[0m\n\u001b[0m\u001b[1;32m    458\u001b[0m \u001b[0;34m\u001b[0m\u001b[0m\n\u001b[1;32m    459\u001b[0m     \u001b[0;32mif\u001b[0m \u001b[0mchunksize\u001b[0m \u001b[0;32mor\u001b[0m \u001b[0miterator\u001b[0m\u001b[0;34m:\u001b[0m\u001b[0;34m\u001b[0m\u001b[0;34m\u001b[0m\u001b[0m\n",
            "\u001b[0;32m/usr/local/lib/python3.6/dist-packages/pandas/io/parsers.py\u001b[0m in \u001b[0;36m__init__\u001b[0;34m(self, f, engine, **kwds)\u001b[0m\n\u001b[1;32m    893\u001b[0m             \u001b[0mself\u001b[0m\u001b[0;34m.\u001b[0m\u001b[0moptions\u001b[0m\u001b[0;34m[\u001b[0m\u001b[0;34m\"has_index_names\"\u001b[0m\u001b[0;34m]\u001b[0m \u001b[0;34m=\u001b[0m \u001b[0mkwds\u001b[0m\u001b[0;34m[\u001b[0m\u001b[0;34m\"has_index_names\"\u001b[0m\u001b[0;34m]\u001b[0m\u001b[0;34m\u001b[0m\u001b[0;34m\u001b[0m\u001b[0m\n\u001b[1;32m    894\u001b[0m \u001b[0;34m\u001b[0m\u001b[0m\n\u001b[0;32m--> 895\u001b[0;31m         \u001b[0mself\u001b[0m\u001b[0;34m.\u001b[0m\u001b[0m_make_engine\u001b[0m\u001b[0;34m(\u001b[0m\u001b[0mself\u001b[0m\u001b[0;34m.\u001b[0m\u001b[0mengine\u001b[0m\u001b[0;34m)\u001b[0m\u001b[0;34m\u001b[0m\u001b[0;34m\u001b[0m\u001b[0m\n\u001b[0m\u001b[1;32m    896\u001b[0m \u001b[0;34m\u001b[0m\u001b[0m\n\u001b[1;32m    897\u001b[0m     \u001b[0;32mdef\u001b[0m \u001b[0mclose\u001b[0m\u001b[0;34m(\u001b[0m\u001b[0mself\u001b[0m\u001b[0;34m)\u001b[0m\u001b[0;34m:\u001b[0m\u001b[0;34m\u001b[0m\u001b[0;34m\u001b[0m\u001b[0m\n",
            "\u001b[0;32m/usr/local/lib/python3.6/dist-packages/pandas/io/parsers.py\u001b[0m in \u001b[0;36m_make_engine\u001b[0;34m(self, engine)\u001b[0m\n\u001b[1;32m   1133\u001b[0m     \u001b[0;32mdef\u001b[0m \u001b[0m_make_engine\u001b[0m\u001b[0;34m(\u001b[0m\u001b[0mself\u001b[0m\u001b[0;34m,\u001b[0m \u001b[0mengine\u001b[0m\u001b[0;34m=\u001b[0m\u001b[0;34m\"c\"\u001b[0m\u001b[0;34m)\u001b[0m\u001b[0;34m:\u001b[0m\u001b[0;34m\u001b[0m\u001b[0;34m\u001b[0m\u001b[0m\n\u001b[1;32m   1134\u001b[0m         \u001b[0;32mif\u001b[0m \u001b[0mengine\u001b[0m \u001b[0;34m==\u001b[0m \u001b[0;34m\"c\"\u001b[0m\u001b[0;34m:\u001b[0m\u001b[0;34m\u001b[0m\u001b[0;34m\u001b[0m\u001b[0m\n\u001b[0;32m-> 1135\u001b[0;31m             \u001b[0mself\u001b[0m\u001b[0;34m.\u001b[0m\u001b[0m_engine\u001b[0m \u001b[0;34m=\u001b[0m \u001b[0mCParserWrapper\u001b[0m\u001b[0;34m(\u001b[0m\u001b[0mself\u001b[0m\u001b[0;34m.\u001b[0m\u001b[0mf\u001b[0m\u001b[0;34m,\u001b[0m \u001b[0;34m**\u001b[0m\u001b[0mself\u001b[0m\u001b[0;34m.\u001b[0m\u001b[0moptions\u001b[0m\u001b[0;34m)\u001b[0m\u001b[0;34m\u001b[0m\u001b[0;34m\u001b[0m\u001b[0m\n\u001b[0m\u001b[1;32m   1136\u001b[0m         \u001b[0;32melse\u001b[0m\u001b[0;34m:\u001b[0m\u001b[0;34m\u001b[0m\u001b[0;34m\u001b[0m\u001b[0m\n\u001b[1;32m   1137\u001b[0m             \u001b[0;32mif\u001b[0m \u001b[0mengine\u001b[0m \u001b[0;34m==\u001b[0m \u001b[0;34m\"python\"\u001b[0m\u001b[0;34m:\u001b[0m\u001b[0;34m\u001b[0m\u001b[0;34m\u001b[0m\u001b[0m\n",
            "\u001b[0;32m/usr/local/lib/python3.6/dist-packages/pandas/io/parsers.py\u001b[0m in \u001b[0;36m__init__\u001b[0;34m(self, src, **kwds)\u001b[0m\n\u001b[1;32m   1915\u001b[0m         \u001b[0mkwds\u001b[0m\u001b[0;34m[\u001b[0m\u001b[0;34m\"usecols\"\u001b[0m\u001b[0;34m]\u001b[0m \u001b[0;34m=\u001b[0m \u001b[0mself\u001b[0m\u001b[0;34m.\u001b[0m\u001b[0musecols\u001b[0m\u001b[0;34m\u001b[0m\u001b[0;34m\u001b[0m\u001b[0m\n\u001b[1;32m   1916\u001b[0m \u001b[0;34m\u001b[0m\u001b[0m\n\u001b[0;32m-> 1917\u001b[0;31m         \u001b[0mself\u001b[0m\u001b[0;34m.\u001b[0m\u001b[0m_reader\u001b[0m \u001b[0;34m=\u001b[0m \u001b[0mparsers\u001b[0m\u001b[0;34m.\u001b[0m\u001b[0mTextReader\u001b[0m\u001b[0;34m(\u001b[0m\u001b[0msrc\u001b[0m\u001b[0;34m,\u001b[0m \u001b[0;34m**\u001b[0m\u001b[0mkwds\u001b[0m\u001b[0;34m)\u001b[0m\u001b[0;34m\u001b[0m\u001b[0;34m\u001b[0m\u001b[0m\n\u001b[0m\u001b[1;32m   1918\u001b[0m         \u001b[0mself\u001b[0m\u001b[0;34m.\u001b[0m\u001b[0munnamed_cols\u001b[0m \u001b[0;34m=\u001b[0m \u001b[0mself\u001b[0m\u001b[0;34m.\u001b[0m\u001b[0m_reader\u001b[0m\u001b[0;34m.\u001b[0m\u001b[0munnamed_cols\u001b[0m\u001b[0;34m\u001b[0m\u001b[0;34m\u001b[0m\u001b[0m\n\u001b[1;32m   1919\u001b[0m \u001b[0;34m\u001b[0m\u001b[0m\n",
            "\u001b[0;32mpandas/_libs/parsers.pyx\u001b[0m in \u001b[0;36mpandas._libs.parsers.TextReader.__cinit__\u001b[0;34m()\u001b[0m\n",
            "\u001b[0;32mpandas/_libs/parsers.pyx\u001b[0m in \u001b[0;36mpandas._libs.parsers.TextReader._setup_parser_source\u001b[0;34m()\u001b[0m\n",
            "\u001b[0;31mFileNotFoundError\u001b[0m: [Errno 2] File b'drive/My Drive/Colab Notebooks/Machine Learning/RNN/dataPrs.csv' does not exist: b'drive/My Drive/Colab Notebooks/Machine Learning/RNN/dataPrs.csv'"
          ]
        }
      ]
    },
    {
      "cell_type": "markdown",
      "metadata": {
        "id": "SkNfiohuCoCm",
        "colab_type": "text"
      },
      "source": [
        "# data quality check "
      ]
    },
    {
      "cell_type": "code",
      "metadata": {
        "id": "48XafQeA2XQB",
        "colab_type": "code",
        "colab": {}
      },
      "source": [
        "topic = \"pol\"\n",
        "pol = pd.read_csv('drive/My Drive/Colab Notebooks/Machine Learning/RNN/'+topic+'utf.csv',encoding='UTF8')\n"
      ],
      "execution_count": 0,
      "outputs": []
    },
    {
      "cell_type": "code",
      "metadata": {
        "id": "k1pmceKx2bz_",
        "colab_type": "code",
        "outputId": "8c123703-c716-49c9-e8f2-6db169bd8ef3",
        "colab": {
          "base_uri": "https://localhost:8080/",
          "height": 54
        }
      },
      "source": [
        "pol.columns"
      ],
      "execution_count": 0,
      "outputs": [
        {
          "output_type": "execute_result",
          "data": {
            "text/plain": [
              "Index(['뉴스 식별자', '일자', '언론사', '기고자', '제목', '통합 분류1', '통합 분류2', '통합 분류3', '사건/사고 분류1', '사건/사고 분류2', '사건/사고 분류3', '인물', '위치', '기관', '키워드', '특성추출', '본문', 'URL', '분석제외 여부'], dtype='object')"
            ]
          },
          "metadata": {
            "tags": []
          },
          "execution_count": 35
        }
      ]
    },
    {
      "cell_type": "code",
      "metadata": {
        "id": "jTKWl2-32ctC",
        "colab_type": "code",
        "colab": {}
      },
      "source": [
        "pol = pol.drop(['뉴스 식별자', '일자', '언론사','본문',\"통합 분류2\",\"통합 분류3\",\"특성추출\", '기고자', '사건/사고 분류1', '사건/사고 분류2', '사건/사고 분류3', '인물', '위치', '기관','URL', '분석제외 여부'], axis = 1)"
      ],
      "execution_count": 0,
      "outputs": []
    },
    {
      "cell_type": "code",
      "metadata": {
        "id": "g3wWYGu52tIx",
        "colab_type": "code",
        "colab": {}
      },
      "source": [
        "cat = pol[\"통합 분류1\"].head(100)"
      ],
      "execution_count": 0,
      "outputs": []
    },
    {
      "cell_type": "code",
      "metadata": {
        "id": "UzStf0863CEm",
        "colab_type": "code",
        "outputId": "541b19b4-b8f3-4307-da14-b5361c95d486",
        "colab": {
          "base_uri": "https://localhost:8080/",
          "height": 34
        }
      },
      "source": [
        "type(cat)"
      ],
      "execution_count": 0,
      "outputs": [
        {
          "output_type": "execute_result",
          "data": {
            "text/plain": [
              "pandas.core.series.Series"
            ]
          },
          "metadata": {
            "tags": []
          },
          "execution_count": 38
        }
      ]
    },
    {
      "cell_type": "code",
      "metadata": {
        "id": "Xf4YRh6I3TLv",
        "colab_type": "code",
        "outputId": "57148479-f790-4e90-d268-1b45abd934c0",
        "colab": {
          "base_uri": "https://localhost:8080/",
          "height": 221
        }
      },
      "source": [
        "\n",
        "\n",
        "for i, c in enumerate(cat):\n",
        "  # print()\n",
        "  c = c.split(\">\")\n",
        "  print(c[0])\n",
        "  if i > 10:\n",
        "    break\n",
        "\n"
      ],
      "execution_count": 0,
      "outputs": [
        {
          "output_type": "stream",
          "text": [
            "정치\n",
            "정치\n",
            "사회\n",
            "정치\n",
            "정치\n",
            "사회\n",
            "정치\n",
            "국제\n",
            "정치\n",
            "정치\n",
            "사회\n",
            "정치\n"
          ],
          "name": "stdout"
        }
      ]
    },
    {
      "cell_type": "code",
      "metadata": {
        "id": "kHTF5b1S5gV7",
        "colab_type": "code",
        "outputId": "da2b555b-3ceb-46f4-d4af-9c02f6f1760b",
        "colab": {
          "base_uri": "https://localhost:8080/",
          "height": 419
        }
      },
      "source": [
        "pol[\"주제\"] = None\n",
        "pol"
      ],
      "execution_count": 0,
      "outputs": [
        {
          "output_type": "execute_result",
          "data": {
            "text/html": [
              "<div>\n",
              "<style scoped>\n",
              "    .dataframe tbody tr th:only-of-type {\n",
              "        vertical-align: middle;\n",
              "    }\n",
              "\n",
              "    .dataframe tbody tr th {\n",
              "        vertical-align: top;\n",
              "    }\n",
              "\n",
              "    .dataframe thead th {\n",
              "        text-align: right;\n",
              "    }\n",
              "</style>\n",
              "<table border=\"1\" class=\"dataframe\">\n",
              "  <thead>\n",
              "    <tr style=\"text-align: right;\">\n",
              "      <th></th>\n",
              "      <th>제목</th>\n",
              "      <th>통합 분류1</th>\n",
              "      <th>키워드</th>\n",
              "      <th>주제</th>\n",
              "    </tr>\n",
              "  </thead>\n",
              "  <tbody>\n",
              "    <tr>\n",
              "      <th>0</th>\n",
              "      <td>[세상읽기]문재인 정부의 대외적 자율성</td>\n",
              "      <td>정치&gt;외교</td>\n",
              "      <td>문재인,정부,대외,자율,국제정치학,주권국가,무형,인적,물적,자원,국경,이동,통제권,...</td>\n",
              "      <td>None</td>\n",
              "    </tr>\n",
              "    <tr>\n",
              "      <th>1</th>\n",
              "      <td>[하태훈의 법과 사회]‘미리 알 권리’도 알 권리인가</td>\n",
              "      <td>정치&gt;행정_자치</td>\n",
              "      <td>권리,권리,관행,시점,의도,의심,권력,선거,개입,혐의,기소,사건,관례,의혹,울산,시...</td>\n",
              "      <td>None</td>\n",
              "    </tr>\n",
              "    <tr>\n",
              "      <th>2</th>\n",
              "      <td>'텔레그램 n번 방' 국회 청원 10만 명 참여</td>\n",
              "      <td>사회&gt;사회일반</td>\n",
              "      <td>텔레그램,n번,10만,국회,청원,참여,국회,사무처,텔레그램,발생,디지털,성범죄,해결...</td>\n",
              "      <td>None</td>\n",
              "    </tr>\n",
              "    <tr>\n",
              "      <th>3</th>\n",
              "      <td>[정참시] \"미래한국당 창고 사무실\" 논란 / 이낙연-황교안 어색한 서민행세</td>\n",
              "      <td>정치&gt;국회_정당</td>\n",
              "      <td>사무실,미래,한국당,창고,논란,이낙연,황교안,서민행세,앵커,정치,참견,시점,박영회,...</td>\n",
              "      <td>None</td>\n",
              "    </tr>\n",
              "    <tr>\n",
              "      <th>4</th>\n",
              "      <td>\"1980년 무슨 사태\" 황교안 5 18 '폄훼' 논란</td>\n",
              "      <td>정치&gt;정치일반</td>\n",
              "      <td>1980년,사태,황교,5,논란,앵커,대표,황교,자유,한국당,시절,대학,언급,사태,휴...</td>\n",
              "      <td>None</td>\n",
              "    </tr>\n",
              "    <tr>\n",
              "      <th>...</th>\n",
              "      <td>...</td>\n",
              "      <td>...</td>\n",
              "      <td>...</td>\n",
              "      <td>...</td>\n",
              "    </tr>\n",
              "    <tr>\n",
              "      <th>19995</th>\n",
              "      <td>'노무현 사위' 곽상언, 22일 민주당 입당 충북 동남4군 출마</td>\n",
              "      <td>정치&gt;국회_정당</td>\n",
              "      <td>노무현,사위,곽상언,입당,민주당,충북,동남,출마,곽상언,변호사,중부매일,김홍민,노무...</td>\n",
              "      <td>None</td>\n",
              "    </tr>\n",
              "    <tr>\n",
              "      <th>19996</th>\n",
              "      <td>與 “우한 폐렴 대응 최선 다할 것 朴정부 메르스 반면교사”</td>\n",
              "      <td>정치&gt;정치일반</td>\n",
              "      <td>최선,폐렴,대응,정부,메르스,교사,신종,코로나바이러스,중국,폐렴,중국인,확진자,발생...</td>\n",
              "      <td>None</td>\n",
              "    </tr>\n",
              "    <tr>\n",
              "      <th>19997</th>\n",
              "      <td>거제4동, 설맞이 따뜻한 이웃사랑 손길 이어져</td>\n",
              "      <td>사회&gt;여성</td>\n",
              "      <td>거제4동,설맞이,이웃,사랑,손길,연제구,거제,동장,김윤신,명절,이웃,사랑,손길,해맞...</td>\n",
              "      <td>None</td>\n",
              "    </tr>\n",
              "    <tr>\n",
              "      <th>19998</th>\n",
              "      <td>외교부 \"이란, 호르무즈해협 파병 우려 표명\"</td>\n",
              "      <td>정치&gt;외교</td>\n",
              "      <td>외교부,호르무즈해협,파병,표명,한국정부,청해부대,파병,호르무즈해협,독자,결정,이란,...</td>\n",
              "      <td>None</td>\n",
              "    </tr>\n",
              "    <tr>\n",
              "      <th>19999</th>\n",
              "      <td>독자파병 한다지만 \"美 연합작전 요구땐 거부할 수 있겠나\"</td>\n",
              "      <td>국제&gt;국제일반</td>\n",
              "      <td>독자파병,독자,파병,작전,요구,거부,호르무즈,독자파병,정부,호르무즈,해협,독자,파병...</td>\n",
              "      <td>None</td>\n",
              "    </tr>\n",
              "  </tbody>\n",
              "</table>\n",
              "<p>20000 rows × 4 columns</p>\n",
              "</div>"
            ],
            "text/plain": [
              "                                               제목    통합 분류1                                                키워드    주제\n",
              "0                           [세상읽기]문재인 정부의 대외적 자율성     정치>외교  문재인,정부,대외,자율,국제정치학,주권국가,무형,인적,물적,자원,국경,이동,통제권,...  None\n",
              "1                   [하태훈의 법과 사회]‘미리 알 권리’도 알 권리인가  정치>행정_자치  권리,권리,관행,시점,의도,의심,권력,선거,개입,혐의,기소,사건,관례,의혹,울산,시...  None\n",
              "2                      '텔레그램 n번 방' 국회 청원 10만 명 참여   사회>사회일반  텔레그램,n번,10만,국회,청원,참여,국회,사무처,텔레그램,발생,디지털,성범죄,해결...  None\n",
              "3      [정참시] \"미래한국당 창고 사무실\" 논란 / 이낙연-황교안 어색한 서민행세  정치>국회_정당  사무실,미래,한국당,창고,논란,이낙연,황교안,서민행세,앵커,정치,참견,시점,박영회,...  None\n",
              "4                  \"1980년 무슨 사태\" 황교안 5 18 '폄훼' 논란   정치>정치일반  1980년,사태,황교,5,논란,앵커,대표,황교,자유,한국당,시절,대학,언급,사태,휴...  None\n",
              "...                                           ...       ...                                                ...   ...\n",
              "19995         '노무현 사위' 곽상언, 22일 민주당 입당 충북 동남4군 출마  정치>국회_정당  노무현,사위,곽상언,입당,민주당,충북,동남,출마,곽상언,변호사,중부매일,김홍민,노무...  None\n",
              "19996           與 “우한 폐렴 대응 최선 다할 것 朴정부 메르스 반면교사”   정치>정치일반  최선,폐렴,대응,정부,메르스,교사,신종,코로나바이러스,중국,폐렴,중국인,확진자,발생...  None\n",
              "19997                   거제4동, 설맞이 따뜻한 이웃사랑 손길 이어져     사회>여성  거제4동,설맞이,이웃,사랑,손길,연제구,거제,동장,김윤신,명절,이웃,사랑,손길,해맞...  None\n",
              "19998                   외교부 \"이란, 호르무즈해협 파병 우려 표명\"     정치>외교  외교부,호르무즈해협,파병,표명,한국정부,청해부대,파병,호르무즈해협,독자,결정,이란,...  None\n",
              "19999            독자파병 한다지만 \"美 연합작전 요구땐 거부할 수 있겠나\"   국제>국제일반  독자파병,독자,파병,작전,요구,거부,호르무즈,독자파병,정부,호르무즈,해협,독자,파병...  None\n",
              "\n",
              "[20000 rows x 4 columns]"
            ]
          },
          "metadata": {
            "tags": []
          },
          "execution_count": 53
        }
      ]
    },
    {
      "cell_type": "code",
      "metadata": {
        "id": "rskVt66i6v0k",
        "colab_type": "code",
        "outputId": "b0fb7a3d-8ce3-41c4-ee0b-93a487c67ca9",
        "colab": {
          "base_uri": "https://localhost:8080/",
          "height": 34
        }
      },
      "source": [
        "pol.shape[0]"
      ],
      "execution_count": 0,
      "outputs": [
        {
          "output_type": "execute_result",
          "data": {
            "text/plain": [
              "20000"
            ]
          },
          "metadata": {
            "tags": []
          },
          "execution_count": 55
        }
      ]
    },
    {
      "cell_type": "code",
      "metadata": {
        "id": "RB0LeWap6gBj",
        "colab_type": "code",
        "colab": {}
      },
      "source": [
        "# print(pol[\"통합 분류1\"][0].split(\">\")[0])\n",
        "# for i in range()\n",
        "for i in range(pol.shape[0]):\n",
        "  pol[\"주제\"][i]=pol[\"통합 분류1\"][i].split(\">\")[0]"
      ],
      "execution_count": 0,
      "outputs": []
    },
    {
      "cell_type": "code",
      "metadata": {
        "id": "CO60XE7i68jd",
        "colab_type": "code",
        "outputId": "32de0bc0-f90f-48aa-9c3b-86ccfb6cd4cd",
        "colab": {
          "base_uri": "https://localhost:8080/",
          "height": 419
        }
      },
      "source": [
        "pol"
      ],
      "execution_count": 0,
      "outputs": [
        {
          "output_type": "execute_result",
          "data": {
            "text/html": [
              "<div>\n",
              "<style scoped>\n",
              "    .dataframe tbody tr th:only-of-type {\n",
              "        vertical-align: middle;\n",
              "    }\n",
              "\n",
              "    .dataframe tbody tr th {\n",
              "        vertical-align: top;\n",
              "    }\n",
              "\n",
              "    .dataframe thead th {\n",
              "        text-align: right;\n",
              "    }\n",
              "</style>\n",
              "<table border=\"1\" class=\"dataframe\">\n",
              "  <thead>\n",
              "    <tr style=\"text-align: right;\">\n",
              "      <th></th>\n",
              "      <th>제목</th>\n",
              "      <th>통합 분류1</th>\n",
              "      <th>키워드</th>\n",
              "      <th>주제</th>\n",
              "    </tr>\n",
              "  </thead>\n",
              "  <tbody>\n",
              "    <tr>\n",
              "      <th>0</th>\n",
              "      <td>[세상읽기]문재인 정부의 대외적 자율성</td>\n",
              "      <td>정치&gt;외교</td>\n",
              "      <td>문재인,정부,대외,자율,국제정치학,주권국가,무형,인적,물적,자원,국경,이동,통제권,...</td>\n",
              "      <td>정치</td>\n",
              "    </tr>\n",
              "    <tr>\n",
              "      <th>1</th>\n",
              "      <td>[하태훈의 법과 사회]‘미리 알 권리’도 알 권리인가</td>\n",
              "      <td>정치&gt;행정_자치</td>\n",
              "      <td>권리,권리,관행,시점,의도,의심,권력,선거,개입,혐의,기소,사건,관례,의혹,울산,시...</td>\n",
              "      <td>정치</td>\n",
              "    </tr>\n",
              "    <tr>\n",
              "      <th>2</th>\n",
              "      <td>'텔레그램 n번 방' 국회 청원 10만 명 참여</td>\n",
              "      <td>사회&gt;사회일반</td>\n",
              "      <td>텔레그램,n번,10만,국회,청원,참여,국회,사무처,텔레그램,발생,디지털,성범죄,해결...</td>\n",
              "      <td>사회</td>\n",
              "    </tr>\n",
              "    <tr>\n",
              "      <th>3</th>\n",
              "      <td>[정참시] \"미래한국당 창고 사무실\" 논란 / 이낙연-황교안 어색한 서민행세</td>\n",
              "      <td>정치&gt;국회_정당</td>\n",
              "      <td>사무실,미래,한국당,창고,논란,이낙연,황교안,서민행세,앵커,정치,참견,시점,박영회,...</td>\n",
              "      <td>정치</td>\n",
              "    </tr>\n",
              "    <tr>\n",
              "      <th>4</th>\n",
              "      <td>\"1980년 무슨 사태\" 황교안 5 18 '폄훼' 논란</td>\n",
              "      <td>정치&gt;정치일반</td>\n",
              "      <td>1980년,사태,황교,5,논란,앵커,대표,황교,자유,한국당,시절,대학,언급,사태,휴...</td>\n",
              "      <td>정치</td>\n",
              "    </tr>\n",
              "    <tr>\n",
              "      <th>...</th>\n",
              "      <td>...</td>\n",
              "      <td>...</td>\n",
              "      <td>...</td>\n",
              "      <td>...</td>\n",
              "    </tr>\n",
              "    <tr>\n",
              "      <th>19995</th>\n",
              "      <td>'노무현 사위' 곽상언, 22일 민주당 입당 충북 동남4군 출마</td>\n",
              "      <td>정치&gt;국회_정당</td>\n",
              "      <td>노무현,사위,곽상언,입당,민주당,충북,동남,출마,곽상언,변호사,중부매일,김홍민,노무...</td>\n",
              "      <td>정치</td>\n",
              "    </tr>\n",
              "    <tr>\n",
              "      <th>19996</th>\n",
              "      <td>與 “우한 폐렴 대응 최선 다할 것 朴정부 메르스 반면교사”</td>\n",
              "      <td>정치&gt;정치일반</td>\n",
              "      <td>최선,폐렴,대응,정부,메르스,교사,신종,코로나바이러스,중국,폐렴,중국인,확진자,발생...</td>\n",
              "      <td>정치</td>\n",
              "    </tr>\n",
              "    <tr>\n",
              "      <th>19997</th>\n",
              "      <td>거제4동, 설맞이 따뜻한 이웃사랑 손길 이어져</td>\n",
              "      <td>사회&gt;여성</td>\n",
              "      <td>거제4동,설맞이,이웃,사랑,손길,연제구,거제,동장,김윤신,명절,이웃,사랑,손길,해맞...</td>\n",
              "      <td>사회</td>\n",
              "    </tr>\n",
              "    <tr>\n",
              "      <th>19998</th>\n",
              "      <td>외교부 \"이란, 호르무즈해협 파병 우려 표명\"</td>\n",
              "      <td>정치&gt;외교</td>\n",
              "      <td>외교부,호르무즈해협,파병,표명,한국정부,청해부대,파병,호르무즈해협,독자,결정,이란,...</td>\n",
              "      <td>정치</td>\n",
              "    </tr>\n",
              "    <tr>\n",
              "      <th>19999</th>\n",
              "      <td>독자파병 한다지만 \"美 연합작전 요구땐 거부할 수 있겠나\"</td>\n",
              "      <td>국제&gt;국제일반</td>\n",
              "      <td>독자파병,독자,파병,작전,요구,거부,호르무즈,독자파병,정부,호르무즈,해협,독자,파병...</td>\n",
              "      <td>국제</td>\n",
              "    </tr>\n",
              "  </tbody>\n",
              "</table>\n",
              "<p>20000 rows × 4 columns</p>\n",
              "</div>"
            ],
            "text/plain": [
              "                                               제목    통합 분류1                                                키워드  주제\n",
              "0                           [세상읽기]문재인 정부의 대외적 자율성     정치>외교  문재인,정부,대외,자율,국제정치학,주권국가,무형,인적,물적,자원,국경,이동,통제권,...  정치\n",
              "1                   [하태훈의 법과 사회]‘미리 알 권리’도 알 권리인가  정치>행정_자치  권리,권리,관행,시점,의도,의심,권력,선거,개입,혐의,기소,사건,관례,의혹,울산,시...  정치\n",
              "2                      '텔레그램 n번 방' 국회 청원 10만 명 참여   사회>사회일반  텔레그램,n번,10만,국회,청원,참여,국회,사무처,텔레그램,발생,디지털,성범죄,해결...  사회\n",
              "3      [정참시] \"미래한국당 창고 사무실\" 논란 / 이낙연-황교안 어색한 서민행세  정치>국회_정당  사무실,미래,한국당,창고,논란,이낙연,황교안,서민행세,앵커,정치,참견,시점,박영회,...  정치\n",
              "4                  \"1980년 무슨 사태\" 황교안 5 18 '폄훼' 논란   정치>정치일반  1980년,사태,황교,5,논란,앵커,대표,황교,자유,한국당,시절,대학,언급,사태,휴...  정치\n",
              "...                                           ...       ...                                                ...  ..\n",
              "19995         '노무현 사위' 곽상언, 22일 민주당 입당 충북 동남4군 출마  정치>국회_정당  노무현,사위,곽상언,입당,민주당,충북,동남,출마,곽상언,변호사,중부매일,김홍민,노무...  정치\n",
              "19996           與 “우한 폐렴 대응 최선 다할 것 朴정부 메르스 반면교사”   정치>정치일반  최선,폐렴,대응,정부,메르스,교사,신종,코로나바이러스,중국,폐렴,중국인,확진자,발생...  정치\n",
              "19997                   거제4동, 설맞이 따뜻한 이웃사랑 손길 이어져     사회>여성  거제4동,설맞이,이웃,사랑,손길,연제구,거제,동장,김윤신,명절,이웃,사랑,손길,해맞...  사회\n",
              "19998                   외교부 \"이란, 호르무즈해협 파병 우려 표명\"     정치>외교  외교부,호르무즈해협,파병,표명,한국정부,청해부대,파병,호르무즈해협,독자,결정,이란,...  정치\n",
              "19999            독자파병 한다지만 \"美 연합작전 요구땐 거부할 수 있겠나\"   국제>국제일반  독자파병,독자,파병,작전,요구,거부,호르무즈,독자파병,정부,호르무즈,해협,독자,파병...  국제\n",
              "\n",
              "[20000 rows x 4 columns]"
            ]
          },
          "metadata": {
            "tags": []
          },
          "execution_count": 57
        }
      ]
    },
    {
      "cell_type": "code",
      "metadata": {
        "id": "imFQHeIV3ZvH",
        "colab_type": "code",
        "outputId": "0dd20b8d-6cc2-460b-ce07-237855d97204",
        "colab": {
          "base_uri": "https://localhost:8080/",
          "height": 34
        }
      },
      "source": [
        "pol.columns"
      ],
      "execution_count": 0,
      "outputs": [
        {
          "output_type": "execute_result",
          "data": {
            "text/plain": [
              "Index(['제목', '통합 분류1', '키워드', '주제'], dtype='object')"
            ]
          },
          "metadata": {
            "tags": []
          },
          "execution_count": 58
        }
      ]
    },
    {
      "cell_type": "code",
      "metadata": {
        "id": "ne9i8fln4nYq",
        "colab_type": "code",
        "outputId": "d88e054d-bfe7-423f-ded3-fe45883a3533",
        "colab": {
          "base_uri": "https://localhost:8080/",
          "height": 822
        }
      },
      "source": [
        "pol.head(20)"
      ],
      "execution_count": 0,
      "outputs": [
        {
          "output_type": "execute_result",
          "data": {
            "text/html": [
              "<div>\n",
              "<style scoped>\n",
              "    .dataframe tbody tr th:only-of-type {\n",
              "        vertical-align: middle;\n",
              "    }\n",
              "\n",
              "    .dataframe tbody tr th {\n",
              "        vertical-align: top;\n",
              "    }\n",
              "\n",
              "    .dataframe thead th {\n",
              "        text-align: right;\n",
              "    }\n",
              "</style>\n",
              "<table border=\"1\" class=\"dataframe\">\n",
              "  <thead>\n",
              "    <tr style=\"text-align: right;\">\n",
              "      <th></th>\n",
              "      <th>제목</th>\n",
              "      <th>통합 분류1</th>\n",
              "      <th>키워드</th>\n",
              "      <th>주제</th>\n",
              "    </tr>\n",
              "  </thead>\n",
              "  <tbody>\n",
              "    <tr>\n",
              "      <th>0</th>\n",
              "      <td>[세상읽기]문재인 정부의 대외적 자율성</td>\n",
              "      <td>정치&gt;외교</td>\n",
              "      <td>문재인,정부,대외,자율,국제정치학,주권국가,무형,인적,물적,자원,국경,이동,통제권,...</td>\n",
              "      <td>정치</td>\n",
              "    </tr>\n",
              "    <tr>\n",
              "      <th>1</th>\n",
              "      <td>[하태훈의 법과 사회]‘미리 알 권리’도 알 권리인가</td>\n",
              "      <td>정치&gt;행정_자치</td>\n",
              "      <td>권리,권리,관행,시점,의도,의심,권력,선거,개입,혐의,기소,사건,관례,의혹,울산,시...</td>\n",
              "      <td>정치</td>\n",
              "    </tr>\n",
              "    <tr>\n",
              "      <th>2</th>\n",
              "      <td>'텔레그램 n번 방' 국회 청원 10만 명 참여</td>\n",
              "      <td>사회&gt;사회일반</td>\n",
              "      <td>텔레그램,n번,10만,국회,청원,참여,국회,사무처,텔레그램,발생,디지털,성범죄,해결...</td>\n",
              "      <td>사회</td>\n",
              "    </tr>\n",
              "    <tr>\n",
              "      <th>3</th>\n",
              "      <td>[정참시] \"미래한국당 창고 사무실\" 논란 / 이낙연-황교안 어색한 서민행세</td>\n",
              "      <td>정치&gt;국회_정당</td>\n",
              "      <td>사무실,미래,한국당,창고,논란,이낙연,황교안,서민행세,앵커,정치,참견,시점,박영회,...</td>\n",
              "      <td>정치</td>\n",
              "    </tr>\n",
              "    <tr>\n",
              "      <th>4</th>\n",
              "      <td>\"1980년 무슨 사태\" 황교안 5 18 '폄훼' 논란</td>\n",
              "      <td>정치&gt;정치일반</td>\n",
              "      <td>1980년,사태,황교,5,논란,앵커,대표,황교,자유,한국당,시절,대학,언급,사태,휴...</td>\n",
              "      <td>정치</td>\n",
              "    </tr>\n",
              "    <tr>\n",
              "      <th>5</th>\n",
              "      <td>동선 나올 때마다 휴원 휴업 속출 \"꼭 그래야 하나\"</td>\n",
              "      <td>사회&gt;의료_건강</td>\n",
              "      <td>동선,휴원,휴업,속출,앵커,확진,환자,시설,방역,하루,이틀,필수,확진자들,확진자,지...</td>\n",
              "      <td>사회</td>\n",
              "    </tr>\n",
              "    <tr>\n",
              "      <th>6</th>\n",
              "      <td>크리스토퍼 힐 “비핵화, 신뢰보다 검증이 중요 유화주의 경계해야”</td>\n",
              "      <td>정치&gt;북한</td>\n",
              "      <td>크리스토퍼,비핵화,크리스토퍼,신뢰,검증,중요,유화주,경계,평창평화포럼,방한,동아,국...</td>\n",
              "      <td>정치</td>\n",
              "    </tr>\n",
              "    <tr>\n",
              "      <th>7</th>\n",
              "      <td>중국 내 외국인 확진자 27명...22명 격리</td>\n",
              "      <td>국제&gt;중국</td>\n",
              "      <td>중국,27명,외국인,확진자,22명,격리,중국,감염증,신종,코로나바이러스,사람,외국인...</td>\n",
              "      <td>국제</td>\n",
              "    </tr>\n",
              "    <tr>\n",
              "      <th>8</th>\n",
              "      <td>한국당 \"태영호 서울 지역구에 공천\"</td>\n",
              "      <td>정치&gt;청와대</td>\n",
              "      <td>한국당,태영호,서울,지역구,공천,태영호,공사,주영,북한,대사관,사진,자유한국당,입당...</td>\n",
              "      <td>정치</td>\n",
              "    </tr>\n",
              "    <tr>\n",
              "      <th>9</th>\n",
              "      <td>與, '우리법연구회' 출신 최기상 前 판사 영입 광주 출마 검토</td>\n",
              "      <td>정치&gt;선거</td>\n",
              "      <td>우리법연구회,영입,출신,최기상,판사,검토,광주,출마,대안,동구남구갑,장병완,의원,지...</td>\n",
              "      <td>정치</td>\n",
              "    </tr>\n",
              "    <tr>\n",
              "      <th>10</th>\n",
              "      <td>한국당, '의사출신 2호 검사' 송한섭 영입 서울 출마</td>\n",
              "      <td>사회&gt;사회일반</td>\n",
              "      <td>한국당,검사,의사,출신,2호,송한섭,영입,서울,출마,자유한국당,송한섭,40,사진,서...</td>\n",
              "      <td>사회</td>\n",
              "    </tr>\n",
              "    <tr>\n",
              "      <th>11</th>\n",
              "      <td>박희승 예비후보 \"집권 여당의 파수꾼 되겠다\"</td>\n",
              "      <td>정치&gt;외교</td>\n",
              "      <td>박희승,예비,후보,집권,여당,파수꾼,예비후보,박희승,더불어민주당,남원임실순창,국회의...</td>\n",
              "      <td>정치</td>\n",
              "    </tr>\n",
              "    <tr>\n",
              "      <th>12</th>\n",
              "      <td>안호영 예비후보, 20대 국회 본회의 법안투표율 1위</td>\n",
              "      <td>정치&gt;행정_자치</td>\n",
              "      <td>안호영,예비,후보,1위,국회,본회의,법안,투표,1위,예비후보,안호영,더불어민주당,완...</td>\n",
              "      <td>정치</td>\n",
              "    </tr>\n",
              "    <tr>\n",
              "      <th>13</th>\n",
              "      <td>2월 임시회서 탄소법 공공의대법 통과 가능할까</td>\n",
              "      <td>정치&gt;국회_정당</td>\n",
              "      <td>2월,임시회,탄소법,공공의대법,가능,국회,문턱,탄소소재융복합기술개발,기반조성,법률,...</td>\n",
              "      <td>정치</td>\n",
              "    </tr>\n",
              "    <tr>\n",
              "      <th>14</th>\n",
              "      <td>학교 내 선거운동, 중앙선관위-전북교육감 '의견차'</td>\n",
              "      <td>사회&gt;교육_시험</td>\n",
              "      <td>학교,선거운동,중앙선관위,전북교육감,의견차,확대,선거,학교,선거운동,중앙선거관리위원...</td>\n",
              "      <td>사회</td>\n",
              "    </tr>\n",
              "    <tr>\n",
              "      <th>15</th>\n",
              "      <td>전북 총선 민주당 면접 키워드 ‘20대 총선 패배 원인, 민주당 깃발은 당선?’</td>\n",
              "      <td>정치&gt;선거</td>\n",
              "      <td>원인,전북,총선,민주당,면접,키워드,총선,패배,민주당,깃발,당선,더불어민주당,당내,...</td>\n",
              "      <td>정치</td>\n",
              "    </tr>\n",
              "    <tr>\n",
              "      <th>16</th>\n",
              "      <td>민주당 공천작업 착수, 옥석 제대로 가려내야</td>\n",
              "      <td>정치&gt;국회_정당</td>\n",
              "      <td>착수,민주당,공천,작업,옥석,더불어민주당,총선,공천작업,돌입,인적,쇄신,여부,전북,...</td>\n",
              "      <td>정치</td>\n",
              "    </tr>\n",
              "    <tr>\n",
              "      <th>17</th>\n",
              "      <td>[4 15 총선 전북 지역구 열전 ⑥ 익산을] 조배숙 한병도 리턴매치 성사여부 관심</td>\n",
              "      <td>정치&gt;국회_정당</td>\n",
              "      <td>4,익산을,조배숙,한병도,관심,리턴매치,성사,여부,익산,선거구,국회의원,민주평화당,...</td>\n",
              "      <td>정치</td>\n",
              "    </tr>\n",
              "    <tr>\n",
              "      <th>18</th>\n",
              "      <td>이천지역 총선 주자들 \"우한 교민 격리, 대승적 수용한 시민들께 감사\"</td>\n",
              "      <td>지역&gt;지역일반</td>\n",
              "      <td>주자들,이천,지역,총선,주자,교민,격리,대승,수용,시민들,감사,중국,우한,귀국,교민...</td>\n",
              "      <td>지역</td>\n",
              "    </tr>\n",
              "    <tr>\n",
              "      <th>19</th>\n",
              "      <td>우리공화당 “종로에 후보 낸다 한국당과 통합 안 해”</td>\n",
              "      <td>정치&gt;국회_정당</td>\n",
              "      <td>우리공화당,종로,후보,한국당,통합,우리공화당,유승민,한국당,통합,대표,조원진,우리공...</td>\n",
              "      <td>정치</td>\n",
              "    </tr>\n",
              "  </tbody>\n",
              "</table>\n",
              "</div>"
            ],
            "text/plain": [
              "                                                제목    통합 분류1                                                키워드  주제\n",
              "0                            [세상읽기]문재인 정부의 대외적 자율성     정치>외교  문재인,정부,대외,자율,국제정치학,주권국가,무형,인적,물적,자원,국경,이동,통제권,...  정치\n",
              "1                    [하태훈의 법과 사회]‘미리 알 권리’도 알 권리인가  정치>행정_자치  권리,권리,관행,시점,의도,의심,권력,선거,개입,혐의,기소,사건,관례,의혹,울산,시...  정치\n",
              "2                       '텔레그램 n번 방' 국회 청원 10만 명 참여   사회>사회일반  텔레그램,n번,10만,국회,청원,참여,국회,사무처,텔레그램,발생,디지털,성범죄,해결...  사회\n",
              "3       [정참시] \"미래한국당 창고 사무실\" 논란 / 이낙연-황교안 어색한 서민행세  정치>국회_정당  사무실,미래,한국당,창고,논란,이낙연,황교안,서민행세,앵커,정치,참견,시점,박영회,...  정치\n",
              "4                   \"1980년 무슨 사태\" 황교안 5 18 '폄훼' 논란   정치>정치일반  1980년,사태,황교,5,논란,앵커,대표,황교,자유,한국당,시절,대학,언급,사태,휴...  정치\n",
              "5                    동선 나올 때마다 휴원 휴업 속출 \"꼭 그래야 하나\"  사회>의료_건강  동선,휴원,휴업,속출,앵커,확진,환자,시설,방역,하루,이틀,필수,확진자들,확진자,지...  사회\n",
              "6             크리스토퍼 힐 “비핵화, 신뢰보다 검증이 중요 유화주의 경계해야”     정치>북한  크리스토퍼,비핵화,크리스토퍼,신뢰,검증,중요,유화주,경계,평창평화포럼,방한,동아,국...  정치\n",
              "7                        중국 내 외국인 확진자 27명...22명 격리     국제>중국  중국,27명,외국인,확진자,22명,격리,중국,감염증,신종,코로나바이러스,사람,외국인...  국제\n",
              "8                             한국당 \"태영호 서울 지역구에 공천\"    정치>청와대  한국당,태영호,서울,지역구,공천,태영호,공사,주영,북한,대사관,사진,자유한국당,입당...  정치\n",
              "9              與, '우리법연구회' 출신 최기상 前 판사 영입 광주 출마 검토     정치>선거  우리법연구회,영입,출신,최기상,판사,검토,광주,출마,대안,동구남구갑,장병완,의원,지...  정치\n",
              "10                  한국당, '의사출신 2호 검사' 송한섭 영입 서울 출마   사회>사회일반  한국당,검사,의사,출신,2호,송한섭,영입,서울,출마,자유한국당,송한섭,40,사진,서...  사회\n",
              "11                       박희승 예비후보 \"집권 여당의 파수꾼 되겠다\"     정치>외교  박희승,예비,후보,집권,여당,파수꾼,예비후보,박희승,더불어민주당,남원임실순창,국회의...  정치\n",
              "12                   안호영 예비후보, 20대 국회 본회의 법안투표율 1위  정치>행정_자치  안호영,예비,후보,1위,국회,본회의,법안,투표,1위,예비후보,안호영,더불어민주당,완...  정치\n",
              "13                       2월 임시회서 탄소법 공공의대법 통과 가능할까  정치>국회_정당  2월,임시회,탄소법,공공의대법,가능,국회,문턱,탄소소재융복합기술개발,기반조성,법률,...  정치\n",
              "14                    학교 내 선거운동, 중앙선관위-전북교육감 '의견차'  사회>교육_시험  학교,선거운동,중앙선관위,전북교육감,의견차,확대,선거,학교,선거운동,중앙선거관리위원...  사회\n",
              "15    전북 총선 민주당 면접 키워드 ‘20대 총선 패배 원인, 민주당 깃발은 당선?’     정치>선거  원인,전북,총선,민주당,면접,키워드,총선,패배,민주당,깃발,당선,더불어민주당,당내,...  정치\n",
              "16                        민주당 공천작업 착수, 옥석 제대로 가려내야  정치>국회_정당  착수,민주당,공천,작업,옥석,더불어민주당,총선,공천작업,돌입,인적,쇄신,여부,전북,...  정치\n",
              "17  [4 15 총선 전북 지역구 열전 ⑥ 익산을] 조배숙 한병도 리턴매치 성사여부 관심  정치>국회_정당  4,익산을,조배숙,한병도,관심,리턴매치,성사,여부,익산,선거구,국회의원,민주평화당,...  정치\n",
              "18         이천지역 총선 주자들 \"우한 교민 격리, 대승적 수용한 시민들께 감사\"   지역>지역일반  주자들,이천,지역,총선,주자,교민,격리,대승,수용,시민들,감사,중국,우한,귀국,교민...  지역\n",
              "19                   우리공화당 “종로에 후보 낸다 한국당과 통합 안 해”  정치>국회_정당  우리공화당,종로,후보,한국당,통합,우리공화당,유승민,한국당,통합,대표,조원진,우리공...  정치"
            ]
          },
          "metadata": {
            "tags": []
          },
          "execution_count": 59
        }
      ]
    },
    {
      "cell_type": "code",
      "metadata": {
        "id": "GeBjEKJK4rBN",
        "colab_type": "code",
        "outputId": "7fd431c9-2b8e-4381-fb65-1a5eee4e75d6",
        "colab": {
          "base_uri": "https://localhost:8080/",
          "height": 751
        }
      },
      "source": [
        ""
      ],
      "execution_count": 0,
      "outputs": [
        {
          "output_type": "stream",
          "text": [
            "Inside cleanUp Function:\n",
            "data.shape[0] :  20000\n",
            "pol['통합 분류1'][i].split(\">\")[0] :  문화\n"
          ],
          "name": "stdout"
        },
        {
          "output_type": "stream",
          "text": [
            "/usr/local/lib/python3.6/dist-packages/ipykernel_launcher.py:8: SettingWithCopyWarning: \n",
            "A value is trying to be set on a copy of a slice from a DataFrame\n",
            "\n",
            "See the caveats in the documentation: http://pandas.pydata.org/pandas-docs/stable/user_guide/indexing.html#returning-a-view-versus-a-copy\n",
            "  \n"
          ],
          "name": "stderr"
        },
        {
          "output_type": "stream",
          "text": [
            "                                                      제목                                                키워드    주제\n",
            "0                                          [매일칼럼] 아첨과 독재  아첨,독재,천재적,예지,영군술,무비,담력,필승,신념,조국,통일,앞길,은인,불세출,영...  None\n",
            "1      [외부자들] 강효상 의원의 한 미 정상 통화내용 폭로, 공익제보인가, 국가 기밀 누...  강효상,의원,폭로,정상,통화내용,공익제보,누설,국가,기밀,2일,일요일,9시,방송,외...  None\n",
            "2                             군포시의회 성복임 이길호 의원, 최우수의원 수상  군포시의회,성복임,이길호,의원,우수,의원,수상,군포시의회,의장,이견행,수원,컨벤션,...  None\n",
            "3                                 공주대, 제7대 총장에 원성수 교수 임명  공주대,총장,임명,원성수,교수,총장,공주대학교,원성수,사진,교수,임명,정부,행정학,...  None\n",
            "4                          [사설] 대통령 한마디에 날아간 국가 미래 재정건전성  대통령,한마디,재정건전성,국가,미래,홍남기,경제부총리,워크숍,지난달,더불어민주당,의...  None\n",
            "...                                                  ...                                                ...   ...\n",
            "19995                           현대중공업 법인분할, 노동부 적극 대응 주문  현대중공업,법인,분할,노동부,적극,대응,주문,김종훈,국회의원,울산동,국회,장관,이재...  None\n",
            "19996                      더불어민주당과 노동당 울산시당 ‘조기 총선체제’ 가동  더불어민주당,노동당,울산시당,조기,총선,체제,가동,더불어민주당,울산시당,울산시당,민...  None\n",
            "19997                           박지원 “문재인대통령, 한국당 요구 수용을”  박지원,문재인,대통령,수용,한국당,요구,과거,여야,영수회담,언급,대표,단독,만남,제...  None\n",
            "19998                                     이젠 경제까지 챙기는 조국  이젠,경제,조국,페이스북,활동,민정수석,조국,청와대,행정관,청와대,경제,경제,공유,...  None\n",
            "19999               대북 식량지원 1차 관문으로 떠오른 ‘여론’ 정부 속도조절 할 듯  대북,식량지원,1차,관문,여론,정부,속도조절,무력시위,필요성,재확인,김연철,장관,W...  None\n",
            "\n",
            "[20000 rows x 3 columns]\n",
            "Inside cleanUp Function:\n",
            "data.shape[0] :  20000\n",
            "pol['통합 분류1'][i].split(\">\")[0] :  문화\n"
          ],
          "name": "stdout"
        },
        {
          "output_type": "error",
          "ename": "KeyboardInterrupt",
          "evalue": "ignored",
          "traceback": [
            "\u001b[0;31m---------------------------------------------------------------------------\u001b[0m",
            "\u001b[0;31mKeyboardInterrupt\u001b[0m                         Traceback (most recent call last)",
            "\u001b[0;32m<ipython-input-145-cde32791da5e>\u001b[0m in \u001b[0;36m<module>\u001b[0;34m()\u001b[0m\n\u001b[0;32m----> 1\u001b[0;31m \u001b[0mloadDataMnth\u001b[0m\u001b[0;34m(\u001b[0m\u001b[0;34m\"05\"\u001b[0m\u001b[0;34m)\u001b[0m\u001b[0;34m\u001b[0m\u001b[0;34m\u001b[0m\u001b[0m\n\u001b[0m",
            "\u001b[0;32m<ipython-input-137-becdbb467ea3>\u001b[0m in \u001b[0;36mloadDataMnth\u001b[0;34m(mnth)\u001b[0m\n\u001b[1;32m      7\u001b[0m  \u001b[0;32mfor\u001b[0m \u001b[0mtopic\u001b[0m \u001b[0;32min\u001b[0m \u001b[0mtopicList\u001b[0m\u001b[0;34m:\u001b[0m\u001b[0;34m\u001b[0m\u001b[0;34m\u001b[0m\u001b[0m\n\u001b[1;32m      8\u001b[0m    \u001b[0mdata\u001b[0m \u001b[0;34m=\u001b[0m \u001b[0mpd\u001b[0m\u001b[0;34m.\u001b[0m\u001b[0mread_csv\u001b[0m\u001b[0;34m(\u001b[0m\u001b[0;34m'drive/My Drive/Colab Notebooks/Machine Learning/RNN/'\u001b[0m\u001b[0;34m+\u001b[0m\u001b[0mmnth\u001b[0m \u001b[0;34m+\u001b[0m \u001b[0mtopic\u001b[0m \u001b[0;34m+\u001b[0m \u001b[0;34m'utf.csv'\u001b[0m\u001b[0;34m,\u001b[0m\u001b[0mencoding\u001b[0m\u001b[0;34m=\u001b[0m\u001b[0;34m'UTF8'\u001b[0m\u001b[0;34m)\u001b[0m\u001b[0;34m\u001b[0m\u001b[0;34m\u001b[0m\u001b[0m\n\u001b[0;32m----> 9\u001b[0;31m    \u001b[0mdata\u001b[0m \u001b[0;34m=\u001b[0m \u001b[0mcleanUp\u001b[0m\u001b[0;34m(\u001b[0m\u001b[0mdata\u001b[0m\u001b[0;34m)\u001b[0m\u001b[0;34m\u001b[0m\u001b[0;34m\u001b[0m\u001b[0m\n\u001b[0m\u001b[1;32m     10\u001b[0m    \u001b[0mframes\u001b[0m\u001b[0;34m.\u001b[0m\u001b[0mappend\u001b[0m\u001b[0;34m(\u001b[0m\u001b[0mdata\u001b[0m\u001b[0;34m)\u001b[0m\u001b[0;34m\u001b[0m\u001b[0;34m\u001b[0m\u001b[0m\n\u001b[1;32m     11\u001b[0m \u001b[0;34m\u001b[0m\u001b[0m\n",
            "\u001b[0;32m<ipython-input-144-43f9a18c4694>\u001b[0m in \u001b[0;36mcleanUp\u001b[0;34m(data)\u001b[0m\n\u001b[1;32m      6\u001b[0m   \u001b[0mprint\u001b[0m\u001b[0;34m(\u001b[0m\u001b[0;34m\"\"\"pol['통합 분류1'][i].split(\">\")[0] : \"\"\"\u001b[0m\u001b[0;34m,\u001b[0m\u001b[0mpol\u001b[0m\u001b[0;34m[\u001b[0m\u001b[0;34m\"통합 분류1\"\u001b[0m\u001b[0;34m]\u001b[0m\u001b[0;34m[\u001b[0m\u001b[0;36m0\u001b[0m\u001b[0;34m]\u001b[0m\u001b[0;34m.\u001b[0m\u001b[0msplit\u001b[0m\u001b[0;34m(\u001b[0m\u001b[0;34m\">\"\u001b[0m\u001b[0;34m)\u001b[0m\u001b[0;34m[\u001b[0m\u001b[0;36m0\u001b[0m\u001b[0;34m]\u001b[0m\u001b[0;34m)\u001b[0m\u001b[0;34m\u001b[0m\u001b[0;34m\u001b[0m\u001b[0m\n\u001b[1;32m      7\u001b[0m   \u001b[0;32mfor\u001b[0m \u001b[0mi\u001b[0m \u001b[0;32min\u001b[0m \u001b[0mrange\u001b[0m\u001b[0;34m(\u001b[0m\u001b[0mdata\u001b[0m\u001b[0;34m.\u001b[0m\u001b[0mshape\u001b[0m\u001b[0;34m[\u001b[0m\u001b[0;36m0\u001b[0m\u001b[0;34m]\u001b[0m\u001b[0;34m)\u001b[0m\u001b[0;34m:\u001b[0m\u001b[0;34m\u001b[0m\u001b[0;34m\u001b[0m\u001b[0m\n\u001b[0;32m----> 8\u001b[0;31m     \u001b[0mpol\u001b[0m\u001b[0;34m[\u001b[0m\u001b[0;34m\"주제\"\u001b[0m\u001b[0;34m]\u001b[0m\u001b[0;34m[\u001b[0m\u001b[0mi\u001b[0m\u001b[0;34m]\u001b[0m\u001b[0;34m=\u001b[0m\u001b[0mpol\u001b[0m\u001b[0;34m[\u001b[0m\u001b[0;34m\"통합 분류1\"\u001b[0m\u001b[0;34m]\u001b[0m\u001b[0;34m[\u001b[0m\u001b[0mi\u001b[0m\u001b[0;34m]\u001b[0m\u001b[0;34m.\u001b[0m\u001b[0msplit\u001b[0m\u001b[0;34m(\u001b[0m\u001b[0;34m\">\"\u001b[0m\u001b[0;34m)\u001b[0m\u001b[0;34m[\u001b[0m\u001b[0;36m0\u001b[0m\u001b[0;34m]\u001b[0m\u001b[0;34m\u001b[0m\u001b[0;34m\u001b[0m\u001b[0m\n\u001b[0m\u001b[1;32m      9\u001b[0m   \u001b[0mdata\u001b[0m \u001b[0;34m=\u001b[0m \u001b[0mdata\u001b[0m\u001b[0;34m.\u001b[0m\u001b[0mdrop\u001b[0m\u001b[0;34m(\u001b[0m\u001b[0;34m[\u001b[0m\u001b[0;34m'뉴스 식별자'\u001b[0m\u001b[0;34m,\u001b[0m \u001b[0;34m'일자'\u001b[0m\u001b[0;34m,\u001b[0m \u001b[0;34m'언론사'\u001b[0m\u001b[0;34m,\u001b[0m \u001b[0;34m'기고자'\u001b[0m\u001b[0;34m,\u001b[0m  \u001b[0;34m'통합 분류1'\u001b[0m\u001b[0;34m,\u001b[0m \u001b[0;34m'본문'\u001b[0m\u001b[0;34m,\u001b[0m\u001b[0;34m'통합 분류2'\u001b[0m\u001b[0;34m,\u001b[0m \u001b[0;34m'통합 분류3'\u001b[0m\u001b[0;34m,\u001b[0m \u001b[0;34m'사건/사고 분류1'\u001b[0m\u001b[0;34m,\u001b[0m \u001b[0;34m'사건/사고 분류2'\u001b[0m\u001b[0;34m,\u001b[0m \u001b[0;34m'사건/사고 분류3'\u001b[0m\u001b[0;34m,\u001b[0m \u001b[0;34m'인물'\u001b[0m\u001b[0;34m,\u001b[0m \u001b[0;34m'위치'\u001b[0m\u001b[0;34m,\u001b[0m \u001b[0;34m'기관'\u001b[0m\u001b[0;34m,\u001b[0m  \u001b[0;34m'특성추출'\u001b[0m\u001b[0;34m,\u001b[0m  \u001b[0;34m'URL'\u001b[0m\u001b[0;34m,\u001b[0m \u001b[0;34m'분석제외 여부'\u001b[0m\u001b[0;34m]\u001b[0m\u001b[0;34m,\u001b[0m \u001b[0maxis\u001b[0m \u001b[0;34m=\u001b[0m \u001b[0;36m1\u001b[0m\u001b[0;34m)\u001b[0m\u001b[0;34m\u001b[0m\u001b[0;34m\u001b[0m\u001b[0m\n\u001b[1;32m     10\u001b[0m   \u001b[0mprint\u001b[0m\u001b[0;34m(\u001b[0m\u001b[0mdata\u001b[0m\u001b[0;34m)\u001b[0m\u001b[0;34m\u001b[0m\u001b[0;34m\u001b[0m\u001b[0m\n",
            "\u001b[0;32m/usr/local/lib/python3.6/dist-packages/pandas/core/series.py\u001b[0m in \u001b[0;36m__setitem__\u001b[0;34m(self, key, value)\u001b[0m\n\u001b[1;32m   1241\u001b[0m \u001b[0;34m\u001b[0m\u001b[0m\n\u001b[1;32m   1242\u001b[0m         \u001b[0;31m# do the setitem\u001b[0m\u001b[0;34m\u001b[0m\u001b[0;34m\u001b[0m\u001b[0;34m\u001b[0m\u001b[0m\n\u001b[0;32m-> 1243\u001b[0;31m         \u001b[0mcacher_needs_updating\u001b[0m \u001b[0;34m=\u001b[0m \u001b[0mself\u001b[0m\u001b[0;34m.\u001b[0m\u001b[0m_check_is_chained_assignment_possible\u001b[0m\u001b[0;34m(\u001b[0m\u001b[0;34m)\u001b[0m\u001b[0;34m\u001b[0m\u001b[0;34m\u001b[0m\u001b[0m\n\u001b[0m\u001b[1;32m   1244\u001b[0m         \u001b[0msetitem\u001b[0m\u001b[0;34m(\u001b[0m\u001b[0mkey\u001b[0m\u001b[0;34m,\u001b[0m \u001b[0mvalue\u001b[0m\u001b[0;34m)\u001b[0m\u001b[0;34m\u001b[0m\u001b[0;34m\u001b[0m\u001b[0m\n\u001b[1;32m   1245\u001b[0m         \u001b[0;32mif\u001b[0m \u001b[0mcacher_needs_updating\u001b[0m\u001b[0;34m:\u001b[0m\u001b[0;34m\u001b[0m\u001b[0;34m\u001b[0m\u001b[0m\n",
            "\u001b[0;32m/usr/local/lib/python3.6/dist-packages/pandas/core/generic.py\u001b[0m in \u001b[0;36m_check_is_chained_assignment_possible\u001b[0;34m(self)\u001b[0m\n\u001b[1;32m   3402\u001b[0m         \u001b[0msetting\u001b[0m\u001b[0;34m.\u001b[0m\u001b[0;34m\u001b[0m\u001b[0;34m\u001b[0m\u001b[0m\n\u001b[1;32m   3403\u001b[0m         \"\"\"\n\u001b[0;32m-> 3404\u001b[0;31m         \u001b[0;32mif\u001b[0m \u001b[0mself\u001b[0m\u001b[0;34m.\u001b[0m\u001b[0m_is_view\u001b[0m \u001b[0;32mand\u001b[0m \u001b[0mself\u001b[0m\u001b[0;34m.\u001b[0m\u001b[0m_is_cached\u001b[0m\u001b[0;34m:\u001b[0m\u001b[0;34m\u001b[0m\u001b[0;34m\u001b[0m\u001b[0m\n\u001b[0m\u001b[1;32m   3405\u001b[0m             \u001b[0mref\u001b[0m \u001b[0;34m=\u001b[0m \u001b[0mself\u001b[0m\u001b[0;34m.\u001b[0m\u001b[0m_get_cacher\u001b[0m\u001b[0;34m(\u001b[0m\u001b[0;34m)\u001b[0m\u001b[0;34m\u001b[0m\u001b[0;34m\u001b[0m\u001b[0m\n\u001b[1;32m   3406\u001b[0m             \u001b[0;32mif\u001b[0m \u001b[0mref\u001b[0m \u001b[0;32mis\u001b[0m \u001b[0;32mnot\u001b[0m \u001b[0;32mNone\u001b[0m \u001b[0;32mand\u001b[0m \u001b[0mref\u001b[0m\u001b[0;34m.\u001b[0m\u001b[0m_is_mixed_type\u001b[0m\u001b[0;34m:\u001b[0m\u001b[0;34m\u001b[0m\u001b[0;34m\u001b[0m\u001b[0m\n",
            "\u001b[0;32m/usr/local/lib/python3.6/dist-packages/pandas/core/generic.py\u001b[0m in \u001b[0;36m_is_view\u001b[0;34m(self)\u001b[0m\n\u001b[1;32m   3320\u001b[0m     \u001b[0;32mdef\u001b[0m \u001b[0m_is_view\u001b[0m\u001b[0;34m(\u001b[0m\u001b[0mself\u001b[0m\u001b[0;34m)\u001b[0m\u001b[0;34m:\u001b[0m\u001b[0;34m\u001b[0m\u001b[0;34m\u001b[0m\u001b[0m\n\u001b[1;32m   3321\u001b[0m         \u001b[0;34m\"\"\"Return boolean indicating if self is view of another array \"\"\"\u001b[0m\u001b[0;34m\u001b[0m\u001b[0;34m\u001b[0m\u001b[0m\n\u001b[0;32m-> 3322\u001b[0;31m         \u001b[0;32mreturn\u001b[0m \u001b[0mself\u001b[0m\u001b[0;34m.\u001b[0m\u001b[0m_data\u001b[0m\u001b[0;34m.\u001b[0m\u001b[0mis_view\u001b[0m\u001b[0;34m\u001b[0m\u001b[0;34m\u001b[0m\u001b[0m\n\u001b[0m\u001b[1;32m   3323\u001b[0m \u001b[0;34m\u001b[0m\u001b[0m\n\u001b[1;32m   3324\u001b[0m     \u001b[0;32mdef\u001b[0m \u001b[0m_maybe_update_cacher\u001b[0m\u001b[0;34m(\u001b[0m\u001b[0mself\u001b[0m\u001b[0;34m,\u001b[0m \u001b[0mclear\u001b[0m\u001b[0;34m=\u001b[0m\u001b[0;32mFalse\u001b[0m\u001b[0;34m,\u001b[0m \u001b[0mverify_is_copy\u001b[0m\u001b[0;34m=\u001b[0m\u001b[0;32mTrue\u001b[0m\u001b[0;34m)\u001b[0m\u001b[0;34m:\u001b[0m\u001b[0;34m\u001b[0m\u001b[0;34m\u001b[0m\u001b[0m\n",
            "\u001b[0;32m/usr/local/lib/python3.6/dist-packages/pandas/core/internals/managers.py\u001b[0m in \u001b[0;36mis_view\u001b[0;34m(self)\u001b[0m\n\u001b[1;32m    684\u001b[0m         \u001b[0;34m\"\"\" return a boolean if we are a single block and are a view \"\"\"\u001b[0m\u001b[0;34m\u001b[0m\u001b[0;34m\u001b[0m\u001b[0m\n\u001b[1;32m    685\u001b[0m         \u001b[0;32mif\u001b[0m \u001b[0mlen\u001b[0m\u001b[0;34m(\u001b[0m\u001b[0mself\u001b[0m\u001b[0;34m.\u001b[0m\u001b[0mblocks\u001b[0m\u001b[0;34m)\u001b[0m \u001b[0;34m==\u001b[0m \u001b[0;36m1\u001b[0m\u001b[0;34m:\u001b[0m\u001b[0;34m\u001b[0m\u001b[0;34m\u001b[0m\u001b[0m\n\u001b[0;32m--> 686\u001b[0;31m             \u001b[0;32mreturn\u001b[0m \u001b[0mself\u001b[0m\u001b[0;34m.\u001b[0m\u001b[0mblocks\u001b[0m\u001b[0;34m[\u001b[0m\u001b[0;36m0\u001b[0m\u001b[0;34m]\u001b[0m\u001b[0;34m.\u001b[0m\u001b[0mis_view\u001b[0m\u001b[0;34m\u001b[0m\u001b[0;34m\u001b[0m\u001b[0m\n\u001b[0m\u001b[1;32m    687\u001b[0m \u001b[0;34m\u001b[0m\u001b[0m\n\u001b[1;32m    688\u001b[0m         \u001b[0;31m# It is technically possible to figure out which blocks are views\u001b[0m\u001b[0;34m\u001b[0m\u001b[0;34m\u001b[0m\u001b[0;34m\u001b[0m\u001b[0m\n",
            "\u001b[0;32m/usr/local/lib/python3.6/dist-packages/pandas/core/internals/blocks.py\u001b[0m in \u001b[0;36mis_view\u001b[0;34m(self)\u001b[0m\n\u001b[1;32m    179\u001b[0m     \u001b[0;32mdef\u001b[0m \u001b[0mis_view\u001b[0m\u001b[0;34m(\u001b[0m\u001b[0mself\u001b[0m\u001b[0;34m)\u001b[0m\u001b[0;34m:\u001b[0m\u001b[0;34m\u001b[0m\u001b[0;34m\u001b[0m\u001b[0m\n\u001b[1;32m    180\u001b[0m         \u001b[0;34m\"\"\" return a boolean if I am possibly a view \"\"\"\u001b[0m\u001b[0;34m\u001b[0m\u001b[0;34m\u001b[0m\u001b[0m\n\u001b[0;32m--> 181\u001b[0;31m         \u001b[0;32mreturn\u001b[0m \u001b[0mself\u001b[0m\u001b[0;34m.\u001b[0m\u001b[0mvalues\u001b[0m\u001b[0;34m.\u001b[0m\u001b[0mbase\u001b[0m \u001b[0;32mis\u001b[0m \u001b[0;32mnot\u001b[0m \u001b[0;32mNone\u001b[0m\u001b[0;34m\u001b[0m\u001b[0;34m\u001b[0m\u001b[0m\n\u001b[0m\u001b[1;32m    182\u001b[0m \u001b[0;34m\u001b[0m\u001b[0m\n\u001b[1;32m    183\u001b[0m     \u001b[0;34m@\u001b[0m\u001b[0mproperty\u001b[0m\u001b[0;34m\u001b[0m\u001b[0;34m\u001b[0m\u001b[0m\n",
            "\u001b[0;31mKeyboardInterrupt\u001b[0m: "
          ]
        }
      ]
    },
    {
      "cell_type": "code",
      "metadata": {
        "id": "40sLHW-28PrN",
        "colab_type": "code",
        "outputId": "7b3012f2-ef9b-4bd1-e9f6-e8a6230d74c4",
        "colab": {
          "base_uri": "https://localhost:8080/",
          "height": 119
        }
      },
      "source": [
        "topicList = [\"pol\", \"eco\", \"cul\", \"cul\", \"innt\", \"it\", \"spo\",\"soc\"]\n",
        "for topic in topicList:\n",
        "  try:\n",
        "    data = pd.read_csv('drive/My Drive/Colab Notebooks/Machine Learning/RNN/05'+topic+'utf.csv',encoding='UTF8')\n",
        "    cleanUp(data)\n",
        "  except:\n",
        "    print(topic)\n",
        "# pol = cleanUp(pol)"
      ],
      "execution_count": 0,
      "outputs": [
        {
          "output_type": "stream",
          "text": [
            "/usr/local/lib/python3.6/dist-packages/ipykernel_launcher.py:4: SettingWithCopyWarning: \n",
            "A value is trying to be set on a copy of a slice from a DataFrame\n",
            "\n",
            "See the caveats in the documentation: http://pandas.pydata.org/pandas-docs/stable/user_guide/indexing.html#returning-a-view-versus-a-copy\n",
            "  after removing the cwd from sys.path.\n"
          ],
          "name": "stderr"
        },
        {
          "output_type": "stream",
          "text": [
            "innt\n"
          ],
          "name": "stdout"
        }
      ]
    },
    {
      "cell_type": "code",
      "metadata": {
        "id": "PWsjBk6s-ne-",
        "colab_type": "code",
        "outputId": "c6091ffc-1705-4cc3-d42f-9b22b5039f6e",
        "colab": {
          "base_uri": "https://localhost:8080/",
          "height": 419
        }
      },
      "source": [
        "pol"
      ],
      "execution_count": 0,
      "outputs": [
        {
          "output_type": "execute_result",
          "data": {
            "text/html": [
              "<div>\n",
              "<style scoped>\n",
              "    .dataframe tbody tr th:only-of-type {\n",
              "        vertical-align: middle;\n",
              "    }\n",
              "\n",
              "    .dataframe tbody tr th {\n",
              "        vertical-align: top;\n",
              "    }\n",
              "\n",
              "    .dataframe thead th {\n",
              "        text-align: right;\n",
              "    }\n",
              "</style>\n",
              "<table border=\"1\" class=\"dataframe\">\n",
              "  <thead>\n",
              "    <tr style=\"text-align: right;\">\n",
              "      <th></th>\n",
              "      <th>제목</th>\n",
              "      <th>키워드</th>\n",
              "      <th>주제</th>\n",
              "    </tr>\n",
              "  </thead>\n",
              "  <tbody>\n",
              "    <tr>\n",
              "      <th>0</th>\n",
              "      <td>[매일칼럼] 아첨과 독재</td>\n",
              "      <td>아첨,독재,천재적,예지,영군술,무비,담력,필승,신념,조국,통일,앞길,은인,불세출,영...</td>\n",
              "      <td>문화</td>\n",
              "    </tr>\n",
              "    <tr>\n",
              "      <th>1</th>\n",
              "      <td>[외부자들] 강효상 의원의 한 미 정상 통화내용 폭로, 공익제보인가, 국가 기밀 누...</td>\n",
              "      <td>강효상,의원,폭로,정상,통화내용,공익제보,누설,국가,기밀,2일,일요일,9시,방송,외...</td>\n",
              "      <td>정치</td>\n",
              "    </tr>\n",
              "    <tr>\n",
              "      <th>2</th>\n",
              "      <td>군포시의회 성복임 이길호 의원, 최우수의원 수상</td>\n",
              "      <td>군포시의회,성복임,이길호,의원,우수,의원,수상,군포시의회,의장,이견행,수원,컨벤션,...</td>\n",
              "      <td>지역</td>\n",
              "    </tr>\n",
              "    <tr>\n",
              "      <th>3</th>\n",
              "      <td>공주대, 제7대 총장에 원성수 교수 임명</td>\n",
              "      <td>공주대,총장,임명,원성수,교수,총장,공주대학교,원성수,사진,교수,임명,정부,행정학,...</td>\n",
              "      <td>정치</td>\n",
              "    </tr>\n",
              "    <tr>\n",
              "      <th>4</th>\n",
              "      <td>[사설] 대통령 한마디에 날아간 국가 미래 재정건전성</td>\n",
              "      <td>대통령,한마디,재정건전성,국가,미래,홍남기,경제부총리,워크숍,지난달,더불어민주당,의...</td>\n",
              "      <td>정치</td>\n",
              "    </tr>\n",
              "    <tr>\n",
              "      <th>...</th>\n",
              "      <td>...</td>\n",
              "      <td>...</td>\n",
              "      <td>...</td>\n",
              "    </tr>\n",
              "    <tr>\n",
              "      <th>19995</th>\n",
              "      <td>현대중공업 법인분할, 노동부 적극 대응 주문</td>\n",
              "      <td>현대중공업,법인,분할,노동부,적극,대응,주문,김종훈,국회의원,울산동,국회,장관,이재...</td>\n",
              "      <td>사회</td>\n",
              "    </tr>\n",
              "    <tr>\n",
              "      <th>19996</th>\n",
              "      <td>더불어민주당과 노동당 울산시당 ‘조기 총선체제’ 가동</td>\n",
              "      <td>더불어민주당,노동당,울산시당,조기,총선,체제,가동,더불어민주당,울산시당,울산시당,민...</td>\n",
              "      <td>정치</td>\n",
              "    </tr>\n",
              "    <tr>\n",
              "      <th>19997</th>\n",
              "      <td>박지원 “문재인대통령, 한국당 요구 수용을”</td>\n",
              "      <td>박지원,문재인,대통령,수용,한국당,요구,과거,여야,영수회담,언급,대표,단독,만남,제...</td>\n",
              "      <td>정치</td>\n",
              "    </tr>\n",
              "    <tr>\n",
              "      <th>19998</th>\n",
              "      <td>이젠 경제까지 챙기는 조국</td>\n",
              "      <td>이젠,경제,조국,페이스북,활동,민정수석,조국,청와대,행정관,청와대,경제,경제,공유,...</td>\n",
              "      <td>정치</td>\n",
              "    </tr>\n",
              "    <tr>\n",
              "      <th>19999</th>\n",
              "      <td>대북 식량지원 1차 관문으로 떠오른 ‘여론’ 정부 속도조절 할 듯</td>\n",
              "      <td>대북,식량지원,1차,관문,여론,정부,속도조절,무력시위,필요성,재확인,김연철,장관,W...</td>\n",
              "      <td>정치</td>\n",
              "    </tr>\n",
              "  </tbody>\n",
              "</table>\n",
              "<p>20000 rows × 3 columns</p>\n",
              "</div>"
            ],
            "text/plain": [
              "                                                      제목                                                키워드  주제\n",
              "0                                          [매일칼럼] 아첨과 독재  아첨,독재,천재적,예지,영군술,무비,담력,필승,신념,조국,통일,앞길,은인,불세출,영...  문화\n",
              "1      [외부자들] 강효상 의원의 한 미 정상 통화내용 폭로, 공익제보인가, 국가 기밀 누...  강효상,의원,폭로,정상,통화내용,공익제보,누설,국가,기밀,2일,일요일,9시,방송,외...  정치\n",
              "2                             군포시의회 성복임 이길호 의원, 최우수의원 수상  군포시의회,성복임,이길호,의원,우수,의원,수상,군포시의회,의장,이견행,수원,컨벤션,...  지역\n",
              "3                                 공주대, 제7대 총장에 원성수 교수 임명  공주대,총장,임명,원성수,교수,총장,공주대학교,원성수,사진,교수,임명,정부,행정학,...  정치\n",
              "4                          [사설] 대통령 한마디에 날아간 국가 미래 재정건전성  대통령,한마디,재정건전성,국가,미래,홍남기,경제부총리,워크숍,지난달,더불어민주당,의...  정치\n",
              "...                                                  ...                                                ...  ..\n",
              "19995                           현대중공업 법인분할, 노동부 적극 대응 주문  현대중공업,법인,분할,노동부,적극,대응,주문,김종훈,국회의원,울산동,국회,장관,이재...  사회\n",
              "19996                      더불어민주당과 노동당 울산시당 ‘조기 총선체제’ 가동  더불어민주당,노동당,울산시당,조기,총선,체제,가동,더불어민주당,울산시당,울산시당,민...  정치\n",
              "19997                           박지원 “문재인대통령, 한국당 요구 수용을”  박지원,문재인,대통령,수용,한국당,요구,과거,여야,영수회담,언급,대표,단독,만남,제...  정치\n",
              "19998                                     이젠 경제까지 챙기는 조국  이젠,경제,조국,페이스북,활동,민정수석,조국,청와대,행정관,청와대,경제,경제,공유,...  정치\n",
              "19999               대북 식량지원 1차 관문으로 떠오른 ‘여론’ 정부 속도조절 할 듯  대북,식량지원,1차,관문,여론,정부,속도조절,무력시위,필요성,재확인,김연철,장관,W...  정치\n",
              "\n",
              "[20000 rows x 3 columns]"
            ]
          },
          "metadata": {
            "tags": []
          },
          "execution_count": 87
        }
      ]
    },
    {
      "cell_type": "code",
      "metadata": {
        "id": "uZQvByrR-poN",
        "colab_type": "code",
        "outputId": "e343efcc-5bbd-485b-cdb2-512f9d90dbd4",
        "colab": {
          "base_uri": "https://localhost:8080/",
          "height": 504
        }
      },
      "source": [
        "# topic = \"pol\"\n",
        "pol = pd.read_csv('drive/My Drive/Colab Notebooks/Machine Learning/RNN/05'+\"pol\"+'utf.csv',encoding='UTF8')\n",
        "cleanUp(pol)\n"
      ],
      "execution_count": 0,
      "outputs": [
        {
          "output_type": "stream",
          "text": [
            "/usr/local/lib/python3.6/dist-packages/ipykernel_launcher.py:4: SettingWithCopyWarning: \n",
            "A value is trying to be set on a copy of a slice from a DataFrame\n",
            "\n",
            "See the caveats in the documentation: http://pandas.pydata.org/pandas-docs/stable/user_guide/indexing.html#returning-a-view-versus-a-copy\n",
            "  after removing the cwd from sys.path.\n"
          ],
          "name": "stderr"
        },
        {
          "output_type": "execute_result",
          "data": {
            "text/html": [
              "<div>\n",
              "<style scoped>\n",
              "    .dataframe tbody tr th:only-of-type {\n",
              "        vertical-align: middle;\n",
              "    }\n",
              "\n",
              "    .dataframe tbody tr th {\n",
              "        vertical-align: top;\n",
              "    }\n",
              "\n",
              "    .dataframe thead th {\n",
              "        text-align: right;\n",
              "    }\n",
              "</style>\n",
              "<table border=\"1\" class=\"dataframe\">\n",
              "  <thead>\n",
              "    <tr style=\"text-align: right;\">\n",
              "      <th></th>\n",
              "      <th>제목</th>\n",
              "      <th>키워드</th>\n",
              "      <th>주제</th>\n",
              "    </tr>\n",
              "  </thead>\n",
              "  <tbody>\n",
              "    <tr>\n",
              "      <th>0</th>\n",
              "      <td>[매일칼럼] 아첨과 독재</td>\n",
              "      <td>아첨,독재,천재적,예지,영군술,무비,담력,필승,신념,조국,통일,앞길,은인,불세출,영...</td>\n",
              "      <td>문화</td>\n",
              "    </tr>\n",
              "    <tr>\n",
              "      <th>1</th>\n",
              "      <td>[외부자들] 강효상 의원의 한 미 정상 통화내용 폭로, 공익제보인가, 국가 기밀 누...</td>\n",
              "      <td>강효상,의원,폭로,정상,통화내용,공익제보,누설,국가,기밀,2일,일요일,9시,방송,외...</td>\n",
              "      <td>정치</td>\n",
              "    </tr>\n",
              "    <tr>\n",
              "      <th>2</th>\n",
              "      <td>군포시의회 성복임 이길호 의원, 최우수의원 수상</td>\n",
              "      <td>군포시의회,성복임,이길호,의원,우수,의원,수상,군포시의회,의장,이견행,수원,컨벤션,...</td>\n",
              "      <td>지역</td>\n",
              "    </tr>\n",
              "    <tr>\n",
              "      <th>3</th>\n",
              "      <td>공주대, 제7대 총장에 원성수 교수 임명</td>\n",
              "      <td>공주대,총장,임명,원성수,교수,총장,공주대학교,원성수,사진,교수,임명,정부,행정학,...</td>\n",
              "      <td>정치</td>\n",
              "    </tr>\n",
              "    <tr>\n",
              "      <th>4</th>\n",
              "      <td>[사설] 대통령 한마디에 날아간 국가 미래 재정건전성</td>\n",
              "      <td>대통령,한마디,재정건전성,국가,미래,홍남기,경제부총리,워크숍,지난달,더불어민주당,의...</td>\n",
              "      <td>정치</td>\n",
              "    </tr>\n",
              "    <tr>\n",
              "      <th>...</th>\n",
              "      <td>...</td>\n",
              "      <td>...</td>\n",
              "      <td>...</td>\n",
              "    </tr>\n",
              "    <tr>\n",
              "      <th>19995</th>\n",
              "      <td>현대중공업 법인분할, 노동부 적극 대응 주문</td>\n",
              "      <td>현대중공업,법인,분할,노동부,적극,대응,주문,김종훈,국회의원,울산동,국회,장관,이재...</td>\n",
              "      <td>사회</td>\n",
              "    </tr>\n",
              "    <tr>\n",
              "      <th>19996</th>\n",
              "      <td>더불어민주당과 노동당 울산시당 ‘조기 총선체제’ 가동</td>\n",
              "      <td>더불어민주당,노동당,울산시당,조기,총선,체제,가동,더불어민주당,울산시당,울산시당,민...</td>\n",
              "      <td>정치</td>\n",
              "    </tr>\n",
              "    <tr>\n",
              "      <th>19997</th>\n",
              "      <td>박지원 “문재인대통령, 한국당 요구 수용을”</td>\n",
              "      <td>박지원,문재인,대통령,수용,한국당,요구,과거,여야,영수회담,언급,대표,단독,만남,제...</td>\n",
              "      <td>정치</td>\n",
              "    </tr>\n",
              "    <tr>\n",
              "      <th>19998</th>\n",
              "      <td>이젠 경제까지 챙기는 조국</td>\n",
              "      <td>이젠,경제,조국,페이스북,활동,민정수석,조국,청와대,행정관,청와대,경제,경제,공유,...</td>\n",
              "      <td>정치</td>\n",
              "    </tr>\n",
              "    <tr>\n",
              "      <th>19999</th>\n",
              "      <td>대북 식량지원 1차 관문으로 떠오른 ‘여론’ 정부 속도조절 할 듯</td>\n",
              "      <td>대북,식량지원,1차,관문,여론,정부,속도조절,무력시위,필요성,재확인,김연철,장관,W...</td>\n",
              "      <td>정치</td>\n",
              "    </tr>\n",
              "  </tbody>\n",
              "</table>\n",
              "<p>20000 rows × 3 columns</p>\n",
              "</div>"
            ],
            "text/plain": [
              "                                                      제목                                                키워드  주제\n",
              "0                                          [매일칼럼] 아첨과 독재  아첨,독재,천재적,예지,영군술,무비,담력,필승,신념,조국,통일,앞길,은인,불세출,영...  문화\n",
              "1      [외부자들] 강효상 의원의 한 미 정상 통화내용 폭로, 공익제보인가, 국가 기밀 누...  강효상,의원,폭로,정상,통화내용,공익제보,누설,국가,기밀,2일,일요일,9시,방송,외...  정치\n",
              "2                             군포시의회 성복임 이길호 의원, 최우수의원 수상  군포시의회,성복임,이길호,의원,우수,의원,수상,군포시의회,의장,이견행,수원,컨벤션,...  지역\n",
              "3                                 공주대, 제7대 총장에 원성수 교수 임명  공주대,총장,임명,원성수,교수,총장,공주대학교,원성수,사진,교수,임명,정부,행정학,...  정치\n",
              "4                          [사설] 대통령 한마디에 날아간 국가 미래 재정건전성  대통령,한마디,재정건전성,국가,미래,홍남기,경제부총리,워크숍,지난달,더불어민주당,의...  정치\n",
              "...                                                  ...                                                ...  ..\n",
              "19995                           현대중공업 법인분할, 노동부 적극 대응 주문  현대중공업,법인,분할,노동부,적극,대응,주문,김종훈,국회의원,울산동,국회,장관,이재...  사회\n",
              "19996                      더불어민주당과 노동당 울산시당 ‘조기 총선체제’ 가동  더불어민주당,노동당,울산시당,조기,총선,체제,가동,더불어민주당,울산시당,울산시당,민...  정치\n",
              "19997                           박지원 “문재인대통령, 한국당 요구 수용을”  박지원,문재인,대통령,수용,한국당,요구,과거,여야,영수회담,언급,대표,단독,만남,제...  정치\n",
              "19998                                     이젠 경제까지 챙기는 조국  이젠,경제,조국,페이스북,활동,민정수석,조국,청와대,행정관,청와대,경제,경제,공유,...  정치\n",
              "19999               대북 식량지원 1차 관문으로 떠오른 ‘여론’ 정부 속도조절 할 듯  대북,식량지원,1차,관문,여론,정부,속도조절,무력시위,필요성,재확인,김연철,장관,W...  정치\n",
              "\n",
              "[20000 rows x 3 columns]"
            ]
          },
          "metadata": {
            "tags": []
          },
          "execution_count": 107
        }
      ]
    },
    {
      "cell_type": "code",
      "metadata": {
        "id": "5xN67hEWBbmy",
        "colab_type": "code",
        "colab": {}
      },
      "source": [
        ""
      ],
      "execution_count": 0,
      "outputs": []
    }
  ]
}